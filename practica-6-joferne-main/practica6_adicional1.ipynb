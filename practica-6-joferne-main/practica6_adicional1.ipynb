{
  "nbformat": 4,
  "nbformat_minor": 0,
  "metadata": {
    "kernelspec": {
      "display_name": "Python 3",
      "language": "python",
      "name": "python3"
    },
    "language_info": {
      "codemirror_mode": {
        "name": "ipython",
        "version": 3
      },
      "file_extension": ".py",
      "mimetype": "text/x-python",
      "name": "python",
      "nbconvert_exporter": "python",
      "pygments_lexer": "ipython3",
      "version": "3.6.7"
    },
    "colab": {
      "name": "practica6_adicional1.ipynb",
      "provenance": [],
      "include_colab_link": true
    }
  },
  "cells": [
    {
      "cell_type": "markdown",
      "metadata": {
        "id": "view-in-github",
        "colab_type": "text"
      },
      "source": [
        "<a href=\"https://colab.research.google.com/github/IA2021UR/practica-6-joferne/blob/main/practica6_adicional1.ipynb\" target=\"_parent\"><img src=\"https://colab.research.google.com/assets/colab-badge.svg\" alt=\"Open In Colab\"/></a>"
      ]
    },
    {
      "cell_type": "markdown",
      "metadata": {
        "id": "Zi_ksKStygKY"
      },
      "source": [
        "# Práctica 6. Ejercicio adicional 1: Preprocesado de datos\n",
        "\n",
        "La calidad de los datos y la cantidad de información relevante que dichos datos contienen son factores clave a la hora de que un algoritmo de aprendizaje sea capaz de aprender. En este notebook se ven distintas técnicas de preprocesado de datos y su impacto a la hora de entrenar modelos. "
      ]
    },
    {
      "cell_type": "markdown",
      "metadata": {
        "id": "UIuy_3N-ygK-"
      },
      "source": [
        "## 0. Carga de librerías y del dataset \n",
        "\n",
        "Para este notebook vamos a utilizar el dataset del Vino, otro dataset open-source que está disponible en el [repositorio UCI](https://archive.ics.uci.edu/ml/datasets/wine). Este dataset consiste en 178 muestras de vinos y 13 descriptores de distintas propiedades químicas. \n",
        "\n",
        "Usando pandas vamos a descargar directamente dicho dataset. También definimos en la siguiente celda el nombre de las columnas."
      ]
    },
    {
      "cell_type": "code",
      "metadata": {
        "collapsed": true,
        "id": "tzpUA556ygLF"
      },
      "source": [
        "import pandas as pd\n",
        "import numpy as np"
      ],
      "execution_count": 31,
      "outputs": []
    },
    {
      "cell_type": "code",
      "metadata": {
        "id": "S_HzAk5RygLG"
      },
      "source": [
        "df_wine = pd.read_csv('https://archive.ics.uci.edu/ml/machine-learning-databases/wine/wine.data',\n",
        "                     header=None)\n",
        "df_wine.columns = ['Class label', 'Alcohol', 'Malid acid', 'Ash', 'Alcalinity of ash', \n",
        "                  'Magnesium', 'Total phenols','Flavanoids','Nonflavanoid phenols', \n",
        "                  'Proanthocyanins','Color intensity','Hue','OD280/OD315 of diluted wines',\n",
        "                  'Proline']"
      ],
      "execution_count": 32,
      "outputs": []
    },
    {
      "cell_type": "markdown",
      "metadata": {
        "id": "hlu6nEy7ygLI"
      },
      "source": [
        "A continuación podemos ver las categorías de vinos de nuestro dataset."
      ]
    },
    {
      "cell_type": "code",
      "metadata": {
        "colab": {
          "base_uri": "https://localhost:8080/"
        },
        "id": "XTPSGMgBygLI",
        "outputId": "28c1e636-69b7-40ed-e543-4825d3350999"
      },
      "source": [
        "print('Class labels',np.unique(df_wine['Class label']))"
      ],
      "execution_count": 33,
      "outputs": [
        {
          "output_type": "stream",
          "text": [
            "Class labels [1 2 3]\n"
          ],
          "name": "stdout"
        }
      ]
    },
    {
      "cell_type": "markdown",
      "metadata": {
        "id": "t1A1ipbhygLJ"
      },
      "source": [
        "##### Pregunta\n",
        "¿Cuántas clases hay?"
      ]
    },
    {
      "cell_type": "markdown",
      "metadata": {
        "collapsed": true,
        "id": "0ql1S7B4ygLN"
      },
      "source": [
        "Respuesta. \n",
        "Hay tres clases."
      ]
    },
    {
      "cell_type": "markdown",
      "metadata": {
        "id": "uUH-tx1IygLO"
      },
      "source": [
        "**Ejercicio** Muestra las primeras filas del dataset."
      ]
    },
    {
      "cell_type": "code",
      "metadata": {
        "colab": {
          "base_uri": "https://localhost:8080/",
          "height": 221
        },
        "id": "NkQqw1XsBjmL",
        "outputId": "8eb43c56-6297-4bf5-b05e-7d5c84fe2639"
      },
      "source": [
        "df_wine.head()"
      ],
      "execution_count": 34,
      "outputs": [
        {
          "output_type": "execute_result",
          "data": {
            "text/html": [
              "<div>\n",
              "<style scoped>\n",
              "    .dataframe tbody tr th:only-of-type {\n",
              "        vertical-align: middle;\n",
              "    }\n",
              "\n",
              "    .dataframe tbody tr th {\n",
              "        vertical-align: top;\n",
              "    }\n",
              "\n",
              "    .dataframe thead th {\n",
              "        text-align: right;\n",
              "    }\n",
              "</style>\n",
              "<table border=\"1\" class=\"dataframe\">\n",
              "  <thead>\n",
              "    <tr style=\"text-align: right;\">\n",
              "      <th></th>\n",
              "      <th>Class label</th>\n",
              "      <th>Alcohol</th>\n",
              "      <th>Malid acid</th>\n",
              "      <th>Ash</th>\n",
              "      <th>Alcalinity of ash</th>\n",
              "      <th>Magnesium</th>\n",
              "      <th>Total phenols</th>\n",
              "      <th>Flavanoids</th>\n",
              "      <th>Nonflavanoid phenols</th>\n",
              "      <th>Proanthocyanins</th>\n",
              "      <th>Color intensity</th>\n",
              "      <th>Hue</th>\n",
              "      <th>OD280/OD315 of diluted wines</th>\n",
              "      <th>Proline</th>\n",
              "    </tr>\n",
              "  </thead>\n",
              "  <tbody>\n",
              "    <tr>\n",
              "      <th>0</th>\n",
              "      <td>1</td>\n",
              "      <td>14.23</td>\n",
              "      <td>1.71</td>\n",
              "      <td>2.43</td>\n",
              "      <td>15.6</td>\n",
              "      <td>127</td>\n",
              "      <td>2.80</td>\n",
              "      <td>3.06</td>\n",
              "      <td>0.28</td>\n",
              "      <td>2.29</td>\n",
              "      <td>5.64</td>\n",
              "      <td>1.04</td>\n",
              "      <td>3.92</td>\n",
              "      <td>1065</td>\n",
              "    </tr>\n",
              "    <tr>\n",
              "      <th>1</th>\n",
              "      <td>1</td>\n",
              "      <td>13.20</td>\n",
              "      <td>1.78</td>\n",
              "      <td>2.14</td>\n",
              "      <td>11.2</td>\n",
              "      <td>100</td>\n",
              "      <td>2.65</td>\n",
              "      <td>2.76</td>\n",
              "      <td>0.26</td>\n",
              "      <td>1.28</td>\n",
              "      <td>4.38</td>\n",
              "      <td>1.05</td>\n",
              "      <td>3.40</td>\n",
              "      <td>1050</td>\n",
              "    </tr>\n",
              "    <tr>\n",
              "      <th>2</th>\n",
              "      <td>1</td>\n",
              "      <td>13.16</td>\n",
              "      <td>2.36</td>\n",
              "      <td>2.67</td>\n",
              "      <td>18.6</td>\n",
              "      <td>101</td>\n",
              "      <td>2.80</td>\n",
              "      <td>3.24</td>\n",
              "      <td>0.30</td>\n",
              "      <td>2.81</td>\n",
              "      <td>5.68</td>\n",
              "      <td>1.03</td>\n",
              "      <td>3.17</td>\n",
              "      <td>1185</td>\n",
              "    </tr>\n",
              "    <tr>\n",
              "      <th>3</th>\n",
              "      <td>1</td>\n",
              "      <td>14.37</td>\n",
              "      <td>1.95</td>\n",
              "      <td>2.50</td>\n",
              "      <td>16.8</td>\n",
              "      <td>113</td>\n",
              "      <td>3.85</td>\n",
              "      <td>3.49</td>\n",
              "      <td>0.24</td>\n",
              "      <td>2.18</td>\n",
              "      <td>7.80</td>\n",
              "      <td>0.86</td>\n",
              "      <td>3.45</td>\n",
              "      <td>1480</td>\n",
              "    </tr>\n",
              "    <tr>\n",
              "      <th>4</th>\n",
              "      <td>1</td>\n",
              "      <td>13.24</td>\n",
              "      <td>2.59</td>\n",
              "      <td>2.87</td>\n",
              "      <td>21.0</td>\n",
              "      <td>118</td>\n",
              "      <td>2.80</td>\n",
              "      <td>2.69</td>\n",
              "      <td>0.39</td>\n",
              "      <td>1.82</td>\n",
              "      <td>4.32</td>\n",
              "      <td>1.04</td>\n",
              "      <td>2.93</td>\n",
              "      <td>735</td>\n",
              "    </tr>\n",
              "  </tbody>\n",
              "</table>\n",
              "</div>"
            ],
            "text/plain": [
              "   Class label  Alcohol  ...  OD280/OD315 of diluted wines  Proline\n",
              "0            1    14.23  ...                          3.92     1065\n",
              "1            1    13.20  ...                          3.40     1050\n",
              "2            1    13.16  ...                          3.17     1185\n",
              "3            1    14.37  ...                          3.45     1480\n",
              "4            1    13.24  ...                          2.93      735\n",
              "\n",
              "[5 rows x 14 columns]"
            ]
          },
          "metadata": {
            "tags": []
          },
          "execution_count": 34
        }
      ]
    },
    {
      "cell_type": "markdown",
      "metadata": {
        "id": "TQ2hVBwhygLQ"
      },
      "source": [
        "##### Ejercicio\n",
        "La variable `df_wine` contiene tanto las etiquetas como los descriptores, separa dicha variable en las variables `X` e `y` como hemos hecho en otras ocasiones. Date cuenta que en este caso la etiqueta no la proporciona la última columna sino la primera, y que los descriptores van desde la columna 1 hasta la última. "
      ]
    },
    {
      "cell_type": "code",
      "metadata": {
        "collapsed": true,
        "id": "SqsUwf7pygLR"
      },
      "source": [
        "X = df_wine.values[:,1:]\n",
        "y = df_wine.values[:,0]"
      ],
      "execution_count": 38,
      "outputs": []
    },
    {
      "cell_type": "markdown",
      "metadata": {
        "id": "RX3fRMgYygLS"
      },
      "source": [
        "La siguiente celda debería producir los siguientes resultados:\n",
        "\n",
        "| Expresión | Resultado |\n",
        "|---|---|\n",
        "| X[0] | [  1.42300000e+01,1.71000000e+00,2.43000000e+00,1.56000000e+01,1.27000000e+02,2.80000000e+00   3.06000000e+00,2.80000000e-01,2.29000000e+00,5.64000000e+00, 1.04000000e+00,3.92000000e+00,1.06500000e+03] |\n",
        "| y[5] | 1.0 |"
      ]
    },
    {
      "cell_type": "code",
      "metadata": {
        "colab": {
          "base_uri": "https://localhost:8080/"
        },
        "id": "LcKMtz07ygLT",
        "outputId": "883fa247-506f-4e9f-e53c-ac2a293b36e5"
      },
      "source": [
        "print(X[0])\n",
        "print(y[5])"
      ],
      "execution_count": 39,
      "outputs": [
        {
          "output_type": "stream",
          "text": [
            "[1.423e+01 1.710e+00 2.430e+00 1.560e+01 1.270e+02 2.800e+00 3.060e+00\n",
            " 2.800e-01 2.290e+00 5.640e+00 1.040e+00 3.920e+00 1.065e+03]\n",
            "1.0\n"
          ],
          "name": "stdout"
        }
      ]
    },
    {
      "cell_type": "markdown",
      "metadata": {
        "id": "fE1CiT1kygLU"
      },
      "source": [
        "##### Ejercicio\n",
        "Como hacemos de manera habitual vamos a partir el dataset en los conjuntos de entrenamiento y test. Utiliza el 30% para el conjunto de test y usa como `random_state` el valor 0."
      ]
    },
    {
      "cell_type": "code",
      "metadata": {
        "collapsed": true,
        "id": "V1cL--pzygLU"
      },
      "source": [
        "from sklearn.model_selection import train_test_split\n",
        "X_train, X_test, y_train, y_test = train_test_split(X,y,test_size=0.3,random_state=0)"
      ],
      "execution_count": 40,
      "outputs": []
    },
    {
      "cell_type": "markdown",
      "metadata": {
        "id": "4r2CgOaNygLZ"
      },
      "source": [
        "## 1. Escalando los descriptores\n",
        "\n",
        "El escalado de los descriptores es un paso habitual de preprocesamiento. La mayoría de algoritmos de aprendizaje aprenden mucho mejor cuando los descriptores están en la misma escala. \n",
        "\n",
        "La importancia de escalar los descriptores se puede ilustrar con el siguiente ejemplo. Suponed que tenemos dos descriptores donde un descriptor se mide en una escala de 1 a 10 y otra se mide en una escala 1 a 100000. Cuando pensamos en el error cuadrático, es intuitivo que los algoritmos de optimización ajustarán los pesos de acuerdo a los errores producidos en el segundo descriptor. Otro ejemplo sería en el algoritmo KNN con la medida Euclídea, donde el cálculo de las distancias va a estar dominado por el segundo descriptor.\n",
        "\n",
        "Existen dos aproximaciones distintas para escalar los descriptores: la normalización y la estandarización.\n",
        "\n",
        "### 1.1. Normalización\n",
        "\n",
        "La normalización se refiere al proceso de reescalar los descriptores en el rango $[0,1]$. Para llevar a cabo este reescalado se puede aplicar el escalado min-max a cada columna de un descriptor. En concreto para calcular este valor usamos la siguiente fórmula:\n",
        "$$x_{norm}^{(i)} = \\frac{x^{(i)}-x_{min}}{x_{max}-x_{min}}$$\n",
        "donde $x_{norm}^{(i)}$ es el nuevo valor de la instancia $i$ del dataset para un descriptor, $x^{(i)}$ es el valor original de la instancia para ese descriptor, $x_{min}$ es el menor valor que toma ese descriptor para todas las instancias del dataset, y $x_{max}$ es el mayor valor que toma ese descriptor para todas las instancias del dataset.\n",
        "\n",
        "Este procedimiento está implementado en sklearn y puede usarse del siguiente modo. Importamos la librería y definimos un objeto de la clase `MinMaxScaler`."
      ]
    },
    {
      "cell_type": "code",
      "metadata": {
        "collapsed": true,
        "id": "gNlX6V18ygLb"
      },
      "source": [
        "from sklearn.preprocessing import MinMaxScaler\n",
        "mms = MinMaxScaler()"
      ],
      "execution_count": 41,
      "outputs": []
    },
    {
      "cell_type": "markdown",
      "metadata": {
        "id": "IyfyRsUGygLc"
      },
      "source": [
        "Llevamos a cabo el reescalado tanto del conjunto de entrenamiento utilizando la función `fit_transform` del objeto `mms`, y luego reescalamos el conjunto de test utilizando la función `transform`. Esto se hace para que el reescalado del conjunto de test utilice los mismos valores de reescalado que el conjunto de entrenamiento."
      ]
    },
    {
      "cell_type": "code",
      "metadata": {
        "id": "K2j54c9HygLe"
      },
      "source": [
        "X_train_norm = mms.fit_transform(X_train)\n",
        "X_test_norm = mms.transform(X_test)"
      ],
      "execution_count": 42,
      "outputs": []
    },
    {
      "cell_type": "markdown",
      "metadata": {
        "id": "voc_qGT1ygLf"
      },
      "source": [
        "### 1.2. Estandarización\n",
        "\n",
        "La normalización es una técnica útil cuando necesitamos que los nuevos valores de los descriptores estén en un intervalo, la estandarización puede ser más útil para los algoritmos de aprendizaje. La razón es que muchos algoritmos como la regresión logística, SVMs o las redes neuronales inicializan los pesos a 0 o a valores aleatoreos cercanos a 0. Usando la estandarización se consiguen centrar las columnas de descriptores con media 0 y desviación típica 1 de modo que las columnas de descriptores toman la forma de una distribución normal lo que hace que se aprendan de manera más sencilla los pesos. \n",
        "\n",
        "El proceso de estandarización viene dado por la siguiente fórmula:\n",
        "$$x^{(i)}_{std} = \\frac{x^{(i)}-\\mu_x}{\\sigma_x}$$\n",
        "donde $\\mu_x$ es la media de la muestra para cada columna de descriptores, $\\sigma_x$ es la desviación típica, y $x^{(i)}_{std}$ es el valor calculado a partir del original $x^{(i)}$.\n",
        "\n",
        "La siguiente tabla muestra la diferencia entre los valores normalizados y estandarizados en un dataset que contiene los números del 0 al 5. \n",
        "\n",
        "| Entrada | Estandarizado | Normalizado |\n",
        "| --- | --- | --- |\n",
        "| 0.0 | -1.33 | 0.0 |\n",
        "| 1.0 | -0.8 | 0.2 |\n",
        "| 2.0 | -0.26 | 0.4 |\n",
        "| 3.0 | 0.26 | 0.6 |\n",
        "| 4.0 | 0.8 | 0.8 |\n",
        "| 5.0 | 1.33 | 1.0 |\n",
        "\n",
        "Al igual que para la normalización, sklearn también implementa la estandarización y se utiliza del mismo modo."
      ]
    },
    {
      "cell_type": "code",
      "metadata": {
        "collapsed": true,
        "id": "MeIZswZrygLh"
      },
      "source": [
        "from sklearn.preprocessing import StandardScaler\n",
        "stdsc = StandardScaler()\n",
        "X_train_std = stdsc.fit_transform(X_train)\n",
        "X_test_std = stdsc.transform(X_test)"
      ],
      "execution_count": 43,
      "outputs": []
    },
    {
      "cell_type": "markdown",
      "metadata": {
        "id": "yRYhebBDygLi"
      },
      "source": [
        "## 2. Seleccionando descriptores relevantes\n",
        "\n",
        "Cuando un modelo funciona mucho mejor en el conjunto de entrenamiento que en el de test, estos es un claro caso de _sobreajuste_. Es decir, que el modelo ha ajustado sus parámetros para funcionar bien en el conjunto de entrenamiento pero no generaliza bien a datos reales. Existen distintas técnicas para reducir el sobreajuste, la más sencilla pero también más complicada de llevar a cabo consiste en conseguir más datos para entrenar el modelo; esto en muchas ocasiones no es posible. En este apartado vamos a ver otra técnica que reduce el sobreajuste utilizando la reducción de dimensionalidad. \n",
        "\n",
        "Ya vimos que existen dos tipos de técnicas para reducir la dimensionalidad: la selección de descriptores y la extracción de descriptores. En este apartado nos vamos a centrar en el uso del método de selección secuencial hacia atrás. Este algoritmo no está implementado por defecto en sklearn, pero lo tienes disponible en el fichero sbs.py. Vamos a ver como funciona nuestro selector de descriptores utilizando el clasificador KNN. Comentamos cargando las librerías necesarias. \n",
        "\n",
        "Necesitamos primero descargar el fichero sbs con la funcionalidad necesaria. "
      ]
    },
    {
      "cell_type": "code",
      "metadata": {
        "colab": {
          "base_uri": "https://localhost:8080/"
        },
        "id": "peYiP2JWygLj",
        "outputId": "1ea6bc01-7d57-4b75-d629-5c7241ff3913"
      },
      "source": [
        "!wget https://raw.githubusercontent.com/IA1819/Code/master/sbs1.py -O sbs.py"
      ],
      "execution_count": 44,
      "outputs": [
        {
          "output_type": "stream",
          "text": [
            "--2021-04-07 07:42:38--  https://raw.githubusercontent.com/IA1819/Code/master/sbs1.py\n",
            "Resolving raw.githubusercontent.com (raw.githubusercontent.com)... 185.199.111.133, 185.199.109.133, 185.199.108.133, ...\n",
            "Connecting to raw.githubusercontent.com (raw.githubusercontent.com)|185.199.111.133|:443... connected.\n",
            "HTTP request sent, awaiting response... 200 OK\n",
            "Length: 1691 (1.7K) [text/plain]\n",
            "Saving to: ‘sbs.py’\n",
            "\n",
            "\rsbs.py                0%[                    ]       0  --.-KB/s               \rsbs.py              100%[===================>]   1.65K  --.-KB/s    in 0s      \n",
            "\n",
            "2021-04-07 07:42:39 (18.4 MB/s) - ‘sbs.py’ saved [1691/1691]\n",
            "\n"
          ],
          "name": "stdout"
        }
      ]
    },
    {
      "cell_type": "code",
      "metadata": {
        "collapsed": true,
        "id": "16N3GxH3ygLk"
      },
      "source": [
        "from sklearn.neighbors import KNeighborsClassifier\n",
        "import matplotlib.pyplot as plt\n",
        "from sbs import SBS\n",
        "%matplotlib inline"
      ],
      "execution_count": 45,
      "outputs": []
    },
    {
      "cell_type": "markdown",
      "metadata": {
        "id": "Z3U6cvCqygLl"
      },
      "source": [
        "Construimos el clasificador."
      ]
    },
    {
      "cell_type": "code",
      "metadata": {
        "collapsed": true,
        "id": "YjTKQ1vdygLm"
      },
      "source": [
        "knn = KNeighborsClassifier(n_neighbors=3)"
      ],
      "execution_count": 46,
      "outputs": []
    },
    {
      "cell_type": "markdown",
      "metadata": {
        "id": "7Q_JYC3LygLm"
      },
      "source": [
        "Construimos nuestro selector de descriptores y le indicamos que al menos tiene que tomar 1 descriptor. El proceso consiste en construir una instancia de la clase `SBS` donde le indicamos el clasificador y el mínimo número de descriptores, y luego entrenarla."
      ]
    },
    {
      "cell_type": "code",
      "metadata": {
        "colab": {
          "base_uri": "https://localhost:8080/"
        },
        "id": "otxOvUmIygLn",
        "outputId": "3b4dc2da-8d3b-430b-fdac-ef9f598597f3"
      },
      "source": [
        "sbs= SBS(knn,k_features=1)\n",
        "sbs.fit(X_train_std,y_train)"
      ],
      "execution_count": 47,
      "outputs": [
        {
          "output_type": "execute_result",
          "data": {
            "text/plain": [
              "<sbs.SBS at 0x7fe97f218bd0>"
            ]
          },
          "metadata": {
            "tags": []
          },
          "execution_count": 47
        }
      ]
    },
    {
      "cell_type": "markdown",
      "metadata": {
        "id": "vIzzWuKkygLn"
      },
      "source": [
        "El objeto de la clase sbs almacena las puntuaciones de los mejores subconjuntos de descriptores en cada paso utilizando una parte del conjunto de test como conjunto de validación, así que podemos mostrar la precisión del clasificador para los distintos subconjuntos."
      ]
    },
    {
      "cell_type": "code",
      "metadata": {
        "colab": {
          "base_uri": "https://localhost:8080/",
          "height": 283
        },
        "id": "_FuJGleGygLo",
        "outputId": "0d9c533d-babd-49a6-d2af-60f210b5d46a"
      },
      "source": [
        "k_feat = [len(k) for k in sbs.subsets_]\n",
        "plt.plot(k_feat,sbs.scores_,marker='o')\n",
        "plt.ylim([0.7,1.1])\n",
        "plt.ylabel('Accuracy')\n",
        "plt.xlabel('Numero descriptores')\n",
        "plt.grid()\n",
        "plt.show()"
      ],
      "execution_count": 48,
      "outputs": [
        {
          "output_type": "display_data",
          "data": {
            "image/png": "[encoded data removed]",
            "text/plain": [
              "<Figure size 432x288 with 1 Axes>"
            ]
          },
          "metadata": {
            "tags": [],
            "needs_background": "light"
          }
        }
      ]
    },
    {
      "cell_type": "markdown",
      "metadata": {
        "id": "LrPGXn0PygLp"
      },
      "source": [
        "Como se puede ver en la figura anterior la accuracy del algoritmo KNN aumenta al reducir el número de descriptores lo cual se debe a la maldición de la dimensionalidad. Como se puede ver en la gráfica, el algoritmo KNN alcanza una accuracy del 100% utilizando entre 5 y 11 descriptores. \n",
        "\n",
        "Podemos tomar los 5 descriptores más relevantes y ver cuáles son. Como estamos utilizando la eliminación hacia atrás para acceder a los 5 descriptores más relevantes tenemos que acceder al campo `subsets_` (que es una lista) e indicarle el índice que sería 13 (número total de descriptores) - 5 (número de descriptores con los que nos quedamos)."
      ]
    },
    {
      "cell_type": "code",
      "metadata": {
        "colab": {
          "base_uri": "https://localhost:8080/"
        },
        "id": "hy1ZPiXOygLp",
        "outputId": "ca81c8a5-3984-4c4e-eee0-710332c9a6be"
      },
      "source": [
        "k5 = list(sbs.subsets_[8]) \n",
        "print(df_wine.columns[1:][k5])"
      ],
      "execution_count": 49,
      "outputs": [
        {
          "output_type": "stream",
          "text": [
            "Index(['Malid acid', 'Total phenols', 'Flavanoids', 'Color intensity',\n",
            "       'Proline'],\n",
            "      dtype='object')\n"
          ],
          "name": "stdout"
        }
      ]
    },
    {
      "cell_type": "markdown",
      "metadata": {
        "id": "A4xR2ajbygLs"
      },
      "source": [
        "Vamos ahora a evaluar el rendimiento del clasificador KNN en el conjunto de test. Primero lo consideramos sin estandarizar. "
      ]
    },
    {
      "cell_type": "code",
      "metadata": {
        "colab": {
          "base_uri": "https://localhost:8080/"
        },
        "id": "S8NEPsNpygLs",
        "outputId": "b3517647-6c3b-40a0-877b-5703bbd18f2c"
      },
      "source": [
        "knn.fit(X_train,y_train)\n",
        "print('Training accuracy:', knn.score(X_train,y_train))\n",
        "print('Test accuracy:', knn.score(X_test,y_test))"
      ],
      "execution_count": 50,
      "outputs": [
        {
          "output_type": "stream",
          "text": [
            "Training accuracy: 0.9032258064516129\n",
            "Test accuracy: 0.7037037037037037\n"
          ],
          "name": "stdout"
        }
      ]
    },
    {
      "cell_type": "markdown",
      "metadata": {
        "id": "UsZX_R1WygLt"
      },
      "source": [
        "A continuación utilizando el dataset normalizado."
      ]
    },
    {
      "cell_type": "code",
      "metadata": {
        "colab": {
          "base_uri": "https://localhost:8080/"
        },
        "id": "t6CSP6UlygLu",
        "outputId": "dbf2f373-c74b-4bb4-dcf9-8868cf9bfb79"
      },
      "source": [
        "knn.fit(X_train_norm,y_train)\n",
        "print('Training accuracy:', knn.score(X_train_norm,y_train))\n",
        "print('Test accuracy:', knn.score(X_test_norm,y_test))"
      ],
      "execution_count": 51,
      "outputs": [
        {
          "output_type": "stream",
          "text": [
            "Training accuracy: 0.967741935483871\n",
            "Test accuracy: 0.9814814814814815\n"
          ],
          "name": "stdout"
        }
      ]
    },
    {
      "cell_type": "markdown",
      "metadata": {
        "id": "DR9kmbFVygLu"
      },
      "source": [
        "A continuación utilizando el dataset estandarizado."
      ]
    },
    {
      "cell_type": "code",
      "metadata": {
        "colab": {
          "base_uri": "https://localhost:8080/"
        },
        "id": "W2HyEQmfygLv",
        "outputId": "2baefd7a-8f70-42a4-ba06-c3a645009f91"
      },
      "source": [
        "knn.fit(X_train_std,y_train)\n",
        "print('Training accuracy:', knn.score(X_train_std,y_train))\n",
        "print('Test accuracy:', knn.score(X_test_std,y_test))"
      ],
      "execution_count": 52,
      "outputs": [
        {
          "output_type": "stream",
          "text": [
            "Training accuracy: 0.9596774193548387\n",
            "Test accuracy: 0.9629629629629629\n"
          ],
          "name": "stdout"
        }
      ]
    },
    {
      "cell_type": "markdown",
      "metadata": {
        "id": "AE86zGjWygLv"
      },
      "source": [
        "Por último considerando solo los 5 descriptores más relevantes. "
      ]
    },
    {
      "cell_type": "code",
      "metadata": {
        "colab": {
          "base_uri": "https://localhost:8080/"
        },
        "id": "c3LrtgLfygLw",
        "outputId": "1b474396-d277-4f80-8b9f-f71c5ecc84d6"
      },
      "source": [
        "knn.fit(X_train_std[:,k5],y_train)\n",
        "print('Training accuracy:', knn.score(X_train_std[:,k5],y_train))\n",
        "print('Test accuracy:', knn.score(X_test_std[:,k5],y_test))"
      ],
      "execution_count": 53,
      "outputs": [
        {
          "output_type": "stream",
          "text": [
            "Training accuracy: 0.9758064516129032\n",
            "Test accuracy: 0.9629629629629629\n"
          ],
          "name": "stdout"
        }
      ]
    },
    {
      "cell_type": "markdown",
      "metadata": {
        "id": "EDqoytZLygLx"
      },
      "source": [
        "##### Pregunta\n",
        "¿Qué ha ocurrido al estandarizar los datos? ¿y al normalizarlos? ¿Ha mejorado la accuracy de nuestro clasificador? ¿Qué ha ocurrido al utilizar los 5 descriptores más importantes?"
      ]
    },
    {
      "cell_type": "markdown",
      "metadata": {
        "collapsed": true,
        "id": "IVmZ9x3qygLx"
      },
      "source": [
        "Respuesta. \n",
        "Al principio teníamos un problema de sobreajuste:\n",
        "- Training accuracy: 0.9032258064516129\n",
        "- Test accuracy: 0.7037037037037037\n",
        "\n",
        "Entonces al normalizarlo eliminamos el sobreajuste y estabilizamos el test accuracy:\n",
        "- Training accuracy: 0.967741935483871\n",
        "- Test accuracy: 0.9814814814814815\n",
        "\n",
        "Tras estandarizarlo se han igualado training y test accuracy pero manteniéndose al igual que antes en un nivel muy alto.\n",
        "\n",
        "- Training accuracy: 0.9596774193548387\n",
        "- Test accuracy: 0.9629629629629629\n",
        "\n",
        "Al eliminar descriptores aumentamos la precisión del training test:\n",
        "- Training accuracy: 0.9758064516129032\n",
        "- Test accuracy: 0.9629629629629629\n",
        "\n",
        "Para este dataset las diferencias más notables han sido al normalizarlo.\n",
        "\n"
      ]
    },
    {
      "cell_type": "markdown",
      "metadata": {
        "id": "58rbFazWygLy"
      },
      "source": [
        "**Ejercicio** En la selección de descriptores anterior, hemos considerado el dataset estandarizado para elegir los 5 mejores descriptores. Repite el proceso, pero esta vez condiderando el dataset original. "
      ]
    },
    {
      "cell_type": "code",
      "metadata": {
        "id": "Psu_CDGIayIp",
        "outputId": "7e8bfae6-9972-42dd-fce9-6f6f22d26ff5",
        "colab": {
          "base_uri": "https://localhost:8080/",
          "height": 334
        }
      },
      "source": [
        "sbs= SBS(knn,k_features=1)\n",
        "sbs.fit(X_train,y_train)\n",
        "\n",
        "k_feat = [len(k) for k in sbs.subsets_]\n",
        "plt.plot(k_feat,sbs.scores_,marker='o')\n",
        "plt.ylim([0.7,1.1])\n",
        "plt.ylabel('Accuracy')\n",
        "plt.xlabel('Numero descriptores')\n",
        "plt.grid()\n",
        "plt.show()\n",
        "\n",
        "k5 = list(sbs.subsets_[8]) \n",
        "\n",
        "knn.fit(X_train[:,k5],y_train)\n",
        "print('Dataset original cinco descriptores')\n",
        "print('Training accuracy:', knn.score(X_train[:,k5],y_train))\n",
        "print('Test accuracy:', knn.score(X_test[:,k5],y_test))"
      ],
      "execution_count": 68,
      "outputs": [
        {
          "output_type": "display_data",
          "data": {
            "image/png": "[encoded data removed]",
            "text/plain": [
              "<Figure size 432x288 with 1 Axes>"
            ]
          },
          "metadata": {
            "tags": [],
            "needs_background": "light"
          }
        },
        {
          "output_type": "stream",
          "text": [
            "Dataset original cinco descriptores\n",
            "Training accuracy: 0.9435483870967742\n",
            "Test accuracy: 0.9259259259259259\n"
          ],
          "name": "stdout"
        }
      ]
    },
    {
      "cell_type": "markdown",
      "metadata": {
        "id": "5LQrsfZnygLz"
      },
      "source": [
        "**Pregunta** \n",
        "\n",
        "¿Mejoran los resultados con respecto al entrenamiento del modelo con todos los descriptores?"
      ]
    },
    {
      "cell_type": "code",
      "metadata": {
        "id": "kVgogvLIbNvp",
        "outputId": "75955ac3-0463-4ec5-af54-8dae5fbc88bf",
        "colab": {
          "base_uri": "https://localhost:8080/"
        }
      },
      "source": [
        "sbs= SBS(knn,k_features=1)\n",
        "sbs.fit(X_train,y_train)\n",
        "\n",
        "k5 = list(sbs.subsets_[8]) \n",
        "\n",
        "knn.fit(X_train[:,k5],y_train)\n",
        "print('Dataset original cinco descriptores')\n",
        "print('Training accuracy:', knn.score(X_train[:,k5],y_train))\n",
        "print('Test accuracy:', knn.score(X_test[:,k5],y_test))\n",
        "\n",
        "knn.fit(X_train_norm[:,k5],y_train)\n",
        "print('Dataset normalizado cinco descriptores')\n",
        "print('Training accuracy:', knn.score(X_train_norm[:,k5],y_train))\n",
        "print('Test accuracy:', knn.score(X_test_norm[:,k5],y_test))\n",
        "\n",
        "\n",
        "knn.fit(X_train[:,k5],y_train)\n",
        "print('Dataset original cinco descriptores')\n",
        "print('Training accuracy:', knn.score(X_train[:,k5],y_train))\n",
        "print('Test accuracy:', knn.score(X_test[:,k5],y_test))"
      ],
      "execution_count": 69,
      "outputs": [
        {
          "output_type": "stream",
          "text": [
            "Dataset original cinco descriptores\n",
            "Training accuracy: 0.9435483870967742\n",
            "Test accuracy: 0.9259259259259259\n",
            "Dataset normalizado cinco descriptores\n",
            "Training accuracy: 0.9112903225806451\n",
            "Test accuracy: 0.9629629629629629\n",
            "Dataset original cinco descriptores\n",
            "Training accuracy: 0.9435483870967742\n",
            "Test accuracy: 0.9259259259259259\n"
          ],
          "name": "stdout"
        }
      ]
    },
    {
      "cell_type": "markdown",
      "metadata": {
        "id": "75yw_W1_ygLz"
      },
      "source": [
        "Respuesta.\n",
        "\n",
        "No mejoran aunque siguen teniendo un porcentaje de acierto muy alto. Veámoslo tras normalizarlo y estandarizarlo con cinco descriptores:\n",
        "\n",
        "- Training accuracy: 0.9435483870967742\n",
        "- Test accuracy: 0.9259259259259259"
      ]
    },
    {
      "cell_type": "markdown",
      "metadata": {
        "id": "4FA_PgNKygL0"
      },
      "source": [
        "## 3. Viendo la importancia de los descriptores \n",
        "\n",
        "Una técnica que también resulta útil para seleccionar descriptores relevantes a partir de un dataset consiste en utilizar [_random forests_](http://scikit-learn.org/stable/modules/ensemble.html#forest) un método en el cual se entrenan varios árboles de decisión y se organiza una votación entre esos modelos para decidir la predicción.\n",
        "\n",
        "Utilizando los random forest podemos ver la importancia de cada descriptor usando el atributo `feature_importances_` que está accesible después de entrenar uno de estos clasificadores. Ejecutando el siguiente código se entrenará uno de estos modelos utilizando 1000 árboles de decisión y se obtendrá un ranking de los 13 descriptores. \n",
        "\n",
        "Comenzamos cargando las libreráis necesarias."
      ]
    },
    {
      "cell_type": "code",
      "metadata": {
        "collapsed": true,
        "id": "FNoJO8QBygL1"
      },
      "source": [
        "from sklearn.ensemble import RandomForestClassifier"
      ],
      "execution_count": 54,
      "outputs": []
    },
    {
      "cell_type": "markdown",
      "metadata": {
        "id": "didcPY8SygL1"
      },
      "source": [
        "Obtenemos el nombre de cada descriptor."
      ]
    },
    {
      "cell_type": "code",
      "metadata": {
        "collapsed": true,
        "id": "RrxT8gHpygL2"
      },
      "source": [
        "etiquetas_descriptores = df_wine.columns[1:]"
      ],
      "execution_count": 55,
      "outputs": []
    },
    {
      "cell_type": "markdown",
      "metadata": {
        "id": "yb5SkNFmygL2"
      },
      "source": [
        "Construimos el _random forest_."
      ]
    },
    {
      "cell_type": "code",
      "metadata": {
        "collapsed": true,
        "id": "RSIFU65jygL3"
      },
      "source": [
        "forest = RandomForestClassifier(n_estimators=1000,random_state=0,n_jobs=-1)"
      ],
      "execution_count": 56,
      "outputs": []
    },
    {
      "cell_type": "markdown",
      "metadata": {
        "id": "08c-6TRaygL3"
      },
      "source": [
        "Entrenamos el modelo. Notar que usamos directamente el dataset sin estandarizar, esto es debido a que los árboles de decisión no están afectados por la escala de los atributos. "
      ]
    },
    {
      "cell_type": "code",
      "metadata": {
        "colab": {
          "base_uri": "https://localhost:8080/"
        },
        "id": "ySI0sPnzygL4",
        "outputId": "be62071f-37b2-4bbe-bdc1-9270802f982d"
      },
      "source": [
        "forest.fit(X_train,y_train)"
      ],
      "execution_count": 57,
      "outputs": [
        {
          "output_type": "execute_result",
          "data": {
            "text/plain": [
              "RandomForestClassifier(bootstrap=True, ccp_alpha=0.0, class_weight=None,\n",
              "                       criterion='gini', max_depth=None, max_features='auto',\n",
              "                       max_leaf_nodes=None, max_samples=None,\n",
              "                       min_impurity_decrease=0.0, min_impurity_split=None,\n",
              "                       min_samples_leaf=1, min_samples_split=2,\n",
              "                       min_weight_fraction_leaf=0.0, n_estimators=1000,\n",
              "                       n_jobs=-1, oob_score=False, random_state=0, verbose=0,\n",
              "                       warm_start=False)"
            ]
          },
          "metadata": {
            "tags": []
          },
          "execution_count": 57
        }
      ]
    },
    {
      "cell_type": "markdown",
      "metadata": {
        "id": "XhVVXCp6ygL4"
      },
      "source": [
        "Obtenemos la relevancia de cada descriptor y los índices para ordenar de mayor a menor dichas relevancias."
      ]
    },
    {
      "cell_type": "code",
      "metadata": {
        "collapsed": true,
        "id": "k38eNCs2ygL4"
      },
      "source": [
        "relevancias = forest.feature_importances_\n",
        "indices = np.argsort(relevancias)[::-1]"
      ],
      "execution_count": 58,
      "outputs": []
    },
    {
      "cell_type": "markdown",
      "metadata": {
        "id": "DUSpOtZ9ygL5"
      },
      "source": [
        "Por último mostramos la importancia de cada descriptor."
      ]
    },
    {
      "cell_type": "code",
      "metadata": {
        "colab": {
          "base_uri": "https://localhost:8080/"
        },
        "id": "q8LJf3-XygL5",
        "outputId": "913596da-9867-4872-e836-bdad63cedd44"
      },
      "source": [
        "for f in range(X_train.shape[1]):\n",
        "    print(\"%2d) %-*s %f\" % (f+1,30,etiquetas_descriptores[indices[f]],relevancias[indices[f]]))"
      ],
      "execution_count": 59,
      "outputs": [
        {
          "output_type": "stream",
          "text": [
            " 1) Color intensity                0.190583\n",
            " 2) Proline                        0.159246\n",
            " 3) Flavanoids                     0.149066\n",
            " 4) OD280/OD315 of diluted wines   0.137214\n",
            " 5) Alcohol                        0.103509\n",
            " 6) Hue                            0.071931\n",
            " 7) Total phenols                  0.059530\n",
            " 8) Alcalinity of ash              0.032480\n",
            " 9) Malid acid                     0.023645\n",
            "10) Magnesium                      0.022201\n",
            "11) Proanthocyanins                0.021967\n",
            "12) Nonflavanoid phenols           0.015877\n",
            "13) Ash                            0.012752\n"
          ],
          "name": "stdout"
        }
      ]
    },
    {
      "cell_type": "markdown",
      "metadata": {
        "id": "lqMSzYFxygL6"
      },
      "source": [
        "##### Pregunta\n",
        "¿Cuál es el descriptor más relevante?"
      ]
    },
    {
      "cell_type": "markdown",
      "metadata": {
        "collapsed": true,
        "id": "uEzkdIPiygL7"
      },
      "source": [
        "Respuesta. \n",
        "\n",
        "Color intensity (intensidad del color)"
      ]
    },
    {
      "cell_type": "markdown",
      "metadata": {
        "id": "ZSePv1HtygL7"
      },
      "source": [
        "Vamos a mostrar un gráfico con la relevancia de cada descriptor. "
      ]
    },
    {
      "cell_type": "code",
      "metadata": {
        "colab": {
          "base_uri": "https://localhost:8080/",
          "height": 297
        },
        "id": "7ExDZieJygL8",
        "outputId": "ad329fc1-44fb-4de6-9e55-b9341e2a818a"
      },
      "source": [
        "plt.title('Relevancia de los descriptores')\n",
        "plt.bar(range(X_train.shape[1]),relevancias[indices],color='lightblue',align='center')\n",
        "plt.xticks(range(X_train.shape[1]),etiquetas_descriptores[indices],rotation=90)\n",
        "plt.xlim([-1,X_train.shape[1]])\n",
        "plt.tight_layout()\n",
        "plt.show()"
      ],
      "execution_count": 60,
      "outputs": [
        {
          "output_type": "display_data",
          "data": {
            "image/png": "[encoded data removed]",
            "text/plain": [
              "<Figure size 432x288 with 1 Axes>"
            ]
          },
          "metadata": {
            "tags": [],
            "needs_background": "light"
          }
        }
      ]
    },
    {
      "cell_type": "markdown",
      "metadata": {
        "id": "azuCaubQygL8"
      },
      "source": [
        "Recuerda guardar este notebook usando la opción *\"Save in GitHub...\"*."
      ]
    }
  ]
}