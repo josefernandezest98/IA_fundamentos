{
  "nbformat": 4,
  "nbformat_minor": 0,
  "metadata": {
    "kernelspec": {
      "display_name": "Python 3",
      "language": "python",
      "name": "python3"
    },
    "language_info": {
      "codemirror_mode": {
        "name": "ipython",
        "version": 3
      },
      "file_extension": ".py",
      "mimetype": "text/x-python",
      "name": "python",
      "nbconvert_exporter": "python",
      "pygments_lexer": "ipython3",
      "version": "3.6.7"
    },
    "colab": {
      "name": "practica6.ipynb",
      "provenance": [],
      "include_colab_link": true
    }
  },
  "cells": [
    {
      "cell_type": "markdown",
      "metadata": {
        "id": "view-in-github",
        "colab_type": "text"
      },
      "source": [
        "<a href=\"https://colab.research.google.com/github/IA2021UR/practica-6-joferne/blob/main/practica6.ipynb\" target=\"_parent\"><img src=\"https://colab.research.google.com/assets/colab-badge.svg\" alt=\"Open In Colab\"/></a>"
      ]
    },
    {
      "cell_type": "markdown",
      "metadata": {
        "id": "3MoNORymydrk"
      },
      "source": [
        "# Práctica 6: Aprendizaje supervisado II\n",
        "\n",
        "Esta práctica tiene como objetivos:\n",
        "- Evaluar algoritmos de clasificación.\n",
        "- Ajustar hiperparámetros.\n",
        "\n",
        "Además de este notebook tienes dos notebooks con ejercicios adicionales.  "
      ]
    },
    {
      "cell_type": "markdown",
      "metadata": {
        "id": "YU5dZy7Sydsh"
      },
      "source": [
        "## Evaluando la clasificación binaria\n",
        "\n",
        "Empieza ejecutando el siguiente comando para que no se muestren los warnings. "
      ]
    },
    {
      "cell_type": "code",
      "metadata": {
        "id": "9bOss9zEydsj"
      },
      "source": [
        "import warnings; warnings.simplefilter('ignore')"
      ],
      "execution_count": 26,
      "outputs": []
    },
    {
      "cell_type": "markdown",
      "metadata": {
        "id": "q9nJU8zAydsl"
      },
      "source": [
        "### 0. Carga de datos\n",
        "\n",
        "Descarga el fichero de pima-indians-diabetes como realizamos en prácticas anteriores. "
      ]
    },
    {
      "cell_type": "code",
      "metadata": {
        "colab": {
          "base_uri": "https://localhost:8080/"
        },
        "id": "tlplN8FLydsm",
        "outputId": "692e1219-9e40-42cb-964c-fc24a40af14a"
      },
      "source": [
        "!wget https://raw.githubusercontent.com/IA1819/Datasets/master/pima-indians-diabetes.csv -O pima-indians-diabetes.csv"
      ],
      "execution_count": 27,
      "outputs": [
        {
          "output_type": "stream",
          "text": [
            "--2021-04-07 09:47:48--  https://raw.githubusercontent.com/IA1819/Datasets/master/pima-indians-diabetes.csv\n",
            "Resolving raw.githubusercontent.com (raw.githubusercontent.com)... 185.199.108.133, 185.199.109.133, 185.199.110.133, ...\n",
            "Connecting to raw.githubusercontent.com (raw.githubusercontent.com)|185.199.108.133|:443... connected.\n",
            "HTTP request sent, awaiting response... 200 OK\n",
            "Length: 23279 (23K) [text/plain]\n",
            "Saving to: ‘pima-indians-diabetes.csv’\n",
            "\n",
            "pima-indians-diabet 100%[===================>]  22.73K  --.-KB/s    in 0.001s  \n",
            "\n",
            "2021-04-07 09:47:49 (36.7 MB/s) - ‘pima-indians-diabetes.csv’ saved [23279/23279]\n",
            "\n"
          ],
          "name": "stdout"
        }
      ]
    },
    {
      "cell_type": "markdown",
      "metadata": {
        "id": "WBCpA8Qwydsn"
      },
      "source": [
        "##### Ejercicio\n",
        "Carga los datos del fichero pima-indians-diabetes.csv utilizando la librería pandas como hicimos en prácticas anteriores. Almacena los vectores de descriptores en una variable X y las etiquetas en una variable Y."
      ]
    },
    {
      "cell_type": "code",
      "metadata": {
        "collapsed": true,
        "id": "Fw2NDjAjydso"
      },
      "source": [
        "import pandas as pd\n",
        "df = pd.read_csv('pima-indians-diabetes.csv',header=None)\n",
        "X =  df.values[:,:-1]\n",
        "Y =  df.values[:,-1]"
      ],
      "execution_count": 28,
      "outputs": []
    },
    {
      "cell_type": "markdown",
      "metadata": {
        "id": "Si7NpSQFydsp"
      },
      "source": [
        "### 1. Partición de conjunto de entrenamiento y test\n",
        "\n",
        "Como vimos en clase es muy importante separar el conjunto de instancias en dos grupos: el conjunto de entrenamiento y el conjunto de test. Para ello, podemos utilizar la función train_test_split de la librería sklearn."
      ]
    },
    {
      "cell_type": "code",
      "metadata": {
        "collapsed": true,
        "id": "v-KjYVraydsq"
      },
      "source": [
        "from sklearn.model_selection import train_test_split"
      ],
      "execution_count": 29,
      "outputs": []
    },
    {
      "cell_type": "markdown",
      "metadata": {
        "id": "ypYxGR1Zydsr"
      },
      "source": [
        "A la función train_test_split le vamos a pasar 4 parámetros:\n",
        "  - las instancias de nuestro dataset (sin etiqueta), es decir X,\n",
        "  - las etiquetas (es decir Y),\n",
        "  - el porcentage del dataset que se utilizará para el conjunto de test\n",
        "    (en este caso 0.25).\n",
        "  - el estado aleatorio: un número para poder reproducir los resultados.\n",
        "  \n",
        "El resultado devuelto por la función es una tupla de 4 elementos que contiene el conjunto de entrenamiento, el conjunto de test, las etiquetas  del conjunto de entrenamiento y las etiquetas del conjunto de test."
      ]
    },
    {
      "cell_type": "code",
      "metadata": {
        "collapsed": true,
        "id": "rdLxKg8nydst"
      },
      "source": [
        "(trainData, testData, trainLabels, testLabels) = train_test_split(X,Y,test_size=0.25, random_state=42)"
      ],
      "execution_count": 30,
      "outputs": []
    },
    {
      "cell_type": "markdown",
      "metadata": {
        "id": "5Pijpa5Oydsu"
      },
      "source": [
        "### 2. Entrenando distintos algoritmos y seleccionando los hiperparámetros\n",
        "\n",
        "##### Ejercicio\n",
        "Carga las distintas librerías que son necesarias para los clasificadores definidos en la práctica 5. En concreto vas a construir clasificadores utilizando los algoritmos:\n",
        " - KNN\n",
        " - Árboles de decisión\n",
        " - Regresión logística\n",
        " - SVM\n",
        " - Redes neuronales"
      ]
    },
    {
      "cell_type": "code",
      "metadata": {
        "collapsed": true,
        "id": "1OGR4wJjydsv"
      },
      "source": [
        "from sklearn.neighbors import KNeighborsClassifier\n",
        "from sklearn.tree import DecisionTreeClassifier\n",
        "from sklearn.linear_model import LogisticRegression\n",
        "from sklearn.svm import SVC\n",
        "from sklearn.linear_model import Perceptron\n",
        "from sklearn.neural_network import MLPClassifier"
      ],
      "execution_count": 31,
      "outputs": []
    },
    {
      "cell_type": "markdown",
      "metadata": {
        "id": "mL1q1Hp0ydsv"
      },
      "source": [
        "#### 2.1.  Validación manual (holdout)\n",
        "\n",
        "La primera alternativa para seleccionar los hiperparámetros consiste en reservar una parte de las instancias del training set para validación, y probar distintos hiperparámetros de manera manual para ver cuál es la mejor solución con cada uno de ellos. Para ello utilizamos de nuevo la función `train_test_split`."
      ]
    },
    {
      "cell_type": "code",
      "metadata": {
        "collapsed": true,
        "id": "-KAAfgiiydsx"
      },
      "source": [
        "(trainData, valData, trainLabels, valLabels) = train_test_split(trainData, trainLabels,\n",
        "                                                                test_size=0.1, random_state=84)"
      ],
      "execution_count": 32,
      "outputs": []
    },
    {
      "cell_type": "markdown",
      "metadata": {
        "id": "ShG300ulydsy"
      },
      "source": [
        "**KNN**\n",
        "\n",
        "Empezamos ajustando los hiperparámetros del algoritmo KNN propbando con valores de k entre 1  y 25."
      ]
    },
    {
      "cell_type": "code",
      "metadata": {
        "collapsed": true,
        "colab": {
          "base_uri": "https://localhost:8080/"
        },
        "id": "rFEcFDuyydsy",
        "outputId": "c102ff9e-481b-4321-b68e-39ca7e480920"
      },
      "source": [
        "for k in range(1,26,2):\n",
        "    modelKNN = KNeighborsClassifier(n_neighbors=k)\n",
        "    modelKNN.fit(trainData, trainLabels)\n",
        "    score = modelKNN.score(valData,valLabels)\n",
        "    print(\"k=%d, precisión=%.2f%%\" % (k, score * 100))"
      ],
      "execution_count": 33,
      "outputs": [
        {
          "output_type": "stream",
          "text": [
            "k=1, precisión=67.24%\n",
            "k=3, precisión=77.59%\n",
            "k=5, precisión=74.14%\n",
            "k=7, precisión=77.59%\n",
            "k=9, precisión=75.86%\n",
            "k=11, precisión=74.14%\n",
            "k=13, precisión=74.14%\n",
            "k=15, precisión=74.14%\n",
            "k=17, precisión=75.86%\n",
            "k=19, precisión=75.86%\n",
            "k=21, precisión=75.86%\n",
            "k=23, precisión=74.14%\n",
            "k=25, precisión=75.86%\n"
          ],
          "name": "stdout"
        }
      ]
    },
    {
      "cell_type": "markdown",
      "metadata": {
        "id": "QTu66p77ydsz"
      },
      "source": [
        "##### Pregunta\n",
        "Entre los valores anteriores, ¿con qué valor de k obtenemos mejor precisión?"
      ]
    },
    {
      "cell_type": "markdown",
      "metadata": {
        "collapsed": true,
        "id": "VyuPJ2q6yds0"
      },
      "source": [
        "Respuesta.\n",
        "Para k=3,7 (3 y 7 vecinos) obtenemos la mayor precisión que es de un 77.59%."
      ]
    },
    {
      "cell_type": "markdown",
      "metadata": {
        "id": "5N2HbAm0yds0"
      },
      "source": [
        "**Árboles de decisión**\n",
        "\n",
        "Repite lo mismo visto para KNN para los árboles de decisión con el hiperparámetro min_samples_split con valores entre 2 y 10 avanzando de 1 en 1. Puedes ver lo que hace este hiperparámetro en la [documentación de sklearn](http://scikit-learn.org/stable/modules/tree.html).\n"
      ]
    },
    {
      "cell_type": "code",
      "metadata": {
        "collapsed": true,
        "colab": {
          "base_uri": "https://localhost:8080/"
        },
        "id": "3vYBdNO7yds1",
        "outputId": "ca166efc-06ed-4223-eef2-dbb55737f1af"
      },
      "source": [
        "for k in range(2,11,1):\n",
        "    modelArbol = DecisionTreeClassifier(min_samples_split=k,random_state=84)\n",
        "    modelArbol.fit(trainData, trainLabels)\n",
        "    score = modelArbol.score(valData,valLabels)\n",
        "    print(\"k=%d, precisión=%.2f%%\" % (k, score * 100))\n"
      ],
      "execution_count": 34,
      "outputs": [
        {
          "output_type": "stream",
          "text": [
            "k=2, precisión=62.07%\n",
            "k=3, precisión=58.62%\n",
            "k=4, precisión=62.07%\n",
            "k=5, precisión=62.07%\n",
            "k=6, precisión=62.07%\n",
            "k=7, precisión=63.79%\n",
            "k=8, precisión=62.07%\n",
            "k=9, precisión=62.07%\n",
            "k=10, precisión=62.07%\n"
          ],
          "name": "stdout"
        }
      ]
    },
    {
      "cell_type": "markdown",
      "metadata": {
        "id": "NubM0si-yds2"
      },
      "source": [
        "##### Pregunta\n",
        "Entre los valores anteriores, ¿Con qué valor de min_samples_split obtenemos mejor precisión?\n"
      ]
    },
    {
      "cell_type": "markdown",
      "metadata": {
        "collapsed": true,
        "id": "zqlyZdb5yds2"
      },
      "source": [
        "Respuesta.\n",
        "Para k=7 (min_samples_split = 7), con una precisión del 63.79%."
      ]
    },
    {
      "cell_type": "markdown",
      "metadata": {
        "id": "0y2B2O1xyds3"
      },
      "source": [
        "**Regresión logística**\n",
        "\n",
        "Repite lo mismo visto para KNN para la regresión logística con C tomando los valores 0.1,1,10,100, y 1000."
      ]
    },
    {
      "cell_type": "code",
      "metadata": {
        "collapsed": true,
        "colab": {
          "base_uri": "https://localhost:8080/"
        },
        "id": "I70vRov-yds4",
        "outputId": "d948f24c-8ed0-4bd2-cbbf-1e5a7ef59cf7"
      },
      "source": [
        "for k in [0.1,1,10,100,1000]:\n",
        "    modelLR = LogisticRegression(C=k,random_state=84)\n",
        "    modelLR.fit(trainData, trainLabels)\n",
        "    score = modelLR.score(valData,valLabels)\n",
        "    print(\"k=%d, precisión=%.2f%%\" % (k, score * 100))\n"
      ],
      "execution_count": 35,
      "outputs": [
        {
          "output_type": "stream",
          "text": [
            "k=0, precisión=74.14%\n",
            "k=1, precisión=72.41%\n",
            "k=10, precisión=72.41%\n",
            "k=100, precisión=70.69%\n",
            "k=1000, precisión=72.41%\n"
          ],
          "name": "stdout"
        }
      ]
    },
    {
      "cell_type": "markdown",
      "metadata": {
        "id": "HlYealUnyds4"
      },
      "source": [
        "##### Pregunta\n",
        "Entre los valores anteriores, ¿Con qué valor de C obtenemos mejor precisión?\n"
      ]
    },
    {
      "cell_type": "markdown",
      "metadata": {
        "collapsed": true,
        "id": "djp6HYTSyds5"
      },
      "source": [
        "Respuesta. \n",
        "Con k=0 (C = 0.1) obtenemos una precisión del 74.14%."
      ]
    },
    {
      "cell_type": "markdown",
      "metadata": {
        "id": "b8zVyBaFyds6"
      },
      "source": [
        "#### 2.2. 10-fold cross validation \n",
        "\n",
        "Una alternativa al método anterior donde hacemos la separación del training set en training y validation de manera manual, consiste en utilizar el k-fold cross validation. Existen distintas alternativas para el k-fold cross validation en sklearn.\n",
        "\n",
        "Recuperamos lo primero todo nuestro conjunto de entrenamiento uniendo el conjunto de entrenamiento y el de validación."
      ]
    },
    {
      "cell_type": "code",
      "metadata": {
        "collapsed": true,
        "id": "DXNZDKZjyds6"
      },
      "source": [
        "import numpy as np\n",
        "trainData=np.concatenate((trainData,valData),axis=0)\n",
        "trainLabels=np.concatenate((trainLabels,valLabels),axis=0)"
      ],
      "execution_count": 36,
      "outputs": []
    },
    {
      "cell_type": "markdown",
      "metadata": {
        "id": "u59EQ0HSyds7"
      },
      "source": [
        "**KNN**\n",
        "\n",
        "La manera más sencilla de utilizar el k-fold validation consiste en utilizar la función `cross_val_score`."
      ]
    },
    {
      "cell_type": "code",
      "metadata": {
        "collapsed": true,
        "colab": {
          "base_uri": "https://localhost:8080/"
        },
        "id": "c4xqz0Q2yds7",
        "outputId": "40bc21ec-d66d-470e-cc16-485d9218ce2c"
      },
      "source": [
        "from sklearn.model_selection import cross_val_score\n",
        "\n",
        "for k in range(1,26,2):\n",
        "    modelKNN = KNeighborsClassifier(n_neighbors=k)\n",
        "    scores = cross_val_score(modelKNN,trainData,trainLabels,cv=10)\n",
        "    print(\"k=%d, Precisión: %0.2f (+/- %0.2f)\" % (k, scores.mean(), scores.std() * 2))"
      ],
      "execution_count": 37,
      "outputs": [
        {
          "output_type": "stream",
          "text": [
            "k=1, Precisión: 0.71 (+/- 0.08)\n",
            "k=3, Precisión: 0.72 (+/- 0.08)\n",
            "k=5, Precisión: 0.74 (+/- 0.12)\n",
            "k=7, Precisión: 0.76 (+/- 0.10)\n",
            "k=9, Precisión: 0.77 (+/- 0.12)\n",
            "k=11, Precisión: 0.76 (+/- 0.12)\n",
            "k=13, Precisión: 0.76 (+/- 0.08)\n",
            "k=15, Precisión: 0.76 (+/- 0.07)\n",
            "k=17, Precisión: 0.75 (+/- 0.07)\n",
            "k=19, Precisión: 0.75 (+/- 0.07)\n",
            "k=21, Precisión: 0.75 (+/- 0.08)\n",
            "k=23, Precisión: 0.76 (+/- 0.09)\n",
            "k=25, Precisión: 0.75 (+/- 0.06)\n"
          ],
          "name": "stdout"
        }
      ]
    },
    {
      "cell_type": "markdown",
      "metadata": {
        "id": "qzmqSKF5yds8"
      },
      "source": [
        "##### Pregunta\n",
        "Entre los valores anteriores, ¿con qué valor de k obtenemos mejor precisión?"
      ]
    },
    {
      "cell_type": "markdown",
      "metadata": {
        "collapsed": true,
        "id": "7-b6r1D-yds9"
      },
      "source": [
        "Respuesta. \n",
        "Potencialmente para k=9 (9 vecinos) con una precisión de 0.77 (+/- 0.12)."
      ]
    },
    {
      "cell_type": "markdown",
      "metadata": {
        "id": "19rfktc4yds9"
      },
      "source": [
        "#### 2.3. K-fold combinado con GridSearch method\n",
        "\n",
        "La mejor manera de seleccionar hiperparámetros consiste en combinar el k-fold cross validation con técnicas de búsqueda como el GridSearch o RandomSearch."
      ]
    },
    {
      "cell_type": "markdown",
      "metadata": {
        "id": "Rkl17WvByds-"
      },
      "source": [
        "**SVM**\n",
        "\n",
        "Veámos primero cómo seleccionar los mejores hiperparámetros para el SVM usando GridSearch (que ya por debajo utiliza cross-validation)."
      ]
    },
    {
      "cell_type": "code",
      "metadata": {
        "collapsed": true,
        "id": "0yueBxnEyds-"
      },
      "source": [
        "from sklearn.model_selection import GridSearchCV\n",
        "from sklearn.svm import SVC"
      ],
      "execution_count": 38,
      "outputs": []
    },
    {
      "cell_type": "markdown",
      "metadata": {
        "id": "uDmZYhcFyds_"
      },
      "source": [
        "Para utilizar este método debemos fijar: \n",
        "\n",
        "(1) el clasificador que vamos a utilizar"
      ]
    },
    {
      "cell_type": "code",
      "metadata": {
        "collapsed": true,
        "id": "lIHqQ02ayds_"
      },
      "source": [
        "modelSVM = SVC()"
      ],
      "execution_count": 39,
      "outputs": []
    },
    {
      "cell_type": "markdown",
      "metadata": {
        "id": "DdwL5tnbydtA"
      },
      "source": [
        "(2) el espacio de parámetros a buscar"
      ]
    },
    {
      "cell_type": "code",
      "metadata": {
        "collapsed": true,
        "id": "R6lY832gydtA"
      },
      "source": [
        "tuned_parameters = [{'kernel': ['sigmoid'], 'gamma': [2, 3],\n",
        "                     'C': [0.1,1, 10]},\n",
        "                    {'kernel': ['linear'], 'C': [1, 10, 100, 1000]}]"
      ],
      "execution_count": 40,
      "outputs": []
    },
    {
      "cell_type": "markdown",
      "metadata": {
        "id": "KNMf9m95ydtB"
      },
      "source": [
        "(3) La función (o funciones) de evaluación."
      ]
    },
    {
      "cell_type": "code",
      "metadata": {
        "collapsed": true,
        "id": "hnJ3bvxoydtB"
      },
      "source": [
        "scores = ['precision', 'recall']"
      ],
      "execution_count": 41,
      "outputs": []
    },
    {
      "cell_type": "markdown",
      "metadata": {
        "id": "hmzq3gUmydtC"
      },
      "source": [
        "A continuación definimos una función que tomando estos parámetros, y el número de folds, busca el mejor conjunto de hiperparámetros a utilizar para el modelo dado. "
      ]
    },
    {
      "cell_type": "code",
      "metadata": {
        "collapsed": true,
        "id": "WrIy88ExydtC"
      },
      "source": [
        "def gridsearch(model,parameters,scores,k):\n",
        "    for score in scores:\n",
        "        print(\"# Tuning hyper-parameters for %s\" % score)\n",
        "        print()\n",
        "\n",
        "        clf = GridSearchCV(model, parameters, cv=k,\n",
        "                           scoring='%s_macro' % score)\n",
        "        clf.fit(trainData, trainLabels)\n",
        "\n",
        "        print(\"Best parameters set found on development set:\")\n",
        "        print()\n",
        "        print(clf.best_params_)\n",
        "        print()\n",
        "        print(\"Grid scores on development set:\")\n",
        "        print()\n",
        "        means = clf.cv_results_['mean_test_score']\n",
        "        stds = clf.cv_results_['std_test_score']\n",
        "        for mean, std, params in zip(means, stds, clf.cv_results_['params']):\n",
        "            print(\"%0.3f (+/-%0.03f) for %r\"\n",
        "                  % (mean, std * 2, params))\n",
        "        print()"
      ],
      "execution_count": 42,
      "outputs": []
    },
    {
      "cell_type": "markdown",
      "metadata": {
        "id": "LT5t1rzUydtD"
      },
      "source": [
        "Por ejemplo, para buscar los mejores hiperparámetros para el modelo SVM utilizamos la siguiente instrucción. La ejecución de la siguiente celda puede llevar bastante tiempo."
      ]
    },
    {
      "cell_type": "code",
      "metadata": {
        "collapsed": true,
        "colab": {
          "base_uri": "https://localhost:8080/"
        },
        "id": "VOZN7QR0ydtE",
        "outputId": "d90e9ab0-974c-4891-ec62-c2b8b05113a4"
      },
      "source": [
        "import time\n",
        "%time\n",
        "gridsearch(modelSVM,tuned_parameters,scores,5)"
      ],
      "execution_count": 18,
      "outputs": [
        {
          "output_type": "stream",
          "text": [
            "CPU times: user 3 µs, sys: 0 ns, total: 3 µs\n",
            "Wall time: 7.87 µs\n",
            "# Tuning hyper-parameters for precision\n",
            "\n",
            "Best parameters set found on development set:\n",
            "\n",
            "{'C': 1, 'kernel': 'linear'}\n",
            "\n",
            "Grid scores on development set:\n",
            "\n",
            "0.327 (+/-0.003) for {'C': 0.1, 'gamma': 2, 'kernel': 'sigmoid'}\n",
            "0.327 (+/-0.003) for {'C': 0.1, 'gamma': 3, 'kernel': 'sigmoid'}\n",
            "0.327 (+/-0.003) for {'C': 1, 'gamma': 2, 'kernel': 'sigmoid'}\n",
            "0.327 (+/-0.003) for {'C': 1, 'gamma': 3, 'kernel': 'sigmoid'}\n",
            "0.327 (+/-0.003) for {'C': 10, 'gamma': 2, 'kernel': 'sigmoid'}\n",
            "0.327 (+/-0.003) for {'C': 10, 'gamma': 3, 'kernel': 'sigmoid'}\n",
            "0.767 (+/-0.046) for {'C': 1, 'kernel': 'linear'}\n",
            "0.752 (+/-0.051) for {'C': 10, 'kernel': 'linear'}\n",
            "0.739 (+/-0.053) for {'C': 100, 'kernel': 'linear'}\n",
            "0.725 (+/-0.063) for {'C': 1000, 'kernel': 'linear'}\n",
            "\n",
            "# Tuning hyper-parameters for recall\n",
            "\n",
            "Best parameters set found on development set:\n",
            "\n",
            "{'C': 1, 'kernel': 'linear'}\n",
            "\n",
            "Grid scores on development set:\n",
            "\n",
            "0.500 (+/-0.000) for {'C': 0.1, 'gamma': 2, 'kernel': 'sigmoid'}\n",
            "0.500 (+/-0.000) for {'C': 0.1, 'gamma': 3, 'kernel': 'sigmoid'}\n",
            "0.500 (+/-0.000) for {'C': 1, 'gamma': 2, 'kernel': 'sigmoid'}\n",
            "0.500 (+/-0.000) for {'C': 1, 'gamma': 3, 'kernel': 'sigmoid'}\n",
            "0.500 (+/-0.000) for {'C': 10, 'gamma': 2, 'kernel': 'sigmoid'}\n",
            "0.500 (+/-0.000) for {'C': 10, 'gamma': 3, 'kernel': 'sigmoid'}\n",
            "0.728 (+/-0.039) for {'C': 1, 'kernel': 'linear'}\n",
            "0.718 (+/-0.062) for {'C': 10, 'kernel': 'linear'}\n",
            "0.716 (+/-0.060) for {'C': 100, 'kernel': 'linear'}\n",
            "0.720 (+/-0.079) for {'C': 1000, 'kernel': 'linear'}\n",
            "\n"
          ],
          "name": "stdout"
        }
      ]
    },
    {
      "cell_type": "markdown",
      "metadata": {
        "id": "b0CFeZxEydtF"
      },
      "source": [
        "##### Pregunta\n",
        "\n",
        "¿Con qué valores se obtienen mejores resultados?\n"
      ]
    },
    {
      "cell_type": "markdown",
      "metadata": {
        "collapsed": true,
        "id": "__ZPHdHBydtF"
      },
      "source": [
        "Respuesta.\n",
        "\n",
        "Para C = 1 y kernel = 'linear' obtenemos 0.728 (+/-0.039)"
      ]
    },
    {
      "cell_type": "markdown",
      "metadata": {
        "id": "BF3Sb5sQydtG"
      },
      "source": [
        "#### 2.4. K-fold combinado con RandomSearch method\n",
        "\n",
        "Como podemos ver el proceso anterior es bastante costoso ya que es necesario probar todas las posibles combinaciones y además utilizando k-fold cross validation. Una alternativa a esta aproximación consiste en utilizar Random Search que no hace una búsqueda exhaustiva con todos los hiperparámetros sino que hace una búsqueda aleatorea. "
      ]
    },
    {
      "cell_type": "code",
      "metadata": {
        "collapsed": true,
        "id": "VNLHxYU4ydtG"
      },
      "source": [
        "from sklearn.model_selection import RandomizedSearchCV\n",
        "from scipy.stats import randint as sp_randint\n",
        "\n",
        "def randomsearch(model,parameters):\n",
        "    print(\"# Tuning hyper-parameters for %s\" % score)\n",
        "    print()\n",
        "\n",
        "    clf = RandomizedSearchCV(model, parameters,cv=5)\n",
        "    clf.fit(trainData, trainLabels)\n",
        "\n",
        "    print(\"Best parameters set found on development set:\")\n",
        "    print()\n",
        "    print(clf.best_params_)\n",
        "    print()"
      ],
      "execution_count": 43,
      "outputs": []
    },
    {
      "cell_type": "markdown",
      "metadata": {
        "id": "GZWGZn-IydtI"
      },
      "source": [
        "Podemos ejecutar la función anterior con la siguiente celda. "
      ]
    },
    {
      "cell_type": "code",
      "metadata": {
        "collapsed": true,
        "colab": {
          "base_uri": "https://localhost:8080/"
        },
        "id": "Lw7ygXc2ydtJ",
        "outputId": "e8db3c42-2deb-4337-bc94-089ae42859dd"
      },
      "source": [
        "%time\n",
        "modelSVM = SVC()\n",
        "randomsearch(modelSVM, {'kernel': ['sigmoid','linear'], \n",
        "                        'gamma': sp_randint(2, 20), 'C': sp_randint(0.1, 100)})"
      ],
      "execution_count": 45,
      "outputs": [
        {
          "output_type": "stream",
          "text": [
            "CPU times: user 5 µs, sys: 0 ns, total: 5 µs\n",
            "Wall time: 9.78 µs\n",
            "# Tuning hyper-parameters for 0.7241379310344828\n",
            "\n",
            "Best parameters set found on development set:\n",
            "\n",
            "{'C': 21, 'gamma': 16, 'kernel': 'linear'}\n",
            "\n"
          ],
          "name": "stdout"
        }
      ]
    },
    {
      "cell_type": "markdown",
      "metadata": {
        "id": "R6y65ICBydtK"
      },
      "source": [
        "##### Pregunta\n",
        "\n",
        "¿Con qué valores se obtienen mejores resultados?"
      ]
    },
    {
      "cell_type": "markdown",
      "metadata": {
        "collapsed": true,
        "id": "VV4C-rcQydtK"
      },
      "source": [
        "Respuesta. \n",
        "\n",
        "Para C = 21, gamma = 16, kernel = 'linear'."
      ]
    },
    {
      "cell_type": "markdown",
      "metadata": {
        "id": "-2huKKbnydtL"
      },
      "source": [
        "##### Ejercicio\n",
        "\n",
        "Utilizando RandomSearch busca los mejores hiperparámetros para una red neuronal multicapa con las siguientes configuraciones de capas (5,2), (3,3,3), (5,3,2), (5,4,3,2); con funciones de activación: ‘identity’, ‘logistic’, ‘tanh’, ‘relu’; con momentum: 0.9,0.95,0.99; y learning_rate_init: 0.001,0.01,0.1."
      ]
    },
    {
      "cell_type": "code",
      "metadata": {
        "collapsed": true,
        "colab": {
          "base_uri": "https://localhost:8080/"
        },
        "id": "Zlpruli1ydtL",
        "outputId": "55861d14-40f6-41be-80fd-f29f805193a8"
      },
      "source": [
        "%time\n",
        "modelLMPCclasifier = MLPClassifier()\n",
        "randomsearch(modelLMPCclasifier,{'hidden_layer_sizes':[(5,2),(3,3,3),(5,3,2),(5,4,3,2)],'activation':['identity','logistic','tanh','relu'],'momentum':[0.9,0.95,0.99],'learning_rate_init':[0.001,0.01,0.1]})"
      ],
      "execution_count": 44,
      "outputs": [
        {
          "output_type": "stream",
          "text": [
            "CPU times: user 4 µs, sys: 0 ns, total: 4 µs\n",
            "Wall time: 7.63 µs\n",
            "# Tuning hyper-parameters for 0.7241379310344828\n",
            "\n",
            "Best parameters set found on development set:\n",
            "\n",
            "{'momentum': 0.95, 'learning_rate_init': 0.1, 'hidden_layer_sizes': (5, 2), 'activation': 'identity'}\n",
            "\n"
          ],
          "name": "stdout"
        }
      ]
    },
    {
      "cell_type": "markdown",
      "metadata": {
        "id": "0K6h0dl8ydtM"
      },
      "source": [
        "##### Pregunta\n",
        "¿Con qué valores se obtienen mejores resultados?"
      ]
    },
    {
      "cell_type": "markdown",
      "metadata": {
        "collapsed": true,
        "id": "38l0oGf5ydtM"
      },
      "source": [
        "Respuesta. \n",
        "\n",
        "Para momentum = 0.95, learning_rate_init = 0.1, hidden_layer_sizes = (5,2) y activation = 'identity'."
      ]
    },
    {
      "cell_type": "markdown",
      "metadata": {
        "id": "I7K0c1TrydtN"
      },
      "source": [
        "##### Ejercicio\n",
        "Utilizando los hiperparámetros que mejores resultados han dado hasta ahora para cada modelo, define y entrena un clasificador para cada uno de ellos."
      ]
    },
    {
      "cell_type": "markdown",
      "metadata": {
        "id": "MVTElFvZydtR"
      },
      "source": [
        "**KNN**"
      ]
    },
    {
      "cell_type": "code",
      "metadata": {
        "collapsed": true,
        "colab": {
          "base_uri": "https://localhost:8080/"
        },
        "id": "NafOQSAgydtS",
        "outputId": "321f5d25-ba03-4bd2-f534-69d7ec6e3a5f"
      },
      "source": [
        "modelKNN = KNeighborsClassifier(n_neighbors=9)\n",
        "modelKNN.fit(trainData, trainLabels)"
      ],
      "execution_count": 46,
      "outputs": [
        {
          "output_type": "execute_result",
          "data": {
            "text/plain": [
              "KNeighborsClassifier(algorithm='auto', leaf_size=30, metric='minkowski',\n",
              "                     metric_params=None, n_jobs=None, n_neighbors=9, p=2,\n",
              "                     weights='uniform')"
            ]
          },
          "metadata": {
            "tags": []
          },
          "execution_count": 46
        }
      ]
    },
    {
      "cell_type": "markdown",
      "metadata": {
        "id": "jJkGVpc6ydtS"
      },
      "source": [
        "**Árboles de decisión**"
      ]
    },
    {
      "cell_type": "code",
      "metadata": {
        "collapsed": true,
        "colab": {
          "base_uri": "https://localhost:8080/"
        },
        "id": "gD0k8wNeydtT",
        "outputId": "74320736-91ce-47fe-cffd-889b1d1fa4d4"
      },
      "source": [
        "modelArbol = DecisionTreeClassifier(min_samples_split=7,random_state=84)\n",
        "modelArbol.fit(trainData, trainLabels)"
      ],
      "execution_count": 47,
      "outputs": [
        {
          "output_type": "execute_result",
          "data": {
            "text/plain": [
              "DecisionTreeClassifier(ccp_alpha=0.0, class_weight=None, criterion='gini',\n",
              "                       max_depth=None, max_features=None, max_leaf_nodes=None,\n",
              "                       min_impurity_decrease=0.0, min_impurity_split=None,\n",
              "                       min_samples_leaf=1, min_samples_split=7,\n",
              "                       min_weight_fraction_leaf=0.0, presort='deprecated',\n",
              "                       random_state=84, splitter='best')"
            ]
          },
          "metadata": {
            "tags": []
          },
          "execution_count": 47
        }
      ]
    },
    {
      "cell_type": "markdown",
      "metadata": {
        "id": "7sFN67JrydtT"
      },
      "source": [
        "**Regresión Logística**"
      ]
    },
    {
      "cell_type": "code",
      "metadata": {
        "collapsed": true,
        "colab": {
          "base_uri": "https://localhost:8080/"
        },
        "id": "pK9vcnIcydtU",
        "outputId": "b620ff22-8df1-49db-cf70-0d1e85c39797"
      },
      "source": [
        "modelLR = LogisticRegression(C=0.1,random_state=84)\n",
        "modelLR.fit(trainData, trainLabels)"
      ],
      "execution_count": 48,
      "outputs": [
        {
          "output_type": "execute_result",
          "data": {
            "text/plain": [
              "LogisticRegression(C=0.1, class_weight=None, dual=False, fit_intercept=True,\n",
              "                   intercept_scaling=1, l1_ratio=None, max_iter=100,\n",
              "                   multi_class='auto', n_jobs=None, penalty='l2',\n",
              "                   random_state=84, solver='lbfgs', tol=0.0001, verbose=0,\n",
              "                   warm_start=False)"
            ]
          },
          "metadata": {
            "tags": []
          },
          "execution_count": 48
        }
      ]
    },
    {
      "cell_type": "markdown",
      "metadata": {
        "id": "kCO3q5BEydtU"
      },
      "source": [
        "**SVM**"
      ]
    },
    {
      "cell_type": "code",
      "metadata": {
        "collapsed": true,
        "colab": {
          "base_uri": "https://localhost:8080/"
        },
        "id": "efkjfiE7ydtU",
        "outputId": "b4f9db57-21b0-47c5-fdfb-2d3f84ecaf73"
      },
      "source": [
        "modelSVMLineal = SVC(C=1,kernel=\"linear\")\n",
        "modelSVMLineal.fit(trainData, trainLabels)\n",
        "\n",
        "modelSVMrandom = SVC(C=21,gamma=16,kernel='linear')\n",
        "modelSVMrandom.fit(trainData, trainLabels)"
      ],
      "execution_count": 49,
      "outputs": [
        {
          "output_type": "execute_result",
          "data": {
            "text/plain": [
              "SVC(C=21, break_ties=False, cache_size=200, class_weight=None, coef0=0.0,\n",
              "    decision_function_shape='ovr', degree=3, gamma=16, kernel='linear',\n",
              "    max_iter=-1, probability=False, random_state=None, shrinking=True,\n",
              "    tol=0.001, verbose=False)"
            ]
          },
          "metadata": {
            "tags": []
          },
          "execution_count": 49
        }
      ]
    },
    {
      "cell_type": "markdown",
      "metadata": {
        "id": "axe9bOmBydtV"
      },
      "source": [
        "**Redes neuronales**"
      ]
    },
    {
      "cell_type": "code",
      "metadata": {
        "collapsed": true,
        "colab": {
          "base_uri": "https://localhost:8080/"
        },
        "id": "lck9do_6ydtV",
        "outputId": "f3321d31-dec5-49de-b90a-62260c9eaf6b"
      },
      "source": [
        "modelMultiLayerPerceptron = MLPClassifier(hidden_layer_sizes=(5,2),activation='identity',learning_rate_init=0.1,momentum=0.95)\n",
        "modelMultiLayerPerceptron.fit(trainData,trainLabels)"
      ],
      "execution_count": 50,
      "outputs": [
        {
          "output_type": "execute_result",
          "data": {
            "text/plain": [
              "MLPClassifier(activation='identity', alpha=0.0001, batch_size='auto',\n",
              "              beta_1=0.9, beta_2=0.999, early_stopping=False, epsilon=1e-08,\n",
              "              hidden_layer_sizes=(5, 2), learning_rate='constant',\n",
              "              learning_rate_init=0.1, max_fun=15000, max_iter=200,\n",
              "              momentum=0.95, n_iter_no_change=10, nesterovs_momentum=True,\n",
              "              power_t=0.5, random_state=None, shuffle=True, solver='adam',\n",
              "              tol=0.0001, validation_fraction=0.1, verbose=False,\n",
              "              warm_start=False)"
            ]
          },
          "metadata": {
            "tags": []
          },
          "execution_count": 50
        }
      ]
    },
    {
      "cell_type": "markdown",
      "metadata": {
        "id": "m-U10aMrydtV"
      },
      "source": [
        "### 3. Evaluando los algoritmos en el conjunto de test\n",
        "\n",
        "Para evaluar los distintos algoritmos vamos a utilizar la función classification_report de la librería sklearn. Para ello hacemos la predicción con respecto al conjunto de test y mostramos los resultados."
      ]
    },
    {
      "cell_type": "code",
      "metadata": {
        "collapsed": true,
        "colab": {
          "base_uri": "https://localhost:8080/"
        },
        "id": "yXCnNpihydtW",
        "outputId": "2056bf3c-cb88-472a-dc8b-711c0ecb9873"
      },
      "source": [
        "from sklearn.metrics import classification_report\n",
        "\n",
        "print(\"EVALUACIÓN EN CONJUNTO DE TEST USANDO KNN\")\n",
        "predictionsKNN = modelKNN.predict(testData)\n",
        "print(classification_report(testLabels, predictionsKNN))"
      ],
      "execution_count": 51,
      "outputs": [
        {
          "output_type": "stream",
          "text": [
            "EVALUACIÓN EN CONJUNTO DE TEST USANDO KNN\n",
            "              precision    recall  f1-score   support\n",
            "\n",
            "         0.0       0.78      0.76      0.77       123\n",
            "         1.0       0.60      0.62      0.61        69\n",
            "\n",
            "    accuracy                           0.71       192\n",
            "   macro avg       0.69      0.69      0.69       192\n",
            "weighted avg       0.72      0.71      0.71       192\n",
            "\n"
          ],
          "name": "stdout"
        }
      ]
    },
    {
      "cell_type": "markdown",
      "metadata": {
        "id": "ZPpJWklRydtW"
      },
      "source": [
        "##### Ejercicio\n",
        "Repite lo mismo para árboles de decisión, regresión logística, SVMs, y redes neuronales multicapa."
      ]
    },
    {
      "cell_type": "markdown",
      "metadata": {
        "id": "-ldmYwRQydtX"
      },
      "source": [
        "**Árboles de decisión**"
      ]
    },
    {
      "cell_type": "code",
      "metadata": {
        "collapsed": true,
        "colab": {
          "base_uri": "https://localhost:8080/"
        },
        "id": "KpcB6SLHydtX",
        "outputId": "ed07dd9b-9305-400d-f4b2-1b1a7abb7b83"
      },
      "source": [
        "print(\"EVALUACIÓN EN CONJUNTO DE TEST USANDO ÁRBOLES DE DECISIÓN\")\n",
        "predictionsArbol = modelArbol.predict(testData)\n",
        "print(classification_report(testLabels, predictionsArbol))"
      ],
      "execution_count": 52,
      "outputs": [
        {
          "output_type": "stream",
          "text": [
            "EVALUACIÓN EN CONJUNTO DE TEST USANDO ÁRBOLES DE DECISIÓN\n",
            "              precision    recall  f1-score   support\n",
            "\n",
            "         0.0       0.79      0.72      0.75       123\n",
            "         1.0       0.56      0.65      0.60        69\n",
            "\n",
            "    accuracy                           0.69       192\n",
            "   macro avg       0.67      0.68      0.68       192\n",
            "weighted avg       0.71      0.69      0.70       192\n",
            "\n"
          ],
          "name": "stdout"
        }
      ]
    },
    {
      "cell_type": "markdown",
      "metadata": {
        "id": "-8U-rbcvydtY"
      },
      "source": [
        "**Regresión Logística**"
      ]
    },
    {
      "cell_type": "code",
      "metadata": {
        "collapsed": true,
        "colab": {
          "base_uri": "https://localhost:8080/"
        },
        "id": "uF5QEnoUydtY",
        "outputId": "82659f51-54e6-4871-d532-9e30adb2fa65"
      },
      "source": [
        "print(\"EVALUACIÓN EN CONJUNTO DE TEST USANDO REGRESIÓN LOGÍSTICA\")\n",
        "predictionsLR = modelLR.predict(testData)\n",
        "print(classification_report(testLabels, predictionsLR))"
      ],
      "execution_count": 53,
      "outputs": [
        {
          "output_type": "stream",
          "text": [
            "EVALUACIÓN EN CONJUNTO DE TEST USANDO REGRESIÓN LOGÍSTICA\n",
            "              precision    recall  f1-score   support\n",
            "\n",
            "         0.0       0.79      0.77      0.78       123\n",
            "         1.0       0.61      0.62      0.61        69\n",
            "\n",
            "    accuracy                           0.72       192\n",
            "   macro avg       0.70      0.70      0.70       192\n",
            "weighted avg       0.72      0.72      0.72       192\n",
            "\n"
          ],
          "name": "stdout"
        }
      ]
    },
    {
      "cell_type": "markdown",
      "metadata": {
        "id": "TbFaPflkydtZ"
      },
      "source": [
        "**SVM**"
      ]
    },
    {
      "cell_type": "code",
      "metadata": {
        "collapsed": true,
        "colab": {
          "base_uri": "https://localhost:8080/"
        },
        "id": "FW_wb0Laydta",
        "outputId": "17e42747-fe08-46fc-c78e-0d3e5bf3fc2e"
      },
      "source": [
        "print(\"EVALUACIÓN EN CONJUNTO DE TEST USANDO SVM\")\n",
        "\n",
        "predictionsSVM = modelSVMLineal.predict(testData)\n",
        "print(classification_report(testLabels, predictionsSVM))\n",
        "\n",
        "predictionsSVMrandom = modelSVMrandom.predict(testData)\n",
        "print(classification_report(testLabels, predictionsSVMrandom))"
      ],
      "execution_count": 54,
      "outputs": [
        {
          "output_type": "stream",
          "text": [
            "EVALUACIÓN EN CONJUNTO DE TEST USANDO SVM\n",
            "              precision    recall  f1-score   support\n",
            "\n",
            "         0.0       0.79      0.78      0.79       123\n",
            "         1.0       0.62      0.64      0.63        69\n",
            "\n",
            "    accuracy                           0.73       192\n",
            "   macro avg       0.71      0.71      0.71       192\n",
            "weighted avg       0.73      0.73      0.73       192\n",
            "\n",
            "              precision    recall  f1-score   support\n",
            "\n",
            "         0.0       0.80      0.80      0.80       123\n",
            "         1.0       0.65      0.64      0.64        69\n",
            "\n",
            "    accuracy                           0.74       192\n",
            "   macro avg       0.72      0.72      0.72       192\n",
            "weighted avg       0.74      0.74      0.74       192\n",
            "\n"
          ],
          "name": "stdout"
        }
      ]
    },
    {
      "cell_type": "markdown",
      "metadata": {
        "id": "-E0b5irfydtb"
      },
      "source": [
        "**Redes neuronales**"
      ]
    },
    {
      "cell_type": "code",
      "metadata": {
        "collapsed": true,
        "colab": {
          "base_uri": "https://localhost:8080/"
        },
        "id": "81vztTpEydtb",
        "outputId": "9a7af2af-f734-4eae-d1c2-e417f7898355"
      },
      "source": [
        "print(\"EVALUACIÓN EN CONJUNTO DE TEST USANDO REDES NEURONALES\")\n",
        "predictionsMultiLayerPerceptron = modelMultiLayerPerceptron.predict(testData)\n",
        "print(classification_report(testLabels, predictionsMultiLayerPerceptron))"
      ],
      "execution_count": 55,
      "outputs": [
        {
          "output_type": "stream",
          "text": [
            "EVALUACIÓN EN CONJUNTO DE TEST USANDO REDES NEURONALES\n",
            "              precision    recall  f1-score   support\n",
            "\n",
            "         0.0       0.78      0.87      0.82       123\n",
            "         1.0       0.71      0.57      0.63        69\n",
            "\n",
            "    accuracy                           0.76       192\n",
            "   macro avg       0.75      0.72      0.73       192\n",
            "weighted avg       0.76      0.76      0.75       192\n",
            "\n"
          ],
          "name": "stdout"
        }
      ]
    },
    {
      "cell_type": "markdown",
      "metadata": {
        "id": "oeMXen3Vydtc"
      },
      "source": [
        "##### Pregunta\n",
        "¿Cuál de los clasificadores obtiene mejor precisión? ¿y recall? ¿y f-score?"
      ]
    },
    {
      "cell_type": "markdown",
      "metadata": {
        "collapsed": true,
        "id": "CAZg8lSmydtc"
      },
      "source": [
        "Respuesta.\n",
        "\n",
        "- Mejor precisión: redes neuronales.\n",
        "- Mayor recall: redes neuronales.\n",
        "- Mayor f-score: redes neuronales."
      ]
    },
    {
      "cell_type": "markdown",
      "metadata": {
        "id": "NQFMS9_Qydtc"
      },
      "source": [
        "### 4. Comparando los algoritmos\n",
        "\n",
        "Hemos visto cómo obtener informes de las clasificaciones, pero para comparar los algoritmos puede resultar útil utilizar las curvas ROC de cada uno de ellos."
      ]
    },
    {
      "cell_type": "code",
      "metadata": {
        "collapsed": true,
        "id": "iZQ9qe5fydtd"
      },
      "source": [
        "import matplotlib.pyplot as plt\n",
        "from sklearn.metrics import roc_curve, auc\n",
        "%matplotlib inline"
      ],
      "execution_count": 58,
      "outputs": []
    },
    {
      "cell_type": "markdown",
      "metadata": {
        "id": "Sn8pYzNWydtd"
      },
      "source": [
        "##### Ejercicio\n",
        "\n",
        "Estudia lo que hace la siguiente función."
      ]
    },
    {
      "cell_type": "code",
      "metadata": {
        "collapsed": true,
        "id": "wIH58J01ydte"
      },
      "source": [
        "def drawROCCurves(classifiers,predictions,actualLabels):\n",
        "    plt.close()\n",
        "    plt.figure()\n",
        "    lw = 2\n",
        "    fpr = dict()\n",
        "    tpr=dict()\n",
        "    roc_auc =dict()\n",
        "    for i,_ in enumerate(classifiers):\n",
        "        fpr[i],tpr[i],_=roc_curve(actualLabels,predictions[i])\n",
        "        roc_auc[i]=auc(fpr[i],tpr[i])\n",
        "\n",
        "    colours = ['darkorange','aqua','red','green','cornflowerblue','yellow']\n",
        "    for i,_ in enumerate(classifiers):\n",
        "        plt.plot(fpr[i], tpr[i], color=colours[i], lw=lw, label='ROC curve %s (area = %0.2f)' % (classifiers[i],roc_auc[i]))\n",
        "    plt.plot([0, 1], [0, 1], color='navy', lw=lw, linestyle='--')\n",
        "    plt.xlim([0.0, 1.0])\n",
        "    plt.ylim([0.0, 1.05])\n",
        "    plt.xlabel('False Positive Rate')\n",
        "    plt.ylabel('True Positive Rate')\n",
        "    plt.title('Receiver operating characteristic example')\n",
        "    plt.legend(loc=\"lower right\")\n",
        "    plt.show()"
      ],
      "execution_count": 59,
      "outputs": []
    },
    {
      "cell_type": "markdown",
      "metadata": {
        "id": "h-IPiclv3Sl9"
      },
      "source": [
        "Este algoritmo dibuja la curva ROC para los parámetros que se le adjunten."
      ]
    },
    {
      "cell_type": "code",
      "metadata": {
        "collapsed": true,
        "colab": {
          "base_uri": "https://localhost:8080/",
          "height": 295
        },
        "id": "18sTTJVCydtf",
        "outputId": "999b59b3-43c3-4bd9-d7a7-7069d07edd43"
      },
      "source": [
        "drawROCCurves(['KNN'],[predictionsKNN],testLabels)"
      ],
      "execution_count": 60,
      "outputs": [
        {
          "output_type": "display_data",
          "data": {
            "image/png": "[encoded data removed]",
            "text/plain": [
              "<Figure size 432x288 with 1 Axes>"
            ]
          },
          "metadata": {
            "tags": [],
            "needs_background": "light"
          }
        }
      ]
    },
    {
      "cell_type": "markdown",
      "metadata": {
        "id": "yBfAxJSnydtf"
      },
      "source": [
        "##### Ejercicio\n",
        "\n",
        "Utilizando la función anterior genera la curva ROC de todos los clasificadores que has definido anteriormente."
      ]
    },
    {
      "cell_type": "code",
      "metadata": {
        "collapsed": true,
        "colab": {
          "base_uri": "https://localhost:8080/",
          "height": 295
        },
        "id": "iZlYR_5Wydtg",
        "outputId": "260f36ab-a2c3-4b9a-8b59-6c4a76b9f8b2"
      },
      "source": [
        "drawROCCurves(['KNN','Árbol de decisión','Regresión Logística','SVM','SVM random','Red neuronal'],[predictionsKNN,predictionsArbol,predictionsLR,predictionsSVM,predictionsSVMrandom,predictionsMultiLayerPerceptron],testLabels)\n"
      ],
      "execution_count": 61,
      "outputs": [
        {
          "output_type": "display_data",
          "data": {
            "image/png": "[encoded data removed]",
            "text/plain": [
              "<Figure size 432x288 with 1 Axes>"
            ]
          },
          "metadata": {
            "tags": [],
            "needs_background": "light"
          }
        }
      ]
    },
    {
      "cell_type": "markdown",
      "metadata": {
        "id": "P8FVu1Skydtg"
      },
      "source": [
        "### 5. Estudio estadístico\n",
        "\n",
        "Lo último que vamos a ver en esta parte es cómo realizar un estudio estadístico basado en lo que vimos en clase, para ello utilizaremos la función `compare_methods` disponible en el módulo StatisticalAnalysis. Comienza instalando este módulo usando `pip`."
      ]
    },
    {
      "cell_type": "code",
      "metadata": {
        "colab": {
          "base_uri": "https://localhost:8080/"
        },
        "id": "FSGS9cH0ydtg",
        "outputId": "11df4408-96f9-454f-e094-427d551ab3c7"
      },
      "source": [
        "!pip install StatisticalAnalysis"
      ],
      "execution_count": 62,
      "outputs": [
        {
          "output_type": "stream",
          "text": [
            "Requirement already satisfied: StatisticalAnalysis in /usr/local/lib/python3.7/dist-packages (0.0.5)\n"
          ],
          "name": "stdout"
        }
      ]
    },
    {
      "cell_type": "code",
      "metadata": {
        "collapsed": true,
        "id": "uqzvDqgTydth"
      },
      "source": [
        "from StatisticalAnalysis import compare_methods"
      ],
      "execution_count": 63,
      "outputs": []
    },
    {
      "cell_type": "markdown",
      "metadata": {
        "id": "RvvPXXGRydth"
      },
      "source": [
        "Para utilizar este método debemos comenzar indicando los algoritmos a utilizar y las distribuciones de los hiperparámetros a optimizar. Vamos a utilizar los 5 modelos vistos hasta ahora: árboles de decisión, SVMs, KNN, Regresión logística y red neuronal, así que definimos estos modelos y los parámetros a optimizar."
      ]
    },
    {
      "cell_type": "code",
      "metadata": {
        "collapsed": true,
        "id": "Au_MY91rydti"
      },
      "source": [
        "# Árbol de decisión\n",
        "clfTree = DecisionTreeClassifier(random_state=84)\n",
        "param_distTree = {\"min_samples_split\": sp_randint(3, 30)}\n",
        "# SVM\n",
        "clfSVC = SVC(random_state=84)\n",
        "param_distSVC = {'C': [1, 10, 100, 1000], 'gamma': [0.001, 0.0001],'kernel': ['rbf'], 'class_weight':['balanced', None]}\n",
        "# KNN\n",
        "clfKNN = KNeighborsClassifier()\n",
        "param_distKNN = {'n_neighbors':sp_randint(3, 30)}\n",
        "# Regresión logística\n",
        "clfLR = LogisticRegression(random_state=84)\n",
        "param_distLR = {'C': [0.1,0.5,1, 10, 100, 1000]}\n",
        "# Red neuronal\n",
        "clfMLP = MLPClassifier(random_state=84)\n",
        "param_distMLP = {'activation': ['identity', 'logistic', 'tanh', 'relu'], 'solver': ['lbfgs', 'sgd', 'adam'],\n",
        "                 'alpha': sp_randint(0.0001, 1), 'learning_rate': ['constant', 'invscaling', 'adaptive'],\n",
        "                 'hidden_layer_sizes': [(5,2), (3,3,3), (5,3,2), (5,4,3,2)],\n",
        "                 'momentum': [0.9, 0.95, 0.99]}"
      ],
      "execution_count": 64,
      "outputs": []
    },
    {
      "cell_type": "markdown",
      "metadata": {
        "id": "hh5KqV4Qydtj"
      },
      "source": [
        "Creamos tres listas que contendrán respectivamente:\n",
        "\n",
        "(1) Los algoritmos:"
      ]
    },
    {
      "cell_type": "code",
      "metadata": {
        "collapsed": true,
        "id": "QsyKNldlydtl"
      },
      "source": [
        "listAlgorithms = [clfTree,clfSVC,clfKNN,clfLR,clfMLP]"
      ],
      "execution_count": 65,
      "outputs": []
    },
    {
      "cell_type": "markdown",
      "metadata": {
        "id": "78bfNkp1ydtm"
      },
      "source": [
        "(2) Los parámetros a optimizar:"
      ]
    },
    {
      "cell_type": "code",
      "metadata": {
        "collapsed": true,
        "id": "qaeLA11Rydto"
      },
      "source": [
        "listParams = [param_distTree,param_distSVC,param_distKNN,param_distLR,param_distMLP]"
      ],
      "execution_count": 66,
      "outputs": []
    },
    {
      "cell_type": "markdown",
      "metadata": {
        "id": "-9K37n3rydtp"
      },
      "source": [
        "(3) Los nombres de los algoritmos:"
      ]
    },
    {
      "cell_type": "code",
      "metadata": {
        "collapsed": true,
        "id": "hsfAXdVcydtq"
      },
      "source": [
        "listNames = [\"Arbol\", \"SVM\", \"KNN\", \"LR\", \"MLP\"]"
      ],
      "execution_count": 67,
      "outputs": []
    },
    {
      "cell_type": "markdown",
      "metadata": {
        "id": "pADOPKaZydtq"
      },
      "source": [
        "Invocamos a la función `compare_methods` pasándole el dataset completo, el conjunto de etiquetas completo, las tres listas definidas anteriormente, y la métrica. Los valores válidos\n",
        "para la métrica son accuracy, precision, recall, f1 o auroc. Al invocar a la función anterior se producirá un informe de resultados. "
      ]
    },
    {
      "cell_type": "code",
      "metadata": {
        "collapsed": true,
        "colab": {
          "base_uri": "https://localhost:8080/",
          "height": 1000
        },
        "id": "QvM1UcMzydtr",
        "outputId": "0b5accc8-64fd-4ce3-f4e7-45f4e4bf6de1"
      },
      "source": [
        "compare_methods(X,Y,listAlgorithms,listParams,listNames,metric='auroc')"
      ],
      "execution_count": 68,
      "outputs": [
        {
          "output_type": "stream",
          "text": [
            "temp.csv\n",
            "['Arbol' 'SVM' 'KNN' 'LR' 'MLP']\n",
            "==========================================================\n",
            "Report\n",
            "==========================================================\n",
            "**********************************************************\n",
            "Mean and std\n",
            "**********************************************************\n",
            "Arbol: 0.690822 (0.063171)\n",
            "SVM: 0.690542 (0.063782)\n",
            "KNN: 0.675659 (0.052745)\n",
            "LR: 0.731580 (0.059040)\n",
            "MLP: 0.655558 (0.070917)\n",
            "**********************************************************\n",
            "Statistical tests\n",
            "**********************************************************\n",
            "----------------------------------------------------------\n",
            "Checking parametric conditions \n",
            "----------------------------------------------------------\n",
            "Checking independence \n",
            "Ok\n",
            "Checking normality using Shapiro-Wilk's test for normality, alpha=0.05\n",
            "W: 0.978545, p:0.492373\n",
            "The null hypothesis (normality) is rejected\n",
            "Checking heteroscedasticity using Levene's test, alpha=0.05\n",
            "W: 0.525843, p:0.717242\n",
            "The null hypothesis (heteroscedasticity) is accepted\n",
            "Conditions for a parametric test are not fulfilled, applying a non-parametric test\n",
            "----------------------------------------------------------\n",
            "Working with more than 2 algorithms\n",
            "----------------------------------------------------------\n",
            "----------------------------------------------------------\n",
            "Applying Friedman test\n",
            "----------------------------------------------------------\n",
            "F-value: 4.964313, p-value: 0.0027238652410229713\n",
            "Null hypothesis is rejected; hence, models have different performance\n",
            "Technique      Ranking\n",
            "-----------  ---------\n",
            "LR                4.5\n",
            "Arbol             3.2\n",
            "SVM               2.75\n",
            "KNN               2.55\n",
            "MLP               2\n",
            "Winner model: LR\n",
            "----------------------------------------------------------\n",
            "Applying Holm p-value adjustment procedure and analysing effect size\n",
            "----------------------------------------------------------\n",
            "Comparison      Zvalue      p-value    adjusted p-value\n",
            "------------  --------  -----------  ------------------\n",
            "LR vs MLP      3.53553  0.000406952          0.00162781\n",
            "LR vs KNN      2.75772  0.00582067           0.017462\n",
            "LR vs SVM      2.47487  0.0133283            0.0266567\n",
            "LR vs Arbol    1.83848  0.0659921            0.0659921\n",
            "There is a significant difference between the models: LR (mean: 0.731580, std: 0.059040) and MLP (mean: 0.655558, std: 0.070917) (Cohen's d=1.1053062026346445, Large)\n",
            "There is a significant difference between the models: LR (mean: 0.731580, std: 0.059040) and KNN (mean: 0.675659, std: 0.052745) (Cohen's d=0.9476670576045431, Large)\n",
            "There is a significant difference between the models: LR (mean: 0.731580, std: 0.059040) and SVM (mean: 0.690542, std: 0.063782) (Cohen's d=0.6334850814609264, Large)\n",
            "There is a significant difference between the models: LR (mean: 0.731580, std: 0.059040) and Arbol (mean: 0.690822, std: 0.063171) (Cohen's d=0.6324130417464795, Large)\n",
            "Eta squared: 0.138623 (Large)\n"
          ],
          "name": "stdout"
        },
        {
          "output_type": "display_data",
          "data": {
            "image/png": "[encoded data removed]",
            "text/plain": [
              "<Figure size 432x288 with 1 Axes>"
            ]
          },
          "metadata": {
            "tags": [],
            "needs_background": "light"
          }
        }
      ]
    },
    {
      "cell_type": "markdown",
      "metadata": {
        "id": "B0E09k2Fydtr"
      },
      "source": [
        "##### Preguntas\n",
        "\n",
        "¿Qué tipo de tests se ha aplicado? ¿Paramétrico o no paramétrico? ¿por qué?"
      ]
    },
    {
      "cell_type": "markdown",
      "metadata": {
        "collapsed": true,
        "id": "9AKgvYbOydts"
      },
      "source": [
        "Respuesta. \n",
        "\n",
        "Para comprobar la normalidad y heterocedasticidad se ha aplicado el contraste de Saphiro Wilks. Éste ha rechazado la hipótesis nula para el contraste de normalidad, y ha la ha aceptado para la heterocedasticidad. \n",
        "Un tipo de contraste paramétrico requiere de ambas condiciones, por tanto el tipo de test es NO PARAMÉTRICO."
      ]
    },
    {
      "cell_type": "markdown",
      "metadata": {
        "id": "vAAs99qRydts"
      },
      "source": [
        "¿Cuál ha sido el modelo ganador?"
      ]
    },
    {
      "cell_type": "markdown",
      "metadata": {
        "collapsed": true,
        "id": "jbe_oAsZydtw"
      },
      "source": [
        "Respuesta. \n",
        "\n",
        "El modelo ganador observando el diagrama de cajas es el de regresión logística."
      ]
    },
    {
      "cell_type": "markdown",
      "metadata": {
        "id": "cBFXgiwFydtw"
      },
      "source": [
        "¿Hay diferencias significativas con los otros modelos?"
      ]
    },
    {
      "cell_type": "markdown",
      "metadata": {
        "collapsed": true,
        "id": "wbYCdrj1ydtx"
      },
      "source": [
        "Respuesta. \n",
        "\n",
        "Sí que hay una diferencia significativa (de hecho amplia) entre la regresión logística con respecto al resto de modelos."
      ]
    },
    {
      "cell_type": "markdown",
      "metadata": {
        "id": "HBXWdjHnydtx"
      },
      "source": [
        "## Evaluando la clasificación multiclase\n",
        "\n",
        "Todo lo que hemos visto para clasificación binaria también puede ser aplicado a la clasificación multiclase."
      ]
    },
    {
      "cell_type": "markdown",
      "metadata": {
        "id": "aNLtRif0ydty"
      },
      "source": [
        "### 0. Carga de datos\n",
        "\n",
        "Carga los datos del fichero iris.csv como hemos hecho en prácticas anteriores."
      ]
    },
    {
      "cell_type": "code",
      "metadata": {
        "colab": {
          "base_uri": "https://localhost:8080/"
        },
        "id": "p9APZFgT-HLz",
        "outputId": "d84c0e80-6552-4375-f4eb-99c70ce02ad8"
      },
      "source": [
        "!wget https://raw.githubusercontent.com/IA1819/Datasets/master/iris.csv -O iris.csv"
      ],
      "execution_count": 69,
      "outputs": [
        {
          "output_type": "stream",
          "text": [
            "--2021-04-07 10:35:46--  https://raw.githubusercontent.com/IA1819/Datasets/master/iris.csv\n",
            "Resolving raw.githubusercontent.com (raw.githubusercontent.com)... 185.199.111.133, 185.199.110.133, 185.199.109.133, ...\n",
            "Connecting to raw.githubusercontent.com (raw.githubusercontent.com)|185.199.111.133|:443... connected.\n",
            "HTTP request sent, awaiting response... 200 OK\n",
            "Length: 4606 (4.5K) [text/plain]\n",
            "Saving to: ‘iris.csv’\n",
            "\n",
            "\riris.csv              0%[                    ]       0  --.-KB/s               \riris.csv            100%[===================>]   4.50K  --.-KB/s    in 0s      \n",
            "\n",
            "2021-04-07 10:35:46 (41.3 MB/s) - ‘iris.csv’ saved [4606/4606]\n",
            "\n"
          ],
          "name": "stdout"
        }
      ]
    },
    {
      "cell_type": "code",
      "metadata": {
        "collapsed": true,
        "id": "XtfF4lRoydty"
      },
      "source": [
        "df_iris = pd.read_csv('iris.csv')\n",
        "Xiris = df_iris.values[:,:-1]\n",
        "Yiris = df_iris.values[:,-1]"
      ],
      "execution_count": 70,
      "outputs": []
    },
    {
      "cell_type": "markdown",
      "metadata": {
        "id": "nxuZX_W9ydtz"
      },
      "source": [
        "### 1. Partición de conjunto de entrenamiento y de test\n",
        "\n",
        "Al igual que antes partimos el conjunto de datos en entrenamiento y test utilizando la función `train_test_split`."
      ]
    },
    {
      "cell_type": "code",
      "metadata": {
        "collapsed": true,
        "id": "1L1vkR7fydtz"
      },
      "source": [
        "(trainIrisData, testIrisData, trainIrisLabels, testIrisLabels) = train_test_split(Xiris,Yiris,test_size=0.25, random_state=42)"
      ],
      "execution_count": 71,
      "outputs": []
    },
    {
      "cell_type": "markdown",
      "metadata": {
        "id": "g2Zn1VzPydt0"
      },
      "source": [
        "### 2. Entrenando distintos algoritmos y seleccionando los hiperparámetros\n",
        "\n",
        "En este caso vamos a entrenar un modelo KNN y seleccionar el hiperparámetro k utilizando el proceso de validación cruzada."
      ]
    },
    {
      "cell_type": "code",
      "metadata": {
        "collapsed": true,
        "colab": {
          "base_uri": "https://localhost:8080/"
        },
        "id": "CCS6vpzBydt0",
        "outputId": "9715fce2-fa13-440e-b8cf-48b7b9511370"
      },
      "source": [
        "for k in range(1,26,2):\n",
        "    modelKNNIris = KNeighborsClassifier(n_neighbors=k)\n",
        "    scores = cross_val_score(modelKNNIris,trainIrisData,trainIrisLabels,cv=10)\n",
        "    print(\"k=%d, Precisión: %0.2f (+/- %0.2f)\" % (k, scores.mean(), scores.std() * 2))\n",
        "\n",
        "\n",
        "modelKNNIris = KNeighborsClassifier(n_neighbors=3)\n",
        "modelKNNIris.fit(trainIrisData,trainIrisLabels)"
      ],
      "execution_count": 72,
      "outputs": [
        {
          "output_type": "stream",
          "text": [
            "k=1, Precisión: 0.94 (+/- 0.14)\n",
            "k=3, Precisión: 0.95 (+/- 0.14)\n",
            "k=5, Precisión: 0.95 (+/- 0.14)\n",
            "k=7, Precisión: 0.94 (+/- 0.14)\n",
            "k=9, Precisión: 0.94 (+/- 0.14)\n",
            "k=11, Precisión: 0.95 (+/- 0.15)\n",
            "k=13, Precisión: 0.95 (+/- 0.15)\n",
            "k=15, Precisión: 0.95 (+/- 0.15)\n",
            "k=17, Precisión: 0.95 (+/- 0.15)\n",
            "k=19, Precisión: 0.94 (+/- 0.14)\n",
            "k=21, Precisión: 0.94 (+/- 0.14)\n",
            "k=23, Precisión: 0.93 (+/- 0.16)\n",
            "k=25, Precisión: 0.94 (+/- 0.14)\n"
          ],
          "name": "stdout"
        },
        {
          "output_type": "execute_result",
          "data": {
            "text/plain": [
              "KNeighborsClassifier(algorithm='auto', leaf_size=30, metric='minkowski',\n",
              "                     metric_params=None, n_jobs=None, n_neighbors=3, p=2,\n",
              "                     weights='uniform')"
            ]
          },
          "metadata": {
            "tags": []
          },
          "execution_count": 72
        }
      ]
    },
    {
      "cell_type": "markdown",
      "metadata": {
        "id": "YDzcLvs4ydt0"
      },
      "source": [
        "### 3. Evaluando los algoritmos en el conjunto de test"
      ]
    },
    {
      "cell_type": "code",
      "metadata": {
        "collapsed": true,
        "colab": {
          "base_uri": "https://localhost:8080/"
        },
        "id": "zCL8BPNpydt1",
        "outputId": "359a9635-5f12-4874-f8fe-255a1f12c230"
      },
      "source": [
        "print(\"EVALUACIÓN EN CONJUNTO DE TEST USANDO KNN\")\n",
        "predictionsKNNIris = modelKNNIris.predict(testIrisData)\n",
        "print(classification_report(testIrisLabels, predictionsKNNIris))"
      ],
      "execution_count": 73,
      "outputs": [
        {
          "output_type": "stream",
          "text": [
            "EVALUACIÓN EN CONJUNTO DE TEST USANDO KNN\n",
            "                 precision    recall  f1-score   support\n",
            "\n",
            "    Iris-setosa       1.00      1.00      1.00        15\n",
            "Iris-versicolor       1.00      1.00      1.00        11\n",
            " Iris-virginica       1.00      1.00      1.00        12\n",
            "\n",
            "       accuracy                           1.00        38\n",
            "      macro avg       1.00      1.00      1.00        38\n",
            "   weighted avg       1.00      1.00      1.00        38\n",
            "\n"
          ],
          "name": "stdout"
        }
      ]
    },
    {
      "cell_type": "markdown",
      "metadata": {
        "id": "BMzRw_KUydt1"
      },
      "source": [
        "En este caso las curvas ROC no tienen tanto sentido, pero sí que puede ser útil la matriz de confusión."
      ]
    },
    {
      "cell_type": "code",
      "metadata": {
        "collapsed": true,
        "colab": {
          "base_uri": "https://localhost:8080/"
        },
        "id": "VUQIXAy5ydt2",
        "outputId": "ef2c47c9-58f1-4e9c-acf6-0a74f5be0591"
      },
      "source": [
        "print(\"MATRIZ DE CONFUSIÓN USANDO KNN\")\n",
        "from sklearn.metrics import confusion_matrix\n",
        "print(confusion_matrix(testIrisLabels, predictionsKNNIris))"
      ],
      "execution_count": 74,
      "outputs": [
        {
          "output_type": "stream",
          "text": [
            "MATRIZ DE CONFUSIÓN USANDO KNN\n",
            "[[15  0  0]\n",
            " [ 0 11  0]\n",
            " [ 0  0 12]]\n"
          ],
          "name": "stdout"
        }
      ]
    },
    {
      "cell_type": "markdown",
      "metadata": {
        "id": "kObCFGzD6LLI"
      },
      "source": [
        "Notar que tenemos una matriz diagonal."
      ]
    },
    {
      "cell_type": "markdown",
      "metadata": {
        "id": "jxbtXwZBydt2"
      },
      "source": [
        "##### Ejercicio\n",
        "Repite el estudio estadístico hecho en el caso binario, utilizando como  métrica la accuracy."
      ]
    },
    {
      "cell_type": "code",
      "metadata": {
        "collapsed": true,
        "colab": {
          "base_uri": "https://localhost:8080/",
          "height": 1000
        },
        "id": "GhAeI5hbydt3",
        "outputId": "ea3713c3-2ad9-4dee-9af2-01fd3dde9087"
      },
      "source": [
        "compare_methods(Xiris,Yiris,listAlgorithms,listParams,listNames,metric='accuracy')"
      ],
      "execution_count": 75,
      "outputs": [
        {
          "output_type": "stream",
          "text": [
            "temp.csv\n",
            "['Arbol' 'SVM' 'KNN' 'LR' 'MLP']\n",
            "==========================================================\n",
            "Report\n",
            "==========================================================\n",
            "**********************************************************\n",
            "Mean and std\n",
            "**********************************************************\n",
            "Arbol: 0.946667 (0.049889)\n",
            "SVM: 0.973333 (0.044222)\n",
            "KNN: 0.960000 (0.053333)\n",
            "LR: 0.960000 (0.053333)\n",
            "MLP: 0.953333 (0.079162)\n",
            "**********************************************************\n",
            "Statistical tests\n",
            "**********************************************************\n",
            "----------------------------------------------------------\n",
            "Checking parametric conditions \n",
            "----------------------------------------------------------\n",
            "Checking independence \n",
            "Ok\n",
            "Checking normality using Shapiro-Wilk's test for normality, alpha=0.05\n",
            "W: 0.717317, p:0.000000\n",
            "The null hypothesis (normality) is rejected\n",
            "Checking heteroscedasticity using Levene's test, alpha=0.05\n",
            "W: 0.160237, p:0.957302\n",
            "The null hypothesis (heteroscedasticity) is accepted\n",
            "Conditions for a parametric test are not fulfilled, applying a non-parametric test\n",
            "----------------------------------------------------------\n",
            "Working with more than 2 algorithms\n",
            "----------------------------------------------------------\n",
            "----------------------------------------------------------\n",
            "Applying Friedman test\n",
            "----------------------------------------------------------\n",
            "F-value: 0.453782, p-value: 0.7689728011863268\n",
            "Null hypothesis is accepted; hence, we can't say that there is a significant difference in the performance of the models\n",
            "----------------------------------------------------------\n",
            "Analysing effect size\n",
            "----------------------------------------------------------\n",
            "We take the model with the best mean (SVM, mean: 0.973333) and compare it with the other models: \n",
            "Comparing effect size of SVM and Arbol: Cohen's d=0.5366563145999507, Large\n",
            "Comparing effect size of SVM and KNN: Cohen's d=0.25819888974716276, Medium\n",
            "Comparing effect size of SVM and LR: Cohen's d=0.25819888974716276, Medium\n",
            "Comparing effect size of SVM and MLP: Cohen's d=0.2959181771496434, Medium\n",
            "Eta squared: 0.023293 (Medium)\n"
          ],
          "name": "stdout"
        },
        {
          "output_type": "display_data",
          "data": {
            "image/png": "[encoded data removed]",
            "text/plain": [
              "<Figure size 432x288 with 1 Axes>"
            ]
          },
          "metadata": {
            "tags": [],
            "needs_background": "light"
          }
        }
      ]
    },
    {
      "cell_type": "markdown",
      "metadata": {
        "id": "VeI4VcJcydt3"
      },
      "source": [
        "##### Preguntas\n",
        "\n",
        "¿Qué tipo de test se ha aplicado? ¿Paramétrico o no paramétrico? ¿Ha habido algún clasificador que es significativamente mejor que el resto? ¿Cuál?\n",
        "\n"
      ]
    },
    {
      "cell_type": "markdown",
      "metadata": {
        "collapsed": true,
        "id": "pGjtXOntydt4"
      },
      "source": [
        "Respuesta.\n",
        "\n",
        "Al igual que antes se rechaza la hipótesis nula para el contraste de normalidad y se acepta para el contraste de heterocedasticidad, por tanto se utiliza un test no paramétrico.\n",
        "\n",
        "El clasificador mejor situado es SVM, que es significativamente mejor que el resto, pero esta vez por un corto margen (excepto comparándolo con el Árbol que si que es amplio)."
      ]
    },
    {
      "cell_type": "markdown",
      "metadata": {
        "id": "JunMpuObydt4"
      },
      "source": [
        "Guarda este fichero con tus soluciones a los distintos ejercicios usando la opción *\"Save in Github...\"*. "
      ]
    }
  ]
}