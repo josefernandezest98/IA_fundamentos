{
  "nbformat": 4,
  "nbformat_minor": 0,
  "metadata": {
    "colab": {
      "name": "Comparación de métodos.ipynb",
      "provenance": [],
      "include_colab_link": true
    },
    "kernelspec": {
      "name": "python3",
      "display_name": "Python 3"
    },
    "language_info": {
      "name": "python"
    }
  },
  "cells": [
    {
      "cell_type": "markdown",
      "metadata": {
        "id": "view-in-github",
        "colab_type": "text"
      },
      "source": [
        "<a href=\"https://colab.research.google.com/github/IA2021UR/entregable-1-joferne/blob/main/3_comparacion_de_metodos.ipynb\" target=\"_parent\"><img src=\"https://colab.research.google.com/assets/colab-badge.svg\" alt=\"Open In Colab\"/></a>"
      ]
    },
    {
      "cell_type": "markdown",
      "metadata": {
        "id": "rHV8OR6mLbGG"
      },
      "source": [
        "**1. IMPORTACIÓN DE LIBRERÍAS** \n"
      ]
    },
    {
      "cell_type": "code",
      "metadata": {
        "id": "TsIOhORnLQsd"
      },
      "source": [
        "import numpy as np\n",
        "import pandas as pd\n",
        "from sklearn.preprocessing import MinMaxScaler\n",
        "from sklearn.preprocessing import StandardScaler\n",
        "from sklearn.model_selection import train_test_split\n",
        "from sklearn.neighbors import KNeighborsClassifier\n",
        "from sklearn.tree import DecisionTreeClassifier\n",
        "from sklearn.linear_model import LogisticRegression\n",
        "from sklearn.svm import SVC\n",
        "from sklearn.linear_model import Perceptron\n",
        "from sklearn.neural_network import MLPClassifier\n",
        "from sklearn.linear_model import LinearRegression\n",
        "from sklearn.metrics import mean_squared_error\n",
        "from sklearn.model_selection import RandomizedSearchCV\n",
        "from scipy.stats import randint as sp_randint\n",
        "from sklearn.model_selection import GridSearchCV\n",
        "from sklearn.model_selection import cross_val_score\n",
        "from sklearn.ensemble import RandomForestClassifier"
      ],
      "execution_count": 40,
      "outputs": []
    },
    {
      "cell_type": "markdown",
      "metadata": {
        "id": "EwEiDnPSLkJc"
      },
      "source": [
        "**2. CARGA DE DATOS** "
      ]
    },
    {
      "cell_type": "code",
      "metadata": {
        "colab": {
          "base_uri": "https://localhost:8080/"
        },
        "id": "181IxruELg3j",
        "outputId": "eb43f96b-78bd-433b-ff31-6c697d4c9b1e"
      },
      "source": [
        "!unzip ia2021.zip"
      ],
      "execution_count": 2,
      "outputs": [
        {
          "output_type": "stream",
          "text": [
            "Archive:  ia2021.zip\n",
            "  inflating: test.csv                \n",
            "  inflating: train.csv               \n"
          ],
          "name": "stdout"
        }
      ]
    },
    {
      "cell_type": "code",
      "metadata": {
        "id": "BrPN1969Lo6g"
      },
      "source": [
        "df_train = pd.read_csv('train.csv')\n",
        "df_test = pd.read_csv('test.csv')"
      ],
      "execution_count": 3,
      "outputs": []
    },
    {
      "cell_type": "markdown",
      "metadata": {
        "id": "QkH2oD2deH_A"
      },
      "source": [
        "**3. PREPROCESADO DE DATOS** "
      ]
    },
    {
      "cell_type": "markdown",
      "metadata": {
        "id": "KkW5XN3iuFA1"
      },
      "source": [
        "Vamos a dividir el df_train en conjunto de entrenamiento (90%) y conjunto de validación (10%). "
      ]
    },
    {
      "cell_type": "code",
      "metadata": {
        "id": "yM3q9UGbehlj"
      },
      "source": [
        "X =  df_train.values[:,:-1]\n",
        "Y =  df_train.values[:,-1]\n",
        "(trainData, testData, trainLabels, testLabels) = train_test_split(X,Y,test_size=0.1, random_state=42)"
      ],
      "execution_count": 4,
      "outputs": []
    },
    {
      "cell_type": "markdown",
      "metadata": {
        "id": "Ju0iSwtxui3J"
      },
      "source": [
        "Ahora normalizamos y estandarizamos los datos. En el análisis estadístico vimos que nos podría ser útil."
      ]
    },
    {
      "cell_type": "code",
      "metadata": {
        "id": "YyOryS8NeHT7"
      },
      "source": [
        "mms = MinMaxScaler()\n",
        "trainData_norm = mms.fit_transform(trainData)\n",
        "testData_norm = mms.transform(testData)\n",
        "\n",
        "stdsc = StandardScaler()\n",
        "trainData_std = stdsc.fit_transform(trainData)\n",
        "testData_std = stdsc.transform(testData)\n",
        "\n",
        "trainData_norm_std = stdsc.fit_transform(trainData_norm)\n",
        "testData_norm_std = stdsc.transform(testData_norm)\n"
      ],
      "execution_count": 5,
      "outputs": []
    },
    {
      "cell_type": "markdown",
      "metadata": {
        "id": "0ZTgE_V8L0ZL"
      },
      "source": [
        "**3. ALGORITMOS A UTILIZAR** "
      ]
    },
    {
      "cell_type": "code",
      "metadata": {
        "id": "cWWjRogWNsmQ"
      },
      "source": [
        "def evalua(clasificador,testData,testLabels):\n",
        "  num = 0\n",
        "  for i in range(0,len(clasificador.predict(testData))):\n",
        "    if clasificador.predict(testData)[i] == testLabels[i]:\n",
        "      num = num + 1\n",
        "  print('Cambian ' + str(len(testLabels) - num) + ' de ' + str(len(testLabels)))\n",
        "\n",
        "def randomsearch(model,parameters):\n",
        "    print(\"# Tuning hyper-parameters for %s\" % score)\n",
        "    print()\n",
        "\n",
        "    clf = RandomizedSearchCV(model, parameters,cv=5)\n",
        "    clf.fit(trainData, trainLabels)\n",
        "\n",
        "    print(\"Best parameters set found on development set:\")\n",
        "    print()\n",
        "    print(clf.best_params_)\n",
        "    print()\n",
        "\n",
        "def gridsearch(model,parameters,scores,k):\n",
        "    for score in scores:\n",
        "        print(\"# Tuning hyper-parameters for %s\" % score)\n",
        "        print()\n",
        "\n",
        "        clf = GridSearchCV(model, parameters, cv=k,\n",
        "                           scoring='%s_macro' % score)\n",
        "        clf.fit(trainData, trainLabels)\n",
        "\n",
        "        print(\"Best parameters set found on development set:\")\n",
        "        print()\n",
        "        print(clf.best_params_)\n",
        "        print()\n",
        "        print(\"Grid scores on development set:\")\n",
        "        print()\n",
        "        means = clf.cv_results_['mean_test_score']\n",
        "        stds = clf.cv_results_['std_test_score']\n",
        "        for mean, std, params in zip(means, stds, clf.cv_results_['params']):\n",
        "            print(\"%0.3f (+/-%0.03f) for %r\"\n",
        "                  % (mean, std * 2, params))\n",
        "        print()"
      ],
      "execution_count": 6,
      "outputs": []
    },
    {
      "cell_type": "markdown",
      "metadata": {
        "id": "wjAhMA_gt200"
      },
      "source": [
        "**4. COMPARACIÓN DE MÉTODOS** "
      ]
    },
    {
      "cell_type": "markdown",
      "metadata": {
        "id": "5rMh4qneu6ZK"
      },
      "source": [
        "Vamos a utilizar KNN, Árboles de decisión, SVM, Redes neuronales, Regresión logística y Regresión lineal múltiple. Primero haremos una pequeña aproximación y si vemos que tiene sentido haremos una búsqueda más exhaustiva de hiperparámetros."
      ]
    },
    {
      "cell_type": "markdown",
      "metadata": {
        "id": "rS9HMG2wtpbj"
      },
      "source": [
        "KNN"
      ]
    },
    {
      "cell_type": "code",
      "metadata": {
        "colab": {
          "base_uri": "https://localhost:8080/"
        },
        "id": "BUR_XIYcMyjT",
        "outputId": "78b29c9c-bbb8-422a-b695-241041e1c475"
      },
      "source": [
        "modelKNN = KNeighborsClassifier(n_neighbors=5)\n",
        "modelKNN.fit(trainData, trainLabels)\n",
        "evalua(modelKNN,testData,testLabels)"
      ],
      "execution_count": 7,
      "outputs": [
        {
          "output_type": "stream",
          "text": [
            "Cambian 490 de 1200\n"
          ],
          "name": "stdout"
        }
      ]
    },
    {
      "cell_type": "markdown",
      "metadata": {
        "id": "B8MHeHK4wIOn"
      },
      "source": [
        "Podría merecernos la pena hacer un ajuste de hiperparámetros."
      ]
    },
    {
      "cell_type": "code",
      "metadata": {
        "colab": {
          "base_uri": "https://localhost:8080/"
        },
        "id": "P6YhYPkUhfag",
        "outputId": "7f7e6a33-69c4-49fd-cf6d-636b63815089"
      },
      "source": [
        "for k in range(1,26,2):\n",
        "    modelKNN = KNeighborsClassifier(n_neighbors=k)\n",
        "    modelKNN.fit(trainData, trainLabels)\n",
        "    score = modelKNN.score(testData,testLabels)\n",
        "    print(\"k=%d, precisión=%.2f%%\" % (k, score * 100))"
      ],
      "execution_count": 8,
      "outputs": [
        {
          "output_type": "stream",
          "text": [
            "k=1, precisión=57.58%\n",
            "k=3, precisión=58.42%\n",
            "k=5, precisión=59.17%\n",
            "k=7, precisión=59.50%\n",
            "k=9, precisión=60.00%\n",
            "k=11, precisión=59.58%\n",
            "k=13, precisión=59.50%\n",
            "k=15, precisión=59.67%\n",
            "k=17, precisión=59.67%\n",
            "k=19, precisión=59.17%\n",
            "k=21, precisión=59.08%\n",
            "k=23, precisión=58.92%\n",
            "k=25, precisión=58.08%\n"
          ],
          "name": "stdout"
        }
      ]
    },
    {
      "cell_type": "code",
      "metadata": {
        "colab": {
          "base_uri": "https://localhost:8080/"
        },
        "id": "IZuOwlL4hDyk",
        "outputId": "6dc5c195-a183-466c-e6e0-65f8de158f9c"
      },
      "source": [
        "for k in range(1,26,2):\n",
        "    modelKNN = KNeighborsClassifier(n_neighbors=k)\n",
        "    modelKNN.fit(trainData_norm, trainLabels)\n",
        "    score = modelKNN.score(testData_norm,testLabels)\n",
        "    print(\"k=%d, precisión=%.2f%%\" % (k, score * 100))"
      ],
      "execution_count": 9,
      "outputs": [
        {
          "output_type": "stream",
          "text": [
            "k=1, precisión=65.75%\n",
            "k=3, precisión=64.92%\n",
            "k=5, precisión=63.50%\n",
            "k=7, precisión=63.17%\n",
            "k=9, precisión=63.00%\n",
            "k=11, precisión=63.00%\n",
            "k=13, precisión=62.25%\n",
            "k=15, precisión=61.67%\n",
            "k=17, precisión=59.58%\n",
            "k=19, precisión=60.67%\n",
            "k=21, precisión=60.17%\n",
            "k=23, precisión=59.83%\n",
            "k=25, precisión=60.33%\n"
          ],
          "name": "stdout"
        }
      ]
    },
    {
      "cell_type": "code",
      "metadata": {
        "colab": {
          "base_uri": "https://localhost:8080/"
        },
        "id": "2u3WoG3BhDm-",
        "outputId": "55fec40f-12aa-49ab-b7a6-00c7f713a924"
      },
      "source": [
        "for k in range(1,26,2):\n",
        "    modelKNN = KNeighborsClassifier(n_neighbors=k)\n",
        "    modelKNN.fit(trainData_std, trainLabels)\n",
        "    score = modelKNN.score(testData_std,testLabels)\n",
        "    print(\"k=%d, precisión=%.2f%%\" % (k, score * 100))"
      ],
      "execution_count": 10,
      "outputs": [
        {
          "output_type": "stream",
          "text": [
            "k=1, precisión=64.75%\n",
            "k=3, precisión=63.42%\n",
            "k=5, precisión=63.17%\n",
            "k=7, precisión=62.67%\n",
            "k=9, precisión=61.33%\n",
            "k=11, precisión=61.75%\n",
            "k=13, precisión=61.58%\n",
            "k=15, precisión=60.08%\n",
            "k=17, precisión=59.33%\n",
            "k=19, precisión=59.42%\n",
            "k=21, precisión=59.08%\n",
            "k=23, precisión=58.33%\n",
            "k=25, precisión=58.33%\n"
          ],
          "name": "stdout"
        }
      ]
    },
    {
      "cell_type": "code",
      "metadata": {
        "colab": {
          "base_uri": "https://localhost:8080/"
        },
        "id": "a7XFO97gbjHU",
        "outputId": "170d39b0-0bdd-4ac2-9206-0a593ea185db"
      },
      "source": [
        "for k in range(1,26,2):\n",
        "    modelKNN = KNeighborsClassifier(n_neighbors=k)\n",
        "    modelKNN.fit(trainData_norm_std, trainLabels)\n",
        "    score = modelKNN.score(testData_norm_std,testLabels)\n",
        "    print(\"k=%d, precisión=%.2f%%\" % (k, score * 100))"
      ],
      "execution_count": 11,
      "outputs": [
        {
          "output_type": "stream",
          "text": [
            "k=1, precisión=64.75%\n",
            "k=3, precisión=63.42%\n",
            "k=5, precisión=63.17%\n",
            "k=7, precisión=62.67%\n",
            "k=9, precisión=61.33%\n",
            "k=11, precisión=61.75%\n",
            "k=13, precisión=61.58%\n",
            "k=15, precisión=60.08%\n",
            "k=17, precisión=59.33%\n",
            "k=19, precisión=59.42%\n",
            "k=21, precisión=59.08%\n",
            "k=23, precisión=58.33%\n",
            "k=25, precisión=58.33%\n"
          ],
          "name": "stdout"
        }
      ]
    },
    {
      "cell_type": "code",
      "metadata": {
        "colab": {
          "base_uri": "https://localhost:8080/"
        },
        "id": "_x9TmAKXcIXv",
        "outputId": "bcb41def-b5c3-4e70-a673-72d939f69a76"
      },
      "source": [
        "modelKNN = KNeighborsClassifier(n_neighbors=1)\n",
        "modelKNN.fit(trainData_norm, trainLabels)\n",
        "evalua(modelKNN,testData_norm,testLabels)"
      ],
      "execution_count": 12,
      "outputs": [
        {
          "output_type": "stream",
          "text": [
            "Cambian 411 de 1200\n"
          ],
          "name": "stdout"
        }
      ]
    },
    {
      "cell_type": "code",
      "metadata": {
        "colab": {
          "base_uri": "https://localhost:8080/"
        },
        "id": "eYxt4cKBbbyI",
        "outputId": "20b48463-de96-4bc5-acaa-715e6d1eb7b1"
      },
      "source": [
        "modelKNN= KNeighborsClassifier()\n",
        "randomsearch(modelKNN, {'weights': ['uniform','distance'], \n",
        "                        'p': [i for i in range(1,5)], 'n_neighbors': [j for j in range(1,30)]})"
      ],
      "execution_count": 13,
      "outputs": [
        {
          "output_type": "stream",
          "text": [
            "# Tuning hyper-parameters for 0.5833333333333334\n",
            "\n",
            "Best parameters set found on development set:\n",
            "\n",
            "{'weights': 'distance', 'p': 1, 'n_neighbors': 27}\n",
            "\n"
          ],
          "name": "stdout"
        }
      ]
    },
    {
      "cell_type": "code",
      "metadata": {
        "colab": {
          "base_uri": "https://localhost:8080/"
        },
        "id": "mAliXCnAbx1U",
        "outputId": "194b0cc9-4225-4dd7-8c92-88532e2db2a0"
      },
      "source": [
        "modelKNN = KNeighborsClassifier(n_neighbors=13,weights='distance',p=1)\n",
        "modelKNN.fit(trainData_norm, trainLabels)\n",
        "evalua(modelKNN,testData_norm,testLabels)"
      ],
      "execution_count": 14,
      "outputs": [
        {
          "output_type": "stream",
          "text": [
            "Cambian 419 de 1200\n"
          ],
          "name": "stdout"
        }
      ]
    },
    {
      "cell_type": "code",
      "metadata": {
        "colab": {
          "base_uri": "https://localhost:8080/"
        },
        "id": "ZCZw1zwfbuWJ",
        "outputId": "75ac135d-c787-453a-80d1-d6ace92bb8d1"
      },
      "source": [
        "gridsearch(modelKNN,[{'weights': ['uniform','distance'], \n",
        "                        'p': [i for i in range(1,5)], 'n_neighbors': [j for j in range(1,30)]}],['precision', 'recall'],5)"
      ],
      "execution_count": 15,
      "outputs": [
        {
          "output_type": "stream",
          "text": [
            "# Tuning hyper-parameters for precision\n",
            "\n",
            "Best parameters set found on development set:\n",
            "\n",
            "{'n_neighbors': 10, 'p': 1, 'weights': 'distance'}\n",
            "\n",
            "Grid scores on development set:\n",
            "\n",
            "0.606 (+/-0.020) for {'n_neighbors': 1, 'p': 1, 'weights': 'uniform'}\n",
            "0.606 (+/-0.020) for {'n_neighbors': 1, 'p': 1, 'weights': 'distance'}\n",
            "0.583 (+/-0.013) for {'n_neighbors': 1, 'p': 2, 'weights': 'uniform'}\n",
            "0.583 (+/-0.013) for {'n_neighbors': 1, 'p': 2, 'weights': 'distance'}\n",
            "0.580 (+/-0.016) for {'n_neighbors': 1, 'p': 3, 'weights': 'uniform'}\n",
            "0.580 (+/-0.016) for {'n_neighbors': 1, 'p': 3, 'weights': 'distance'}\n",
            "0.581 (+/-0.016) for {'n_neighbors': 1, 'p': 4, 'weights': 'uniform'}\n",
            "0.581 (+/-0.016) for {'n_neighbors': 1, 'p': 4, 'weights': 'distance'}\n",
            "0.617 (+/-0.020) for {'n_neighbors': 2, 'p': 1, 'weights': 'uniform'}\n",
            "0.606 (+/-0.020) for {'n_neighbors': 2, 'p': 1, 'weights': 'distance'}\n",
            "0.592 (+/-0.012) for {'n_neighbors': 2, 'p': 2, 'weights': 'uniform'}\n",
            "0.583 (+/-0.013) for {'n_neighbors': 2, 'p': 2, 'weights': 'distance'}\n",
            "0.586 (+/-0.013) for {'n_neighbors': 2, 'p': 3, 'weights': 'uniform'}\n",
            "0.580 (+/-0.016) for {'n_neighbors': 2, 'p': 3, 'weights': 'distance'}\n",
            "0.585 (+/-0.014) for {'n_neighbors': 2, 'p': 4, 'weights': 'uniform'}\n",
            "0.581 (+/-0.016) for {'n_neighbors': 2, 'p': 4, 'weights': 'distance'}\n",
            "0.612 (+/-0.013) for {'n_neighbors': 3, 'p': 1, 'weights': 'uniform'}\n",
            "0.623 (+/-0.017) for {'n_neighbors': 3, 'p': 1, 'weights': 'distance'}\n",
            "0.588 (+/-0.012) for {'n_neighbors': 3, 'p': 2, 'weights': 'uniform'}\n",
            "0.601 (+/-0.007) for {'n_neighbors': 3, 'p': 2, 'weights': 'distance'}\n",
            "0.581 (+/-0.018) for {'n_neighbors': 3, 'p': 3, 'weights': 'uniform'}\n",
            "0.597 (+/-0.014) for {'n_neighbors': 3, 'p': 3, 'weights': 'distance'}\n",
            "0.582 (+/-0.017) for {'n_neighbors': 3, 'p': 4, 'weights': 'uniform'}\n",
            "0.595 (+/-0.013) for {'n_neighbors': 3, 'p': 4, 'weights': 'distance'}\n",
            "0.614 (+/-0.014) for {'n_neighbors': 4, 'p': 1, 'weights': 'uniform'}\n",
            "0.627 (+/-0.014) for {'n_neighbors': 4, 'p': 1, 'weights': 'distance'}\n",
            "0.589 (+/-0.013) for {'n_neighbors': 4, 'p': 2, 'weights': 'uniform'}\n",
            "0.608 (+/-0.013) for {'n_neighbors': 4, 'p': 2, 'weights': 'distance'}\n",
            "0.582 (+/-0.009) for {'n_neighbors': 4, 'p': 3, 'weights': 'uniform'}\n",
            "0.599 (+/-0.013) for {'n_neighbors': 4, 'p': 3, 'weights': 'distance'}\n",
            "0.580 (+/-0.011) for {'n_neighbors': 4, 'p': 4, 'weights': 'uniform'}\n",
            "0.598 (+/-0.015) for {'n_neighbors': 4, 'p': 4, 'weights': 'distance'}\n",
            "0.619 (+/-0.014) for {'n_neighbors': 5, 'p': 1, 'weights': 'uniform'}\n",
            "0.629 (+/-0.015) for {'n_neighbors': 5, 'p': 1, 'weights': 'distance'}\n",
            "0.594 (+/-0.023) for {'n_neighbors': 5, 'p': 2, 'weights': 'uniform'}\n",
            "0.607 (+/-0.015) for {'n_neighbors': 5, 'p': 2, 'weights': 'distance'}\n",
            "0.589 (+/-0.019) for {'n_neighbors': 5, 'p': 3, 'weights': 'uniform'}\n",
            "0.601 (+/-0.015) for {'n_neighbors': 5, 'p': 3, 'weights': 'distance'}\n",
            "0.587 (+/-0.020) for {'n_neighbors': 5, 'p': 4, 'weights': 'uniform'}\n",
            "0.599 (+/-0.010) for {'n_neighbors': 5, 'p': 4, 'weights': 'distance'}\n",
            "0.615 (+/-0.017) for {'n_neighbors': 6, 'p': 1, 'weights': 'uniform'}\n",
            "0.629 (+/-0.018) for {'n_neighbors': 6, 'p': 1, 'weights': 'distance'}\n",
            "0.589 (+/-0.009) for {'n_neighbors': 6, 'p': 2, 'weights': 'uniform'}\n",
            "0.609 (+/-0.014) for {'n_neighbors': 6, 'p': 2, 'weights': 'distance'}\n",
            "0.583 (+/-0.011) for {'n_neighbors': 6, 'p': 3, 'weights': 'uniform'}\n",
            "0.604 (+/-0.016) for {'n_neighbors': 6, 'p': 3, 'weights': 'distance'}\n",
            "0.581 (+/-0.010) for {'n_neighbors': 6, 'p': 4, 'weights': 'uniform'}\n",
            "0.604 (+/-0.014) for {'n_neighbors': 6, 'p': 4, 'weights': 'distance'}\n",
            "0.620 (+/-0.015) for {'n_neighbors': 7, 'p': 1, 'weights': 'uniform'}\n",
            "0.633 (+/-0.015) for {'n_neighbors': 7, 'p': 1, 'weights': 'distance'}\n",
            "0.594 (+/-0.012) for {'n_neighbors': 7, 'p': 2, 'weights': 'uniform'}\n",
            "0.612 (+/-0.014) for {'n_neighbors': 7, 'p': 2, 'weights': 'distance'}\n",
            "0.590 (+/-0.012) for {'n_neighbors': 7, 'p': 3, 'weights': 'uniform'}\n",
            "0.603 (+/-0.014) for {'n_neighbors': 7, 'p': 3, 'weights': 'distance'}\n",
            "0.586 (+/-0.014) for {'n_neighbors': 7, 'p': 4, 'weights': 'uniform'}\n",
            "0.603 (+/-0.009) for {'n_neighbors': 7, 'p': 4, 'weights': 'distance'}\n",
            "0.618 (+/-0.012) for {'n_neighbors': 8, 'p': 1, 'weights': 'uniform'}\n",
            "0.636 (+/-0.019) for {'n_neighbors': 8, 'p': 1, 'weights': 'distance'}\n",
            "0.592 (+/-0.013) for {'n_neighbors': 8, 'p': 2, 'weights': 'uniform'}\n",
            "0.614 (+/-0.013) for {'n_neighbors': 8, 'p': 2, 'weights': 'distance'}\n",
            "0.586 (+/-0.010) for {'n_neighbors': 8, 'p': 3, 'weights': 'uniform'}\n",
            "0.606 (+/-0.011) for {'n_neighbors': 8, 'p': 3, 'weights': 'distance'}\n",
            "0.584 (+/-0.014) for {'n_neighbors': 8, 'p': 4, 'weights': 'uniform'}\n",
            "0.601 (+/-0.012) for {'n_neighbors': 8, 'p': 4, 'weights': 'distance'}\n",
            "0.616 (+/-0.014) for {'n_neighbors': 9, 'p': 1, 'weights': 'uniform'}\n",
            "0.636 (+/-0.020) for {'n_neighbors': 9, 'p': 1, 'weights': 'distance'}\n",
            "0.590 (+/-0.008) for {'n_neighbors': 9, 'p': 2, 'weights': 'uniform'}\n",
            "0.611 (+/-0.014) for {'n_neighbors': 9, 'p': 2, 'weights': 'distance'}\n",
            "0.584 (+/-0.009) for {'n_neighbors': 9, 'p': 3, 'weights': 'uniform'}\n",
            "0.605 (+/-0.015) for {'n_neighbors': 9, 'p': 3, 'weights': 'distance'}\n",
            "0.583 (+/-0.011) for {'n_neighbors': 9, 'p': 4, 'weights': 'uniform'}\n",
            "0.603 (+/-0.016) for {'n_neighbors': 9, 'p': 4, 'weights': 'distance'}\n",
            "0.616 (+/-0.019) for {'n_neighbors': 10, 'p': 1, 'weights': 'uniform'}\n",
            "0.638 (+/-0.018) for {'n_neighbors': 10, 'p': 1, 'weights': 'distance'}\n",
            "0.593 (+/-0.008) for {'n_neighbors': 10, 'p': 2, 'weights': 'uniform'}\n",
            "0.611 (+/-0.013) for {'n_neighbors': 10, 'p': 2, 'weights': 'distance'}\n",
            "0.584 (+/-0.007) for {'n_neighbors': 10, 'p': 3, 'weights': 'uniform'}\n",
            "0.606 (+/-0.015) for {'n_neighbors': 10, 'p': 3, 'weights': 'distance'}\n",
            "0.581 (+/-0.007) for {'n_neighbors': 10, 'p': 4, 'weights': 'uniform'}\n",
            "0.603 (+/-0.014) for {'n_neighbors': 10, 'p': 4, 'weights': 'distance'}\n",
            "0.613 (+/-0.023) for {'n_neighbors': 11, 'p': 1, 'weights': 'uniform'}\n",
            "0.637 (+/-0.020) for {'n_neighbors': 11, 'p': 1, 'weights': 'distance'}\n",
            "0.590 (+/-0.021) for {'n_neighbors': 11, 'p': 2, 'weights': 'uniform'}\n",
            "0.610 (+/-0.017) for {'n_neighbors': 11, 'p': 2, 'weights': 'distance'}\n",
            "0.581 (+/-0.020) for {'n_neighbors': 11, 'p': 3, 'weights': 'uniform'}\n",
            "0.608 (+/-0.017) for {'n_neighbors': 11, 'p': 3, 'weights': 'distance'}\n",
            "0.581 (+/-0.020) for {'n_neighbors': 11, 'p': 4, 'weights': 'uniform'}\n",
            "0.604 (+/-0.014) for {'n_neighbors': 11, 'p': 4, 'weights': 'distance'}\n",
            "0.611 (+/-0.022) for {'n_neighbors': 12, 'p': 1, 'weights': 'uniform'}\n",
            "0.634 (+/-0.020) for {'n_neighbors': 12, 'p': 1, 'weights': 'distance'}\n",
            "0.589 (+/-0.018) for {'n_neighbors': 12, 'p': 2, 'weights': 'uniform'}\n",
            "0.611 (+/-0.019) for {'n_neighbors': 12, 'p': 2, 'weights': 'distance'}\n",
            "0.586 (+/-0.019) for {'n_neighbors': 12, 'p': 3, 'weights': 'uniform'}\n",
            "0.607 (+/-0.018) for {'n_neighbors': 12, 'p': 3, 'weights': 'distance'}\n",
            "0.585 (+/-0.013) for {'n_neighbors': 12, 'p': 4, 'weights': 'uniform'}\n",
            "0.603 (+/-0.016) for {'n_neighbors': 12, 'p': 4, 'weights': 'distance'}\n",
            "0.609 (+/-0.022) for {'n_neighbors': 13, 'p': 1, 'weights': 'uniform'}\n",
            "0.635 (+/-0.018) for {'n_neighbors': 13, 'p': 1, 'weights': 'distance'}\n",
            "0.591 (+/-0.018) for {'n_neighbors': 13, 'p': 2, 'weights': 'uniform'}\n",
            "0.611 (+/-0.024) for {'n_neighbors': 13, 'p': 2, 'weights': 'distance'}\n",
            "0.585 (+/-0.022) for {'n_neighbors': 13, 'p': 3, 'weights': 'uniform'}\n",
            "0.608 (+/-0.022) for {'n_neighbors': 13, 'p': 3, 'weights': 'distance'}\n",
            "0.587 (+/-0.018) for {'n_neighbors': 13, 'p': 4, 'weights': 'uniform'}\n",
            "0.607 (+/-0.019) for {'n_neighbors': 13, 'p': 4, 'weights': 'distance'}\n",
            "0.607 (+/-0.015) for {'n_neighbors': 14, 'p': 1, 'weights': 'uniform'}\n",
            "0.634 (+/-0.015) for {'n_neighbors': 14, 'p': 1, 'weights': 'distance'}\n",
            "0.588 (+/-0.019) for {'n_neighbors': 14, 'p': 2, 'weights': 'uniform'}\n",
            "0.612 (+/-0.022) for {'n_neighbors': 14, 'p': 2, 'weights': 'distance'}\n",
            "0.586 (+/-0.021) for {'n_neighbors': 14, 'p': 3, 'weights': 'uniform'}\n",
            "0.607 (+/-0.024) for {'n_neighbors': 14, 'p': 3, 'weights': 'distance'}\n",
            "0.584 (+/-0.021) for {'n_neighbors': 14, 'p': 4, 'weights': 'uniform'}\n",
            "0.606 (+/-0.019) for {'n_neighbors': 14, 'p': 4, 'weights': 'distance'}\n",
            "0.610 (+/-0.019) for {'n_neighbors': 15, 'p': 1, 'weights': 'uniform'}\n",
            "0.634 (+/-0.018) for {'n_neighbors': 15, 'p': 1, 'weights': 'distance'}\n",
            "0.591 (+/-0.019) for {'n_neighbors': 15, 'p': 2, 'weights': 'uniform'}\n",
            "0.614 (+/-0.025) for {'n_neighbors': 15, 'p': 2, 'weights': 'distance'}\n",
            "0.584 (+/-0.020) for {'n_neighbors': 15, 'p': 3, 'weights': 'uniform'}\n",
            "0.609 (+/-0.021) for {'n_neighbors': 15, 'p': 3, 'weights': 'distance'}\n",
            "0.584 (+/-0.021) for {'n_neighbors': 15, 'p': 4, 'weights': 'uniform'}\n",
            "0.606 (+/-0.020) for {'n_neighbors': 15, 'p': 4, 'weights': 'distance'}\n",
            "0.605 (+/-0.016) for {'n_neighbors': 16, 'p': 1, 'weights': 'uniform'}\n",
            "0.633 (+/-0.021) for {'n_neighbors': 16, 'p': 1, 'weights': 'distance'}\n",
            "0.586 (+/-0.016) for {'n_neighbors': 16, 'p': 2, 'weights': 'uniform'}\n",
            "0.612 (+/-0.020) for {'n_neighbors': 16, 'p': 2, 'weights': 'distance'}\n",
            "0.582 (+/-0.019) for {'n_neighbors': 16, 'p': 3, 'weights': 'uniform'}\n",
            "0.605 (+/-0.017) for {'n_neighbors': 16, 'p': 3, 'weights': 'distance'}\n",
            "0.580 (+/-0.017) for {'n_neighbors': 16, 'p': 4, 'weights': 'uniform'}\n",
            "0.606 (+/-0.017) for {'n_neighbors': 16, 'p': 4, 'weights': 'distance'}\n",
            "0.605 (+/-0.020) for {'n_neighbors': 17, 'p': 1, 'weights': 'uniform'}\n",
            "0.631 (+/-0.022) for {'n_neighbors': 17, 'p': 1, 'weights': 'distance'}\n",
            "0.589 (+/-0.016) for {'n_neighbors': 17, 'p': 2, 'weights': 'uniform'}\n",
            "0.613 (+/-0.024) for {'n_neighbors': 17, 'p': 2, 'weights': 'distance'}\n",
            "0.584 (+/-0.019) for {'n_neighbors': 17, 'p': 3, 'weights': 'uniform'}\n",
            "0.607 (+/-0.016) for {'n_neighbors': 17, 'p': 3, 'weights': 'distance'}\n",
            "0.581 (+/-0.019) for {'n_neighbors': 17, 'p': 4, 'weights': 'uniform'}\n",
            "0.605 (+/-0.017) for {'n_neighbors': 17, 'p': 4, 'weights': 'distance'}\n",
            "0.600 (+/-0.015) for {'n_neighbors': 18, 'p': 1, 'weights': 'uniform'}\n",
            "0.630 (+/-0.024) for {'n_neighbors': 18, 'p': 1, 'weights': 'distance'}\n",
            "0.588 (+/-0.019) for {'n_neighbors': 18, 'p': 2, 'weights': 'uniform'}\n",
            "0.612 (+/-0.018) for {'n_neighbors': 18, 'p': 2, 'weights': 'distance'}\n",
            "0.581 (+/-0.017) for {'n_neighbors': 18, 'p': 3, 'weights': 'uniform'}\n",
            "0.606 (+/-0.015) for {'n_neighbors': 18, 'p': 3, 'weights': 'distance'}\n",
            "0.582 (+/-0.018) for {'n_neighbors': 18, 'p': 4, 'weights': 'uniform'}\n",
            "0.606 (+/-0.014) for {'n_neighbors': 18, 'p': 4, 'weights': 'distance'}\n",
            "0.600 (+/-0.023) for {'n_neighbors': 19, 'p': 1, 'weights': 'uniform'}\n",
            "0.629 (+/-0.023) for {'n_neighbors': 19, 'p': 1, 'weights': 'distance'}\n",
            "0.588 (+/-0.020) for {'n_neighbors': 19, 'p': 2, 'weights': 'uniform'}\n",
            "0.609 (+/-0.022) for {'n_neighbors': 19, 'p': 2, 'weights': 'distance'}\n",
            "0.580 (+/-0.021) for {'n_neighbors': 19, 'p': 3, 'weights': 'uniform'}\n",
            "0.606 (+/-0.018) for {'n_neighbors': 19, 'p': 3, 'weights': 'distance'}\n",
            "0.579 (+/-0.020) for {'n_neighbors': 19, 'p': 4, 'weights': 'uniform'}\n",
            "0.605 (+/-0.018) for {'n_neighbors': 19, 'p': 4, 'weights': 'distance'}\n",
            "0.598 (+/-0.022) for {'n_neighbors': 20, 'p': 1, 'weights': 'uniform'}\n",
            "0.629 (+/-0.024) for {'n_neighbors': 20, 'p': 1, 'weights': 'distance'}\n",
            "0.587 (+/-0.023) for {'n_neighbors': 20, 'p': 2, 'weights': 'uniform'}\n",
            "0.609 (+/-0.021) for {'n_neighbors': 20, 'p': 2, 'weights': 'distance'}\n",
            "0.579 (+/-0.021) for {'n_neighbors': 20, 'p': 3, 'weights': 'uniform'}\n",
            "0.605 (+/-0.022) for {'n_neighbors': 20, 'p': 3, 'weights': 'distance'}\n",
            "0.578 (+/-0.024) for {'n_neighbors': 20, 'p': 4, 'weights': 'uniform'}\n",
            "0.604 (+/-0.021) for {'n_neighbors': 20, 'p': 4, 'weights': 'distance'}\n",
            "0.598 (+/-0.022) for {'n_neighbors': 21, 'p': 1, 'weights': 'uniform'}\n",
            "0.628 (+/-0.023) for {'n_neighbors': 21, 'p': 1, 'weights': 'distance'}\n",
            "0.584 (+/-0.022) for {'n_neighbors': 21, 'p': 2, 'weights': 'uniform'}\n",
            "0.607 (+/-0.026) for {'n_neighbors': 21, 'p': 2, 'weights': 'distance'}\n",
            "0.579 (+/-0.020) for {'n_neighbors': 21, 'p': 3, 'weights': 'uniform'}\n",
            "0.605 (+/-0.023) for {'n_neighbors': 21, 'p': 3, 'weights': 'distance'}\n",
            "0.579 (+/-0.020) for {'n_neighbors': 21, 'p': 4, 'weights': 'uniform'}\n",
            "0.603 (+/-0.023) for {'n_neighbors': 21, 'p': 4, 'weights': 'distance'}\n",
            "0.598 (+/-0.017) for {'n_neighbors': 22, 'p': 1, 'weights': 'uniform'}\n",
            "0.627 (+/-0.019) for {'n_neighbors': 22, 'p': 1, 'weights': 'distance'}\n",
            "0.582 (+/-0.023) for {'n_neighbors': 22, 'p': 2, 'weights': 'uniform'}\n",
            "0.607 (+/-0.025) for {'n_neighbors': 22, 'p': 2, 'weights': 'distance'}\n",
            "0.581 (+/-0.025) for {'n_neighbors': 22, 'p': 3, 'weights': 'uniform'}\n",
            "0.606 (+/-0.027) for {'n_neighbors': 22, 'p': 3, 'weights': 'distance'}\n",
            "0.577 (+/-0.020) for {'n_neighbors': 22, 'p': 4, 'weights': 'uniform'}\n",
            "0.604 (+/-0.021) for {'n_neighbors': 22, 'p': 4, 'weights': 'distance'}\n",
            "0.597 (+/-0.019) for {'n_neighbors': 23, 'p': 1, 'weights': 'uniform'}\n",
            "0.625 (+/-0.022) for {'n_neighbors': 23, 'p': 1, 'weights': 'distance'}\n",
            "0.583 (+/-0.022) for {'n_neighbors': 23, 'p': 2, 'weights': 'uniform'}\n",
            "0.609 (+/-0.025) for {'n_neighbors': 23, 'p': 2, 'weights': 'distance'}\n",
            "0.578 (+/-0.025) for {'n_neighbors': 23, 'p': 3, 'weights': 'uniform'}\n",
            "0.605 (+/-0.022) for {'n_neighbors': 23, 'p': 3, 'weights': 'distance'}\n",
            "0.576 (+/-0.024) for {'n_neighbors': 23, 'p': 4, 'weights': 'uniform'}\n",
            "0.604 (+/-0.022) for {'n_neighbors': 23, 'p': 4, 'weights': 'distance'}\n",
            "0.595 (+/-0.014) for {'n_neighbors': 24, 'p': 1, 'weights': 'uniform'}\n",
            "0.624 (+/-0.018) for {'n_neighbors': 24, 'p': 1, 'weights': 'distance'}\n",
            "0.581 (+/-0.025) for {'n_neighbors': 24, 'p': 2, 'weights': 'uniform'}\n",
            "0.607 (+/-0.025) for {'n_neighbors': 24, 'p': 2, 'weights': 'distance'}\n",
            "0.577 (+/-0.018) for {'n_neighbors': 24, 'p': 3, 'weights': 'uniform'}\n",
            "0.604 (+/-0.021) for {'n_neighbors': 24, 'p': 3, 'weights': 'distance'}\n",
            "0.575 (+/-0.015) for {'n_neighbors': 24, 'p': 4, 'weights': 'uniform'}\n",
            "0.604 (+/-0.021) for {'n_neighbors': 24, 'p': 4, 'weights': 'distance'}\n",
            "0.591 (+/-0.015) for {'n_neighbors': 25, 'p': 1, 'weights': 'uniform'}\n",
            "0.623 (+/-0.020) for {'n_neighbors': 25, 'p': 1, 'weights': 'distance'}\n",
            "0.576 (+/-0.027) for {'n_neighbors': 25, 'p': 2, 'weights': 'uniform'}\n",
            "0.607 (+/-0.023) for {'n_neighbors': 25, 'p': 2, 'weights': 'distance'}\n",
            "0.573 (+/-0.025) for {'n_neighbors': 25, 'p': 3, 'weights': 'uniform'}\n",
            "0.603 (+/-0.022) for {'n_neighbors': 25, 'p': 3, 'weights': 'distance'}\n",
            "0.572 (+/-0.022) for {'n_neighbors': 25, 'p': 4, 'weights': 'uniform'}\n",
            "0.601 (+/-0.020) for {'n_neighbors': 25, 'p': 4, 'weights': 'distance'}\n",
            "0.590 (+/-0.012) for {'n_neighbors': 26, 'p': 1, 'weights': 'uniform'}\n",
            "0.621 (+/-0.018) for {'n_neighbors': 26, 'p': 1, 'weights': 'distance'}\n",
            "0.576 (+/-0.022) for {'n_neighbors': 26, 'p': 2, 'weights': 'uniform'}\n",
            "0.604 (+/-0.025) for {'n_neighbors': 26, 'p': 2, 'weights': 'distance'}\n",
            "0.572 (+/-0.021) for {'n_neighbors': 26, 'p': 3, 'weights': 'uniform'}\n",
            "0.602 (+/-0.025) for {'n_neighbors': 26, 'p': 3, 'weights': 'distance'}\n",
            "0.569 (+/-0.019) for {'n_neighbors': 26, 'p': 4, 'weights': 'uniform'}\n",
            "0.602 (+/-0.026) for {'n_neighbors': 26, 'p': 4, 'weights': 'distance'}\n",
            "0.590 (+/-0.019) for {'n_neighbors': 27, 'p': 1, 'weights': 'uniform'}\n",
            "0.620 (+/-0.017) for {'n_neighbors': 27, 'p': 1, 'weights': 'distance'}\n",
            "0.573 (+/-0.025) for {'n_neighbors': 27, 'p': 2, 'weights': 'uniform'}\n",
            "0.605 (+/-0.030) for {'n_neighbors': 27, 'p': 2, 'weights': 'distance'}\n",
            "0.572 (+/-0.021) for {'n_neighbors': 27, 'p': 3, 'weights': 'uniform'}\n",
            "0.602 (+/-0.026) for {'n_neighbors': 27, 'p': 3, 'weights': 'distance'}\n",
            "0.570 (+/-0.020) for {'n_neighbors': 27, 'p': 4, 'weights': 'uniform'}\n",
            "0.601 (+/-0.028) for {'n_neighbors': 27, 'p': 4, 'weights': 'distance'}\n",
            "0.587 (+/-0.017) for {'n_neighbors': 28, 'p': 1, 'weights': 'uniform'}\n",
            "0.619 (+/-0.018) for {'n_neighbors': 28, 'p': 1, 'weights': 'distance'}\n",
            "0.571 (+/-0.024) for {'n_neighbors': 28, 'p': 2, 'weights': 'uniform'}\n",
            "0.603 (+/-0.024) for {'n_neighbors': 28, 'p': 2, 'weights': 'distance'}\n",
            "0.568 (+/-0.020) for {'n_neighbors': 28, 'p': 3, 'weights': 'uniform'}\n",
            "0.602 (+/-0.025) for {'n_neighbors': 28, 'p': 3, 'weights': 'distance'}\n",
            "0.567 (+/-0.018) for {'n_neighbors': 28, 'p': 4, 'weights': 'uniform'}\n",
            "0.600 (+/-0.024) for {'n_neighbors': 28, 'p': 4, 'weights': 'distance'}\n",
            "0.589 (+/-0.016) for {'n_neighbors': 29, 'p': 1, 'weights': 'uniform'}\n",
            "0.619 (+/-0.016) for {'n_neighbors': 29, 'p': 1, 'weights': 'distance'}\n",
            "0.575 (+/-0.022) for {'n_neighbors': 29, 'p': 2, 'weights': 'uniform'}\n",
            "0.602 (+/-0.023) for {'n_neighbors': 29, 'p': 2, 'weights': 'distance'}\n",
            "0.569 (+/-0.022) for {'n_neighbors': 29, 'p': 3, 'weights': 'uniform'}\n",
            "0.601 (+/-0.026) for {'n_neighbors': 29, 'p': 3, 'weights': 'distance'}\n",
            "0.566 (+/-0.018) for {'n_neighbors': 29, 'p': 4, 'weights': 'uniform'}\n",
            "0.599 (+/-0.028) for {'n_neighbors': 29, 'p': 4, 'weights': 'distance'}\n",
            "\n",
            "# Tuning hyper-parameters for recall\n",
            "\n",
            "Best parameters set found on development set:\n",
            "\n",
            "{'n_neighbors': 10, 'p': 1, 'weights': 'distance'}\n",
            "\n",
            "Grid scores on development set:\n",
            "\n",
            "0.611 (+/-0.029) for {'n_neighbors': 1, 'p': 1, 'weights': 'uniform'}\n",
            "0.611 (+/-0.029) for {'n_neighbors': 1, 'p': 1, 'weights': 'distance'}\n",
            "0.583 (+/-0.022) for {'n_neighbors': 1, 'p': 2, 'weights': 'uniform'}\n",
            "0.583 (+/-0.022) for {'n_neighbors': 1, 'p': 2, 'weights': 'distance'}\n",
            "0.580 (+/-0.023) for {'n_neighbors': 1, 'p': 3, 'weights': 'uniform'}\n",
            "0.580 (+/-0.023) for {'n_neighbors': 1, 'p': 3, 'weights': 'distance'}\n",
            "0.581 (+/-0.023) for {'n_neighbors': 1, 'p': 4, 'weights': 'uniform'}\n",
            "0.581 (+/-0.023) for {'n_neighbors': 1, 'p': 4, 'weights': 'distance'}\n",
            "0.619 (+/-0.026) for {'n_neighbors': 2, 'p': 1, 'weights': 'uniform'}\n",
            "0.611 (+/-0.029) for {'n_neighbors': 2, 'p': 1, 'weights': 'distance'}\n",
            "0.588 (+/-0.024) for {'n_neighbors': 2, 'p': 2, 'weights': 'uniform'}\n",
            "0.583 (+/-0.022) for {'n_neighbors': 2, 'p': 2, 'weights': 'distance'}\n",
            "0.580 (+/-0.027) for {'n_neighbors': 2, 'p': 3, 'weights': 'uniform'}\n",
            "0.580 (+/-0.023) for {'n_neighbors': 2, 'p': 3, 'weights': 'distance'}\n",
            "0.579 (+/-0.029) for {'n_neighbors': 2, 'p': 4, 'weights': 'uniform'}\n",
            "0.581 (+/-0.023) for {'n_neighbors': 2, 'p': 4, 'weights': 'distance'}\n",
            "0.625 (+/-0.020) for {'n_neighbors': 3, 'p': 1, 'weights': 'uniform'}\n",
            "0.627 (+/-0.019) for {'n_neighbors': 3, 'p': 1, 'weights': 'distance'}\n",
            "0.594 (+/-0.022) for {'n_neighbors': 3, 'p': 2, 'weights': 'uniform'}\n",
            "0.602 (+/-0.022) for {'n_neighbors': 3, 'p': 2, 'weights': 'distance'}\n",
            "0.587 (+/-0.032) for {'n_neighbors': 3, 'p': 3, 'weights': 'uniform'}\n",
            "0.597 (+/-0.024) for {'n_neighbors': 3, 'p': 3, 'weights': 'distance'}\n",
            "0.586 (+/-0.035) for {'n_neighbors': 3, 'p': 4, 'weights': 'uniform'}\n",
            "0.596 (+/-0.028) for {'n_neighbors': 3, 'p': 4, 'weights': 'distance'}\n",
            "0.627 (+/-0.006) for {'n_neighbors': 4, 'p': 1, 'weights': 'uniform'}\n",
            "0.633 (+/-0.013) for {'n_neighbors': 4, 'p': 1, 'weights': 'distance'}\n",
            "0.597 (+/-0.021) for {'n_neighbors': 4, 'p': 2, 'weights': 'uniform'}\n",
            "0.612 (+/-0.023) for {'n_neighbors': 4, 'p': 2, 'weights': 'distance'}\n",
            "0.590 (+/-0.022) for {'n_neighbors': 4, 'p': 3, 'weights': 'uniform'}\n",
            "0.601 (+/-0.023) for {'n_neighbors': 4, 'p': 3, 'weights': 'distance'}\n",
            "0.588 (+/-0.028) for {'n_neighbors': 4, 'p': 4, 'weights': 'uniform'}\n",
            "0.599 (+/-0.025) for {'n_neighbors': 4, 'p': 4, 'weights': 'distance'}\n",
            "0.625 (+/-0.017) for {'n_neighbors': 5, 'p': 1, 'weights': 'uniform'}\n",
            "0.637 (+/-0.018) for {'n_neighbors': 5, 'p': 1, 'weights': 'distance'}\n",
            "0.597 (+/-0.020) for {'n_neighbors': 5, 'p': 2, 'weights': 'uniform'}\n",
            "0.612 (+/-0.021) for {'n_neighbors': 5, 'p': 2, 'weights': 'distance'}\n",
            "0.592 (+/-0.018) for {'n_neighbors': 5, 'p': 3, 'weights': 'uniform'}\n",
            "0.607 (+/-0.022) for {'n_neighbors': 5, 'p': 3, 'weights': 'distance'}\n",
            "0.589 (+/-0.020) for {'n_neighbors': 5, 'p': 4, 'weights': 'uniform'}\n",
            "0.604 (+/-0.021) for {'n_neighbors': 5, 'p': 4, 'weights': 'distance'}\n",
            "0.623 (+/-0.022) for {'n_neighbors': 6, 'p': 1, 'weights': 'uniform'}\n",
            "0.634 (+/-0.020) for {'n_neighbors': 6, 'p': 1, 'weights': 'distance'}\n",
            "0.592 (+/-0.020) for {'n_neighbors': 6, 'p': 2, 'weights': 'uniform'}\n",
            "0.613 (+/-0.027) for {'n_neighbors': 6, 'p': 2, 'weights': 'distance'}\n",
            "0.586 (+/-0.019) for {'n_neighbors': 6, 'p': 3, 'weights': 'uniform'}\n",
            "0.608 (+/-0.023) for {'n_neighbors': 6, 'p': 3, 'weights': 'distance'}\n",
            "0.583 (+/-0.019) for {'n_neighbors': 6, 'p': 4, 'weights': 'uniform'}\n",
            "0.607 (+/-0.020) for {'n_neighbors': 6, 'p': 4, 'weights': 'distance'}\n",
            "0.627 (+/-0.020) for {'n_neighbors': 7, 'p': 1, 'weights': 'uniform'}\n",
            "0.636 (+/-0.020) for {'n_neighbors': 7, 'p': 1, 'weights': 'distance'}\n",
            "0.597 (+/-0.018) for {'n_neighbors': 7, 'p': 2, 'weights': 'uniform'}\n",
            "0.615 (+/-0.024) for {'n_neighbors': 7, 'p': 2, 'weights': 'distance'}\n",
            "0.592 (+/-0.020) for {'n_neighbors': 7, 'p': 3, 'weights': 'uniform'}\n",
            "0.607 (+/-0.023) for {'n_neighbors': 7, 'p': 3, 'weights': 'distance'}\n",
            "0.587 (+/-0.021) for {'n_neighbors': 7, 'p': 4, 'weights': 'uniform'}\n",
            "0.606 (+/-0.023) for {'n_neighbors': 7, 'p': 4, 'weights': 'distance'}\n",
            "0.623 (+/-0.019) for {'n_neighbors': 8, 'p': 1, 'weights': 'uniform'}\n",
            "0.637 (+/-0.019) for {'n_neighbors': 8, 'p': 1, 'weights': 'distance'}\n",
            "0.593 (+/-0.018) for {'n_neighbors': 8, 'p': 2, 'weights': 'uniform'}\n",
            "0.613 (+/-0.022) for {'n_neighbors': 8, 'p': 2, 'weights': 'distance'}\n",
            "0.587 (+/-0.021) for {'n_neighbors': 8, 'p': 3, 'weights': 'uniform'}\n",
            "0.606 (+/-0.024) for {'n_neighbors': 8, 'p': 3, 'weights': 'distance'}\n",
            "0.584 (+/-0.024) for {'n_neighbors': 8, 'p': 4, 'weights': 'uniform'}\n",
            "0.601 (+/-0.026) for {'n_neighbors': 8, 'p': 4, 'weights': 'distance'}\n",
            "0.619 (+/-0.022) for {'n_neighbors': 9, 'p': 1, 'weights': 'uniform'}\n",
            "0.637 (+/-0.022) for {'n_neighbors': 9, 'p': 1, 'weights': 'distance'}\n",
            "0.590 (+/-0.014) for {'n_neighbors': 9, 'p': 2, 'weights': 'uniform'}\n",
            "0.609 (+/-0.023) for {'n_neighbors': 9, 'p': 2, 'weights': 'distance'}\n",
            "0.585 (+/-0.022) for {'n_neighbors': 9, 'p': 3, 'weights': 'uniform'}\n",
            "0.602 (+/-0.023) for {'n_neighbors': 9, 'p': 3, 'weights': 'distance'}\n",
            "0.582 (+/-0.019) for {'n_neighbors': 9, 'p': 4, 'weights': 'uniform'}\n",
            "0.600 (+/-0.027) for {'n_neighbors': 9, 'p': 4, 'weights': 'distance'}\n",
            "0.616 (+/-0.029) for {'n_neighbors': 10, 'p': 1, 'weights': 'uniform'}\n",
            "0.638 (+/-0.023) for {'n_neighbors': 10, 'p': 1, 'weights': 'distance'}\n",
            "0.590 (+/-0.017) for {'n_neighbors': 10, 'p': 2, 'weights': 'uniform'}\n",
            "0.609 (+/-0.021) for {'n_neighbors': 10, 'p': 2, 'weights': 'distance'}\n",
            "0.584 (+/-0.022) for {'n_neighbors': 10, 'p': 3, 'weights': 'uniform'}\n",
            "0.604 (+/-0.027) for {'n_neighbors': 10, 'p': 3, 'weights': 'distance'}\n",
            "0.580 (+/-0.017) for {'n_neighbors': 10, 'p': 4, 'weights': 'uniform'}\n",
            "0.601 (+/-0.028) for {'n_neighbors': 10, 'p': 4, 'weights': 'distance'}\n",
            "0.611 (+/-0.027) for {'n_neighbors': 11, 'p': 1, 'weights': 'uniform'}\n",
            "0.637 (+/-0.024) for {'n_neighbors': 11, 'p': 1, 'weights': 'distance'}\n",
            "0.587 (+/-0.032) for {'n_neighbors': 11, 'p': 2, 'weights': 'uniform'}\n",
            "0.609 (+/-0.026) for {'n_neighbors': 11, 'p': 2, 'weights': 'distance'}\n",
            "0.580 (+/-0.034) for {'n_neighbors': 11, 'p': 3, 'weights': 'uniform'}\n",
            "0.606 (+/-0.028) for {'n_neighbors': 11, 'p': 3, 'weights': 'distance'}\n",
            "0.579 (+/-0.031) for {'n_neighbors': 11, 'p': 4, 'weights': 'uniform'}\n",
            "0.601 (+/-0.029) for {'n_neighbors': 11, 'p': 4, 'weights': 'distance'}\n",
            "0.610 (+/-0.025) for {'n_neighbors': 12, 'p': 1, 'weights': 'uniform'}\n",
            "0.636 (+/-0.023) for {'n_neighbors': 12, 'p': 1, 'weights': 'distance'}\n",
            "0.587 (+/-0.030) for {'n_neighbors': 12, 'p': 2, 'weights': 'uniform'}\n",
            "0.609 (+/-0.025) for {'n_neighbors': 12, 'p': 2, 'weights': 'distance'}\n",
            "0.583 (+/-0.029) for {'n_neighbors': 12, 'p': 3, 'weights': 'uniform'}\n",
            "0.603 (+/-0.030) for {'n_neighbors': 12, 'p': 3, 'weights': 'distance'}\n",
            "0.581 (+/-0.024) for {'n_neighbors': 12, 'p': 4, 'weights': 'uniform'}\n",
            "0.600 (+/-0.032) for {'n_neighbors': 12, 'p': 4, 'weights': 'distance'}\n",
            "0.605 (+/-0.019) for {'n_neighbors': 13, 'p': 1, 'weights': 'uniform'}\n",
            "0.635 (+/-0.019) for {'n_neighbors': 13, 'p': 1, 'weights': 'distance'}\n",
            "0.584 (+/-0.019) for {'n_neighbors': 13, 'p': 2, 'weights': 'uniform'}\n",
            "0.609 (+/-0.029) for {'n_neighbors': 13, 'p': 2, 'weights': 'distance'}\n",
            "0.580 (+/-0.027) for {'n_neighbors': 13, 'p': 3, 'weights': 'uniform'}\n",
            "0.604 (+/-0.031) for {'n_neighbors': 13, 'p': 3, 'weights': 'distance'}\n",
            "0.580 (+/-0.027) for {'n_neighbors': 13, 'p': 4, 'weights': 'uniform'}\n",
            "0.602 (+/-0.029) for {'n_neighbors': 13, 'p': 4, 'weights': 'distance'}\n",
            "0.605 (+/-0.012) for {'n_neighbors': 14, 'p': 1, 'weights': 'uniform'}\n",
            "0.634 (+/-0.013) for {'n_neighbors': 14, 'p': 1, 'weights': 'distance'}\n",
            "0.584 (+/-0.024) for {'n_neighbors': 14, 'p': 2, 'weights': 'uniform'}\n",
            "0.610 (+/-0.027) for {'n_neighbors': 14, 'p': 2, 'weights': 'distance'}\n",
            "0.579 (+/-0.026) for {'n_neighbors': 14, 'p': 3, 'weights': 'uniform'}\n",
            "0.604 (+/-0.029) for {'n_neighbors': 14, 'p': 3, 'weights': 'distance'}\n",
            "0.577 (+/-0.027) for {'n_neighbors': 14, 'p': 4, 'weights': 'uniform'}\n",
            "0.601 (+/-0.026) for {'n_neighbors': 14, 'p': 4, 'weights': 'distance'}\n",
            "0.606 (+/-0.014) for {'n_neighbors': 15, 'p': 1, 'weights': 'uniform'}\n",
            "0.634 (+/-0.021) for {'n_neighbors': 15, 'p': 1, 'weights': 'distance'}\n",
            "0.585 (+/-0.020) for {'n_neighbors': 15, 'p': 2, 'weights': 'uniform'}\n",
            "0.609 (+/-0.024) for {'n_neighbors': 15, 'p': 2, 'weights': 'distance'}\n",
            "0.578 (+/-0.024) for {'n_neighbors': 15, 'p': 3, 'weights': 'uniform'}\n",
            "0.604 (+/-0.024) for {'n_neighbors': 15, 'p': 3, 'weights': 'distance'}\n",
            "0.577 (+/-0.024) for {'n_neighbors': 15, 'p': 4, 'weights': 'uniform'}\n",
            "0.600 (+/-0.026) for {'n_neighbors': 15, 'p': 4, 'weights': 'distance'}\n",
            "0.604 (+/-0.017) for {'n_neighbors': 16, 'p': 1, 'weights': 'uniform'}\n",
            "0.631 (+/-0.021) for {'n_neighbors': 16, 'p': 1, 'weights': 'distance'}\n",
            "0.581 (+/-0.022) for {'n_neighbors': 16, 'p': 2, 'weights': 'uniform'}\n",
            "0.608 (+/-0.026) for {'n_neighbors': 16, 'p': 2, 'weights': 'distance'}\n",
            "0.577 (+/-0.025) for {'n_neighbors': 16, 'p': 3, 'weights': 'uniform'}\n",
            "0.600 (+/-0.022) for {'n_neighbors': 16, 'p': 3, 'weights': 'distance'}\n",
            "0.575 (+/-0.025) for {'n_neighbors': 16, 'p': 4, 'weights': 'uniform'}\n",
            "0.599 (+/-0.025) for {'n_neighbors': 16, 'p': 4, 'weights': 'distance'}\n",
            "0.604 (+/-0.018) for {'n_neighbors': 17, 'p': 1, 'weights': 'uniform'}\n",
            "0.629 (+/-0.022) for {'n_neighbors': 17, 'p': 1, 'weights': 'distance'}\n",
            "0.582 (+/-0.019) for {'n_neighbors': 17, 'p': 2, 'weights': 'uniform'}\n",
            "0.606 (+/-0.027) for {'n_neighbors': 17, 'p': 2, 'weights': 'distance'}\n",
            "0.576 (+/-0.023) for {'n_neighbors': 17, 'p': 3, 'weights': 'uniform'}\n",
            "0.600 (+/-0.025) for {'n_neighbors': 17, 'p': 3, 'weights': 'distance'}\n",
            "0.573 (+/-0.026) for {'n_neighbors': 17, 'p': 4, 'weights': 'uniform'}\n",
            "0.598 (+/-0.024) for {'n_neighbors': 17, 'p': 4, 'weights': 'distance'}\n",
            "0.600 (+/-0.015) for {'n_neighbors': 18, 'p': 1, 'weights': 'uniform'}\n",
            "0.628 (+/-0.019) for {'n_neighbors': 18, 'p': 1, 'weights': 'distance'}\n",
            "0.582 (+/-0.024) for {'n_neighbors': 18, 'p': 2, 'weights': 'uniform'}\n",
            "0.607 (+/-0.023) for {'n_neighbors': 18, 'p': 2, 'weights': 'distance'}\n",
            "0.574 (+/-0.023) for {'n_neighbors': 18, 'p': 3, 'weights': 'uniform'}\n",
            "0.600 (+/-0.025) for {'n_neighbors': 18, 'p': 3, 'weights': 'distance'}\n",
            "0.573 (+/-0.024) for {'n_neighbors': 18, 'p': 4, 'weights': 'uniform'}\n",
            "0.599 (+/-0.022) for {'n_neighbors': 18, 'p': 4, 'weights': 'distance'}\n",
            "0.598 (+/-0.019) for {'n_neighbors': 19, 'p': 1, 'weights': 'uniform'}\n",
            "0.628 (+/-0.019) for {'n_neighbors': 19, 'p': 1, 'weights': 'distance'}\n",
            "0.581 (+/-0.023) for {'n_neighbors': 19, 'p': 2, 'weights': 'uniform'}\n",
            "0.605 (+/-0.026) for {'n_neighbors': 19, 'p': 2, 'weights': 'distance'}\n",
            "0.573 (+/-0.024) for {'n_neighbors': 19, 'p': 3, 'weights': 'uniform'}\n",
            "0.599 (+/-0.025) for {'n_neighbors': 19, 'p': 3, 'weights': 'distance'}\n",
            "0.571 (+/-0.024) for {'n_neighbors': 19, 'p': 4, 'weights': 'uniform'}\n",
            "0.598 (+/-0.025) for {'n_neighbors': 19, 'p': 4, 'weights': 'distance'}\n",
            "0.597 (+/-0.019) for {'n_neighbors': 20, 'p': 1, 'weights': 'uniform'}\n",
            "0.628 (+/-0.017) for {'n_neighbors': 20, 'p': 1, 'weights': 'distance'}\n",
            "0.579 (+/-0.028) for {'n_neighbors': 20, 'p': 2, 'weights': 'uniform'}\n",
            "0.605 (+/-0.025) for {'n_neighbors': 20, 'p': 2, 'weights': 'distance'}\n",
            "0.571 (+/-0.026) for {'n_neighbors': 20, 'p': 3, 'weights': 'uniform'}\n",
            "0.599 (+/-0.028) for {'n_neighbors': 20, 'p': 3, 'weights': 'distance'}\n",
            "0.571 (+/-0.029) for {'n_neighbors': 20, 'p': 4, 'weights': 'uniform'}\n",
            "0.598 (+/-0.026) for {'n_neighbors': 20, 'p': 4, 'weights': 'distance'}\n",
            "0.597 (+/-0.018) for {'n_neighbors': 21, 'p': 1, 'weights': 'uniform'}\n",
            "0.627 (+/-0.018) for {'n_neighbors': 21, 'p': 1, 'weights': 'distance'}\n",
            "0.578 (+/-0.025) for {'n_neighbors': 21, 'p': 2, 'weights': 'uniform'}\n",
            "0.603 (+/-0.031) for {'n_neighbors': 21, 'p': 2, 'weights': 'distance'}\n",
            "0.570 (+/-0.025) for {'n_neighbors': 21, 'p': 3, 'weights': 'uniform'}\n",
            "0.599 (+/-0.028) for {'n_neighbors': 21, 'p': 3, 'weights': 'distance'}\n",
            "0.569 (+/-0.025) for {'n_neighbors': 21, 'p': 4, 'weights': 'uniform'}\n",
            "0.596 (+/-0.030) for {'n_neighbors': 21, 'p': 4, 'weights': 'distance'}\n",
            "0.597 (+/-0.017) for {'n_neighbors': 22, 'p': 1, 'weights': 'uniform'}\n",
            "0.627 (+/-0.017) for {'n_neighbors': 22, 'p': 1, 'weights': 'distance'}\n",
            "0.576 (+/-0.027) for {'n_neighbors': 22, 'p': 2, 'weights': 'uniform'}\n",
            "0.602 (+/-0.031) for {'n_neighbors': 22, 'p': 2, 'weights': 'distance'}\n",
            "0.571 (+/-0.029) for {'n_neighbors': 22, 'p': 3, 'weights': 'uniform'}\n",
            "0.600 (+/-0.032) for {'n_neighbors': 22, 'p': 3, 'weights': 'distance'}\n",
            "0.568 (+/-0.028) for {'n_neighbors': 22, 'p': 4, 'weights': 'uniform'}\n",
            "0.597 (+/-0.030) for {'n_neighbors': 22, 'p': 4, 'weights': 'distance'}\n",
            "0.597 (+/-0.017) for {'n_neighbors': 23, 'p': 1, 'weights': 'uniform'}\n",
            "0.625 (+/-0.017) for {'n_neighbors': 23, 'p': 1, 'weights': 'distance'}\n",
            "0.576 (+/-0.030) for {'n_neighbors': 23, 'p': 2, 'weights': 'uniform'}\n",
            "0.603 (+/-0.027) for {'n_neighbors': 23, 'p': 2, 'weights': 'distance'}\n",
            "0.570 (+/-0.030) for {'n_neighbors': 23, 'p': 3, 'weights': 'uniform'}\n",
            "0.599 (+/-0.028) for {'n_neighbors': 23, 'p': 3, 'weights': 'distance'}\n",
            "0.566 (+/-0.028) for {'n_neighbors': 23, 'p': 4, 'weights': 'uniform'}\n",
            "0.597 (+/-0.029) for {'n_neighbors': 23, 'p': 4, 'weights': 'distance'}\n",
            "0.596 (+/-0.014) for {'n_neighbors': 24, 'p': 1, 'weights': 'uniform'}\n",
            "0.623 (+/-0.016) for {'n_neighbors': 24, 'p': 1, 'weights': 'distance'}\n",
            "0.574 (+/-0.033) for {'n_neighbors': 24, 'p': 2, 'weights': 'uniform'}\n",
            "0.603 (+/-0.029) for {'n_neighbors': 24, 'p': 2, 'weights': 'distance'}\n",
            "0.570 (+/-0.027) for {'n_neighbors': 24, 'p': 3, 'weights': 'uniform'}\n",
            "0.598 (+/-0.027) for {'n_neighbors': 24, 'p': 3, 'weights': 'distance'}\n",
            "0.568 (+/-0.026) for {'n_neighbors': 24, 'p': 4, 'weights': 'uniform'}\n",
            "0.597 (+/-0.027) for {'n_neighbors': 24, 'p': 4, 'weights': 'distance'}\n",
            "0.593 (+/-0.016) for {'n_neighbors': 25, 'p': 1, 'weights': 'uniform'}\n",
            "0.622 (+/-0.020) for {'n_neighbors': 25, 'p': 1, 'weights': 'distance'}\n",
            "0.568 (+/-0.028) for {'n_neighbors': 25, 'p': 2, 'weights': 'uniform'}\n",
            "0.603 (+/-0.026) for {'n_neighbors': 25, 'p': 2, 'weights': 'distance'}\n",
            "0.564 (+/-0.030) for {'n_neighbors': 25, 'p': 3, 'weights': 'uniform'}\n",
            "0.596 (+/-0.026) for {'n_neighbors': 25, 'p': 3, 'weights': 'distance'}\n",
            "0.563 (+/-0.027) for {'n_neighbors': 25, 'p': 4, 'weights': 'uniform'}\n",
            "0.595 (+/-0.024) for {'n_neighbors': 25, 'p': 4, 'weights': 'distance'}\n",
            "0.590 (+/-0.018) for {'n_neighbors': 26, 'p': 1, 'weights': 'uniform'}\n",
            "0.620 (+/-0.018) for {'n_neighbors': 26, 'p': 1, 'weights': 'distance'}\n",
            "0.569 (+/-0.027) for {'n_neighbors': 26, 'p': 2, 'weights': 'uniform'}\n",
            "0.598 (+/-0.025) for {'n_neighbors': 26, 'p': 2, 'weights': 'distance'}\n",
            "0.565 (+/-0.027) for {'n_neighbors': 26, 'p': 3, 'weights': 'uniform'}\n",
            "0.595 (+/-0.028) for {'n_neighbors': 26, 'p': 3, 'weights': 'distance'}\n",
            "0.561 (+/-0.026) for {'n_neighbors': 26, 'p': 4, 'weights': 'uniform'}\n",
            "0.594 (+/-0.028) for {'n_neighbors': 26, 'p': 4, 'weights': 'distance'}\n",
            "0.590 (+/-0.021) for {'n_neighbors': 27, 'p': 1, 'weights': 'uniform'}\n",
            "0.619 (+/-0.016) for {'n_neighbors': 27, 'p': 1, 'weights': 'distance'}\n",
            "0.566 (+/-0.030) for {'n_neighbors': 27, 'p': 2, 'weights': 'uniform'}\n",
            "0.599 (+/-0.026) for {'n_neighbors': 27, 'p': 2, 'weights': 'distance'}\n",
            "0.562 (+/-0.027) for {'n_neighbors': 27, 'p': 3, 'weights': 'uniform'}\n",
            "0.595 (+/-0.026) for {'n_neighbors': 27, 'p': 3, 'weights': 'distance'}\n",
            "0.561 (+/-0.023) for {'n_neighbors': 27, 'p': 4, 'weights': 'uniform'}\n",
            "0.593 (+/-0.027) for {'n_neighbors': 27, 'p': 4, 'weights': 'distance'}\n",
            "0.587 (+/-0.020) for {'n_neighbors': 28, 'p': 1, 'weights': 'uniform'}\n",
            "0.618 (+/-0.017) for {'n_neighbors': 28, 'p': 1, 'weights': 'distance'}\n",
            "0.564 (+/-0.031) for {'n_neighbors': 28, 'p': 2, 'weights': 'uniform'}\n",
            "0.598 (+/-0.026) for {'n_neighbors': 28, 'p': 2, 'weights': 'distance'}\n",
            "0.560 (+/-0.025) for {'n_neighbors': 28, 'p': 3, 'weights': 'uniform'}\n",
            "0.594 (+/-0.025) for {'n_neighbors': 28, 'p': 3, 'weights': 'distance'}\n",
            "0.557 (+/-0.020) for {'n_neighbors': 28, 'p': 4, 'weights': 'uniform'}\n",
            "0.592 (+/-0.026) for {'n_neighbors': 28, 'p': 4, 'weights': 'distance'}\n",
            "0.589 (+/-0.019) for {'n_neighbors': 29, 'p': 1, 'weights': 'uniform'}\n",
            "0.619 (+/-0.020) for {'n_neighbors': 29, 'p': 1, 'weights': 'distance'}\n",
            "0.564 (+/-0.024) for {'n_neighbors': 29, 'p': 2, 'weights': 'uniform'}\n",
            "0.596 (+/-0.024) for {'n_neighbors': 29, 'p': 2, 'weights': 'distance'}\n",
            "0.560 (+/-0.023) for {'n_neighbors': 29, 'p': 3, 'weights': 'uniform'}\n",
            "0.592 (+/-0.026) for {'n_neighbors': 29, 'p': 3, 'weights': 'distance'}\n",
            "0.556 (+/-0.021) for {'n_neighbors': 29, 'p': 4, 'weights': 'uniform'}\n",
            "0.591 (+/-0.028) for {'n_neighbors': 29, 'p': 4, 'weights': 'distance'}\n",
            "\n"
          ],
          "name": "stdout"
        }
      ]
    },
    {
      "cell_type": "code",
      "metadata": {
        "colab": {
          "base_uri": "https://localhost:8080/"
        },
        "id": "pB7os0MQbzKV",
        "outputId": "b84c2a35-8d6e-47ff-f591-12c07aec70ed"
      },
      "source": [
        "modelKNN = KNeighborsClassifier(n_neighbors=6,weights='distance',p=1)\n",
        "modelKNN.fit(trainData_norm, trainLabels)\n",
        "evalua(modelKNN,testData_norm,testLabels)"
      ],
      "execution_count": 16,
      "outputs": [
        {
          "output_type": "stream",
          "text": [
            "Cambian 409 de 1200\n"
          ],
          "name": "stdout"
        }
      ]
    },
    {
      "cell_type": "markdown",
      "metadata": {
        "id": "ltuK9Q4DwWfA"
      },
      "source": [
        "Árboles de decisión"
      ]
    },
    {
      "cell_type": "code",
      "metadata": {
        "colab": {
          "base_uri": "https://localhost:8080/"
        },
        "id": "3lfZoKxMjmu8",
        "outputId": "bb420ff4-2838-4cef-fefe-b285968d7348"
      },
      "source": [
        "modelArbol = DecisionTreeClassifier(random_state=84)\n",
        "modelArbol.fit(trainData, trainLabels)\n",
        "evalua(modelArbol,testData,testLabels)"
      ],
      "execution_count": 17,
      "outputs": [
        {
          "output_type": "stream",
          "text": [
            "Cambian 391 de 1200\n"
          ],
          "name": "stdout"
        }
      ]
    },
    {
      "cell_type": "markdown",
      "metadata": {
        "id": "7BV5v7Y-we8L"
      },
      "source": [
        "Podría merecernos la pena hacer un mejor ajuste de hiperparámetros."
      ]
    },
    {
      "cell_type": "code",
      "metadata": {
        "colab": {
          "base_uri": "https://localhost:8080/"
        },
        "id": "YCLzO4zki4-C",
        "outputId": "f6c39fc0-2a1c-4869-9d11-79df997378ac"
      },
      "source": [
        "for k in range(2,11,1):\n",
        "    modelArbol = DecisionTreeClassifier(min_samples_split=k,random_state=84)\n",
        "    modelArbol.fit(trainData, trainLabels)\n",
        "    score = modelArbol.score(testData,testLabels)\n",
        "    print(\"k=%d, precisión=%.2f%%\" % (k, score * 100))"
      ],
      "execution_count": 18,
      "outputs": [
        {
          "output_type": "stream",
          "text": [
            "k=2, precisión=67.42%\n",
            "k=3, precisión=67.08%\n",
            "k=4, precisión=66.42%\n",
            "k=5, precisión=66.58%\n",
            "k=6, precisión=66.25%\n",
            "k=7, precisión=66.58%\n",
            "k=8, precisión=66.50%\n",
            "k=9, precisión=66.67%\n",
            "k=10, precisión=66.58%\n"
          ],
          "name": "stdout"
        }
      ]
    },
    {
      "cell_type": "code",
      "metadata": {
        "colab": {
          "base_uri": "https://localhost:8080/"
        },
        "id": "PAgsRc1TjGU-",
        "outputId": "ef4b81f7-c3bc-43cd-c4a2-57f369334a6f"
      },
      "source": [
        "for k in range(2,11,1):\n",
        "    modelArbol = DecisionTreeClassifier(min_samples_split=k,random_state=84)\n",
        "    modelArbol.fit(trainData_norm, trainLabels)\n",
        "    score = modelArbol.score(testData_norm,testLabels)\n",
        "    print(\"k=%d, precisión=%.2f%%\" % (k, score * 100))"
      ],
      "execution_count": 19,
      "outputs": [
        {
          "output_type": "stream",
          "text": [
            "k=2, precisión=66.67%\n",
            "k=3, precisión=66.83%\n",
            "k=4, precisión=66.50%\n",
            "k=5, precisión=66.42%\n",
            "k=6, precisión=66.50%\n",
            "k=7, precisión=67.00%\n",
            "k=8, precisión=66.42%\n",
            "k=9, precisión=66.75%\n",
            "k=10, precisión=66.75%\n"
          ],
          "name": "stdout"
        }
      ]
    },
    {
      "cell_type": "code",
      "metadata": {
        "colab": {
          "base_uri": "https://localhost:8080/"
        },
        "id": "-mAClcBfjF_d",
        "outputId": "aaa28c47-bc46-406b-f9dd-d9ac03103ba1"
      },
      "source": [
        "for k in range(2,11,1):\n",
        "    modelArbol = DecisionTreeClassifier(min_samples_split=k,random_state=84)\n",
        "    modelArbol.fit(trainData_std, trainLabels)\n",
        "    score = modelArbol.score(testData_std,testLabels)\n",
        "    print(\"k=%d, precisión=%.2f%%\" % (k, score * 100))"
      ],
      "execution_count": 20,
      "outputs": [
        {
          "output_type": "stream",
          "text": [
            "k=2, precisión=67.25%\n",
            "k=3, precisión=66.42%\n",
            "k=4, precisión=66.58%\n",
            "k=5, precisión=66.25%\n",
            "k=6, precisión=66.17%\n",
            "k=7, precisión=66.67%\n",
            "k=8, precisión=66.50%\n",
            "k=9, precisión=66.42%\n",
            "k=10, precisión=66.58%\n"
          ],
          "name": "stdout"
        }
      ]
    },
    {
      "cell_type": "code",
      "metadata": {
        "colab": {
          "base_uri": "https://localhost:8080/"
        },
        "id": "W82qhfHXjFrb",
        "outputId": "420ec8e2-097b-4a70-fbf3-c3076a3c90ed"
      },
      "source": [
        "for k in range(2,11,1):\n",
        "    modelArbol = DecisionTreeClassifier(min_samples_split=k,random_state=84)\n",
        "    modelArbol.fit(trainData_norm_std, trainLabels)\n",
        "    score = modelArbol.score(testData_norm_std,testLabels)\n",
        "    print(\"k=%d, precisión=%.2f%%\" % (k, score * 100))"
      ],
      "execution_count": 21,
      "outputs": [
        {
          "output_type": "stream",
          "text": [
            "k=2, precisión=67.25%\n",
            "k=3, precisión=66.42%\n",
            "k=4, precisión=66.58%\n",
            "k=5, precisión=66.25%\n",
            "k=6, precisión=66.17%\n",
            "k=7, precisión=66.67%\n",
            "k=8, precisión=66.50%\n",
            "k=9, precisión=66.42%\n",
            "k=10, precisión=66.58%\n"
          ],
          "name": "stdout"
        }
      ]
    },
    {
      "cell_type": "code",
      "metadata": {
        "colab": {
          "base_uri": "https://localhost:8080/"
        },
        "id": "9ckW_QFojefF",
        "outputId": "cd82662c-788d-425c-f0dc-b09e8725c42f"
      },
      "source": [
        "for k in range(2,11,1):\n",
        "    modelArbol = DecisionTreeClassifier(min_samples_split=k,random_state=84)\n",
        "    modelArbol.fit(trainData_norm_std, trainLabels)\n",
        "    score = modelArbol.score(testData_norm_std,testLabels)\n",
        "    print(\"k=%d, precisión=%.2f%%\" % (k, score * 100))"
      ],
      "execution_count": 22,
      "outputs": [
        {
          "output_type": "stream",
          "text": [
            "k=2, precisión=67.25%\n",
            "k=3, precisión=66.42%\n",
            "k=4, precisión=66.58%\n",
            "k=5, precisión=66.25%\n",
            "k=6, precisión=66.17%\n",
            "k=7, precisión=66.67%\n",
            "k=8, precisión=66.50%\n",
            "k=9, precisión=66.42%\n",
            "k=10, precisión=66.58%\n"
          ],
          "name": "stdout"
        }
      ]
    },
    {
      "cell_type": "code",
      "metadata": {
        "colab": {
          "base_uri": "https://localhost:8080/"
        },
        "id": "adkahfApnFvx",
        "outputId": "5cc148b2-81b5-43fe-dbb4-1994eada7dcf"
      },
      "source": [
        "modelArbol = DecisionTreeClassifier(min_samples_split=2,random_state=84)\n",
        "modelArbol.fit(trainData_norm_std, trainLabels)\n",
        "evalua(modelArbol,testData_norm_std,testLabels)"
      ],
      "execution_count": 23,
      "outputs": [
        {
          "output_type": "stream",
          "text": [
            "Cambian 393 de 1200\n"
          ],
          "name": "stdout"
        }
      ]
    },
    {
      "cell_type": "code",
      "metadata": {
        "colab": {
          "base_uri": "https://localhost:8080/"
        },
        "id": "geVmNzJXl5Za",
        "outputId": "5195d8db-7104-4197-d29a-b769f4165425"
      },
      "source": [
        "modelArbol = DecisionTreeClassifier()\n",
        "randomsearch(modelArbol, {'criterion': ['gini','entropy'], \n",
        "                        'min_samples_split': [i for i in range(2,11,1)], 'max_features': ['auto','sqrt','log2']})"
      ],
      "execution_count": 24,
      "outputs": [
        {
          "output_type": "stream",
          "text": [
            "# Tuning hyper-parameters for 0.6658333333333334\n",
            "\n",
            "Best parameters set found on development set:\n",
            "\n",
            "{'min_samples_split': 8, 'max_features': 'auto', 'criterion': 'gini'}\n",
            "\n"
          ],
          "name": "stdout"
        }
      ]
    },
    {
      "cell_type": "code",
      "metadata": {
        "colab": {
          "base_uri": "https://localhost:8080/"
        },
        "id": "DRItouo8mpGQ",
        "outputId": "a63db3c3-4493-49b9-a575-392a2a049c58"
      },
      "source": [
        "modelArbol = DecisionTreeClassifier(criterion='entropy',min_samples_split=2,random_state=84)\n",
        "modelArbol.fit(trainData_norm_std, trainLabels)\n",
        "evalua(modelArbol,testData_norm_std,testLabels)"
      ],
      "execution_count": 25,
      "outputs": [
        {
          "output_type": "stream",
          "text": [
            "Cambian 382 de 1200\n"
          ],
          "name": "stdout"
        }
      ]
    },
    {
      "cell_type": "code",
      "metadata": {
        "colab": {
          "base_uri": "https://localhost:8080/"
        },
        "id": "z8eESIzmmwcc",
        "outputId": "575236e3-1eb1-480b-cf66-20cccfb3305e"
      },
      "source": [
        "gridsearch(modelArbol,[{'criterion': ['gini','entropy'], \n",
        "                        'min_samples_split': [i for i in range(2,11,1)], 'max_features': ['auto','sqrt','log2']}],['precision', 'recall'],5)"
      ],
      "execution_count": 26,
      "outputs": [
        {
          "output_type": "stream",
          "text": [
            "# Tuning hyper-parameters for precision\n",
            "\n",
            "Best parameters set found on development set:\n",
            "\n",
            "{'criterion': 'entropy', 'max_features': 'auto', 'min_samples_split': 2}\n",
            "\n",
            "Grid scores on development set:\n",
            "\n",
            "0.661 (+/-0.020) for {'criterion': 'gini', 'max_features': 'auto', 'min_samples_split': 2}\n",
            "0.651 (+/-0.018) for {'criterion': 'gini', 'max_features': 'auto', 'min_samples_split': 3}\n",
            "0.657 (+/-0.018) for {'criterion': 'gini', 'max_features': 'auto', 'min_samples_split': 4}\n",
            "0.660 (+/-0.008) for {'criterion': 'gini', 'max_features': 'auto', 'min_samples_split': 5}\n",
            "0.666 (+/-0.012) for {'criterion': 'gini', 'max_features': 'auto', 'min_samples_split': 6}\n",
            "0.660 (+/-0.013) for {'criterion': 'gini', 'max_features': 'auto', 'min_samples_split': 7}\n",
            "0.656 (+/-0.027) for {'criterion': 'gini', 'max_features': 'auto', 'min_samples_split': 8}\n",
            "0.652 (+/-0.018) for {'criterion': 'gini', 'max_features': 'auto', 'min_samples_split': 9}\n",
            "0.662 (+/-0.011) for {'criterion': 'gini', 'max_features': 'auto', 'min_samples_split': 10}\n",
            "0.661 (+/-0.020) for {'criterion': 'gini', 'max_features': 'sqrt', 'min_samples_split': 2}\n",
            "0.651 (+/-0.018) for {'criterion': 'gini', 'max_features': 'sqrt', 'min_samples_split': 3}\n",
            "0.657 (+/-0.018) for {'criterion': 'gini', 'max_features': 'sqrt', 'min_samples_split': 4}\n",
            "0.660 (+/-0.008) for {'criterion': 'gini', 'max_features': 'sqrt', 'min_samples_split': 5}\n",
            "0.666 (+/-0.012) for {'criterion': 'gini', 'max_features': 'sqrt', 'min_samples_split': 6}\n",
            "0.660 (+/-0.013) for {'criterion': 'gini', 'max_features': 'sqrt', 'min_samples_split': 7}\n",
            "0.656 (+/-0.027) for {'criterion': 'gini', 'max_features': 'sqrt', 'min_samples_split': 8}\n",
            "0.652 (+/-0.018) for {'criterion': 'gini', 'max_features': 'sqrt', 'min_samples_split': 9}\n",
            "0.662 (+/-0.011) for {'criterion': 'gini', 'max_features': 'sqrt', 'min_samples_split': 10}\n",
            "0.661 (+/-0.020) for {'criterion': 'gini', 'max_features': 'log2', 'min_samples_split': 2}\n",
            "0.651 (+/-0.018) for {'criterion': 'gini', 'max_features': 'log2', 'min_samples_split': 3}\n",
            "0.657 (+/-0.018) for {'criterion': 'gini', 'max_features': 'log2', 'min_samples_split': 4}\n",
            "0.660 (+/-0.008) for {'criterion': 'gini', 'max_features': 'log2', 'min_samples_split': 5}\n",
            "0.666 (+/-0.012) for {'criterion': 'gini', 'max_features': 'log2', 'min_samples_split': 6}\n",
            "0.660 (+/-0.013) for {'criterion': 'gini', 'max_features': 'log2', 'min_samples_split': 7}\n",
            "0.656 (+/-0.027) for {'criterion': 'gini', 'max_features': 'log2', 'min_samples_split': 8}\n",
            "0.652 (+/-0.018) for {'criterion': 'gini', 'max_features': 'log2', 'min_samples_split': 9}\n",
            "0.662 (+/-0.011) for {'criterion': 'gini', 'max_features': 'log2', 'min_samples_split': 10}\n",
            "0.669 (+/-0.013) for {'criterion': 'entropy', 'max_features': 'auto', 'min_samples_split': 2}\n",
            "0.660 (+/-0.022) for {'criterion': 'entropy', 'max_features': 'auto', 'min_samples_split': 3}\n",
            "0.656 (+/-0.011) for {'criterion': 'entropy', 'max_features': 'auto', 'min_samples_split': 4}\n",
            "0.662 (+/-0.024) for {'criterion': 'entropy', 'max_features': 'auto', 'min_samples_split': 5}\n",
            "0.664 (+/-0.027) for {'criterion': 'entropy', 'max_features': 'auto', 'min_samples_split': 6}\n",
            "0.650 (+/-0.016) for {'criterion': 'entropy', 'max_features': 'auto', 'min_samples_split': 7}\n",
            "0.665 (+/-0.016) for {'criterion': 'entropy', 'max_features': 'auto', 'min_samples_split': 8}\n",
            "0.666 (+/-0.023) for {'criterion': 'entropy', 'max_features': 'auto', 'min_samples_split': 9}\n",
            "0.668 (+/-0.023) for {'criterion': 'entropy', 'max_features': 'auto', 'min_samples_split': 10}\n",
            "0.669 (+/-0.013) for {'criterion': 'entropy', 'max_features': 'sqrt', 'min_samples_split': 2}\n",
            "0.660 (+/-0.022) for {'criterion': 'entropy', 'max_features': 'sqrt', 'min_samples_split': 3}\n",
            "0.656 (+/-0.011) for {'criterion': 'entropy', 'max_features': 'sqrt', 'min_samples_split': 4}\n",
            "0.662 (+/-0.024) for {'criterion': 'entropy', 'max_features': 'sqrt', 'min_samples_split': 5}\n",
            "0.664 (+/-0.027) for {'criterion': 'entropy', 'max_features': 'sqrt', 'min_samples_split': 6}\n",
            "0.650 (+/-0.016) for {'criterion': 'entropy', 'max_features': 'sqrt', 'min_samples_split': 7}\n",
            "0.665 (+/-0.016) for {'criterion': 'entropy', 'max_features': 'sqrt', 'min_samples_split': 8}\n",
            "0.666 (+/-0.023) for {'criterion': 'entropy', 'max_features': 'sqrt', 'min_samples_split': 9}\n",
            "0.668 (+/-0.023) for {'criterion': 'entropy', 'max_features': 'sqrt', 'min_samples_split': 10}\n",
            "0.669 (+/-0.013) for {'criterion': 'entropy', 'max_features': 'log2', 'min_samples_split': 2}\n",
            "0.660 (+/-0.022) for {'criterion': 'entropy', 'max_features': 'log2', 'min_samples_split': 3}\n",
            "0.656 (+/-0.011) for {'criterion': 'entropy', 'max_features': 'log2', 'min_samples_split': 4}\n",
            "0.662 (+/-0.024) for {'criterion': 'entropy', 'max_features': 'log2', 'min_samples_split': 5}\n",
            "0.664 (+/-0.027) for {'criterion': 'entropy', 'max_features': 'log2', 'min_samples_split': 6}\n",
            "0.650 (+/-0.016) for {'criterion': 'entropy', 'max_features': 'log2', 'min_samples_split': 7}\n",
            "0.665 (+/-0.016) for {'criterion': 'entropy', 'max_features': 'log2', 'min_samples_split': 8}\n",
            "0.666 (+/-0.023) for {'criterion': 'entropy', 'max_features': 'log2', 'min_samples_split': 9}\n",
            "0.668 (+/-0.023) for {'criterion': 'entropy', 'max_features': 'log2', 'min_samples_split': 10}\n",
            "\n",
            "# Tuning hyper-parameters for recall\n",
            "\n",
            "Best parameters set found on development set:\n",
            "\n",
            "{'criterion': 'entropy', 'max_features': 'auto', 'min_samples_split': 2}\n",
            "\n",
            "Grid scores on development set:\n",
            "\n",
            "0.666 (+/-0.037) for {'criterion': 'gini', 'max_features': 'auto', 'min_samples_split': 2}\n",
            "0.660 (+/-0.017) for {'criterion': 'gini', 'max_features': 'auto', 'min_samples_split': 3}\n",
            "0.663 (+/-0.018) for {'criterion': 'gini', 'max_features': 'auto', 'min_samples_split': 4}\n",
            "0.662 (+/-0.010) for {'criterion': 'gini', 'max_features': 'auto', 'min_samples_split': 5}\n",
            "0.670 (+/-0.009) for {'criterion': 'gini', 'max_features': 'auto', 'min_samples_split': 6}\n",
            "0.663 (+/-0.017) for {'criterion': 'gini', 'max_features': 'auto', 'min_samples_split': 7}\n",
            "0.663 (+/-0.014) for {'criterion': 'gini', 'max_features': 'auto', 'min_samples_split': 8}\n",
            "0.654 (+/-0.020) for {'criterion': 'gini', 'max_features': 'auto', 'min_samples_split': 9}\n",
            "0.667 (+/-0.024) for {'criterion': 'gini', 'max_features': 'auto', 'min_samples_split': 10}\n",
            "0.666 (+/-0.037) for {'criterion': 'gini', 'max_features': 'sqrt', 'min_samples_split': 2}\n",
            "0.660 (+/-0.017) for {'criterion': 'gini', 'max_features': 'sqrt', 'min_samples_split': 3}\n",
            "0.663 (+/-0.018) for {'criterion': 'gini', 'max_features': 'sqrt', 'min_samples_split': 4}\n",
            "0.662 (+/-0.010) for {'criterion': 'gini', 'max_features': 'sqrt', 'min_samples_split': 5}\n",
            "0.670 (+/-0.009) for {'criterion': 'gini', 'max_features': 'sqrt', 'min_samples_split': 6}\n",
            "0.663 (+/-0.017) for {'criterion': 'gini', 'max_features': 'sqrt', 'min_samples_split': 7}\n",
            "0.663 (+/-0.014) for {'criterion': 'gini', 'max_features': 'sqrt', 'min_samples_split': 8}\n",
            "0.654 (+/-0.020) for {'criterion': 'gini', 'max_features': 'sqrt', 'min_samples_split': 9}\n",
            "0.667 (+/-0.024) for {'criterion': 'gini', 'max_features': 'sqrt', 'min_samples_split': 10}\n",
            "0.666 (+/-0.037) for {'criterion': 'gini', 'max_features': 'log2', 'min_samples_split': 2}\n",
            "0.660 (+/-0.017) for {'criterion': 'gini', 'max_features': 'log2', 'min_samples_split': 3}\n",
            "0.663 (+/-0.018) for {'criterion': 'gini', 'max_features': 'log2', 'min_samples_split': 4}\n",
            "0.662 (+/-0.010) for {'criterion': 'gini', 'max_features': 'log2', 'min_samples_split': 5}\n",
            "0.670 (+/-0.009) for {'criterion': 'gini', 'max_features': 'log2', 'min_samples_split': 6}\n",
            "0.663 (+/-0.017) for {'criterion': 'gini', 'max_features': 'log2', 'min_samples_split': 7}\n",
            "0.663 (+/-0.014) for {'criterion': 'gini', 'max_features': 'log2', 'min_samples_split': 8}\n",
            "0.654 (+/-0.020) for {'criterion': 'gini', 'max_features': 'log2', 'min_samples_split': 9}\n",
            "0.667 (+/-0.024) for {'criterion': 'gini', 'max_features': 'log2', 'min_samples_split': 10}\n",
            "0.671 (+/-0.012) for {'criterion': 'entropy', 'max_features': 'auto', 'min_samples_split': 2}\n",
            "0.666 (+/-0.011) for {'criterion': 'entropy', 'max_features': 'auto', 'min_samples_split': 3}\n",
            "0.668 (+/-0.027) for {'criterion': 'entropy', 'max_features': 'auto', 'min_samples_split': 4}\n",
            "0.663 (+/-0.027) for {'criterion': 'entropy', 'max_features': 'auto', 'min_samples_split': 5}\n",
            "0.665 (+/-0.038) for {'criterion': 'entropy', 'max_features': 'auto', 'min_samples_split': 6}\n",
            "0.659 (+/-0.021) for {'criterion': 'entropy', 'max_features': 'auto', 'min_samples_split': 7}\n",
            "0.662 (+/-0.024) for {'criterion': 'entropy', 'max_features': 'auto', 'min_samples_split': 8}\n",
            "0.671 (+/-0.017) for {'criterion': 'entropy', 'max_features': 'auto', 'min_samples_split': 9}\n",
            "0.670 (+/-0.007) for {'criterion': 'entropy', 'max_features': 'auto', 'min_samples_split': 10}\n",
            "0.671 (+/-0.012) for {'criterion': 'entropy', 'max_features': 'sqrt', 'min_samples_split': 2}\n",
            "0.666 (+/-0.011) for {'criterion': 'entropy', 'max_features': 'sqrt', 'min_samples_split': 3}\n",
            "0.668 (+/-0.027) for {'criterion': 'entropy', 'max_features': 'sqrt', 'min_samples_split': 4}\n",
            "0.663 (+/-0.027) for {'criterion': 'entropy', 'max_features': 'sqrt', 'min_samples_split': 5}\n",
            "0.665 (+/-0.038) for {'criterion': 'entropy', 'max_features': 'sqrt', 'min_samples_split': 6}\n",
            "0.659 (+/-0.021) for {'criterion': 'entropy', 'max_features': 'sqrt', 'min_samples_split': 7}\n",
            "0.662 (+/-0.024) for {'criterion': 'entropy', 'max_features': 'sqrt', 'min_samples_split': 8}\n",
            "0.671 (+/-0.017) for {'criterion': 'entropy', 'max_features': 'sqrt', 'min_samples_split': 9}\n",
            "0.670 (+/-0.007) for {'criterion': 'entropy', 'max_features': 'sqrt', 'min_samples_split': 10}\n",
            "0.671 (+/-0.012) for {'criterion': 'entropy', 'max_features': 'log2', 'min_samples_split': 2}\n",
            "0.666 (+/-0.011) for {'criterion': 'entropy', 'max_features': 'log2', 'min_samples_split': 3}\n",
            "0.668 (+/-0.027) for {'criterion': 'entropy', 'max_features': 'log2', 'min_samples_split': 4}\n",
            "0.663 (+/-0.027) for {'criterion': 'entropy', 'max_features': 'log2', 'min_samples_split': 5}\n",
            "0.665 (+/-0.038) for {'criterion': 'entropy', 'max_features': 'log2', 'min_samples_split': 6}\n",
            "0.659 (+/-0.021) for {'criterion': 'entropy', 'max_features': 'log2', 'min_samples_split': 7}\n",
            "0.662 (+/-0.024) for {'criterion': 'entropy', 'max_features': 'log2', 'min_samples_split': 8}\n",
            "0.671 (+/-0.017) for {'criterion': 'entropy', 'max_features': 'log2', 'min_samples_split': 9}\n",
            "0.670 (+/-0.007) for {'criterion': 'entropy', 'max_features': 'log2', 'min_samples_split': 10}\n",
            "\n"
          ],
          "name": "stdout"
        }
      ]
    },
    {
      "cell_type": "code",
      "metadata": {
        "colab": {
          "base_uri": "https://localhost:8080/"
        },
        "id": "VOX4yR16p-J7",
        "outputId": "994d119d-8aaf-4f08-b28b-73ec93b8a4fe"
      },
      "source": [
        "for k in range(2,11,1):\n",
        "    modelArbol = DecisionTreeClassifier(criterion='entropy',min_samples_split=k,max_features='log2',random_state=84)\n",
        "    scores = cross_val_score(modelArbol,trainData_norm_std,trainLabels,cv=10)\n",
        "    print(\"k=%d, Precisión: %0.2f (+/- %0.2f)\" % (k, scores.mean(), scores.std() * 2))"
      ],
      "execution_count": 27,
      "outputs": [
        {
          "output_type": "stream",
          "text": [
            "k=2, Precisión: 0.68 (+/- 0.02)\n",
            "k=3, Precisión: 0.68 (+/- 0.03)\n",
            "k=4, Precisión: 0.68 (+/- 0.03)\n",
            "k=5, Precisión: 0.69 (+/- 0.02)\n",
            "k=6, Precisión: 0.68 (+/- 0.03)\n",
            "k=7, Precisión: 0.68 (+/- 0.02)\n",
            "k=8, Precisión: 0.68 (+/- 0.03)\n",
            "k=9, Precisión: 0.68 (+/- 0.02)\n",
            "k=10, Precisión: 0.68 (+/- 0.03)\n"
          ],
          "name": "stdout"
        }
      ]
    },
    {
      "cell_type": "code",
      "metadata": {
        "colab": {
          "base_uri": "https://localhost:8080/"
        },
        "id": "wZDLHBiyNTsN",
        "outputId": "bfa8fcc9-93a8-4ccc-f5c1-b0f6bb1b58be"
      },
      "source": [
        "modelArbol = DecisionTreeClassifier(criterion='entropy',min_samples_split=5,max_features='log2',random_state=84)\n",
        "modelArbol.fit(trainData_norm_std, trainLabels)\n",
        "evalua(modelArbol,testData_norm_std,testLabels)"
      ],
      "execution_count": 28,
      "outputs": [
        {
          "output_type": "stream",
          "text": [
            "Cambian 373 de 1200\n"
          ],
          "name": "stdout"
        }
      ]
    },
    {
      "cell_type": "markdown",
      "metadata": {
        "id": "8WJO-OrfwuNR"
      },
      "source": [
        "Regresión logística"
      ]
    },
    {
      "cell_type": "code",
      "metadata": {
        "colab": {
          "base_uri": "https://localhost:8080/"
        },
        "id": "kF5_HTJ-Oekh",
        "outputId": "8b3c62a2-30c1-4f5e-a04d-feb4537149d0"
      },
      "source": [
        "modelLR = LogisticRegression(random_state=84)\n",
        "modelLR.fit(trainData, trainLabels)\n",
        "evalua(modelLR,testData,testLabels)"
      ],
      "execution_count": 29,
      "outputs": [
        {
          "output_type": "stream",
          "text": [
            "Cambian 829 de 1200\n"
          ],
          "name": "stdout"
        },
        {
          "output_type": "stream",
          "text": [
            "/usr/local/lib/python3.7/dist-packages/sklearn/linear_model/_logistic.py:940: ConvergenceWarning: lbfgs failed to converge (status=1):\n",
            "STOP: TOTAL NO. of ITERATIONS REACHED LIMIT.\n",
            "\n",
            "Increase the number of iterations (max_iter) or scale the data as shown in:\n",
            "    https://scikit-learn.org/stable/modules/preprocessing.html\n",
            "Please also refer to the documentation for alternative solver options:\n",
            "    https://scikit-learn.org/stable/modules/linear_model.html#logistic-regression\n",
            "  extra_warning_msg=_LOGISTIC_SOLVER_CONVERGENCE_MSG)\n"
          ],
          "name": "stderr"
        }
      ]
    },
    {
      "cell_type": "markdown",
      "metadata": {
        "id": "PVRoJc7gxfhO"
      },
      "source": [
        "Este método se ve especialmente inapropiado para este conjunto de datos. No lo vamos a seguir estudiando.\n",
        "\n"
      ]
    },
    {
      "cell_type": "markdown",
      "metadata": {
        "id": "1c5tgkLyxp-M"
      },
      "source": [
        "SVM"
      ]
    },
    {
      "cell_type": "code",
      "metadata": {
        "id": "HK6foY4tO0Eq",
        "outputId": "e59151ff-719d-4e5b-9892-237ed99bccea",
        "colab": {
          "base_uri": "https://localhost:8080/",
          "height": 52
        }
      },
      "source": [
        "'''modelSVMLineal = SVC(kernel=\"linear\")\n",
        "modelSVMLineal.fit(trainData, trainLabels)\n",
        "evalua(modelSVMLineal,testData,testLabels)'''\n",
        "\n",
        "# No consigue ejecutarlo"
      ],
      "execution_count": 32,
      "outputs": [
        {
          "output_type": "execute_result",
          "data": {
            "application/vnd.google.colaboratory.intrinsic+json": {
              "type": "string"
            },
            "text/plain": [
              "'modelSVMLineal = SVC(kernel=\"linear\")\\nmodelSVMLineal.fit(trainData, trainLabels)\\nevalua(modelSVMLineal,testData,testLabels)'"
            ]
          },
          "metadata": {
            "tags": []
          },
          "execution_count": 32
        }
      ]
    },
    {
      "cell_type": "code",
      "metadata": {
        "id": "I13KgZTePF-q",
        "colab": {
          "base_uri": "https://localhost:8080/"
        },
        "outputId": "362658e8-e153-4920-ebaf-2878bbae8140"
      },
      "source": [
        "modelSVMSigmoide = SVC(kernel=\"sigmoid\",gamma=2,coef0=1)\n",
        "modelSVMSigmoide.fit(trainData, trainLabels)\n",
        "evalua(modelSVMSigmoide,testData,testLabels)"
      ],
      "execution_count": 33,
      "outputs": [
        {
          "output_type": "stream",
          "text": [
            "Cambian 850 de 1200\n"
          ],
          "name": "stdout"
        }
      ]
    },
    {
      "cell_type": "markdown",
      "metadata": {
        "id": "H9zczPILxw9A"
      },
      "source": [
        "Este método se ve especialmente inapropiado para este conjunto de datos. No lo vamos a seguir estudiando."
      ]
    },
    {
      "cell_type": "code",
      "metadata": {
        "colab": {
          "base_uri": "https://localhost:8080/"
        },
        "id": "WHzF2zEmbLSJ",
        "outputId": "b37c822f-4f74-4ce1-f89d-d6a5c881c98d"
      },
      "source": [
        "modelPerceptron = Perceptron(max_iter=10,eta0=1.0,random_state=84)\n",
        "modelPerceptron.fit(trainData,trainLabels)\n",
        "evalua(modelPerceptron,testData,testLabels)"
      ],
      "execution_count": 34,
      "outputs": [
        {
          "output_type": "stream",
          "text": [
            "Cambian 950 de 1200\n"
          ],
          "name": "stdout"
        },
        {
          "output_type": "stream",
          "text": [
            "/usr/local/lib/python3.7/dist-packages/sklearn/linear_model/_stochastic_gradient.py:557: ConvergenceWarning: Maximum number of iteration reached before convergence. Consider increasing max_iter to improve the fit.\n",
            "  ConvergenceWarning)\n"
          ],
          "name": "stderr"
        }
      ]
    },
    {
      "cell_type": "code",
      "metadata": {
        "id": "RV5xLNtXPdxl",
        "colab": {
          "base_uri": "https://localhost:8080/"
        },
        "outputId": "34f70c52-4f57-44d0-b6e6-4890eb29af74"
      },
      "source": [
        "modelMultiLayerPerceptron = MLPClassifier(hidden_layer_sizes=(5,2),learning_rate_init=0.001,momentum=0.9)\n",
        "modelMultiLayerPerceptron.fit(trainData,trainLabels)\n",
        "evalua(modelMultiLayerPerceptron,testData,testLabels)\n"
      ],
      "execution_count": 35,
      "outputs": [
        {
          "output_type": "stream",
          "text": [
            "Cambian 853 de 1200\n"
          ],
          "name": "stdout"
        }
      ]
    },
    {
      "cell_type": "markdown",
      "metadata": {
        "id": "Kh2L22AAyj3i"
      },
      "source": [
        "Este método se ve especialmente inapropiado para este conjunto de datos. No lo vamos a seguir estudiando."
      ]
    },
    {
      "cell_type": "markdown",
      "metadata": {
        "id": "ZLhcFUShyljM"
      },
      "source": [
        "Regresión lineal"
      ]
    },
    {
      "cell_type": "markdown",
      "metadata": {
        "id": "zXIivr8HyoKs"
      },
      "source": [
        "Hemos visto que la correlación entre las variables era casi nula, por tanto debería ser un modelo que dé malos resultados."
      ]
    },
    {
      "cell_type": "code",
      "metadata": {
        "id": "1M9mJIKuXjMS"
      },
      "source": [
        "slr = LinearRegression(normalize=True)\n",
        "slr.fit(trainData_std,trainLabels)\n",
        "y_train_pred = slr.predict(trainData_std)\n",
        "y_test_pred = slr.predict(testData_std)"
      ],
      "execution_count": 36,
      "outputs": []
    },
    {
      "cell_type": "code",
      "metadata": {
        "colab": {
          "base_uri": "https://localhost:8080/"
        },
        "id": "a-eEVhWZIdFN",
        "outputId": "e6f68f24-7d81-410f-d826-601c7a0476fd"
      },
      "source": [
        "print('Valor MSE entrenamiento: %.3f, valor MSE test: %.3f' % \n",
        "      (mean_squared_error(trainLabels,y_train_pred),\n",
        "      mean_squared_error(testLabels,y_test_pred)))"
      ],
      "execution_count": 37,
      "outputs": [
        {
          "output_type": "stream",
          "text": [
            "Valor MSE entrenamiento: 2.899, valor MSE test: 3.047\n"
          ],
          "name": "stdout"
        }
      ]
    },
    {
      "cell_type": "code",
      "metadata": {
        "id": "xmlX8SU3KY5n"
      },
      "source": [
        "y_test_pred_round = []\n",
        "for elem in y_test_pred:\n",
        "  y_test_pred_round.append(round(elem))\n",
        "y_test_pred_round = np.array(y_test_pred_round)"
      ],
      "execution_count": 38,
      "outputs": []
    },
    {
      "cell_type": "code",
      "metadata": {
        "colab": {
          "base_uri": "https://localhost:8080/"
        },
        "id": "uvddISKCLWxb",
        "outputId": "d9b1abe6-4b70-4507-9767-cdf39d949f37"
      },
      "source": [
        "num = 0\n",
        "for i in range(0,len(y_test_pred_round)):\n",
        "  if y_test_pred_round[i] == testLabels[i]:\n",
        "    num = num + 1\n",
        "print('Cambian ' + str(len(testLabels) - num) + ' de ' + str(len(testLabels)))"
      ],
      "execution_count": 39,
      "outputs": [
        {
          "output_type": "stream",
          "text": [
            "Cambian 1044 de 1200\n"
          ],
          "name": "stdout"
        }
      ]
    },
    {
      "cell_type": "markdown",
      "metadata": {
        "id": "LyXwL-2hzm4Q"
      },
      "source": [
        "RandomForest"
      ]
    },
    {
      "cell_type": "markdown",
      "metadata": {
        "id": "z3PBPTPhzpbC"
      },
      "source": [
        "En vista de que los árboles de decisión son el modelo que mejor se ha ajustado vamos a probar con los RandomForest."
      ]
    },
    {
      "cell_type": "code",
      "metadata": {
        "id": "tIwwwUGUz71j",
        "outputId": "73d2cba6-be5f-4e85-95db-7d0f06c2ff1e",
        "colab": {
          "base_uri": "https://localhost:8080/"
        }
      },
      "source": [
        "forest = RandomForestClassifier(random_state=84)\n",
        "forest.fit(trainData, trainLabels)\n",
        "evalua(forest,testData,testLabels)"
      ],
      "execution_count": 41,
      "outputs": [
        {
          "output_type": "stream",
          "text": [
            "Cambian 313 de 1200\n"
          ],
          "name": "stdout"
        }
      ]
    },
    {
      "cell_type": "markdown",
      "metadata": {
        "id": "BlFNMO2m0dJ6"
      },
      "source": [
        "Este hasta el momento es el método que mejor se ha ajustado. Sin embargo por cómo está implementado sabemos que la búsqueda de los hiperparámetros adecuados no mejorará mucho el modelo. No obstante vamos a tratar de ajustarlo lo mejor posible."
      ]
    },
    {
      "cell_type": "code",
      "metadata": {
        "id": "k7U2vCH6z7xQ",
        "outputId": "42c24ec3-21fc-4d35-cc80-04c13745c909",
        "colab": {
          "base_uri": "https://localhost:8080/"
        }
      },
      "source": [
        "for k in range(2,15,1):\n",
        "    modelArbol = RandomForestClassifier(min_samples_split=k,random_state=84)\n",
        "    modelArbol.fit(trainData, trainLabels)\n",
        "    score = modelArbol.score(testData,testLabels)\n",
        "    print(\"k=%d, precisión=%.2f%%\" % (k, score * 100))"
      ],
      "execution_count": 42,
      "outputs": [
        {
          "output_type": "stream",
          "text": [
            "k=2, precisión=73.92%\n",
            "k=3, precisión=73.50%\n",
            "k=4, precisión=73.75%\n",
            "k=5, precisión=74.08%\n",
            "k=6, precisión=73.92%\n",
            "k=7, precisión=74.25%\n",
            "k=8, precisión=73.50%\n",
            "k=9, precisión=73.50%\n",
            "k=10, precisión=74.08%\n",
            "k=11, precisión=74.17%\n",
            "k=12, precisión=73.67%\n",
            "k=13, precisión=73.50%\n",
            "k=14, precisión=73.42%\n"
          ],
          "name": "stdout"
        }
      ]
    },
    {
      "cell_type": "code",
      "metadata": {
        "id": "lZCthPGEz7ow",
        "outputId": "5451b419-d968-4c1d-c8a9-04e968ac0129",
        "colab": {
          "base_uri": "https://localhost:8080/"
        }
      },
      "source": [
        "for k in range(2,15,1):\n",
        "    modelArbol = RandomForestClassifier(min_samples_split=k,random_state=84)\n",
        "    modelArbol.fit(trainData_std, trainLabels)\n",
        "    score = modelArbol.score(testData_std,testLabels)\n",
        "    print(\"k=%d, precisión=%.2f%%\" % (k, score * 100))"
      ],
      "execution_count": 43,
      "outputs": [
        {
          "output_type": "stream",
          "text": [
            "k=2, precisión=73.58%\n",
            "k=3, precisión=73.50%\n",
            "k=4, precisión=73.83%\n",
            "k=5, precisión=74.08%\n",
            "k=6, precisión=74.17%\n",
            "k=7, precisión=73.92%\n",
            "k=8, precisión=73.83%\n",
            "k=9, precisión=73.83%\n",
            "k=10, precisión=73.50%\n",
            "k=11, precisión=74.08%\n",
            "k=12, precisión=73.58%\n",
            "k=13, precisión=73.17%\n",
            "k=14, precisión=73.58%\n"
          ],
          "name": "stdout"
        }
      ]
    },
    {
      "cell_type": "code",
      "metadata": {
        "id": "icRW0_L-0_5Y",
        "outputId": "29c6fdb9-a433-4d44-db9d-0d919c05f8a1",
        "colab": {
          "base_uri": "https://localhost:8080/"
        }
      },
      "source": [
        "for k in range(2,15,1):\n",
        "    modelArbol = RandomForestClassifier(min_samples_split=k,random_state=84)\n",
        "    modelArbol.fit(trainData_norm, trainLabels)\n",
        "    score = modelArbol.score(testData_norm,testLabels)\n",
        "    print(\"k=%d, precisión=%.2f%%\" % (k, score * 100))"
      ],
      "execution_count": 44,
      "outputs": [
        {
          "output_type": "stream",
          "text": [
            "k=2, precisión=73.67%\n",
            "k=3, precisión=73.83%\n",
            "k=4, precisión=74.67%\n",
            "k=5, precisión=74.50%\n",
            "k=6, precisión=74.17%\n",
            "k=7, precisión=74.08%\n",
            "k=8, precisión=73.75%\n",
            "k=9, precisión=73.83%\n",
            "k=10, precisión=74.08%\n",
            "k=11, precisión=73.67%\n",
            "k=12, precisión=73.50%\n",
            "k=13, precisión=73.92%\n",
            "k=14, precisión=73.75%\n"
          ],
          "name": "stdout"
        }
      ]
    },
    {
      "cell_type": "code",
      "metadata": {
        "id": "k0N2oPVr0_1E",
        "outputId": "eee478d5-911d-4f22-b5e4-78c72303630f",
        "colab": {
          "base_uri": "https://localhost:8080/"
        }
      },
      "source": [
        "for k in range(2,15,1):\n",
        "    modelArbol = RandomForestClassifier(min_samples_split=k,random_state=84)\n",
        "    modelArbol.fit(trainData_norm_std, trainLabels)\n",
        "    score = modelArbol.score(testData_norm_std,testLabels)\n",
        "    print(\"k=%d, precisión=%.2f%%\" % (k, score * 100))"
      ],
      "execution_count": 45,
      "outputs": [
        {
          "output_type": "stream",
          "text": [
            "k=2, precisión=73.58%\n",
            "k=3, precisión=73.50%\n",
            "k=4, precisión=73.83%\n",
            "k=5, precisión=74.08%\n",
            "k=6, precisión=74.17%\n",
            "k=7, precisión=73.92%\n",
            "k=8, precisión=73.83%\n",
            "k=9, precisión=73.83%\n",
            "k=10, precisión=73.50%\n",
            "k=11, precisión=74.08%\n",
            "k=12, precisión=73.58%\n",
            "k=13, precisión=73.17%\n",
            "k=14, precisión=73.58%\n"
          ],
          "name": "stdout"
        }
      ]
    },
    {
      "cell_type": "code",
      "metadata": {
        "id": "a-iykB-D0_w0",
        "outputId": "ec1963eb-68a6-4d58-ffca-2e0cbaaafd22",
        "colab": {
          "base_uri": "https://localhost:8080/"
        }
      },
      "source": [
        "forest = RandomForestClassifier(min_samples_split=4,random_state=84)\n",
        "forest.fit(trainData_norm, trainLabels)\n",
        "evalua(forest,testData_norm,testLabels)"
      ],
      "execution_count": 49,
      "outputs": [
        {
          "output_type": "stream",
          "text": [
            "Cambian 304 de 1200\n"
          ],
          "name": "stdout"
        }
      ]
    },
    {
      "cell_type": "code",
      "metadata": {
        "id": "nLRBe4f20_sB",
        "outputId": "66f4df7a-2500-45fb-d625-005b6c60258d",
        "colab": {
          "base_uri": "https://localhost:8080/"
        }
      },
      "source": [
        "forest = RandomForestClassifier()\n",
        "randomsearch(modelArbol, {'criterion': ['gini','entropy'], \n",
        "                        'min_samples_split': [i for i in range(2,11,1)], 'max_features': ['auto','sqrt','log2']})"
      ],
      "execution_count": 47,
      "outputs": [
        {
          "output_type": "stream",
          "text": [
            "# Tuning hyper-parameters for 0.7358333333333333\n",
            "\n",
            "Best parameters set found on development set:\n",
            "\n",
            "{'min_samples_split': 3, 'max_features': 'auto', 'criterion': 'entropy'}\n",
            "\n"
          ],
          "name": "stdout"
        }
      ]
    },
    {
      "cell_type": "code",
      "metadata": {
        "id": "VlpW2Qda0_nU",
        "outputId": "2aa5c3c1-343e-47c6-81f5-12e9778e461b",
        "colab": {
          "base_uri": "https://localhost:8080/"
        }
      },
      "source": [
        "forest = RandomForestClassifier(min_samples_split=3,criterion='entropy',random_state=84)\n",
        "forest.fit(trainData_norm, trainLabels)\n",
        "evalua(forest,testData_norm,testLabels)"
      ],
      "execution_count": 50,
      "outputs": [
        {
          "output_type": "stream",
          "text": [
            "Cambian 312 de 1200\n"
          ],
          "name": "stdout"
        }
      ]
    },
    {
      "cell_type": "markdown",
      "metadata": {
        "id": "3_Px00DxvfDZ"
      },
      "source": [
        "**5. CONCLUSIONES** "
      ]
    },
    {
      "cell_type": "markdown",
      "metadata": {
        "id": "WNgILoFMviAd"
      },
      "source": [
        "En el mejor modelo que hemos encontrado para los métodos en los cuáles no hemos ajustado hiperparámetros:\n",
        "- Regresión logística: cambian 829 de 1200 (30.92% acierto)\n",
        "- SVM: cambian 850 de 1200 (29.12% acierto)\n",
        "- Redes neuronales: cambian 850 de 1200 (29.12% acierto)\n",
        "- Regresión lineal: cambian 1044 de 1200 (23.0% acierto)\n",
        "\n",
        "Para los que sí hemos hecho una búsqueda más exhaustiva:\n",
        "- KNN: cambian 409 de 1200 (65.92% de acierto)\n",
        "- Árboles de decisión: cambian 373 de 1200 (68.92% acierto)\n",
        "- RandomForest: cambian 304 de 1200 (74.67% acierto)\n"
      ]
    },
    {
      "cell_type": "code",
      "metadata": {
        "id": "OhJs14Z1UDQF"
      },
      "source": [
        ""
      ],
      "execution_count": null,
      "outputs": []
    }
  ]
}