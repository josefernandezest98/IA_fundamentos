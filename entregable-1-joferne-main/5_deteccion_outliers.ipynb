{
  "nbformat": 4,
  "nbformat_minor": 0,
  "metadata": {
    "colab": {
      "name": "Untitled3.ipynb",
      "provenance": [],
      "authorship_tag": "ABX9TyOn6y4sBrvMA8h6ld04K9K0",
      "include_colab_link": true
    },
    "kernelspec": {
      "name": "python3",
      "display_name": "Python 3"
    },
    "language_info": {
      "name": "python"
    }
  },
  "cells": [
    {
      "cell_type": "markdown",
      "metadata": {
        "id": "view-in-github",
        "colab_type": "text"
      },
      "source": [
        "<a href=\"https://colab.research.google.com/github/IA2021UR/entregable-1-joferne/blob/main/5_deteccion_outliers.ipynb\" target=\"_parent\"><img src=\"https://colab.research.google.com/assets/colab-badge.svg\" alt=\"Open In Colab\"/></a>"
      ]
    },
    {
      "cell_type": "markdown",
      "metadata": {
        "id": "PSNEANFuD3m0"
      },
      "source": [
        "**1. IMPORTACIÓN DE LIBRERÍAS** "
      ]
    },
    {
      "cell_type": "code",
      "metadata": {
        "id": "-TwCbTjxhYT5"
      },
      "source": [
        "import numpy as np\n",
        "import pandas as pd\n",
        "from sklearn.preprocessing import MinMaxScaler\n",
        "from sklearn.preprocessing import StandardScaler\n",
        "from sklearn.model_selection import train_test_split\n",
        "from sklearn.ensemble import RandomForestClassifier\n",
        "import matplotlib.pyplot as plt\n",
        "import seaborn as sns\n",
        "sns.set() "
      ],
      "execution_count": 1,
      "outputs": []
    },
    {
      "cell_type": "markdown",
      "metadata": {
        "id": "x3QfvIxhEAuw"
      },
      "source": [
        "**2. CARGA DE DATOS** "
      ]
    },
    {
      "cell_type": "code",
      "metadata": {
        "colab": {
          "base_uri": "https://localhost:8080/"
        },
        "id": "0xC7YYjvhc4M",
        "outputId": "33eb1b99-1031-4d44-d566-5f4389a4dee3"
      },
      "source": [
        "!unzip ia2021.zip"
      ],
      "execution_count": 2,
      "outputs": [
        {
          "output_type": "stream",
          "text": [
            "Archive:  ia2021.zip\n",
            "  inflating: test.csv                \n",
            "  inflating: train.csv               \n"
          ],
          "name": "stdout"
        }
      ]
    },
    {
      "cell_type": "code",
      "metadata": {
        "id": "Pw4gRNDzhjxZ"
      },
      "source": [
        "df_train = pd.read_csv('train.csv')\n",
        "df_test = pd.read_csv('test.csv')"
      ],
      "execution_count": 3,
      "outputs": []
    },
    {
      "cell_type": "markdown",
      "metadata": {
        "id": "BIkELMJAEPN2"
      },
      "source": [
        "**3. ALGORITMOS A UTILIZAR** "
      ]
    },
    {
      "cell_type": "markdown",
      "metadata": {
        "id": "pv_cq6TXEZYI"
      },
      "source": [
        "Los siguientes algoritmos los he obtenido de la página:\n",
        "\n",
        "https://ichi.pro/es/eliminando-valores-atipicos-de-los-datos-usando-python-y-pandas-180001119792428"
      ]
    },
    {
      "cell_type": "code",
      "metadata": {
        "id": "hWkYtqlRhl-l"
      },
      "source": [
        "def get_iqr_values(df_in, col_name):    \n",
        "    median = df_in[col_name].median()\n",
        "    q1 = df_in[col_name].quantile(0.25) # 25th percentile / 1st quartile\n",
        "    q3 = df_in[col_name].quantile(0.75) # 7th percentile / 3rd quartile\n",
        "    iqr = q3-q1 #Interquartile range\n",
        "    minimum  = q1-1.5*iqr # The minimum value or the |- marker in the box plot\n",
        "    maximum = q3+1.5*iqr # The maximum value or the -| marker in the box plot\n",
        "    return median, q1, q3, iqr, minimum, maximum\n",
        "\n",
        "def get_iqr_text(df_in, col_name):\n",
        "    median, q1, q3, iqr, minimum, maximum = get_iqr_values(df_in, col_name)\n",
        "    text = f\"median={median:.2f}, q1={q1:.2f}, q3={q3:.2f}, iqr={iqr:.2f}, minimum={minimum:.2f}, maximum={maximum:.2f}\"\n",
        "    return text\n",
        "\n",
        "def remove_outliers(df_in, col_name):\n",
        "    _, _, _, _, minimum, maximum = get_iqr_values(df_in, col_name)\n",
        "    df_out = df_in.loc[(df_in[col_name] > minimum) & (df_in[col_name] < maximum)]\n",
        "    return df_out\n",
        "\n",
        "def count_outliers(df_in, col_name):\n",
        "    _, _, _, _, minimum, maximum = get_iqr_values(df_in, col_name)\n",
        "    df_outliers = df_in.loc[(df_in[col_name] <= minimum) | (df_in[col_name] >= maximum)]\n",
        "    return df_outliers.shape[0]\n",
        "\n",
        "def box_and_whisker(df_in, col_name):\n",
        "    title = get_iqr_text(df_in, col_name)\n",
        "    sns.boxplot(df_in[col_name])\n",
        "    plt.title(title)\n",
        "    plt.show()"
      ],
      "execution_count": 4,
      "outputs": []
    },
    {
      "cell_type": "markdown",
      "metadata": {
        "id": "7iWVjaYAFDGr"
      },
      "source": [
        "Los siguientes algoritmos son de mi cosecha."
      ]
    },
    {
      "cell_type": "code",
      "metadata": {
        "id": "HrYUnh75FHj-"
      },
      "source": [
        "def input_mean(df_in, col_name, array, precision):\n",
        "    mean = df_in.apply(np.mean)[col_name]\n",
        "    for i in range(0,len(array),precision):\n",
        "        df_in.loc[df_in['Localizador']==array[i],col_name] = mean\n",
        "\n",
        "def return_outliers(df_in, col_name):\n",
        "  _, _, _, _, minimum, maximum = get_iqr_values(df_in, col_name)\n",
        "  df_outliers = df_in.loc[(df_in[col_name] <= minimum) | (df_in[col_name] >= maximum)]\n",
        "  return df_outliers\n",
        "\n",
        "def evalua(clasificador,testData,testLabels):\n",
        "  num = 0\n",
        "  for i in range(0,len(clasificador.predict(testData))):\n",
        "    if clasificador.predict(testData)[i] == testLabels[i]:\n",
        "      num = num + 1\n",
        "  print('Cambian ' + str(len(testLabels) - num) + ' de ' + str(len(testLabels)))"
      ],
      "execution_count": 5,
      "outputs": []
    },
    {
      "cell_type": "markdown",
      "metadata": {
        "id": "A_I18Y1EFUbf"
      },
      "source": [
        "**4. ANÁLISIS DE OUTLIERS** "
      ]
    },
    {
      "cell_type": "markdown",
      "metadata": {
        "id": "d8PnB9VFF-cB"
      },
      "source": [
        "Observando el diagrama de cajas vemos los valores atípicos. De esta forma vamos a examinar el número de outliers para cada descriptor."
      ]
    },
    {
      "cell_type": "code",
      "metadata": {
        "colab": {
          "base_uri": "https://localhost:8080/",
          "height": 389
        },
        "id": "8WVhXAl6hz5Q",
        "outputId": "cb23eb08-d398-4ed5-d9b7-c94df547a0a2"
      },
      "source": [
        "box_and_whisker(df_train,'SL')\n",
        "print(count_outliers(df_train,'SL'))\n",
        "print(count_outliers(df_test,'SL'))"
      ],
      "execution_count": 7,
      "outputs": [
        {
          "output_type": "stream",
          "text": [
            "/usr/local/lib/python3.7/dist-packages/seaborn/_decorators.py:43: FutureWarning: Pass the following variable as a keyword arg: x. From version 0.12, the only valid positional argument will be `data`, and passing other arguments without an explicit keyword will result in an error or misinterpretation.\n",
            "  FutureWarning\n"
          ],
          "name": "stderr"
        },
        {
          "output_type": "display_data",
          "data": {
            "image/png": "[encoded data removed]",
            "text/plain": [
              "<Figure size 432x288 with 1 Axes>"
            ]
          },
          "metadata": {
            "tags": [],
            "needs_background": "light"
          }
        },
        {
          "output_type": "stream",
          "text": [
            "1164\n",
            "422\n"
          ],
          "name": "stdout"
        }
      ]
    },
    {
      "cell_type": "code",
      "metadata": {
        "colab": {
          "base_uri": "https://localhost:8080/",
          "height": 389
        },
        "id": "2kSNJmHIFuSH",
        "outputId": "ec1b9b0b-4898-4b7a-8d7d-a49a3c751e3f"
      },
      "source": [
        "box_and_whisker(df_train,'HR')\n",
        "print(count_outliers(df_train,'HR'))\n",
        "print(count_outliers(df_test,'HR'))"
      ],
      "execution_count": 8,
      "outputs": [
        {
          "output_type": "stream",
          "text": [
            "/usr/local/lib/python3.7/dist-packages/seaborn/_decorators.py:43: FutureWarning: Pass the following variable as a keyword arg: x. From version 0.12, the only valid positional argument will be `data`, and passing other arguments without an explicit keyword will result in an error or misinterpretation.\n",
            "  FutureWarning\n"
          ],
          "name": "stderr"
        },
        {
          "output_type": "display_data",
          "data": {
            "image/png": "[encoded data removed]",
            "text/plain": [
              "<Figure size 432x288 with 1 Axes>"
            ]
          },
          "metadata": {
            "tags": [],
            "needs_background": "light"
          }
        },
        {
          "output_type": "stream",
          "text": [
            "494\n",
            "219\n"
          ],
          "name": "stdout"
        }
      ]
    },
    {
      "cell_type": "code",
      "metadata": {
        "colab": {
          "base_uri": "https://localhost:8080/",
          "height": 389
        },
        "id": "iyHyzWygFuGN",
        "outputId": "3ee3e5e6-28b7-4147-b3d5-75c453082896"
      },
      "source": [
        "box_and_whisker(df_train,'BP')\n",
        "print(count_outliers(df_train,'BP'))\n",
        "print(count_outliers(df_test,'BP'))"
      ],
      "execution_count": 9,
      "outputs": [
        {
          "output_type": "stream",
          "text": [
            "/usr/local/lib/python3.7/dist-packages/seaborn/_decorators.py:43: FutureWarning: Pass the following variable as a keyword arg: x. From version 0.12, the only valid positional argument will be `data`, and passing other arguments without an explicit keyword will result in an error or misinterpretation.\n",
            "  FutureWarning\n"
          ],
          "name": "stderr"
        },
        {
          "output_type": "display_data",
          "data": {
            "image/png": "[encoded data removed]",
            "text/plain": [
              "<Figure size 432x288 with 1 Axes>"
            ]
          },
          "metadata": {
            "tags": [],
            "needs_background": "light"
          }
        },
        {
          "output_type": "stream",
          "text": [
            "471\n",
            "187\n"
          ],
          "name": "stdout"
        }
      ]
    },
    {
      "cell_type": "code",
      "metadata": {
        "colab": {
          "base_uri": "https://localhost:8080/",
          "height": 389
        },
        "id": "j3mY-BtVFt9U",
        "outputId": "283270d3-ad02-4319-f294-bdfed6b14f44"
      },
      "source": [
        "box_and_whisker(df_train,'EEG')\n",
        "print(count_outliers(df_train,'EEG'))\n",
        "print(count_outliers(df_test,'EEG'))"
      ],
      "execution_count": 10,
      "outputs": [
        {
          "output_type": "stream",
          "text": [
            "/usr/local/lib/python3.7/dist-packages/seaborn/_decorators.py:43: FutureWarning: Pass the following variable as a keyword arg: x. From version 0.12, the only valid positional argument will be `data`, and passing other arguments without an explicit keyword will result in an error or misinterpretation.\n",
            "  FutureWarning\n"
          ],
          "name": "stderr"
        },
        {
          "output_type": "display_data",
          "data": {
            "image/png": "[encoded data removed]",
            "text/plain": [
              "<Figure size 432x288 with 1 Axes>"
            ]
          },
          "metadata": {
            "tags": [],
            "needs_background": "light"
          }
        },
        {
          "output_type": "stream",
          "text": [
            "857\n",
            "340\n"
          ],
          "name": "stdout"
        }
      ]
    },
    {
      "cell_type": "code",
      "metadata": {
        "colab": {
          "base_uri": "https://localhost:8080/",
          "height": 389
        },
        "id": "G3W2uHL2Ft0h",
        "outputId": "30924da9-139a-482c-936c-a7d99680cdb1"
      },
      "source": [
        "box_and_whisker(df_train,'CIRCULATION')\n",
        "print(count_outliers(df_train,'CIRCULATION'))\n",
        "print(count_outliers(df_test,'CIRCULATION'))"
      ],
      "execution_count": 11,
      "outputs": [
        {
          "output_type": "stream",
          "text": [
            "/usr/local/lib/python3.7/dist-packages/seaborn/_decorators.py:43: FutureWarning: Pass the following variable as a keyword arg: x. From version 0.12, the only valid positional argument will be `data`, and passing other arguments without an explicit keyword will result in an error or misinterpretation.\n",
            "  FutureWarning\n"
          ],
          "name": "stderr"
        },
        {
          "output_type": "display_data",
          "data": {
            "image/png": "[encoded data removed]",
            "text/plain": [
              "<Figure size 432x288 with 1 Axes>"
            ]
          },
          "metadata": {
            "tags": [],
            "needs_background": "light"
          }
        },
        {
          "output_type": "stream",
          "text": [
            "989\n",
            "349\n"
          ],
          "name": "stdout"
        }
      ]
    },
    {
      "cell_type": "markdown",
      "metadata": {
        "id": "nn_jPPbQGhVj"
      },
      "source": [
        "Una primera solución que vamos a hacer es eliminar directamente todos los outliers."
      ]
    },
    {
      "cell_type": "code",
      "metadata": {
        "id": "qf1iYt8rF5b1"
      },
      "source": [
        "df_noout = remove_outliers(df_train,'HR')\n",
        "df_noout = remove_outliers(df_train,'BP')\n",
        "df_noout = remove_outliers(df_train,'EEG')\n",
        "df_noout = remove_outliers(df_train,'CIRCULATION')\n",
        "df_noout = remove_outliers(df_train,'SL')"
      ],
      "execution_count": 12,
      "outputs": []
    },
    {
      "cell_type": "markdown",
      "metadata": {
        "id": "k9NoHgs7Gp32"
      },
      "source": [
        "Observamos como el número ha bajado."
      ]
    },
    {
      "cell_type": "code",
      "metadata": {
        "colab": {
          "base_uri": "https://localhost:8080/"
        },
        "id": "OuFdohhHGyF0",
        "outputId": "c58a5086-e4bf-4435-f8d9-4c9d608b7842"
      },
      "source": [
        "print(count_outliers(df_train,'SL'))\n",
        "print(count_outliers(df_noout,'SL'))"
      ],
      "execution_count": 13,
      "outputs": [
        {
          "output_type": "stream",
          "text": [
            "1164\n",
            "795\n"
          ],
          "name": "stdout"
        }
      ]
    },
    {
      "cell_type": "code",
      "metadata": {
        "colab": {
          "base_uri": "https://localhost:8080/"
        },
        "id": "ZhyucbCEG8OX",
        "outputId": "04f73b3e-5f49-43c7-8700-f0f1482c4a22"
      },
      "source": [
        "print(count_outliers(df_train,'BP'))\n",
        "print(count_outliers(df_noout,'BP'))"
      ],
      "execution_count": 14,
      "outputs": [
        {
          "output_type": "stream",
          "text": [
            "471\n",
            "471\n"
          ],
          "name": "stdout"
        }
      ]
    },
    {
      "cell_type": "code",
      "metadata": {
        "colab": {
          "base_uri": "https://localhost:8080/"
        },
        "id": "VdQMEtMbG8Ec",
        "outputId": "f6b11477-b6b5-4b2b-d573-3c51cea3cc95"
      },
      "source": [
        "print(count_outliers(df_train,'HR'))\n",
        "print(count_outliers(df_noout,'HR'))"
      ],
      "execution_count": 15,
      "outputs": [
        {
          "output_type": "stream",
          "text": [
            "494\n",
            "141\n"
          ],
          "name": "stdout"
        }
      ]
    },
    {
      "cell_type": "code",
      "metadata": {
        "colab": {
          "base_uri": "https://localhost:8080/"
        },
        "id": "JjFKd7TCG714",
        "outputId": "140a556b-c15c-4d43-8ea1-df42aae80df5"
      },
      "source": [
        "print(count_outliers(df_train,'EEG'))\n",
        "print(count_outliers(df_noout,'EEG'))"
      ],
      "execution_count": 16,
      "outputs": [
        {
          "output_type": "stream",
          "text": [
            "857\n",
            "501\n"
          ],
          "name": "stdout"
        }
      ]
    },
    {
      "cell_type": "code",
      "metadata": {
        "colab": {
          "base_uri": "https://localhost:8080/"
        },
        "id": "uwKy8gtmG7sg",
        "outputId": "9f450b6c-fbd6-4147-e444-37ddd5b47568"
      },
      "source": [
        "print(count_outliers(df_train,'CIRCULATION'))\n",
        "print(count_outliers(df_noout,'CIRCULATION'))"
      ],
      "execution_count": 17,
      "outputs": [
        {
          "output_type": "stream",
          "text": [
            "989\n",
            "367\n"
          ],
          "name": "stdout"
        }
      ]
    },
    {
      "cell_type": "markdown",
      "metadata": {
        "id": "e1ic8vlgHMh1"
      },
      "source": [
        "A ver qué tal predice el conjunto test."
      ]
    },
    {
      "cell_type": "code",
      "metadata": {
        "id": "zEk8dN0qHWpC"
      },
      "source": [
        "X_noout =  df_noout.values[:,:-1]\n",
        "Y_noout =  df_noout.values[:,-1]\n",
        "(trainData_noout, testData_noout, trainLabels_noout, testLabels_noout) = train_test_split(X_noout,Y_noout,test_size=0.15, random_state=42)\n",
        "\n",
        "X =  df_train.values[:,:-1]\n",
        "Y =  df_train.values[:,-1]\n",
        "(trainData, testData, trainLabels, testLabels) = train_test_split(X,Y,test_size=0.15, random_state=42)"
      ],
      "execution_count": 25,
      "outputs": []
    },
    {
      "cell_type": "code",
      "metadata": {
        "colab": {
          "base_uri": "https://localhost:8080/"
        },
        "id": "JGLKKqEch2mm",
        "outputId": "86f6368e-64eb-4268-e50e-70c36472fd6c"
      },
      "source": [
        "for k in range(2,11,1):\n",
        "    forest= RandomForestClassifier(min_samples_split=k,random_state=84)\n",
        "    forest.fit(trainData_noout, trainLabels_noout)\n",
        "    score = forest.score(testData,testLabels)\n",
        "    print(\"k=%d, precisión=%.2f%%\" % (k, score * 100))"
      ],
      "execution_count": 26,
      "outputs": [
        {
          "output_type": "stream",
          "text": [
            "k=2, precisión=91.11%\n",
            "k=3, precisión=90.67%\n",
            "k=4, precisión=89.94%\n",
            "k=5, precisión=88.50%\n",
            "k=6, precisión=87.00%\n",
            "k=7, precisión=86.00%\n",
            "k=8, precisión=85.06%\n",
            "k=9, precisión=84.22%\n",
            "k=10, precisión=84.00%\n"
          ],
          "name": "stdout"
        }
      ]
    },
    {
      "cell_type": "markdown",
      "metadata": {
        "id": "KS-X4k_4Ij1O"
      },
      "source": [
        "Los resultados son asombrosamente buenos. Sin embargo es un espejismo, ya que lo tenemos sobreajustado."
      ]
    },
    {
      "cell_type": "markdown",
      "metadata": {
        "id": "HQ4V0goRK5Om"
      },
      "source": [
        "Otra opción sería imputar los outliers por la media."
      ]
    },
    {
      "cell_type": "code",
      "metadata": {
        "id": "pALJq5ZdkKsD"
      },
      "source": [
        "df_train['Localizador'] = [i for i in range(0,df_train.shape[0])]"
      ],
      "execution_count": 37,
      "outputs": []
    },
    {
      "cell_type": "code",
      "metadata": {
        "id": "_5GUnGZDLL3u"
      },
      "source": [
        "a = np.array(return_outliers(df_train,'BP')['Localizador'])\n",
        "b = np.array(return_outliers(df_train,'SL')['Localizador'])\n",
        "c = np.array(return_outliers(df_train,'HR')['Localizador'])\n",
        "d = np.array(return_outliers(df_train,'EEG')['Localizador'])\n",
        "e = np.array(return_outliers(df_train,'CIRCULATION')['Localizador'])"
      ],
      "execution_count": 38,
      "outputs": []
    },
    {
      "cell_type": "code",
      "metadata": {
        "id": "JhwO89khLUWk"
      },
      "source": [
        "input_mean(df_train,'BP',a,1)\n",
        "input_mean(df_train,'SL',b,1)\n",
        "input_mean(df_train,'HR',c,1)\n",
        "input_mean(df_train,'EEG',d,1)\n",
        "input_mean(df_train,'CIRCULATION',e,1)"
      ],
      "execution_count": 39,
      "outputs": []
    },
    {
      "cell_type": "code",
      "metadata": {
        "id": "EGBQ8RHDLYMc"
      },
      "source": [
        "df_train = df_train.drop('Localizador',axis=1)"
      ],
      "execution_count": 40,
      "outputs": []
    },
    {
      "cell_type": "code",
      "metadata": {
        "colab": {
          "base_uri": "https://localhost:8080/",
          "height": 1000
        },
        "id": "T0EQCZ27Ld5t",
        "outputId": "ce7886a0-08e8-49db-fc78-d5351a3efaa7"
      },
      "source": [
        "box_and_whisker(df_train,'SL')\n",
        "box_and_whisker(df_train,'BP')\n",
        "box_and_whisker(df_train,'HR')\n",
        "box_and_whisker(df_train,'EEG')\n",
        "box_and_whisker(df_train,'CIRCULATION')"
      ],
      "execution_count": 42,
      "outputs": [
        {
          "output_type": "stream",
          "text": [
            "/usr/local/lib/python3.7/dist-packages/seaborn/_decorators.py:43: FutureWarning: Pass the following variable as a keyword arg: x. From version 0.12, the only valid positional argument will be `data`, and passing other arguments without an explicit keyword will result in an error or misinterpretation.\n",
            "  FutureWarning\n"
          ],
          "name": "stderr"
        },
        {
          "output_type": "display_data",
          "data": {
            "image/png": "[encoded data removed]",
            "text/plain": [
              "<Figure size 432x288 with 1 Axes>"
            ]
          },
          "metadata": {
            "tags": [],
            "needs_background": "light"
          }
        },
        {
          "output_type": "stream",
          "text": [
            "/usr/local/lib/python3.7/dist-packages/seaborn/_decorators.py:43: FutureWarning: Pass the following variable as a keyword arg: x. From version 0.12, the only valid positional argument will be `data`, and passing other arguments without an explicit keyword will result in an error or misinterpretation.\n",
            "  FutureWarning\n"
          ],
          "name": "stderr"
        },
        {
          "output_type": "display_data",
          "data": {
            "image/png": "[encoded data removed]",
            "text/plain": [
              "<Figure size 432x288 with 1 Axes>"
            ]
          },
          "metadata": {
            "tags": [],
            "needs_background": "light"
          }
        },
        {
          "output_type": "stream",
          "text": [
            "/usr/local/lib/python3.7/dist-packages/seaborn/_decorators.py:43: FutureWarning: Pass the following variable as a keyword arg: x. From version 0.12, the only valid positional argument will be `data`, and passing other arguments without an explicit keyword will result in an error or misinterpretation.\n",
            "  FutureWarning\n"
          ],
          "name": "stderr"
        },
        {
          "output_type": "display_data",
          "data": {
            "image/png": "[encoded data removed]",
            "text/plain": [
              "<Figure size 432x288 with 1 Axes>"
            ]
          },
          "metadata": {
            "tags": [],
            "needs_background": "light"
          }
        },
        {
          "output_type": "stream",
          "text": [
            "/usr/local/lib/python3.7/dist-packages/seaborn/_decorators.py:43: FutureWarning: Pass the following variable as a keyword arg: x. From version 0.12, the only valid positional argument will be `data`, and passing other arguments without an explicit keyword will result in an error or misinterpretation.\n",
            "  FutureWarning\n"
          ],
          "name": "stderr"
        },
        {
          "output_type": "display_data",
          "data": {
            "image/png": "[encoded data removed]",
            "text/plain": [
              "<Figure size 432x288 with 1 Axes>"
            ]
          },
          "metadata": {
            "tags": [],
            "needs_background": "light"
          }
        },
        {
          "output_type": "stream",
          "text": [
            "/usr/local/lib/python3.7/dist-packages/seaborn/_decorators.py:43: FutureWarning: Pass the following variable as a keyword arg: x. From version 0.12, the only valid positional argument will be `data`, and passing other arguments without an explicit keyword will result in an error or misinterpretation.\n",
            "  FutureWarning\n"
          ],
          "name": "stderr"
        },
        {
          "output_type": "display_data",
          "data": {
            "image/png": "[encoded data removed]",
            "text/plain": [
              "<Figure size 432x288 with 1 Axes>"
            ]
          },
          "metadata": {
            "tags": [],
            "needs_background": "light"
          }
        }
      ]
    },
    {
      "cell_type": "markdown",
      "metadata": {
        "id": "INajlFwFLxe0"
      },
      "source": [
        "Es tremendamente notable como cambia el diagrama de cajas. La zona próxima a la media y la mediana aumenta considerablemente de tamaño. Veamos qué tales resultados nos ofrece este método."
      ]
    },
    {
      "cell_type": "code",
      "metadata": {
        "id": "TWgRGyj0Lm_W"
      },
      "source": [
        "X =  df_train.values[:,:-1]\n",
        "Y =  df_train.values[:,-1]\n",
        "(trainData, testData, trainLabels, testLabels) = train_test_split(X,Y,test_size=0.15, random_state=42)"
      ],
      "execution_count": 44,
      "outputs": []
    },
    {
      "cell_type": "code",
      "metadata": {
        "colab": {
          "base_uri": "https://localhost:8080/"
        },
        "id": "J_OYVF2nMM80",
        "outputId": "5f9bbb2b-225d-49ff-ca59-5158e146a3e2"
      },
      "source": [
        "for k in range(2,11,1):\n",
        "    forest= RandomForestClassifier(min_samples_split=k,random_state=84)\n",
        "    forest.fit(trainData, trainLabels)\n",
        "    score = forest.score(testData,testLabels)\n",
        "    print(\"k=%d, precisión=%.2f%%\" % (k, score * 100))"
      ],
      "execution_count": 46,
      "outputs": [
        {
          "output_type": "stream",
          "text": [
            "k=2, precisión=72.89%\n",
            "k=3, precisión=73.17%\n",
            "k=4, precisión=72.89%\n",
            "k=5, precisión=73.17%\n",
            "k=6, precisión=73.00%\n",
            "k=7, precisión=72.94%\n",
            "k=8, precisión=72.56%\n",
            "k=9, precisión=72.94%\n",
            "k=10, precisión=73.17%\n"
          ],
          "name": "stdout"
        }
      ]
    },
    {
      "cell_type": "code",
      "metadata": {
        "id": "by-RrZfkMdo_"
      },
      "source": [
        "mms = MinMaxScaler()\n",
        "trainData_norm = mms.fit_transform(trainData)\n",
        "testData_norm = mms.transform(testData)\n",
        "\n",
        "stdsc = StandardScaler()\n",
        "trainData_std = stdsc.fit_transform(trainData)\n",
        "testData_std = stdsc.transform(testData)\n",
        "\n",
        "trainData_norm_std = stdsc.fit_transform(trainData_norm)\n",
        "testData_norm_std = stdsc.transform(testData_norm)"
      ],
      "execution_count": 49,
      "outputs": []
    },
    {
      "cell_type": "code",
      "metadata": {
        "colab": {
          "base_uri": "https://localhost:8080/"
        },
        "id": "21uQ_jAYMuD_",
        "outputId": "1bff2a33-127f-4cb1-d93a-e91a195523ad"
      },
      "source": [
        "for k in range(2,11,1):\n",
        "    forest= RandomForestClassifier(min_samples_split=k,criterion='entropy',random_state=84)\n",
        "    forest.fit(trainData_std, trainLabels)\n",
        "    score = forest.score(testData_std,testLabels)\n",
        "    print(\"k=%d, precisión=%.2f%%\" % (k, score * 100))"
      ],
      "execution_count": 51,
      "outputs": [
        {
          "output_type": "stream",
          "text": [
            "k=2, precisión=73.44%\n",
            "k=3, precisión=73.06%\n",
            "k=4, precisión=73.28%\n",
            "k=5, precisión=73.67%\n",
            "k=6, precisión=73.17%\n",
            "k=7, precisión=73.22%\n",
            "k=8, precisión=73.22%\n",
            "k=9, precisión=73.06%\n",
            "k=10, precisión=72.89%\n"
          ],
          "name": "stdout"
        }
      ]
    },
    {
      "cell_type": "markdown",
      "metadata": {
        "id": "ouoHy5VvOVAc"
      },
      "source": [
        "No nos mejora el modelo original, pero ya no lo tenemos sobreajustado."
      ]
    },
    {
      "cell_type": "markdown",
      "metadata": {
        "id": "D-QHQqtXO8hU"
      },
      "source": [
        "La última prueba que vamos a hacer es eliminando los outliers comunes en todos los descriptores."
      ]
    },
    {
      "cell_type": "code",
      "metadata": {
        "id": "1w4IZExjNqDR"
      },
      "source": [
        "df_train = pd.read_csv('train.csv')\n",
        "df_test = pd.read_csv('test.csv')"
      ],
      "execution_count": 59,
      "outputs": []
    },
    {
      "cell_type": "code",
      "metadata": {
        "id": "jYLrBoRVPJYK"
      },
      "source": [
        "df_train['Localizador'] = [i for i in range(0,df_train.shape[0])]"
      ],
      "execution_count": 60,
      "outputs": []
    },
    {
      "cell_type": "code",
      "metadata": {
        "id": "_dMJIdWkPPdJ"
      },
      "source": [
        "a = set(np.array(return_outliers(df_train,'BP')['Localizador']))\n",
        "b = set(np.array(return_outliers(df_train,'SL')['Localizador']))\n",
        "c = set(np.array(return_outliers(df_train,'HR')['Localizador']))\n",
        "d = set(np.array(return_outliers(df_train,'EEG')['Localizador']))\n",
        "inter = a & b & c & d\n",
        "inter_array = [a for a in inter]\n",
        "df_train_noout = df_train.drop(inter_array).copy()\n",
        "df_train_noout = df_train_noout.drop('Localizador',axis=1)"
      ],
      "execution_count": 61,
      "outputs": []
    },
    {
      "cell_type": "code",
      "metadata": {
        "id": "chME-evoPTZb"
      },
      "source": [
        "X =  df_train_noout.values[:,:-1]\n",
        "Y =  df_train_noout.values[:,-1]\n",
        "(trainData, testData, trainLabels, testLabels) = train_test_split(X,Y,test_size=0.15, random_state=42)"
      ],
      "execution_count": 62,
      "outputs": []
    },
    {
      "cell_type": "code",
      "metadata": {
        "colab": {
          "base_uri": "https://localhost:8080/"
        },
        "id": "hnXHYNkwPaK_",
        "outputId": "e290dc0e-0398-4ea0-9bec-0bc6f9b46888"
      },
      "source": [
        "for k in range(2,11,1):\n",
        "    forest= RandomForestClassifier(min_samples_split=k,criterion='entropy',random_state=84)\n",
        "    forest.fit(trainData, trainLabels)\n",
        "    score = forest.score(testData,testLabels)\n",
        "    print(\"k=%d, precisión=%.2f%%\" % (k, score * 100))"
      ],
      "execution_count": 64,
      "outputs": [
        {
          "output_type": "stream",
          "text": [
            "k=2, precisión=73.44%\n",
            "k=3, precisión=73.16%\n",
            "k=4, precisión=73.21%\n",
            "k=5, precisión=73.10%\n",
            "k=6, precisión=72.82%\n",
            "k=7, precisión=73.16%\n",
            "k=8, precisión=73.21%\n",
            "k=9, precisión=73.94%\n",
            "k=10, precisión=72.71%\n"
          ],
          "name": "stdout"
        }
      ]
    },
    {
      "cell_type": "code",
      "metadata": {
        "id": "Q8QRlW5xPiBN"
      },
      "source": [
        "mms = MinMaxScaler()\n",
        "trainData_norm = mms.fit_transform(trainData)\n",
        "testData_norm = mms.transform(testData)\n",
        "\n",
        "stdsc = StandardScaler()\n",
        "trainData_std = stdsc.fit_transform(trainData)\n",
        "testData_std = stdsc.transform(testData)\n",
        "\n",
        "trainData_norm_std = stdsc.fit_transform(trainData_norm)\n",
        "testData_norm_std = stdsc.transform(testData_norm)"
      ],
      "execution_count": 65,
      "outputs": []
    },
    {
      "cell_type": "code",
      "metadata": {
        "colab": {
          "base_uri": "https://localhost:8080/"
        },
        "id": "efpNZRAFPwKS",
        "outputId": "d7c623c2-4fac-478d-d651-d8a214f2cda6"
      },
      "source": [
        "for k in range(2,11,1):\n",
        "    forest= RandomForestClassifier(min_samples_split=k,criterion='entropy',random_state=84)\n",
        "    forest.fit(trainData_std, trainLabels)\n",
        "    score = forest.score(testData_std,testLabels)\n",
        "    print(\"k=%d, precisión=%.2f%%\" % (k, score * 100))"
      ],
      "execution_count": 66,
      "outputs": [
        {
          "output_type": "stream",
          "text": [
            "k=2, precisión=73.49%\n",
            "k=3, precisión=72.66%\n",
            "k=4, precisión=73.38%\n",
            "k=5, precisión=72.94%\n",
            "k=6, precisión=73.05%\n",
            "k=7, precisión=73.44%\n",
            "k=8, precisión=73.38%\n",
            "k=9, precisión=73.88%\n",
            "k=10, precisión=72.60%\n"
          ],
          "name": "stdout"
        }
      ]
    },
    {
      "cell_type": "markdown",
      "metadata": {
        "id": "4SfhjL1LQBhi"
      },
      "source": [
        "Lamentablemente con la detección de outliers no hemos conseguido mejorar el modelo. Tal vez sea porque hay algo mal hecho, o porque realmente los randomForest lidian realmente bien con ellos."
      ]
    },
    {
      "cell_type": "code",
      "metadata": {
        "id": "K06EKcEQP0tT"
      },
      "source": [
        ""
      ],
      "execution_count": null,
      "outputs": []
    }
  ]
}