{
  "nbformat": 4,
  "nbformat_minor": 0,
  "metadata": {
    "colab": {
      "name": "4_comparando_descriptores.ipynb",
      "provenance": [],
      "authorship_tag": "ABX9TyNUYgP4okdLsH5hs+zabvSS",
      "include_colab_link": true
    },
    "kernelspec": {
      "name": "python3",
      "display_name": "Python 3"
    },
    "language_info": {
      "name": "python"
    }
  },
  "cells": [
    {
      "cell_type": "markdown",
      "metadata": {
        "id": "view-in-github",
        "colab_type": "text"
      },
      "source": [
        "<a href=\"https://colab.research.google.com/github/IA2021UR/entregable-1-joferne/blob/main/4_comparando_descriptores.ipynb\" target=\"_parent\"><img src=\"https://colab.research.google.com/assets/colab-badge.svg\" alt=\"Open In Colab\"/></a>"
      ]
    },
    {
      "cell_type": "markdown",
      "metadata": {
        "id": "0Enznm--sGrf"
      },
      "source": [
        "**1. IMPORTACIÓN DE LIBRERÍAS** "
      ]
    },
    {
      "cell_type": "code",
      "metadata": {
        "colab": {
          "base_uri": "https://localhost:8080/"
        },
        "id": "Ok-rWKoft0q1",
        "outputId": "076254ca-9088-41a0-e692-ee25f7efbfbd"
      },
      "source": [
        "!wget https://raw.githubusercontent.com/IA1819/Code/master/sbs1.py -O sbs.py"
      ],
      "execution_count": 1,
      "outputs": [
        {
          "output_type": "stream",
          "text": [
            "--2021-04-13 16:36:56--  https://raw.githubusercontent.com/IA1819/Code/master/sbs1.py\n",
            "Resolving raw.githubusercontent.com (raw.githubusercontent.com)... 185.199.108.133, 185.199.109.133, 185.199.110.133, ...\n",
            "Connecting to raw.githubusercontent.com (raw.githubusercontent.com)|185.199.108.133|:443... connected.\n",
            "HTTP request sent, awaiting response... 200 OK\n",
            "Length: 1691 (1.7K) [text/plain]\n",
            "Saving to: ‘sbs.py’\n",
            "\n",
            "sbs.py              100%[===================>]   1.65K  --.-KB/s    in 0s      \n",
            "\n",
            "2021-04-13 16:36:56 (23.9 MB/s) - ‘sbs.py’ saved [1691/1691]\n",
            "\n"
          ],
          "name": "stdout"
        }
      ]
    },
    {
      "cell_type": "code",
      "metadata": {
        "id": "GLqWoXAOr9Fr"
      },
      "source": [
        "from sklearn.ensemble import RandomForestClassifier\n",
        "import numpy as np\n",
        "import pandas as pd\n",
        "from sklearn.preprocessing import MinMaxScaler\n",
        "from sklearn.preprocessing import StandardScaler\n",
        "from sklearn.model_selection import train_test_split\n",
        "import matplotlib.pyplot as plt\n",
        "from sbs import SBS\n",
        "%matplotlib inline"
      ],
      "execution_count": 2,
      "outputs": []
    },
    {
      "cell_type": "markdown",
      "metadata": {
        "id": "bXVcxDUVsQLF"
      },
      "source": [
        "**2. CARGA DE DATOS** "
      ]
    },
    {
      "cell_type": "code",
      "metadata": {
        "colab": {
          "base_uri": "https://localhost:8080/"
        },
        "id": "uf7lEWDLsQsx",
        "outputId": "18129733-23c1-4d26-dbd8-d26ac0eca5fd"
      },
      "source": [
        "!unzip ia2021.zip"
      ],
      "execution_count": 3,
      "outputs": [
        {
          "output_type": "stream",
          "text": [
            "Archive:  ia2021.zip\n",
            "replace test.csv? [y]es, [n]o, [A]ll, [N]one, [r]ename: n\n",
            "replace train.csv? [y]es, [n]o, [A]ll, [N]one, [r]ename: n\n"
          ],
          "name": "stdout"
        }
      ]
    },
    {
      "cell_type": "code",
      "metadata": {
        "id": "eM8cHnbos0Ub"
      },
      "source": [
        "df_train = pd.read_csv('train.csv')\n",
        "df_test = pd.read_csv('test.csv')"
      ],
      "execution_count": 4,
      "outputs": []
    },
    {
      "cell_type": "markdown",
      "metadata": {
        "id": "_2ZmFiG0sRXV"
      },
      "source": [
        "**3. PREPROCESADO DE DATOS** "
      ]
    },
    {
      "cell_type": "code",
      "metadata": {
        "id": "KqdK40DVsVwS"
      },
      "source": [
        "X =  df_train.values[:,:-1]\n",
        "Y =  df_train.values[:,-1]\n",
        "(trainData, testData, trainLabels, testLabels) = train_test_split(X,Y,test_size=0.1, random_state=42)"
      ],
      "execution_count": 5,
      "outputs": []
    },
    {
      "cell_type": "code",
      "metadata": {
        "id": "RQ3aquSks8LT"
      },
      "source": [
        "mms = MinMaxScaler()\n",
        "trainData_norm = mms.fit_transform(trainData)\n",
        "testData_norm = mms.transform(testData)\n",
        "\n",
        "stdsc = StandardScaler()\n",
        "trainData_std = stdsc.fit_transform(trainData)\n",
        "testData_std = stdsc.transform(testData)\n",
        "\n",
        "trainData_norm_std = stdsc.fit_transform(trainData_norm)\n",
        "testData_norm_std = stdsc.transform(testData_norm)"
      ],
      "execution_count": 6,
      "outputs": []
    },
    {
      "cell_type": "markdown",
      "metadata": {
        "id": "vlQdBtXzsW5o"
      },
      "source": [
        "**4. ANÁLISIS DE DESCRIPTORES** "
      ]
    },
    {
      "cell_type": "code",
      "metadata": {
        "colab": {
          "base_uri": "https://localhost:8080/"
        },
        "id": "5BBircnJseVB",
        "outputId": "c79db7a2-92c3-4407-959b-5c9ee2e4a66d"
      },
      "source": [
        "def evalua(clasificador,testData,testLabels):\n",
        "  num = 0\n",
        "  for i in range(0,len(clasificador.predict(testData))):\n",
        "    if clasificador.predict(testData)[i] == testLabels[i]:\n",
        "      num = num + 1\n",
        "  print('Cambian ' + str(len(testLabels) - num) + ' de ' + str(len(testLabels)))\n",
        "\n",
        "forest = RandomForestClassifier(min_samples_split=3,criterion='entropy',random_state=84)\n",
        "forest.fit(trainData_norm, trainLabels)\n",
        "evalua(forest,testData_norm,testLabels)"
      ],
      "execution_count": 7,
      "outputs": [
        {
          "output_type": "stream",
          "text": [
            "Cambian 312 de 1200\n"
          ],
          "name": "stdout"
        }
      ]
    },
    {
      "cell_type": "code",
      "metadata": {
        "colab": {
          "base_uri": "https://localhost:8080/"
        },
        "id": "33i-kSKytMx1",
        "outputId": "8eefdda6-6702-4617-c985-e07df924d542"
      },
      "source": [
        "sbs= SBS(forest,k_features=1)\n",
        "sbs.fit(trainData,trainLabels)"
      ],
      "execution_count": 8,
      "outputs": [
        {
          "output_type": "execute_result",
          "data": {
            "text/plain": [
              "<sbs.SBS at 0x7f3583dc9e90>"
            ]
          },
          "metadata": {
            "tags": []
          },
          "execution_count": 8
        }
      ]
    },
    {
      "cell_type": "markdown",
      "metadata": {
        "id": "iLV2KjfM6goj"
      },
      "source": [
        "Veamos la precisión según el número de descriptores."
      ]
    },
    {
      "cell_type": "code",
      "metadata": {
        "colab": {
          "base_uri": "https://localhost:8080/",
          "height": 283
        },
        "id": "ztrlgqCXuNqS",
        "outputId": "8ce32f09-8b30-4285-c5ac-8557ae30ee45"
      },
      "source": [
        "k_feat = [len(k) for k in sbs.subsets_]\n",
        "plt.plot(k_feat,sbs.scores_,marker='o')\n",
        "plt.ylim([0.5,0.85])\n",
        "plt.ylabel('Accuracy')\n",
        "plt.xlabel('Numero descriptores')\n",
        "plt.grid()\n",
        "plt.show()"
      ],
      "execution_count": 9,
      "outputs": [
        {
          "output_type": "display_data",
          "data": {
            "image/png": "[encoded data removed]",
            "text/plain": [
              "<Figure size 432x288 with 1 Axes>"
            ]
          },
          "metadata": {
            "tags": [],
            "needs_background": "light"
          }
        }
      ]
    },
    {
      "cell_type": "markdown",
      "metadata": {
        "id": "pph25MAl6l_J"
      },
      "source": [
        "Según la gráfica la precisión aumenta al eliminar un descriptor. Lo eliminamos y observamos los cambios."
      ]
    },
    {
      "cell_type": "code",
      "metadata": {
        "colab": {
          "base_uri": "https://localhost:8080/"
        },
        "id": "LzVi6wFqugQz",
        "outputId": "c5cfbd3c-a039-4ba0-ab2f-1106536c8379"
      },
      "source": [
        "k4 = list(sbs.subsets_[1]) \n",
        "print(df_train.columns[1:][k4])\n",
        "\n",
        "forest.fit(trainData,trainLabels)\n",
        "print('Training accuracy:', forest.score(trainData,trainLabels))\n",
        "print('Test accuracy:', forest.score(testData,testLabels))\n",
        "\n",
        "forest.fit(trainData_norm,trainLabels)\n",
        "print('Training accuracy:', forest.score(trainData_norm,trainLabels))\n",
        "print('Test accuracy:', forest.score(testData_norm,testLabels))\n",
        "\n",
        "forest.fit(trainData_std,trainLabels)\n",
        "print('Training accuracy:', forest.score(trainData_std,trainLabels))\n",
        "print('Test accuracy:', forest.score(testData_std,testLabels))\n",
        "\n",
        "forest.fit(trainData_std[:,k4],trainLabels)\n",
        "print('Training accuracy:', forest.score(trainData_std[:,k4],trainLabels))\n",
        "print('Test accuracy:', forest.score(testData_std[:,k4],testLabels))"
      ],
      "execution_count": 10,
      "outputs": [
        {
          "output_type": "stream",
          "text": [
            "Index(['EEG', 'HR', 'CIRCULATION', 'ACTIVITY'], dtype='object')\n",
            "Training accuracy: 0.9974997684970831\n",
            "Test accuracy: 0.7425\n",
            "Training accuracy: 0.9977775719974071\n",
            "Test accuracy: 0.74\n",
            "Training accuracy: 0.9977775719974071\n",
            "Test accuracy: 0.7366666666666667\n",
            "Training accuracy: 0.9899990739883322\n",
            "Test accuracy: 0.7483333333333333\n"
          ],
          "name": "stdout"
        }
      ]
    },
    {
      "cell_type": "markdown",
      "metadata": {
        "id": "Us6B2UBq9drE"
      },
      "source": [
        "De acuerdo a la selección de descriptores el modelo adecuado es el estandarizado con 4 de los 5 descriptores. Veamos resultados."
      ]
    },
    {
      "cell_type": "code",
      "metadata": {
        "colab": {
          "base_uri": "https://localhost:8080/"
        },
        "id": "Z1KXlcma9r1r",
        "outputId": "66c5ed39-d899-4f08-ab1c-e1eb60d1963d"
      },
      "source": [
        "forest = RandomForestClassifier(min_samples_split=3,criterion='entropy',random_state=84)\n",
        "forest.fit(trainData_std[:,k4], trainLabels)\n",
        "evalua(forest,testData_std[:,k4],testLabels)"
      ],
      "execution_count": 11,
      "outputs": [
        {
          "output_type": "stream",
          "text": [
            "Cambian 302 de 1200\n"
          ],
          "name": "stdout"
        }
      ]
    }
  ]
}