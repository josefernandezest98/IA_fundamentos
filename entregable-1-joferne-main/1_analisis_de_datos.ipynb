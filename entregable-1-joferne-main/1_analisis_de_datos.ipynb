{
  "nbformat": 4,
  "nbformat_minor": 0,
  "metadata": {
    "colab": {
      "name": "Análisis de datos.ipynb",
      "provenance": [],
      "authorship_tag": "ABX9TyNhvqkZzXgjJVZSdk0rG7Ax",
      "include_colab_link": true
    },
    "kernelspec": {
      "name": "python3",
      "display_name": "Python 3"
    },
    "language_info": {
      "name": "python"
    }
  },
  "cells": [
    {
      "cell_type": "markdown",
      "metadata": {
        "id": "view-in-github",
        "colab_type": "text"
      },
      "source": [
        "<a href=\"https://colab.research.google.com/github/IA2021UR/entregable-1-joferne/blob/main/1_analisis_de_datos.ipynb\" target=\"_parent\"><img src=\"https://colab.research.google.com/assets/colab-badge.svg\" alt=\"Open In Colab\"/></a>"
      ]
    },
    {
      "cell_type": "markdown",
      "metadata": {
        "id": "64-fgF6DSMDq"
      },
      "source": [
        "**1. IMPORTACIÓN DE LIBRERÍAS** "
      ]
    },
    {
      "cell_type": "code",
      "metadata": {
        "id": "CTRqBFpHSJ1i"
      },
      "source": [
        "import numpy as np\n",
        "import pandas as pd\n",
        "from sklearn.decomposition import PCA\n",
        "import matplotlib.pyplot as plt"
      ],
      "execution_count": 19,
      "outputs": []
    },
    {
      "cell_type": "markdown",
      "metadata": {
        "id": "UWzsNP5dC7mX"
      },
      "source": [
        "**2. CARGA DE DATOS** "
      ]
    },
    {
      "cell_type": "code",
      "metadata": {
        "id": "K_9OVHYCqA6r",
        "colab": {
          "base_uri": "https://localhost:8080/"
        },
        "outputId": "bf2b115c-8d04-4f00-9c55-4677b8c85d33"
      },
      "source": [
        "!unzip ia2021.zip"
      ],
      "execution_count": 2,
      "outputs": [
        {
          "output_type": "stream",
          "text": [
            "Archive:  ia2021.zip\n",
            "  inflating: test.csv                \n",
            "  inflating: train.csv               \n"
          ],
          "name": "stdout"
        }
      ]
    },
    {
      "cell_type": "code",
      "metadata": {
        "id": "wv263s_MRh0D"
      },
      "source": [
        "df_train = pd.read_csv('train.csv')\n",
        "df_test = pd.read_csv('test.csv')"
      ],
      "execution_count": 3,
      "outputs": []
    },
    {
      "cell_type": "markdown",
      "metadata": {
        "id": "ptGfA1LIDN8T"
      },
      "source": [
        "**3. ANÁLISIS DE DATOS** "
      ]
    },
    {
      "cell_type": "markdown",
      "metadata": {
        "id": "eeXO7rmTiPP7"
      },
      "source": [
        "En primer lugar para familiarizarnos con el dataset vamos a observar cómo es el dataset. Para ello vamos a ver sus primeras filas."
      ]
    },
    {
      "cell_type": "code",
      "metadata": {
        "colab": {
          "base_uri": "https://localhost:8080/"
        },
        "id": "2qSPst46SoVJ",
        "outputId": "8009f22e-d024-41d8-d4ce-f76da82cbfff"
      },
      "source": [
        "print(df_train.head())\n",
        "print(df_test.head())"
      ],
      "execution_count": 4,
      "outputs": [
        {
          "output_type": "stream",
          "text": [
            "         SL      EEG  BP   HR  CIRCULATION  ACTIVITY\n",
            "0   4019.64 -1600.00  13   79          317         3\n",
            "1   2191.03 -1146.08  20   54          165         2\n",
            "2   2787.99 -1263.38  46   67          224         2\n",
            "3   9545.98 -2848.93  26  138          554         4\n",
            "4  14148.80 -2381.15  85  120          809         4\n",
            "         SL      EEG  BP   HR  CIRCULATION\n",
            "0  28146.00 -3670.00  29  194         1521\n",
            "1  12064.90 -1796.28   8  105          765\n",
            "2   3041.75 -1220.95  35   71          249\n",
            "3   9918.52 -2570.00  44  154          587\n",
            "4  26464.00 -3133.00  34  161         1523\n"
          ],
          "name": "stdout"
        }
      ]
    },
    {
      "cell_type": "markdown",
      "metadata": {
        "id": "nNzwBfN2igMs"
      },
      "source": [
        "¿Cuál es el tamaño del dataset? ¿Qué columnas tiene?"
      ]
    },
    {
      "cell_type": "code",
      "metadata": {
        "colab": {
          "base_uri": "https://localhost:8080/"
        },
        "id": "eJKy4IL_Ss82",
        "outputId": "fb4078f1-1334-4701-a9e6-a381ab966d62"
      },
      "source": [
        "print('df_train shape: ' + str(df_train.shape) + ' || ' + 'df_test shape: ' + str(df_test.shape))"
      ],
      "execution_count": 5,
      "outputs": [
        {
          "output_type": "stream",
          "text": [
            "df_train shape: (11999, 6) || df_test shape: (4383, 5)\n"
          ],
          "name": "stdout"
        }
      ]
    },
    {
      "cell_type": "code",
      "metadata": {
        "colab": {
          "base_uri": "https://localhost:8080/"
        },
        "id": "8p7x1atRS1rQ",
        "outputId": "96ea0918-69fc-475a-e859-94fc4b3aa83c"
      },
      "source": [
        "print('df_train columnas: ' + str(df_train.columns))\n",
        "print('df_test: ' + str(df_test.columns))"
      ],
      "execution_count": 6,
      "outputs": [
        {
          "output_type": "stream",
          "text": [
            "df_train columnas: Index(['SL', 'EEG', 'BP', 'HR', 'CIRCULATION', 'ACTIVITY'], dtype='object')\n",
            "df_test: Index(['SL', 'EEG', 'BP', 'HR', 'CIRCULATION'], dtype='object')\n"
          ],
          "name": "stdout"
        }
      ]
    },
    {
      "cell_type": "markdown",
      "metadata": {
        "id": "UNP1nV4YjB7O"
      },
      "source": [
        "- El conjunto train_set tiene 6 columnas: 'SL', 'EEG', 'BP', 'HR', 'CIRCULATION' y 'ACTIVITY'.\n",
        "- El conjunto test_set tiene 5 columnas: 'SL', 'EEG', 'BP', 'HR' y 'CIRCULATION'. \n",
        "\n",
        "Por tanto el objetivo final será crear un modelo que consiga predecir la Actividad que está realizando."
      ]
    },
    {
      "cell_type": "markdown",
      "metadata": {
        "id": "KwcZcA8jjiE7"
      },
      "source": [
        "Observamos la media, desviación y los rangos intercuartílicos y la información de ambos datasets."
      ]
    },
    {
      "cell_type": "code",
      "metadata": {
        "colab": {
          "base_uri": "https://localhost:8080/",
          "height": 297
        },
        "id": "B-qM4W66S8H0",
        "outputId": "873a6402-eca9-400e-aafd-1ce7cbd13f0e"
      },
      "source": [
        "df_train.describe()"
      ],
      "execution_count": 7,
      "outputs": [
        {
          "output_type": "execute_result",
          "data": {
            "text/html": [
              "<div>\n",
              "<style scoped>\n",
              "    .dataframe tbody tr th:only-of-type {\n",
              "        vertical-align: middle;\n",
              "    }\n",
              "\n",
              "    .dataframe tbody tr th {\n",
              "        vertical-align: top;\n",
              "    }\n",
              "\n",
              "    .dataframe thead th {\n",
              "        text-align: right;\n",
              "    }\n",
              "</style>\n",
              "<table border=\"1\" class=\"dataframe\">\n",
              "  <thead>\n",
              "    <tr style=\"text-align: right;\">\n",
              "      <th></th>\n",
              "      <th>SL</th>\n",
              "      <th>EEG</th>\n",
              "      <th>BP</th>\n",
              "      <th>HR</th>\n",
              "      <th>CIRCULATION</th>\n",
              "      <th>ACTIVITY</th>\n",
              "    </tr>\n",
              "  </thead>\n",
              "  <tbody>\n",
              "    <tr>\n",
              "      <th>count</th>\n",
              "      <td>1.199900e+04</td>\n",
              "      <td>1.199900e+04</td>\n",
              "      <td>11999.000000</td>\n",
              "      <td>11999.000000</td>\n",
              "      <td>11999.000000</td>\n",
              "      <td>11999.000000</td>\n",
              "    </tr>\n",
              "    <tr>\n",
              "      <th>mean</th>\n",
              "      <td>7.566022e+04</td>\n",
              "      <td>-2.229112e+04</td>\n",
              "      <td>58.483874</td>\n",
              "      <td>212.415535</td>\n",
              "      <td>2900.695058</td>\n",
              "      <td>2.368947</td>\n",
              "    </tr>\n",
              "    <tr>\n",
              "      <th>std</th>\n",
              "      <td>1.266692e+05</td>\n",
              "      <td>1.284765e+05</td>\n",
              "      <td>48.146245</td>\n",
              "      <td>130.375027</td>\n",
              "      <td>3789.822123</td>\n",
              "      <td>1.736608</td>\n",
              "    </tr>\n",
              "    <tr>\n",
              "      <th>min</th>\n",
              "      <td>4.222420e+01</td>\n",
              "      <td>-3.396800e+06</td>\n",
              "      <td>0.000000</td>\n",
              "      <td>33.000000</td>\n",
              "      <td>5.000000</td>\n",
              "      <td>0.000000</td>\n",
              "    </tr>\n",
              "    <tr>\n",
              "      <th>25%</th>\n",
              "      <td>1.006220e+04</td>\n",
              "      <td>-5.889500e+03</td>\n",
              "      <td>25.000000</td>\n",
              "      <td>120.000000</td>\n",
              "      <td>587.000000</td>\n",
              "      <td>0.000000</td>\n",
              "    </tr>\n",
              "    <tr>\n",
              "      <th>50%</th>\n",
              "      <td>3.243530e+04</td>\n",
              "      <td>-3.498580e+03</td>\n",
              "      <td>45.000000</td>\n",
              "      <td>180.000000</td>\n",
              "      <td>1626.000000</td>\n",
              "      <td>3.000000</td>\n",
              "    </tr>\n",
              "    <tr>\n",
              "      <th>75%</th>\n",
              "      <td>8.156320e+04</td>\n",
              "      <td>-2.290000e+03</td>\n",
              "      <td>79.000000</td>\n",
              "      <td>271.000000</td>\n",
              "      <td>3539.000000</td>\n",
              "      <td>4.000000</td>\n",
              "    </tr>\n",
              "    <tr>\n",
              "      <th>max</th>\n",
              "      <td>2.352450e+06</td>\n",
              "      <td>1.410000e+06</td>\n",
              "      <td>533.000000</td>\n",
              "      <td>981.000000</td>\n",
              "      <td>41819.000000</td>\n",
              "      <td>5.000000</td>\n",
              "    </tr>\n",
              "  </tbody>\n",
              "</table>\n",
              "</div>"
            ],
            "text/plain": [
              "                 SL           EEG  ...   CIRCULATION      ACTIVITY\n",
              "count  1.199900e+04  1.199900e+04  ...  11999.000000  11999.000000\n",
              "mean   7.566022e+04 -2.229112e+04  ...   2900.695058      2.368947\n",
              "std    1.266692e+05  1.284765e+05  ...   3789.822123      1.736608\n",
              "min    4.222420e+01 -3.396800e+06  ...      5.000000      0.000000\n",
              "25%    1.006220e+04 -5.889500e+03  ...    587.000000      0.000000\n",
              "50%    3.243530e+04 -3.498580e+03  ...   1626.000000      3.000000\n",
              "75%    8.156320e+04 -2.290000e+03  ...   3539.000000      4.000000\n",
              "max    2.352450e+06  1.410000e+06  ...  41819.000000      5.000000\n",
              "\n",
              "[8 rows x 6 columns]"
            ]
          },
          "metadata": {
            "tags": []
          },
          "execution_count": 7
        }
      ]
    },
    {
      "cell_type": "code",
      "metadata": {
        "colab": {
          "base_uri": "https://localhost:8080/"
        },
        "id": "TVfrsBHh-JiM",
        "outputId": "a0790064-b64a-4195-c158-c41bfd7a2089"
      },
      "source": [
        "df_train.info()"
      ],
      "execution_count": 8,
      "outputs": [
        {
          "output_type": "stream",
          "text": [
            "<class 'pandas.core.frame.DataFrame'>\n",
            "RangeIndex: 11999 entries, 0 to 11998\n",
            "Data columns (total 6 columns):\n",
            " #   Column       Non-Null Count  Dtype  \n",
            "---  ------       --------------  -----  \n",
            " 0   SL           11999 non-null  float64\n",
            " 1   EEG          11999 non-null  float64\n",
            " 2   BP           11999 non-null  int64  \n",
            " 3   HR           11999 non-null  int64  \n",
            " 4   CIRCULATION  11999 non-null  int64  \n",
            " 5   ACTIVITY     11999 non-null  int64  \n",
            "dtypes: float64(2), int64(4)\n",
            "memory usage: 562.6 KB\n"
          ],
          "name": "stdout"
        }
      ]
    },
    {
      "cell_type": "code",
      "metadata": {
        "colab": {
          "base_uri": "https://localhost:8080/",
          "height": 297
        },
        "id": "ES3PH-7r-d-5",
        "outputId": "a8461732-f5e3-4c49-f656-269202f345cb"
      },
      "source": [
        "df_test.describe()"
      ],
      "execution_count": 9,
      "outputs": [
        {
          "output_type": "execute_result",
          "data": {
            "text/html": [
              "<div>\n",
              "<style scoped>\n",
              "    .dataframe tbody tr th:only-of-type {\n",
              "        vertical-align: middle;\n",
              "    }\n",
              "\n",
              "    .dataframe tbody tr th {\n",
              "        vertical-align: top;\n",
              "    }\n",
              "\n",
              "    .dataframe thead th {\n",
              "        text-align: right;\n",
              "    }\n",
              "</style>\n",
              "<table border=\"1\" class=\"dataframe\">\n",
              "  <thead>\n",
              "    <tr style=\"text-align: right;\">\n",
              "      <th></th>\n",
              "      <th>SL</th>\n",
              "      <th>EEG</th>\n",
              "      <th>BP</th>\n",
              "      <th>HR</th>\n",
              "      <th>CIRCULATION</th>\n",
              "    </tr>\n",
              "  </thead>\n",
              "  <tbody>\n",
              "    <tr>\n",
              "      <th>count</th>\n",
              "      <td>4.383000e+03</td>\n",
              "      <td>4.383000e+03</td>\n",
              "      <td>4383.000000</td>\n",
              "      <td>4383.000000</td>\n",
              "      <td>4383.000000</td>\n",
              "    </tr>\n",
              "    <tr>\n",
              "      <th>mean</th>\n",
              "      <td>7.464319e+04</td>\n",
              "      <td>-2.733101e+04</td>\n",
              "      <td>57.613735</td>\n",
              "      <td>209.131873</td>\n",
              "      <td>2876.947753</td>\n",
              "    </tr>\n",
              "    <tr>\n",
              "      <th>std</th>\n",
              "      <td>1.299711e+05</td>\n",
              "      <td>2.288913e+05</td>\n",
              "      <td>48.692051</td>\n",
              "      <td>128.761571</td>\n",
              "      <td>3923.458899</td>\n",
              "    </tr>\n",
              "    <tr>\n",
              "      <th>min</th>\n",
              "      <td>4.690760e+01</td>\n",
              "      <td>-1.262600e+07</td>\n",
              "      <td>0.000000</td>\n",
              "      <td>33.000000</td>\n",
              "      <td>5.000000</td>\n",
              "    </tr>\n",
              "    <tr>\n",
              "      <th>25%</th>\n",
              "      <td>9.950030e+03</td>\n",
              "      <td>-5.826810e+03</td>\n",
              "      <td>25.000000</td>\n",
              "      <td>118.000000</td>\n",
              "      <td>584.500000</td>\n",
              "    </tr>\n",
              "    <tr>\n",
              "      <th>50%</th>\n",
              "      <td>2.991810e+04</td>\n",
              "      <td>-3.413000e+03</td>\n",
              "      <td>43.000000</td>\n",
              "      <td>179.000000</td>\n",
              "      <td>1521.000000</td>\n",
              "    </tr>\n",
              "    <tr>\n",
              "      <th>75%</th>\n",
              "      <td>7.942745e+04</td>\n",
              "      <td>-2.297935e+03</td>\n",
              "      <td>77.000000</td>\n",
              "      <td>262.000000</td>\n",
              "      <td>3466.000000</td>\n",
              "    </tr>\n",
              "    <tr>\n",
              "      <th>max</th>\n",
              "      <td>2.426140e+06</td>\n",
              "      <td>1.440000e+05</td>\n",
              "      <td>435.000000</td>\n",
              "      <td>986.000000</td>\n",
              "      <td>52210.000000</td>\n",
              "    </tr>\n",
              "  </tbody>\n",
              "</table>\n",
              "</div>"
            ],
            "text/plain": [
              "                 SL           EEG           BP           HR   CIRCULATION\n",
              "count  4.383000e+03  4.383000e+03  4383.000000  4383.000000   4383.000000\n",
              "mean   7.464319e+04 -2.733101e+04    57.613735   209.131873   2876.947753\n",
              "std    1.299711e+05  2.288913e+05    48.692051   128.761571   3923.458899\n",
              "min    4.690760e+01 -1.262600e+07     0.000000    33.000000      5.000000\n",
              "25%    9.950030e+03 -5.826810e+03    25.000000   118.000000    584.500000\n",
              "50%    2.991810e+04 -3.413000e+03    43.000000   179.000000   1521.000000\n",
              "75%    7.942745e+04 -2.297935e+03    77.000000   262.000000   3466.000000\n",
              "max    2.426140e+06  1.440000e+05   435.000000   986.000000  52210.000000"
            ]
          },
          "metadata": {
            "tags": []
          },
          "execution_count": 9
        }
      ]
    },
    {
      "cell_type": "code",
      "metadata": {
        "colab": {
          "base_uri": "https://localhost:8080/"
        },
        "id": "Kxttcz9L-mep",
        "outputId": "1b916c9b-c0b7-4b5f-a61e-6b425a8e67b4"
      },
      "source": [
        "df_test.info()"
      ],
      "execution_count": 10,
      "outputs": [
        {
          "output_type": "stream",
          "text": [
            "<class 'pandas.core.frame.DataFrame'>\n",
            "RangeIndex: 4383 entries, 0 to 4382\n",
            "Data columns (total 5 columns):\n",
            " #   Column       Non-Null Count  Dtype  \n",
            "---  ------       --------------  -----  \n",
            " 0   SL           4383 non-null   float64\n",
            " 1   EEG          4383 non-null   float64\n",
            " 2   BP           4383 non-null   int64  \n",
            " 3   HR           4383 non-null   int64  \n",
            " 4   CIRCULATION  4383 non-null   int64  \n",
            "dtypes: float64(2), int64(3)\n",
            "memory usage: 171.3 KB\n"
          ],
          "name": "stdout"
        }
      ]
    },
    {
      "cell_type": "markdown",
      "metadata": {
        "id": "x6BuZc3Oj-RV"
      },
      "source": [
        "¿Cómo quedaría el dataset ordenado ascendentemente por actividad?"
      ]
    },
    {
      "cell_type": "code",
      "metadata": {
        "colab": {
          "base_uri": "https://localhost:8080/",
          "height": 419
        },
        "id": "KW4VxHKB-o7u",
        "outputId": "a89d0e75-d182-4ff1-caed-c62b2f1add33"
      },
      "source": [
        "df_train_ordenada = df_train.sort_values(by=['ACTIVITY'],ascending=[True])\n",
        "df_train_ordenada"
      ],
      "execution_count": 11,
      "outputs": [
        {
          "output_type": "execute_result",
          "data": {
            "text/html": [
              "<div>\n",
              "<style scoped>\n",
              "    .dataframe tbody tr th:only-of-type {\n",
              "        vertical-align: middle;\n",
              "    }\n",
              "\n",
              "    .dataframe tbody tr th {\n",
              "        vertical-align: top;\n",
              "    }\n",
              "\n",
              "    .dataframe thead th {\n",
              "        text-align: right;\n",
              "    }\n",
              "</style>\n",
              "<table border=\"1\" class=\"dataframe\">\n",
              "  <thead>\n",
              "    <tr style=\"text-align: right;\">\n",
              "      <th></th>\n",
              "      <th>SL</th>\n",
              "      <th>EEG</th>\n",
              "      <th>BP</th>\n",
              "      <th>HR</th>\n",
              "      <th>CIRCULATION</th>\n",
              "      <th>ACTIVITY</th>\n",
              "    </tr>\n",
              "  </thead>\n",
              "  <tbody>\n",
              "    <tr>\n",
              "      <th>3348</th>\n",
              "      <td>138485.0</td>\n",
              "      <td>-7096.24</td>\n",
              "      <td>187</td>\n",
              "      <td>315</td>\n",
              "      <td>5630</td>\n",
              "      <td>0</td>\n",
              "    </tr>\n",
              "    <tr>\n",
              "      <th>3723</th>\n",
              "      <td>134450.0</td>\n",
              "      <td>-5623.00</td>\n",
              "      <td>57</td>\n",
              "      <td>357</td>\n",
              "      <td>5958</td>\n",
              "      <td>0</td>\n",
              "    </tr>\n",
              "    <tr>\n",
              "      <th>3725</th>\n",
              "      <td>223021.0</td>\n",
              "      <td>-8267.00</td>\n",
              "      <td>68</td>\n",
              "      <td>359</td>\n",
              "      <td>8597</td>\n",
              "      <td>0</td>\n",
              "    </tr>\n",
              "    <tr>\n",
              "      <th>3727</th>\n",
              "      <td>139734.0</td>\n",
              "      <td>-10685.00</td>\n",
              "      <td>28</td>\n",
              "      <td>273</td>\n",
              "      <td>2610</td>\n",
              "      <td>0</td>\n",
              "    </tr>\n",
              "    <tr>\n",
              "      <th>3729</th>\n",
              "      <td>76018.0</td>\n",
              "      <td>-6502.00</td>\n",
              "      <td>61</td>\n",
              "      <td>260</td>\n",
              "      <td>3294</td>\n",
              "      <td>0</td>\n",
              "    </tr>\n",
              "    <tr>\n",
              "      <th>...</th>\n",
              "      <td>...</td>\n",
              "      <td>...</td>\n",
              "      <td>...</td>\n",
              "      <td>...</td>\n",
              "      <td>...</td>\n",
              "      <td>...</td>\n",
              "    </tr>\n",
              "    <tr>\n",
              "      <th>1317</th>\n",
              "      <td>146238.0</td>\n",
              "      <td>-5130.00</td>\n",
              "      <td>60</td>\n",
              "      <td>315</td>\n",
              "      <td>5844</td>\n",
              "      <td>5</td>\n",
              "    </tr>\n",
              "    <tr>\n",
              "      <th>1318</th>\n",
              "      <td>35489.8</td>\n",
              "      <td>-4235.18</td>\n",
              "      <td>94</td>\n",
              "      <td>208</td>\n",
              "      <td>1691</td>\n",
              "      <td>5</td>\n",
              "    </tr>\n",
              "    <tr>\n",
              "      <th>5245</th>\n",
              "      <td>48695.9</td>\n",
              "      <td>-6060.00</td>\n",
              "      <td>26</td>\n",
              "      <td>215</td>\n",
              "      <td>2188</td>\n",
              "      <td>5</td>\n",
              "    </tr>\n",
              "    <tr>\n",
              "      <th>5241</th>\n",
              "      <td>12591.9</td>\n",
              "      <td>-2667.33</td>\n",
              "      <td>61</td>\n",
              "      <td>130</td>\n",
              "      <td>694</td>\n",
              "      <td>5</td>\n",
              "    </tr>\n",
              "    <tr>\n",
              "      <th>11998</th>\n",
              "      <td>280014.0</td>\n",
              "      <td>-9684.44</td>\n",
              "      <td>68</td>\n",
              "      <td>468</td>\n",
              "      <td>9276</td>\n",
              "      <td>5</td>\n",
              "    </tr>\n",
              "  </tbody>\n",
              "</table>\n",
              "<p>11999 rows × 6 columns</p>\n",
              "</div>"
            ],
            "text/plain": [
              "             SL       EEG   BP   HR  CIRCULATION  ACTIVITY\n",
              "3348   138485.0  -7096.24  187  315         5630         0\n",
              "3723   134450.0  -5623.00   57  357         5958         0\n",
              "3725   223021.0  -8267.00   68  359         8597         0\n",
              "3727   139734.0 -10685.00   28  273         2610         0\n",
              "3729    76018.0  -6502.00   61  260         3294         0\n",
              "...         ...       ...  ...  ...          ...       ...\n",
              "1317   146238.0  -5130.00   60  315         5844         5\n",
              "1318    35489.8  -4235.18   94  208         1691         5\n",
              "5245    48695.9  -6060.00   26  215         2188         5\n",
              "5241    12591.9  -2667.33   61  130          694         5\n",
              "11998  280014.0  -9684.44   68  468         9276         5\n",
              "\n",
              "[11999 rows x 6 columns]"
            ]
          },
          "metadata": {
            "tags": []
          },
          "execution_count": 11
        }
      ]
    },
    {
      "cell_type": "markdown",
      "metadata": {
        "id": "sU-1z6ujkNs7"
      },
      "source": [
        "Voy a tratar de mostrar una comparativa de la media y la desviación del df_train vs df_test."
      ]
    },
    {
      "cell_type": "code",
      "metadata": {
        "colab": {
          "base_uri": "https://localhost:8080/"
        },
        "id": "GG4UUf3r--cu",
        "outputId": "5f86fe5f-835d-41b1-9bfe-de29607e4656"
      },
      "source": [
        "print('SL train: ' + str(df_train['SL'].mean()) + ' || SL test: ' + str(df_test['SL'].mean()))\n",
        "\n",
        "print('EEG train: ' + str(df_train['EEG'].mean()) + ' || EEG test: ' + str(df_test['EEG'].mean()))\n",
        "\n",
        "print('BP train: ' + str(df_train['BP'].mean()) + ' || BP test: ' + str(df_test['BP'].mean()))\n",
        "\n",
        "print('HR train: ' + str(df_train['HR'].mean()) + ' || HR test: ' + str(df_test['HR'].mean()))\n",
        "\n",
        "print('CIRCULATION train: ' + str(df_train['CIRCULATION'].mean()) + ' || CIRCULATION test: ' + str(df_test['CIRCULATION'].mean()))"
      ],
      "execution_count": 12,
      "outputs": [
        {
          "output_type": "stream",
          "text": [
            "SL train: 75660.22427377278 || SL test: 74643.1870016883\n",
            "EEG train: -22291.11888351696 || EEG test: -27331.01009582476\n",
            "BP train: 58.48387365613801 || BP test: 57.61373488478211\n",
            "HR train: 212.41553462788565 || HR test: 209.13187314624687\n",
            "CIRCULATION train: 2900.6950579214936 || CIRCULATION test: 2876.9477526808123\n"
          ],
          "name": "stdout"
        }
      ]
    },
    {
      "cell_type": "code",
      "metadata": {
        "colab": {
          "base_uri": "https://localhost:8080/"
        },
        "id": "jLUIxle4AT70",
        "outputId": "06f69d2d-267c-4b12-bd7a-8e5a512fbd08"
      },
      "source": [
        "df_train.apply(np.mean)"
      ],
      "execution_count": 13,
      "outputs": [
        {
          "output_type": "execute_result",
          "data": {
            "text/plain": [
              "SL             75660.224274\n",
              "EEG           -22291.118884\n",
              "BP                58.483874\n",
              "HR               212.415535\n",
              "CIRCULATION     2900.695058\n",
              "ACTIVITY           2.368947\n",
              "dtype: float64"
            ]
          },
          "metadata": {
            "tags": []
          },
          "execution_count": 13
        }
      ]
    },
    {
      "cell_type": "code",
      "metadata": {
        "colab": {
          "base_uri": "https://localhost:8080/"
        },
        "id": "U7oqXl2sBLqn",
        "outputId": "3d6af10d-d44e-4d95-f89c-9efafabd79a5"
      },
      "source": [
        "df_test.apply(np.mean)"
      ],
      "execution_count": 14,
      "outputs": [
        {
          "output_type": "execute_result",
          "data": {
            "text/plain": [
              "SL             74643.187002\n",
              "EEG           -27331.010096\n",
              "BP                57.613735\n",
              "HR               209.131873\n",
              "CIRCULATION     2876.947753\n",
              "dtype: float64"
            ]
          },
          "metadata": {
            "tags": []
          },
          "execution_count": 14
        }
      ]
    },
    {
      "cell_type": "code",
      "metadata": {
        "colab": {
          "base_uri": "https://localhost:8080/"
        },
        "id": "nw794fmcBZ2R",
        "outputId": "b7da2f08-e62b-48e6-856b-7a0a94be91f4"
      },
      "source": [
        "df_train.apply(np.std)"
      ],
      "execution_count": 15,
      "outputs": [
        {
          "output_type": "execute_result",
          "data": {
            "text/plain": [
              "SL             126663.882980\n",
              "EEG            128471.185992\n",
              "BP                 48.144239\n",
              "HR                130.369595\n",
              "CIRCULATION      3789.664197\n",
              "ACTIVITY            1.736536\n",
              "dtype: float64"
            ]
          },
          "metadata": {
            "tags": []
          },
          "execution_count": 15
        }
      ]
    },
    {
      "cell_type": "code",
      "metadata": {
        "colab": {
          "base_uri": "https://localhost:8080/"
        },
        "id": "olMU3uCWBpz_",
        "outputId": "3a905fe6-edaf-46f6-aa38-c9382a9c9fa0"
      },
      "source": [
        "df_test.apply(np.std)"
      ],
      "execution_count": 16,
      "outputs": [
        {
          "output_type": "execute_result",
          "data": {
            "text/plain": [
              "SL             129956.316341\n",
              "EEG            228865.163555\n",
              "BP                 48.686496\n",
              "HR                128.746881\n",
              "CIRCULATION      3923.011297\n",
              "dtype: float64"
            ]
          },
          "metadata": {
            "tags": []
          },
          "execution_count": 16
        }
      ]
    },
    {
      "cell_type": "markdown",
      "metadata": {
        "id": "9vm3qmIDlDWs"
      },
      "source": [
        "¿Cuál es la media de los elementos del descriptor 'SL' que desarrollan la actividad 5?"
      ]
    },
    {
      "cell_type": "code",
      "metadata": {
        "colab": {
          "base_uri": "https://localhost:8080/"
        },
        "id": "9006TXBzBssH",
        "outputId": "48b94df4-e70a-4d73-9021-cdaf8ca4fef7"
      },
      "source": [
        "df_train[df_train['ACTIVITY'] == 5]['SL'].mean()"
      ],
      "execution_count": 17,
      "outputs": [
        {
          "output_type": "execute_result",
          "data": {
            "text/plain": [
              "51402.210873247386"
            ]
          },
          "metadata": {
            "tags": []
          },
          "execution_count": 17
        }
      ]
    },
    {
      "cell_type": "markdown",
      "metadata": {
        "id": "Rxs5PYWelZPh"
      },
      "source": [
        "Voy a añadir una columna llamada 'Localizador' que sirva para identificar una fila en concreto ya que nos será útil más adelante."
      ]
    },
    {
      "cell_type": "code",
      "metadata": {
        "colab": {
          "base_uri": "https://localhost:8080/",
          "height": 204
        },
        "id": "YXhQ1VvNlYDJ",
        "outputId": "ee9abfe2-cd74-48f7-8bf8-960515c92a8c"
      },
      "source": [
        "df_train['Localizador'] = [i for i in range(0,df_train.shape[0])]\n",
        "df_train.head()"
      ],
      "execution_count": 18,
      "outputs": [
        {
          "output_type": "execute_result",
          "data": {
            "text/html": [
              "<div>\n",
              "<style scoped>\n",
              "    .dataframe tbody tr th:only-of-type {\n",
              "        vertical-align: middle;\n",
              "    }\n",
              "\n",
              "    .dataframe tbody tr th {\n",
              "        vertical-align: top;\n",
              "    }\n",
              "\n",
              "    .dataframe thead th {\n",
              "        text-align: right;\n",
              "    }\n",
              "</style>\n",
              "<table border=\"1\" class=\"dataframe\">\n",
              "  <thead>\n",
              "    <tr style=\"text-align: right;\">\n",
              "      <th></th>\n",
              "      <th>SL</th>\n",
              "      <th>EEG</th>\n",
              "      <th>BP</th>\n",
              "      <th>HR</th>\n",
              "      <th>CIRCULATION</th>\n",
              "      <th>ACTIVITY</th>\n",
              "      <th>Localizador</th>\n",
              "    </tr>\n",
              "  </thead>\n",
              "  <tbody>\n",
              "    <tr>\n",
              "      <th>0</th>\n",
              "      <td>4019.64</td>\n",
              "      <td>-1600.00</td>\n",
              "      <td>13</td>\n",
              "      <td>79</td>\n",
              "      <td>317</td>\n",
              "      <td>3</td>\n",
              "      <td>0</td>\n",
              "    </tr>\n",
              "    <tr>\n",
              "      <th>1</th>\n",
              "      <td>2191.03</td>\n",
              "      <td>-1146.08</td>\n",
              "      <td>20</td>\n",
              "      <td>54</td>\n",
              "      <td>165</td>\n",
              "      <td>2</td>\n",
              "      <td>1</td>\n",
              "    </tr>\n",
              "    <tr>\n",
              "      <th>2</th>\n",
              "      <td>2787.99</td>\n",
              "      <td>-1263.38</td>\n",
              "      <td>46</td>\n",
              "      <td>67</td>\n",
              "      <td>224</td>\n",
              "      <td>2</td>\n",
              "      <td>2</td>\n",
              "    </tr>\n",
              "    <tr>\n",
              "      <th>3</th>\n",
              "      <td>9545.98</td>\n",
              "      <td>-2848.93</td>\n",
              "      <td>26</td>\n",
              "      <td>138</td>\n",
              "      <td>554</td>\n",
              "      <td>4</td>\n",
              "      <td>3</td>\n",
              "    </tr>\n",
              "    <tr>\n",
              "      <th>4</th>\n",
              "      <td>14148.80</td>\n",
              "      <td>-2381.15</td>\n",
              "      <td>85</td>\n",
              "      <td>120</td>\n",
              "      <td>809</td>\n",
              "      <td>4</td>\n",
              "      <td>4</td>\n",
              "    </tr>\n",
              "  </tbody>\n",
              "</table>\n",
              "</div>"
            ],
            "text/plain": [
              "         SL      EEG  BP   HR  CIRCULATION  ACTIVITY  Localizador\n",
              "0   4019.64 -1600.00  13   79          317         3            0\n",
              "1   2191.03 -1146.08  20   54          165         2            1\n",
              "2   2787.99 -1263.38  46   67          224         2            2\n",
              "3   9545.98 -2848.93  26  138          554         4            3\n",
              "4  14148.80 -2381.15  85  120          809         4            4"
            ]
          },
          "metadata": {
            "tags": []
          },
          "execution_count": 18
        }
      ]
    },
    {
      "cell_type": "markdown",
      "metadata": {
        "id": "C-bwiDjVkVVO"
      },
      "source": [
        "Por último vamos a visualizar los datos. Para ello le vamos a aplicar una reducción de dimensionalidad PCA."
      ]
    },
    {
      "cell_type": "code",
      "metadata": {
        "id": "esGblR-dkUAb"
      },
      "source": [
        "pca = PCA(n_components=2).fit(df_train)\n",
        "data_r = pca.transform(df_train)"
      ],
      "execution_count": 20,
      "outputs": []
    },
    {
      "cell_type": "code",
      "metadata": {
        "id": "2uZ09ozxk6U7",
        "outputId": "f2345873-3008-4f8a-a846-c3bc40258ac8",
        "colab": {
          "base_uri": "https://localhost:8080/",
          "height": 268
        }
      },
      "source": [
        "plt.figure()\n",
        "plt.title('Circulos')\n",
        "plt.scatter(data_r[:,0], data_r[:,1])\n",
        "plt.xticks(())\n",
        "plt.yticks(())\n",
        "plt.show()"
      ],
      "execution_count": 21,
      "outputs": [
        {
          "output_type": "display_data",
          "data": {
            "image/png": "[encoded data removed]",
            "text/plain": [
              "<Figure size 432x288 with 1 Axes>"
            ]
          },
          "metadata": {
            "tags": []
          }
        }
      ]
    },
    {
      "cell_type": "code",
      "metadata": {
        "id": "Ke44-MU8lAqT"
      },
      "source": [
        ""
      ],
      "execution_count": null,
      "outputs": []
    }
  ]
}