{
  "nbformat": 4,
  "nbformat_minor": 0,
  "metadata": {
    "colab": {
      "name": "practica1.ipynb",
      "provenance": [],
      "include_colab_link": true
    },
    "kernelspec": {
      "display_name": "Python 3",
      "language": "python",
      "name": "python3"
    },
    "language_info": {
      "codemirror_mode": {
        "name": "ipython",
        "version": 3
      },
      "file_extension": ".py",
      "mimetype": "text/x-python",
      "name": "python",
      "nbconvert_exporter": "python",
      "pygments_lexer": "ipython3",
      "version": "3.6.8"
    }
  },
  "cells": [
    {
      "cell_type": "markdown",
      "metadata": {
        "id": "view-in-github",
        "colab_type": "text"
      },
      "source": [
        "<a href=\"https://colab.research.google.com/github/IA2021UR/practica-1-joferne/blob/main/practica1.ipynb\" target=\"_parent\"><img src=\"https://colab.research.google.com/assets/colab-badge.svg\" alt=\"Open In Colab\"/></a>"
      ]
    },
    {
      "cell_type": "markdown",
      "metadata": {
        "id": "ikDv2432Z0D_"
      },
      "source": [
        "# Práctica 1. Introducción a Python\n",
        "\n",
        "Objetivos de la práctica:\n",
        "- Familiarizarnos con el lenguaje Python.\n",
        "     - Familiarizarnos con el interprete de Python.\n",
        "     - Definir funciones en Python.\n",
        "     - Trabajar con los tipos básicos de Python.\n",
        "- Familiarizarnos con los notebooks de Jupyter y el entorno de Google Colab.\n",
        "\n",
        "Si estás utilizando Colab para interactuar con estos notebooks, para que los cambios realizados se almacenen en el repositorio debes usar la opción Save a copy in GitHub... del menú File. "
      ]
    },
    {
      "cell_type": "code",
      "metadata": {
        "id": "vc36NHr3MJoP",
        "colab": {
          "base_uri": "https://localhost:8080/"
        },
        "outputId": "c9864b86-e34d-4905-ebd6-d25bdf9231d1"
      },
      "source": [
        "!pip install mypy\r\n",
        "!wget https://raw.githubusercontent.com/IA1920/Utils/master/typecheck.py\r\n",
        "\r\n",
        "from typecheck import *"
      ],
      "execution_count": 57,
      "outputs": [
        {
          "output_type": "stream",
          "text": [
            "Requirement already satisfied: mypy in /usr/local/lib/python3.7/dist-packages (0.812)\n",
            "Requirement already satisfied: typing-extensions>=3.7.4 in /usr/local/lib/python3.7/dist-packages (from mypy) (3.7.4.3)\n",
            "Requirement already satisfied: mypy-extensions<0.5.0,>=0.4.3 in /usr/local/lib/python3.7/dist-packages (from mypy) (0.4.3)\n",
            "Requirement already satisfied: typed-ast<1.5.0,>=1.4.0 in /usr/local/lib/python3.7/dist-packages (from mypy) (1.4.2)\n",
            "--2021-03-03 18:03:50--  https://raw.githubusercontent.com/IA1920/Utils/master/typecheck.py\n",
            "Resolving raw.githubusercontent.com (raw.githubusercontent.com)... 185.199.109.133, 185.199.108.133, 185.199.111.133, ...\n",
            "Connecting to raw.githubusercontent.com (raw.githubusercontent.com)|185.199.109.133|:443... connected.\n",
            "HTTP request sent, awaiting response... 200 OK\n",
            "Length: 1633 (1.6K) [text/plain]\n",
            "Saving to: ‘typecheck.py.3’\n",
            "\n",
            "typecheck.py.3      100%[===================>]   1.59K  --.-KB/s    in 0s      \n",
            "\n",
            "2021-03-03 18:03:50 (30.7 MB/s) - ‘typecheck.py.3’ saved [1633/1633]\n",
            "\n"
          ],
          "name": "stdout"
        }
      ]
    },
    {
      "cell_type": "markdown",
      "metadata": {
        "id": "xfnEPPAsZ0ED"
      },
      "source": [
        "## Ejercicios mínimos (6 puntos)\n",
        "\n",
        "### Ejercicio 1\n",
        "\n",
        "Crea tantas celdas como necesites y ejecuta las siguientes instrucciones:\n",
        "- (50-5*6)/4\n",
        "- ancho = 20\n",
        "- alto = 5*9\n",
        "- area = ancho*alto\n",
        "- area\n",
        "- True and 2==3"
      ]
    },
    {
      "cell_type": "code",
      "metadata": {
        "id": "5yPTSR7sZ0EH",
        "colab": {
          "base_uri": "https://localhost:8080/"
        },
        "outputId": "f742b0bc-f6a2-40fe-80f7-b0e228fb7590"
      },
      "source": [
        "(50-5*6)/4"
      ],
      "execution_count": null,
      "outputs": [
        {
          "output_type": "execute_result",
          "data": {
            "text/plain": [
              "5.0"
            ]
          },
          "metadata": {
            "tags": []
          },
          "execution_count": 50
        }
      ]
    },
    {
      "cell_type": "code",
      "metadata": {
        "id": "Gn5b_8-ihAiM"
      },
      "source": [
        "ancho = 20"
      ],
      "execution_count": null,
      "outputs": []
    },
    {
      "cell_type": "code",
      "metadata": {
        "id": "wJc3c4vohGHm"
      },
      "source": [
        "alto = 5*9"
      ],
      "execution_count": null,
      "outputs": []
    },
    {
      "cell_type": "code",
      "metadata": {
        "id": "qXwBdy1MilwD"
      },
      "source": [
        "area = ancho*alto"
      ],
      "execution_count": null,
      "outputs": []
    },
    {
      "cell_type": "code",
      "metadata": {
        "id": "ukHaSpGlio0L",
        "colab": {
          "base_uri": "https://localhost:8080/"
        },
        "outputId": "952d05c7-d17e-40b6-91d4-d51cfa396183"
      },
      "source": [
        "area"
      ],
      "execution_count": null,
      "outputs": [
        {
          "output_type": "execute_result",
          "data": {
            "text/plain": [
              "900"
            ]
          },
          "metadata": {
            "tags": []
          },
          "execution_count": 54
        }
      ]
    },
    {
      "cell_type": "code",
      "metadata": {
        "id": "avqTV2RNisH6",
        "colab": {
          "base_uri": "https://localhost:8080/"
        },
        "outputId": "b8536e9a-5a21-4b05-c705-7998b8e4fcb9"
      },
      "source": [
        "True and 2==3"
      ],
      "execution_count": null,
      "outputs": [
        {
          "output_type": "execute_result",
          "data": {
            "text/plain": [
              "False"
            ]
          },
          "metadata": {
            "tags": []
          },
          "execution_count": 55
        }
      ]
    },
    {
      "cell_type": "markdown",
      "metadata": {
        "id": "Fo-vlKOjZ0EV"
      },
      "source": [
        "### Ejercicio 2\n",
        "\n",
        "A continuación vemos cómo se define una función, y cómo se puede utilizar.\n",
        "\n",
        "La siguiente función toma un número y le suma 44."
      ]
    },
    {
      "cell_type": "code",
      "metadata": {
        "id": "-MIzYRe5Z0EW",
        "colab": {
          "base_uri": "https://localhost:8080/"
        },
        "outputId": "f1f004c9-e27a-4881-9aba-3bcb0eadfaf2"
      },
      "source": [
        "%%typecheck\n",
        "\n",
        "from typing import *\n",
        "\n",
        "def mas44(x:int)->int:\n",
        "    return x + 44"
      ],
      "execution_count": null,
      "outputs": [
        {
          "output_type": "stream",
          "text": [
            "Success: no issues found in 1 source file\n",
            "\n"
          ],
          "name": "stdout"
        }
      ]
    },
    {
      "cell_type": "markdown",
      "metadata": {
        "id": "XdZO1c1QZ0Ee"
      },
      "source": [
        "Ahora podemos utilizar la función del siguiente modo."
      ]
    },
    {
      "cell_type": "code",
      "metadata": {
        "id": "hQI1E5gHZ0Eg",
        "colab": {
          "base_uri": "https://localhost:8080/"
        },
        "outputId": "8300cb2d-06f2-467c-e6e5-ce5ff91995f4"
      },
      "source": [
        "mas44(5)"
      ],
      "execution_count": null,
      "outputs": [
        {
          "output_type": "execute_result",
          "data": {
            "text/plain": [
              "49"
            ]
          },
          "metadata": {
            "tags": []
          },
          "execution_count": 15
        }
      ]
    },
    {
      "cell_type": "markdown",
      "metadata": {
        "id": "Aaa3ruToZ0En"
      },
      "source": [
        "### Ejercicio 3\n",
        "\n",
        "Define una función que dados dos números devuelva el menor de ellos. Utiliza la siguiente cabecera. En la celda siguiente debes reemplazar el ``pass`` por la definición de la función."
      ]
    },
    {
      "cell_type": "code",
      "metadata": {
        "id": "8wbv6N3BZ0Ep",
        "colab": {
          "base_uri": "https://localhost:8080/"
        },
        "outputId": "df03399e-566d-4441-d948-2064347947ea"
      },
      "source": [
        "%%typecheck\n",
        "\n",
        "def minimo(x:int,y:int)->int:\n",
        "    '''\n",
        "    >>> minimo(10, 5)\n",
        "    5\n",
        "    >>> minimo(-4, 9)\n",
        "    -4\n",
        "    >>> minimo(3.8, 2.9)\n",
        "    2.9\n",
        "    '''\n",
        "    if x <= y:\n",
        "      return x\n",
        "    else:\n",
        "      return y"
      ],
      "execution_count": null,
      "outputs": [
        {
          "output_type": "stream",
          "text": [
            "Success: no issues found in 1 source file\n",
            "\n"
          ],
          "name": "stdout"
        }
      ]
    },
    {
      "cell_type": "markdown",
      "metadata": {
        "id": "ehHfpjvqZ0Ew"
      },
      "source": [
        "Si la definición anterior no es correcta, al ejecutar la siguiente celda obtendrás un error, lo que significa que tu función no pasa los tests proporcionados. "
      ]
    },
    {
      "cell_type": "code",
      "metadata": {
        "id": "Y1lLNRWWZ0Ey",
        "colab": {
          "base_uri": "https://localhost:8080/"
        },
        "outputId": "dde7bdc4-37fa-49ba-993a-64259009defc"
      },
      "source": [
        "import doctest\n",
        "doctest.testmod()"
      ],
      "execution_count": 58,
      "outputs": [
        {
          "output_type": "execute_result",
          "data": {
            "text/plain": [
              "TestResults(failed=0, attempted=49)"
            ]
          },
          "metadata": {
            "tags": []
          },
          "execution_count": 58
        }
      ]
    },
    {
      "cell_type": "markdown",
      "metadata": {
        "id": "BTAWy3iKZ0E3"
      },
      "source": [
        "### Ejercicio 4\n",
        "\n",
        "Define una función que dado un string, devuelve un string que contiene los dos primeros y los dos últimos caracteres del string; es decir, si la función recibe 'primavera', la función devolverá 'prra'. Sin embargo, si la longitud del string es menor que dos, la función devolverá el string vacio."
      ]
    },
    {
      "cell_type": "code",
      "metadata": {
        "id": "0gNDnvUqZ0E5",
        "colab": {
          "base_uri": "https://localhost:8080/"
        },
        "outputId": "e0755f9e-cf22-453f-fca3-da30665e3d3a"
      },
      "source": [
        "%%typecheck\n",
        "\n",
        "def principio_fin(s:str)->str:\n",
        "    '''\n",
        "    >>> principio_fin('primavera')\n",
        "    'prra'\n",
        "    >>> principio_fin('invierno')\n",
        "    'inno'\n",
        "    >>> principio_fin('xyz')\n",
        "    'xyyz'\n",
        "    >>> principio_fin('a')\n",
        "    ''\n",
        "    '''\n",
        "    if len(s) < 2:\n",
        "      return \"\"\n",
        "    else:\n",
        "      return s[:2] + s[-2:]"
      ],
      "execution_count": null,
      "outputs": [
        {
          "output_type": "stream",
          "text": [
            "Success: no issues found in 1 source file\n",
            "\n"
          ],
          "name": "stdout"
        }
      ]
    },
    {
      "cell_type": "markdown",
      "metadata": {
        "id": "BLaUhyVuZ0FA"
      },
      "source": [
        "Comprueba los tests."
      ]
    },
    {
      "cell_type": "code",
      "metadata": {
        "id": "VbWdTheIZ0FC",
        "colab": {
          "base_uri": "https://localhost:8080/"
        },
        "outputId": "30aad379-6954-456b-b8a5-afa5ea27c7d5"
      },
      "source": [
        "doctest.testmod()"
      ],
      "execution_count": null,
      "outputs": [
        {
          "output_type": "execute_result",
          "data": {
            "text/plain": [
              "TestResults(failed=0, attempted=7)"
            ]
          },
          "metadata": {
            "tags": []
          },
          "execution_count": 19
        }
      ]
    },
    {
      "cell_type": "markdown",
      "metadata": {
        "id": "5GNnRPmoZ0FH"
      },
      "source": [
        "### Ejercicio 5\n",
        "\n",
        "Define una función que dado un string s, devuelve un string donde todas las ocurrencias del primer carácter de s han sido reemplazadas por '\\*', exceptuando el primer carácter. Ejemplo. 'babble' produce 'ba**le'. Ejecuta la siguiente celda para saber qué hace la función ``replace``."
      ]
    },
    {
      "cell_type": "code",
      "metadata": {
        "id": "fM0WDTxFZ0FJ"
      },
      "source": [
        "s = ''\n",
        "??s.replace"
      ],
      "execution_count": null,
      "outputs": []
    },
    {
      "cell_type": "code",
      "metadata": {
        "id": "zrrYigVnZ0FP",
        "colab": {
          "base_uri": "https://localhost:8080/"
        },
        "outputId": "15c496ad-6b83-4928-d6df-9b5a59700b9d"
      },
      "source": [
        "%%typecheck\n",
        "\n",
        "def comienzo_fijo(s:str)->str:\n",
        "    '''\n",
        "    >>> comienzo_fijo('babble')\n",
        "    'ba**le'\n",
        "    >>> comienzo_fijo('aardvark')\n",
        "    'a*rdv*rk'\n",
        "    >>> comienzo_fijo('google')\n",
        "    'goo*le'\n",
        "    >>> comienzo_fijo('donut')\n",
        "    'donut'\n",
        "    '''\n",
        "    return s[0] + s[1:].replace(s[0],'*')"
      ],
      "execution_count": null,
      "outputs": [
        {
          "output_type": "stream",
          "text": [
            "Success: no issues found in 1 source file\n",
            "\n"
          ],
          "name": "stdout"
        }
      ]
    },
    {
      "cell_type": "markdown",
      "metadata": {
        "id": "2Vq5mVhLZ0FV"
      },
      "source": [
        "Comprueba los tests."
      ]
    },
    {
      "cell_type": "code",
      "metadata": {
        "id": "TU4w5rvCZ0FW",
        "colab": {
          "base_uri": "https://localhost:8080/"
        },
        "outputId": "4fe1d860-b9ee-4815-cb5d-a56d4cd8322e"
      },
      "source": [
        "doctest.testmod()"
      ],
      "execution_count": null,
      "outputs": [
        {
          "output_type": "execute_result",
          "data": {
            "text/plain": [
              "TestResults(failed=0, attempted=11)"
            ]
          },
          "metadata": {
            "tags": []
          },
          "execution_count": 22
        }
      ]
    },
    {
      "cell_type": "markdown",
      "metadata": {
        "id": "p_AoYDetZ0Fc"
      },
      "source": [
        "### Ejercicio 6\n",
        "\n",
        "Define una función que dado un string s, devuelva una tupla con dos elementos, donde el primer elemento de la  tupla es el número de letras del string y el segundo elemento es el número de números del string."
      ]
    },
    {
      "cell_type": "code",
      "metadata": {
        "id": "VGRuniFFZ0Fe",
        "colab": {
          "base_uri": "https://localhost:8080/"
        },
        "outputId": "6e8f53eb-6bdd-49a3-822f-c06cccbe498c"
      },
      "source": [
        "%%typecheck\n",
        "\n",
        "from typing import *\n",
        "\n",
        "def cuenta_letras_numeros(s:str)->Tuple[int,int]:\n",
        "    '''\n",
        "    >>> cuenta_letras_numeros('hello world! 123')\n",
        "    (10, 3)\n",
        "    >>> cuenta_letras_numeros('123abcde')\n",
        "    (5, 3)\n",
        "    '''\n",
        "    numletras, numnum = 0, 0\n",
        "    for elem in s:\n",
        "      if elem.isalpha() == True:\n",
        "        numletras = numletras + 1\n",
        "      elif elem.isdigit() == True:\n",
        "        numnum = numnum + 1\n",
        "    return (numletras,numnum)\n"
      ],
      "execution_count": null,
      "outputs": [
        {
          "output_type": "stream",
          "text": [
            "Success: no issues found in 1 source file\n",
            "\n"
          ],
          "name": "stdout"
        }
      ]
    },
    {
      "cell_type": "markdown",
      "metadata": {
        "id": "RtnMcwHSZ0Fn"
      },
      "source": [
        "Comprueba los tests."
      ]
    },
    {
      "cell_type": "code",
      "metadata": {
        "id": "CEsDg1XDZ0Fp",
        "colab": {
          "base_uri": "https://localhost:8080/"
        },
        "outputId": "be916e29-4cfa-4f7e-df2c-bc272194a593"
      },
      "source": [
        "doctest.testmod()"
      ],
      "execution_count": null,
      "outputs": [
        {
          "output_type": "execute_result",
          "data": {
            "text/plain": [
              "TestResults(failed=0, attempted=13)"
            ]
          },
          "metadata": {
            "tags": []
          },
          "execution_count": 24
        }
      ]
    },
    {
      "cell_type": "markdown",
      "metadata": {
        "id": "rGYg3PseZ0Ft"
      },
      "source": [
        "### Ejercicio 7\n",
        "\n",
        "Define una función que dada una lista de strings devuelva el número de strings cuya longitud es mayor que 2 y que\n",
        "además cumplen que el primer y último carácter del string son el mismo."
      ]
    },
    {
      "cell_type": "code",
      "metadata": {
        "id": "T5NtQotnZ0Fu",
        "colab": {
          "base_uri": "https://localhost:8080/"
        },
        "outputId": "36f45516-92ba-44df-c9c8-977eb7ae3ed8"
      },
      "source": [
        "%%typecheck\n",
        "\n",
        "from typing import *\n",
        "\n",
        "def cuenta_strings(palabras:List[str])->int:\n",
        "    '''\n",
        "    >>> cuenta_strings(['aba', 'bb', 'cdefc'])\n",
        "    2\n",
        "    >>> cuenta_strings(['oso', 'ojo', 'radar', 'reconocer','rotor', 'salas'])\n",
        "    6\n",
        "    '''\n",
        "    numstrings = 0\n",
        "    for palabra in palabras:\n",
        "      if len(palabra) > 2 and palabra[0] == palabra[-1]:\n",
        "        numstrings = numstrings + 1\n",
        "    return numstrings\n",
        "\n"
      ],
      "execution_count": null,
      "outputs": [
        {
          "output_type": "stream",
          "text": [
            "Success: no issues found in 1 source file\n",
            "\n"
          ],
          "name": "stdout"
        }
      ]
    },
    {
      "cell_type": "markdown",
      "metadata": {
        "id": "DiUz5ivIZ0Fz"
      },
      "source": [
        "Comprueba los tests."
      ]
    },
    {
      "cell_type": "code",
      "metadata": {
        "id": "7-SWnXF4Z0F0",
        "colab": {
          "base_uri": "https://localhost:8080/"
        },
        "outputId": "90f4c882-f7a7-458a-d2a2-d14536c34291"
      },
      "source": [
        "doctest.testmod()"
      ],
      "execution_count": null,
      "outputs": [
        {
          "output_type": "execute_result",
          "data": {
            "text/plain": [
              "TestResults(failed=0, attempted=15)"
            ]
          },
          "metadata": {
            "tags": []
          },
          "execution_count": 26
        }
      ]
    },
    {
      "cell_type": "markdown",
      "metadata": {
        "id": "3L1LwZ8FZ0F5"
      },
      "source": [
        "### Ejercicio 8\n",
        "\n",
        "Define una función que dada dos listas de igual tamaño produce una lista de tuplas combinando los elementos de las dos listas. Ejemplo: dadas las listas ``[1,2,3]`` y ``['a','b','c']`` produce la lista ``[(1,'a'), (2,'b'), (3,'c')]``. En caso de que las dos listas no tengan la misma longitud, la función devolverá el string 'listas no validas'."
      ]
    },
    {
      "cell_type": "code",
      "metadata": {
        "id": "_XrQRFWEZ0F6",
        "colab": {
          "base_uri": "https://localhost:8080/"
        },
        "outputId": "79546dba-b96e-4638-d920-0c807c5812a6"
      },
      "source": [
        "%%typecheck\n",
        "\n",
        "from typing import *\n",
        "\n",
        "def combina_listas(lista1:list,lista2:list)->list:\n",
        "    '''\n",
        "    >>> combina_listas([1, 2, 3] ,['a', 'b', 'c'])\n",
        "    [(1, 'a'), (2, 'b'), (3, 'c')]\n",
        "    >>> combina_listas([1, 2, 3],['a', 'b'])\n",
        "    'listas no validas'\n",
        "    '''\n",
        "    lista = []\n",
        "    if len(lista1) == len(lista2):\n",
        "      for i in range (len(lista1)):\n",
        "        lista.append((lista1[i],lista2[i]))\n",
        "      return lista\n",
        "    else:\n",
        "      raise Exception('listas no validas')  "
      ],
      "execution_count": 61,
      "outputs": [
        {
          "output_type": "stream",
          "text": [
            "Success: no issues found in 1 source file\n",
            "\n"
          ],
          "name": "stdout"
        }
      ]
    },
    {
      "cell_type": "markdown",
      "metadata": {
        "id": "JYkZ93YEZ0F-"
      },
      "source": [
        "Comprueba los tests."
      ]
    },
    {
      "cell_type": "code",
      "metadata": {
        "id": "_SbExYEDZ0F_",
        "colab": {
          "base_uri": "https://localhost:8080/"
        },
        "outputId": "fc87896b-6af9-4720-a3d5-7e9919194459"
      },
      "source": [
        "doctest.testmod()"
      ],
      "execution_count": null,
      "outputs": [
        {
          "output_type": "execute_result",
          "data": {
            "text/plain": [
              "TestResults(failed=0, attempted=17)"
            ]
          },
          "metadata": {
            "tags": []
          },
          "execution_count": 28
        }
      ]
    },
    {
      "cell_type": "markdown",
      "metadata": {
        "id": "oUec0diRZ0GF"
      },
      "source": [
        "### Ejercicio 9\n",
        "\n",
        "Define una función que dada dos listas de números, las mezcla y devuelve la mezcla ordenada. Ejemplo: dadas las listas ``[4,1,3]`` y ``[2,5]`` devuelve la lista ``[1,2,3,4,5]``."
      ]
    },
    {
      "cell_type": "code",
      "metadata": {
        "id": "uYR7PtCFZ0GG",
        "colab": {
          "base_uri": "https://localhost:8080/"
        },
        "outputId": "e980491b-286a-4c61-e0e0-855f2d376068"
      },
      "source": [
        "%%typecheck\n",
        "\n",
        "from typing import *\n",
        "\n",
        "def mezcla_y_ordena(lista1:List[int], lista2:List[int])->List[int]:\n",
        "    '''\n",
        "    >>> mezcla_y_ordena([1, 2, 3], [4, 5, 6])\n",
        "    [1, 2, 3, 4, 5, 6]\n",
        "    >>> mezcla_y_ordena([4, 1, 3], [2, 5])\n",
        "    [1, 2, 3, 4, 5]\n",
        "    '''\n",
        "    lista1.extend(lista2)\n",
        "    lista1.sort()\n",
        "    return lista1"
      ],
      "execution_count": null,
      "outputs": [
        {
          "output_type": "stream",
          "text": [
            "Success: no issues found in 1 source file\n",
            "\n"
          ],
          "name": "stdout"
        }
      ]
    },
    {
      "cell_type": "markdown",
      "metadata": {
        "id": "N-H6UKo_Z0GK"
      },
      "source": [
        "Comprueba los tests."
      ]
    },
    {
      "cell_type": "code",
      "metadata": {
        "id": "yWSK3SoaZ0GL",
        "colab": {
          "base_uri": "https://localhost:8080/"
        },
        "outputId": "0496d7d7-193e-4f7e-e26c-ce40fe1c6cac"
      },
      "source": [
        "doctest.testmod()"
      ],
      "execution_count": null,
      "outputs": [
        {
          "output_type": "execute_result",
          "data": {
            "text/plain": [
              "TestResults(failed=0, attempted=19)"
            ]
          },
          "metadata": {
            "tags": []
          },
          "execution_count": 30
        }
      ]
    },
    {
      "cell_type": "markdown",
      "metadata": {
        "id": "EsKg9q-wZ0GP"
      },
      "source": [
        "### Ejercicio 10\n",
        "\n",
        "Define una función que dada una lista de elementos, devuelve una lista donde todos los elementos adyacentes\n",
        "que son iguales han sido reducidos a un único elemento. Ejemplo: Dada la lista ``[1,2,2,3]`` produce la lista ``[1,2,3]``."
      ]
    },
    {
      "cell_type": "code",
      "metadata": {
        "id": "aWHCzPqNZ0GQ",
        "colab": {
          "base_uri": "https://localhost:8080/"
        },
        "outputId": "bdd19792-7712-4628-9fce-e5c39dd284df"
      },
      "source": [
        "%%typecheck\n",
        "def elimina_adyacentes(lista:list)->list:\n",
        "    '''\n",
        "    >>> elimina_adyacentes([1, 2, 2, 3])\n",
        "    [1, 2, 3]\n",
        "    >>> elimina_adyacentes([2, 2, 3, 3, 3])\n",
        "    [2, 3]\n",
        "    >>> elimina_adyacentes([1, 2, 2, 3,3,3,4,2,2])\n",
        "    [1, 2, 3, 4, 2]\n",
        "    >>> elimina_adyacentes([])\n",
        "    []\n",
        "    '''\n",
        "    if lista != []:\n",
        "      lista2 = [lista[0]]\n",
        "      for elem in lista:\n",
        "        if elem != lista2[len(lista2)-1]:\n",
        "          lista2.append(elem)\n",
        "    else:\n",
        "      lista2 = []\n",
        "    return lista2"
      ],
      "execution_count": null,
      "outputs": [
        {
          "output_type": "stream",
          "text": [
            "Success: no issues found in 1 source file\n",
            "\n"
          ],
          "name": "stdout"
        }
      ]
    },
    {
      "cell_type": "code",
      "metadata": {
        "id": "rBK2DLFtZ0GT",
        "colab": {
          "base_uri": "https://localhost:8080/"
        },
        "outputId": "26d7edad-b184-4c6b-b00f-75ad4fd0987a"
      },
      "source": [
        "doctest.testmod()"
      ],
      "execution_count": null,
      "outputs": [
        {
          "output_type": "execute_result",
          "data": {
            "text/plain": [
              "TestResults(failed=0, attempted=23)"
            ]
          },
          "metadata": {
            "tags": []
          },
          "execution_count": 32
        }
      ]
    },
    {
      "cell_type": "markdown",
      "metadata": {
        "id": "uDllyRgnZ0GW"
      },
      "source": [
        "### Ejercicio 11\n",
        "\n",
        "Define una función que dada una tupla de elementos, devuelve una lista con los elementos de la tupla."
      ]
    },
    {
      "cell_type": "code",
      "metadata": {
        "id": "TS2ZZJKlZ0GY",
        "colab": {
          "base_uri": "https://localhost:8080/"
        },
        "outputId": "cf20bd9c-f595-438e-f4b3-2e4a9abf2aea"
      },
      "source": [
        "%%typecheck\n",
        "def tupla_a_lista(tupla:tuple)->list:\n",
        "    '''\n",
        "    >>> tupla_a_lista((1, 2, 2, 3))\n",
        "    [1, 2, 2, 3]\n",
        "    >>> tupla_a_lista(())\n",
        "    []\n",
        "    '''\n",
        "    lista = []\n",
        "    for elem in tupla:\n",
        "      lista.append(elem)\n",
        "    return lista"
      ],
      "execution_count": null,
      "outputs": [
        {
          "output_type": "stream",
          "text": [
            "Success: no issues found in 1 source file\n",
            "\n"
          ],
          "name": "stdout"
        }
      ]
    },
    {
      "cell_type": "markdown",
      "metadata": {
        "id": "H3QjIo4uZ0Gc"
      },
      "source": [
        "Comprueba los tests."
      ]
    },
    {
      "cell_type": "code",
      "metadata": {
        "id": "Jx3TZZsUZ0Ge",
        "colab": {
          "base_uri": "https://localhost:8080/"
        },
        "outputId": "963f739a-8d43-4dc2-a8d7-d3cf911f4d84"
      },
      "source": [
        "doctest.testmod()"
      ],
      "execution_count": null,
      "outputs": [
        {
          "output_type": "execute_result",
          "data": {
            "text/plain": [
              "TestResults(failed=0, attempted=25)"
            ]
          },
          "metadata": {
            "tags": []
          },
          "execution_count": 34
        }
      ]
    },
    {
      "cell_type": "markdown",
      "metadata": {
        "id": "pLiiYrUeZ0Gj"
      },
      "source": [
        "### Ejercicio 12\n",
        "\n",
        "Define una función que dados dos conjuntos de elementos devuelva un nuevo conjunto con los elementos del primer conjunto que no están en el segundo."
      ]
    },
    {
      "cell_type": "code",
      "metadata": {
        "id": "SixfiU86Z0Gl",
        "colab": {
          "base_uri": "https://localhost:8080/"
        },
        "outputId": "9d24b57c-eab0-4734-b7d0-37748793cf58"
      },
      "source": [
        "%%typecheck\n",
        "def diferencia_conjuntos(c1:set,c2:set)->set:\n",
        "    s = set()\n",
        "    for elem in c1:\n",
        "      if set([elem]).isdisjoint(c2) == True:\n",
        "        s.add(elem)\n",
        "    return s\n"
      ],
      "execution_count": null,
      "outputs": [
        {
          "output_type": "stream",
          "text": [
            "Success: no issues found in 1 source file\n",
            "\n"
          ],
          "name": "stdout"
        }
      ]
    },
    {
      "cell_type": "code",
      "metadata": {
        "id": "mliSEkc3Z0Gq"
      },
      "source": [
        "assert(diferencia_conjuntos(set([\"White\", \"Black\", \"Red\"]), set([\"Red\", \"Green\"]))=={'Black', 'White'})"
      ],
      "execution_count": null,
      "outputs": []
    },
    {
      "cell_type": "markdown",
      "metadata": {
        "id": "EYJR6OfZZ0Gs"
      },
      "source": [
        "## Ejercicios de ampliación I (1 punto)\n",
        "\n",
        "A continuación se proponen unos ejercicios de ampliación."
      ]
    },
    {
      "cell_type": "markdown",
      "metadata": {
        "id": "ymzCUFLXZ0Gu"
      },
      "source": [
        "### Ejercicio 13\n",
        "\n",
        "Define una función que dado un entero n positivo y mayor o igual que 0 devuelva el n-ésimo número de Fibonacci. Recuerda que el 0-ésimo número de Fibonacci es 0, el primero es 1, y para i > 1, el i-ésimo número de Fibonacci es la suma del (i-1)-ésimo mas el (i-2)-ésimo."
      ]
    },
    {
      "cell_type": "code",
      "metadata": {
        "id": "-bVero4TZ0Gv",
        "colab": {
          "base_uri": "https://localhost:8080/"
        },
        "outputId": "8c68e5f7-033d-43fc-b0c6-56d094ce3010"
      },
      "source": [
        "%%typecheck\n",
        "def n_esimo_Fibonacci(n:int)->int:\n",
        "    '''\n",
        "    >>> n_esimo_Fibonacci(0)\n",
        "    0\n",
        "    >>> n_esimo_Fibonacci(1)\n",
        "    1\n",
        "    >>> n_esimo_Fibonacci(2)\n",
        "    1\n",
        "    >>> n_esimo_Fibonacci(3)\n",
        "    2\n",
        "    >>> n_esimo_Fibonacci(10)\n",
        "    55\n",
        "    '''\n",
        "    fn0, fn1, fn2 = 0, 1, 1\n",
        "    if n == 0:\n",
        "      return fn0\n",
        "    elif n == 1:\n",
        "      return fn1\n",
        "    else:\n",
        "      for i in range(2,n):\n",
        "        fn0 = fn1\n",
        "        fn1 = fn2\n",
        "        fn2 = fn0 + fn1\n",
        "    return fn2\n",
        "\n"
      ],
      "execution_count": null,
      "outputs": [
        {
          "output_type": "stream",
          "text": [
            "Success: no issues found in 1 source file\n",
            "\n"
          ],
          "name": "stdout"
        }
      ]
    },
    {
      "cell_type": "markdown",
      "metadata": {
        "id": "sxdnFAxoZ0Gz"
      },
      "source": [
        "Comprueba los tests."
      ]
    },
    {
      "cell_type": "code",
      "metadata": {
        "id": "-hQnOXQ8Z0Gz",
        "colab": {
          "base_uri": "https://localhost:8080/"
        },
        "outputId": "2e690ceb-1b16-412a-efad-bf291ba8eb9a"
      },
      "source": [
        "doctest.testmod()"
      ],
      "execution_count": null,
      "outputs": [
        {
          "output_type": "execute_result",
          "data": {
            "text/plain": [
              "TestResults(failed=0, attempted=30)"
            ]
          },
          "metadata": {
            "tags": []
          },
          "execution_count": 38
        }
      ]
    },
    {
      "cell_type": "markdown",
      "metadata": {
        "id": "6SG1s9gfZ0G3"
      },
      "source": [
        "### Ejercicio 14\n",
        "\n",
        "Define una función que dado un entero n positivo y mayor o igual que 0 devuelva la secuencia de los n primeros  números de Fibonacci sin incluir al 0. En caso de que la función tome como parámetro n=0 devolverá la lista vacía."
      ]
    },
    {
      "cell_type": "code",
      "metadata": {
        "id": "MFVBuh5xZ0G4",
        "colab": {
          "base_uri": "https://localhost:8080/"
        },
        "outputId": "ffdcb30b-38db-4ff4-8c6c-677ef9444db5"
      },
      "source": [
        "%%typecheck\n",
        "\n",
        "from typing import *\n",
        "\n",
        "# Reescribo la funcion auxiliar\n",
        "def n_esimo_Fibonacci(n:int)->int:\n",
        "    fn0, fn1, fn2 = 0, 1, 1\n",
        "    if n == 0:\n",
        "      return fn0\n",
        "    elif n == 1:\n",
        "      return fn1\n",
        "    else:\n",
        "      for i in range(2,n):\n",
        "        fn0 = fn1\n",
        "        fn1 = fn2\n",
        "        fn2 = fn0 + fn1\n",
        "    return fn2\n",
        "\n",
        "def secuencia_Fibonacci(n:int)->List[int]:\n",
        "    '''\n",
        "    >>> secuencia_Fibonacci(0)\n",
        "    []\n",
        "    >>> secuencia_Fibonacci(1)\n",
        "    [1]\n",
        "    >>> secuencia_Fibonacci(2)\n",
        "    [1, 1]\n",
        "    >>> secuencia_Fibonacci(3)\n",
        "    [1, 1, 2]\n",
        "    >>> secuencia_Fibonacci(10)\n",
        "    [1, 1, 2, 3, 5, 8, 13, 21, 34, 55]\n",
        "    '''\n",
        "    lista = []\n",
        "    if n != 0:\n",
        "      for i in range(1,n+1):\n",
        "        lista.append(n_esimo_Fibonacci(i))\n",
        "    return lista\n"
      ],
      "execution_count": null,
      "outputs": [
        {
          "output_type": "stream",
          "text": [
            "Success: no issues found in 1 source file\n",
            "\n"
          ],
          "name": "stdout"
        }
      ]
    },
    {
      "cell_type": "markdown",
      "metadata": {
        "id": "j9Uo7m6MZ0G7"
      },
      "source": [
        "Comprueba los tests."
      ]
    },
    {
      "cell_type": "code",
      "metadata": {
        "id": "hzY0uv-6Z0G8",
        "colab": {
          "base_uri": "https://localhost:8080/"
        },
        "outputId": "5bd5c66b-4ce4-4fe3-cf42-4747bcca132c"
      },
      "source": [
        "doctest.testmod()"
      ],
      "execution_count": null,
      "outputs": [
        {
          "output_type": "execute_result",
          "data": {
            "text/plain": [
              "TestResults(failed=0, attempted=30)"
            ]
          },
          "metadata": {
            "tags": []
          },
          "execution_count": 40
        }
      ]
    },
    {
      "cell_type": "markdown",
      "metadata": {
        "id": "iCHnwTywZ0G_"
      },
      "source": [
        "## Ejercicio de ampliación II (2 puntos)\n",
        "\n",
        "El código genético de todos los organismos vivos se representa mediante una secuencia enorme de moléculas llamadas nucleótidos que forman el ADN. Sólo existen 4 nucleótidos y el código genético puede verse como un string con las letras A, C, G y T.\n",
        "\n",
        "El análisis de datos de ADN se basa, en parte, en buscar largas cadenas de patrones de string que involucran a las letras A, C, G, y T. Con estos ejercicios veremos algunos ejemplos de ello. Para aplicaciones reales no es  recomendable utilizar soluciones a mano y existen librerías como [BioPython](http://biopython.org/).\n",
        "\n",
        "El primer ejercicio consiste en definir una función que verifique que un string es una secuencia de ADN es decir  que solo contiene las letras A, C, G, y T. La función devolverá ``True`` en caso de que el parámetro de entrada sea una secuencia de ADN y False en caso contrario."
      ]
    },
    {
      "cell_type": "code",
      "metadata": {
        "id": "BHREHLCfZ0HA",
        "colab": {
          "base_uri": "https://localhost:8080/"
        },
        "outputId": "183315bf-b472-4f5d-85e1-3d98254a39fc"
      },
      "source": [
        "%%typecheck\n",
        "def es_secuencia_adn(secuencia:str)->bool:\n",
        "    '''\n",
        "    >>> es_secuencia_adn('ATGGCATTA')\n",
        "    True\n",
        "    >>> es_secuencia_adn('')\n",
        "    True\n",
        "    >>> es_secuencia_adn('AAATTTGGGCCCCGTA')\n",
        "    True\n",
        "    >>> es_secuencia_adn('ATDGGCATTA')\n",
        "    False\n",
        "    >>> es_secuencia_adn('atgcab')\n",
        "    False\n",
        "    '''\n",
        "    A, C, G, T, complementario = False, False, False, False, True \n",
        "    if secuencia == '':\n",
        "      A, C, G, T = True, True, True, True\n",
        "    else:\n",
        "      for elem in secuencia:\n",
        "        if elem == 'A':\n",
        "          A = True\n",
        "        elif elem == 'C':\n",
        "          C = True\n",
        "        elif elem == 'G':\n",
        "          G = True\n",
        "        elif elem == 'T':\n",
        "          T = True\n",
        "        else:\n",
        "          complementario = False\n",
        "    return A and C and G and T and complementario"
      ],
      "execution_count": null,
      "outputs": [
        {
          "output_type": "stream",
          "text": [
            "Success: no issues found in 1 source file\n",
            "\n"
          ],
          "name": "stdout"
        }
      ]
    },
    {
      "cell_type": "markdown",
      "metadata": {
        "id": "EABGLq1oZ0HD"
      },
      "source": [
        "Comprueba los tests."
      ]
    },
    {
      "cell_type": "code",
      "metadata": {
        "id": "gkIxwkPaZ0HE",
        "colab": {
          "base_uri": "https://localhost:8080/"
        },
        "outputId": "f2d775f2-e802-4536-8832-58d3e3daf7f5"
      },
      "source": [
        "doctest.testmod()"
      ],
      "execution_count": null,
      "outputs": [
        {
          "output_type": "execute_result",
          "data": {
            "text/plain": [
              "TestResults(failed=0, attempted=35)"
            ]
          },
          "metadata": {
            "tags": []
          },
          "execution_count": 42
        }
      ]
    },
    {
      "cell_type": "markdown",
      "metadata": {
        "id": "3HELBD4GZ0HM"
      },
      "source": [
        "Dada una secuencia de ADN (un string) que contiene las letras A, C, G, y T queremos conocer cuántas veces aparece una cierta base en dicha secuencia. Por ejemplo, para la secuencia ATGGCATTA, la base A ocurre 3 veces. Define una función con esta funcionalidad."
      ]
    },
    {
      "cell_type": "code",
      "metadata": {
        "id": "8cYVuL-uZ0HO",
        "colab": {
          "base_uri": "https://localhost:8080/"
        },
        "outputId": "3754ec46-f60d-45c3-d88b-16644783778d"
      },
      "source": [
        "%%typecheck\n",
        "def cuenta(adn:str, base:str)->int:\n",
        "    '''\n",
        "    >>> cuenta('ATGGCATTA', 'A')\n",
        "    3\n",
        "    >>> cuenta('ATGGCATTA', 'T')\n",
        "    3\n",
        "    >>> cuenta('ATGGCATTA', 'G')\n",
        "    2\n",
        "    >>> cuenta('ATGGCATTA', 'C')\n",
        "    1\n",
        "    >>> cuenta('ATGGCATTA', 'D')\n",
        "    0\n",
        "    >>> cuenta('', 'C')\n",
        "    0\n",
        "    >>> cuenta('AAATTTGGGCCCCGTA', 'A')\n",
        "    4\n",
        "    >>> cuenta('AAATTTGGGCCCCGTA', 'C')\n",
        "    4\n",
        "    >>> cuenta('AAATTTGGGCCCCGTA', 'G')\n",
        "    4\n",
        "    >>> cuenta('AAATTTGGGCCCCGTA', 'T')\n",
        "    4\n",
        "    '''\n",
        "    veces = 0\n",
        "    for letra in adn:\n",
        "      if letra == base:\n",
        "        veces = veces + 1\n",
        "    return veces\n"
      ],
      "execution_count": null,
      "outputs": [
        {
          "output_type": "stream",
          "text": [
            "Success: no issues found in 1 source file\n",
            "\n"
          ],
          "name": "stdout"
        }
      ]
    },
    {
      "cell_type": "markdown",
      "metadata": {
        "id": "RmFFYfq4Z0HR"
      },
      "source": [
        "Comprueba los tests."
      ]
    },
    {
      "cell_type": "code",
      "metadata": {
        "id": "7dl-DWeSZ0HT",
        "colab": {
          "base_uri": "https://localhost:8080/"
        },
        "outputId": "65876d3b-d785-4833-8642-dd98fa858206"
      },
      "source": [
        "doctest.testmod()"
      ],
      "execution_count": null,
      "outputs": [
        {
          "output_type": "execute_result",
          "data": {
            "text/plain": [
              "TestResults(failed=0, attempted=45)"
            ]
          },
          "metadata": {
            "tags": []
          },
          "execution_count": 44
        }
      ]
    },
    {
      "cell_type": "markdown",
      "metadata": {
        "id": "jKT10U8yZ0HW"
      },
      "source": [
        "El siguiente ejercicio consiste en calcular la frecuencia en la que aparece cada letra en cada posición de una lista de secuencias (todas las secuencias de la lista tienen el mismo número de elementos). El resultado será una tupla de listas, donde la primera lista corresponde a las frecuencias de A, la segunda a las frecuencias de C, la tercera a las de G y la cuarta a las de T. Por ejemplo, dada la lista de secuencias ``['ATGACT', 'AACTGT', 'GGCTAT']`` el resultado sería: ``([2,1,0,1,1,0],[0,0,2,0,1,0],[1,1,1,0,1,0],[0,1,0,1,0,3])``."
      ]
    },
    {
      "cell_type": "code",
      "metadata": {
        "id": "B2FpEAdDZ0HX",
        "colab": {
          "base_uri": "https://localhost:8080/"
        },
        "outputId": "9c44f4f1-e884-40b9-a1ca-559fc83b1cc3"
      },
      "source": [
        "%%typecheck\n",
        "\n",
        "from typing import *\n",
        "\n",
        "# Me hago dos funciones auxiliares\n",
        "def cuenta_por_posicion(item:str, posicion:int, lista:List[str])->int:\n",
        "  numItem = 0\n",
        "  for cadena in lista:\n",
        "    if cadena[posicion] == item:\n",
        "      numItem = numItem + 1\n",
        "  return numItem\n",
        "\n",
        "def crear_lista_item(lista:List[str], item:str)->List[int]:\n",
        "  list = []\n",
        "  for i in range(0, len(lista[0])):\n",
        "    list.append(cuenta_por_posicion(item, i, lista))\n",
        "  return list\n",
        "\n",
        "def frecuencias(lista_adns:List[str])->tuple:\n",
        "    '''\n",
        "    >>> frecuencias(['ATGACT', 'AACTGT', 'GGCTAT'])[0]\n",
        "    [2, 1, 0, 1, 1, 0]\n",
        "    >>> frecuencias(['ATGACT', 'AACTGT', 'GGCTAT'])[1]\n",
        "    [0, 0, 2, 0, 1, 0]\n",
        "    >>> frecuencias(['ATGACT', 'AACTGT', 'GGCTAT'])[2]\n",
        "    [1, 1, 1, 0, 1, 0]\n",
        "    >>> frecuencias(['ATGACT', 'AACTGT', 'GGCTAT'])[3]\n",
        "    [0, 1, 0, 2, 0, 3]\n",
        "    '''\n",
        "    return tuple([crear_lista_item(lista_adns,'A'),crear_lista_item(lista_adns,'C'),crear_lista_item(lista_adns,'G'),crear_lista_item(lista_adns,'T')])\n"
      ],
      "execution_count": null,
      "outputs": [
        {
          "output_type": "stream",
          "text": [
            "Success: no issues found in 1 source file\n",
            "\n"
          ],
          "name": "stdout"
        }
      ]
    },
    {
      "cell_type": "markdown",
      "metadata": {
        "id": "Oi0ppbKwZ0Hb"
      },
      "source": [
        "Comprueba los tests."
      ]
    },
    {
      "cell_type": "code",
      "metadata": {
        "id": "3HkM09uKZ0Hc",
        "colab": {
          "base_uri": "https://localhost:8080/"
        },
        "outputId": "2c89ec42-1cd3-409a-c4ae-2ef53c143788"
      },
      "source": [
        "doctest.testmod()"
      ],
      "execution_count": null,
      "outputs": [
        {
          "output_type": "execute_result",
          "data": {
            "text/plain": [
              "TestResults(failed=0, attempted=49)"
            ]
          },
          "metadata": {
            "tags": []
          },
          "execution_count": 46
        }
      ]
    },
    {
      "cell_type": "markdown",
      "metadata": {
        "id": "JNmvg63UZ0Hh"
      },
      "source": [
        "A continuación pasamos a definir una función que genere secuencias aleatorias de adn de un tamaño dado. Para ello\n",
        "deberás importar la librería random (``import random``) y utilizar alguna de sus funciones. Puedes ver las funciones de esta librería en: https://docs.python.org/3/library/random.html. Pista. Busca una función en esta librería que devuelva un elemento aleatorio de una secuencia."
      ]
    },
    {
      "cell_type": "code",
      "metadata": {
        "id": "GhIkUsrhZ0Hi",
        "colab": {
          "base_uri": "https://localhost:8080/"
        },
        "outputId": "1654e441-f2bd-45d6-9d2c-2255860e3c44"
      },
      "source": [
        "%%typecheck\n",
        "import random\n",
        "def genera_adn(tam:int)->str:\n",
        "    lista = random.choices(['A', 'C', 'G','T'], k=tam)\n",
        "    c = ''\n",
        "    for elem in lista:\n",
        "      c = c + str(elem)\n",
        "    return c"
      ],
      "execution_count": null,
      "outputs": [
        {
          "output_type": "stream",
          "text": [
            "Success: no issues found in 1 source file\n",
            "\n"
          ],
          "name": "stdout"
        }
      ]
    },
    {
      "cell_type": "markdown",
      "metadata": {
        "id": "oN2uR-BhZ0Hl"
      },
      "source": [
        "Comprueba los tests."
      ]
    },
    {
      "cell_type": "code",
      "metadata": {
        "id": "pPybieyFZ0Hl"
      },
      "source": [
        "adn1 = genera_adn(10)\n",
        "adn2 = genera_adn(10)\n",
        "\n",
        "import numpy as np\n",
        "\n",
        "def secuencia_contiene_letras_que_no_son_acgt(seq):\n",
        "    letras = 'BDEFHIJKMLNOPQRSUVWXYZ'\n",
        "    return np.sum([s in seq for s in letras])>0\n",
        "\n",
        "assert(len(adn1)== 10)\n",
        "assert(('A' in adn1) or ('C' in adn1) or ('G' in adn1) or ('T' in adn1))\n",
        "assert(('A' in adn2) or ('C' in adn2) or ('G' in adn2) or ('T' in adn2))\n",
        "assert(not(adn1==adn2))\n",
        "assert(not(secuencia_contiene_letras_que_no_son_acgt(adn1)))\n",
        "assert(not(secuencia_contiene_letras_que_no_son_acgt(adn2)))"
      ],
      "execution_count": null,
      "outputs": []
    },
    {
      "cell_type": "markdown",
      "metadata": {
        "id": "7MdQ1pCCZ0Hn"
      },
      "source": [
        "## Ejercicio de ampliación III (1 punto)\n",
        "\n",
        "Como hemos visto en clase, es posible añadir los tipos de las funciones en Python; sin embargo, en el código anterior todas las funciones están sin tipar. El tercer ejercicio de ampliación consiste en añadir todos los tipos de entrada y salida de las funciones definidas en la práctica. \n",
        "\n",
        "Para comprobar si los tipos proporcionados son los correctos debes usar la librería [mypy](http://mypy-lang.org/) y la [celda mágica](https://ipython.readthedocs.io/en/stable/interactive/magics.html) [typecheck](https://gist.github.com/knowsuchagency/f7b2203dd613756a45f816d6809f01a6). Para utilizar dicha funcionalidad debes comenzar descargando las librerías y código necesario."
      ]
    },
    {
      "cell_type": "code",
      "metadata": {
        "id": "w7JLTLsoZ0Hp",
        "colab": {
          "base_uri": "https://localhost:8080/"
        },
        "outputId": "f1144a14-7ec9-4938-875d-cdddcea4697e"
      },
      "source": [
        "!pip install mypy\n",
        "!wget https://raw.githubusercontent.com/IA1920/Utils/master/typecheck.py"
      ],
      "execution_count": null,
      "outputs": [
        {
          "output_type": "stream",
          "text": [
            "Requirement already satisfied: mypy in /usr/local/lib/python3.7/dist-packages (0.812)\n",
            "Requirement already satisfied: typed-ast<1.5.0,>=1.4.0 in /usr/local/lib/python3.7/dist-packages (from mypy) (1.4.2)\n",
            "Requirement already satisfied: mypy-extensions<0.5.0,>=0.4.3 in /usr/local/lib/python3.7/dist-packages (from mypy) (0.4.3)\n",
            "Requirement already satisfied: typing-extensions>=3.7.4 in /usr/local/lib/python3.7/dist-packages (from mypy) (3.7.4.3)\n",
            "--2021-03-03 17:49:31--  https://raw.githubusercontent.com/IA1920/Utils/master/typecheck.py\n",
            "Resolving raw.githubusercontent.com (raw.githubusercontent.com)... 185.199.108.133, 185.199.109.133, 185.199.110.133, ...\n",
            "Connecting to raw.githubusercontent.com (raw.githubusercontent.com)|185.199.108.133|:443... connected.\n",
            "HTTP request sent, awaiting response... 200 OK\n",
            "Length: 1633 (1.6K) [text/plain]\n",
            "Saving to: ‘typecheck.py.1’\n",
            "\n",
            "typecheck.py.1      100%[===================>]   1.59K  --.-KB/s    in 0s      \n",
            "\n",
            "2021-03-03 17:49:31 (30.3 MB/s) - ‘typecheck.py.1’ saved [1633/1633]\n",
            "\n"
          ],
          "name": "stdout"
        }
      ]
    },
    {
      "cell_type": "markdown",
      "metadata": {
        "id": "oNKxu-lRZ0Hs"
      },
      "source": [
        "Cargamos la funcionalidad necesaria."
      ]
    },
    {
      "cell_type": "code",
      "metadata": {
        "id": "s-q12IezZ0Hs"
      },
      "source": [
        "from typecheck import *"
      ],
      "execution_count": null,
      "outputs": []
    },
    {
      "cell_type": "markdown",
      "metadata": {
        "id": "tfYBd9MiZ0Hv"
      },
      "source": [
        "Ahora puedes comprobar si los tipos proporcionados a la función son los correctos del siguiente modo (lo importante es incluir ``%%typecheck`` al principio de la celda). A continuación se muestran unos cuantos ejemplos y los errores que se pueden producir."
      ]
    },
    {
      "cell_type": "code",
      "metadata": {
        "id": "cUdYYRBUZ0Hw",
        "colab": {
          "base_uri": "https://localhost:8080/"
        },
        "outputId": "748a5979-d58a-407d-f140-9d9d9f5fa320"
      },
      "source": [
        "%%typecheck\n",
        "def mas3(x:int)->int:\n",
        "    return x+3"
      ],
      "execution_count": null,
      "outputs": [
        {
          "output_type": "stream",
          "text": [
            "Success: no issues found in 1 source file\n",
            "\n"
          ],
          "name": "stdout"
        }
      ]
    },
    {
      "cell_type": "code",
      "metadata": {
        "id": "fvnsIZV_Z0Hy",
        "colab": {
          "base_uri": "https://localhost:8080/"
        },
        "outputId": "95b293de-7b3c-4806-a201-84c0baf519e1"
      },
      "source": [
        "%%typecheck\n",
        "def mas4(x:int)->int:\n",
        "    x+4"
      ],
      "execution_count": null,
      "outputs": [
        {
          "output_type": "stream",
          "text": [
            "<string>:2: error: Missing return statement\n",
            "Found 1 error in 1 file (checked 1 source file)\n",
            "\n"
          ],
          "name": "stdout"
        }
      ]
    },
    {
      "cell_type": "code",
      "metadata": {
        "id": "aqkoiEnJZ0H2",
        "colab": {
          "base_uri": "https://localhost:8080/"
        },
        "outputId": "48cf17af-3299-4bff-88c6-46ee9842a611"
      },
      "source": [
        "%%typecheck\n",
        "def mas4(x:int)->bool:\n",
        "    return x+4"
      ],
      "execution_count": null,
      "outputs": [
        {
          "output_type": "stream",
          "text": [
            "<string>:3: error: Incompatible return value type (got \"int\", expected \"bool\")\n",
            "Found 1 error in 1 file (checked 1 source file)\n",
            "\n"
          ],
          "name": "stdout"
        }
      ]
    },
    {
      "cell_type": "markdown",
      "metadata": {
        "id": "fgQfFl8VZ0H4"
      },
      "source": [
        "Añade los tipos a las funciones definidas a lo largo de la práctica y comprueba que dichos tipos son correctos (recuerda añadir a cada celda `%%typecheck`). En caso de que una función use una función definida en una celda distinta, debes copiar la definición de la función auxiliar en la misma celda en la que estás comprobando el tipo.  "
      ]
    },
    {
      "cell_type": "markdown",
      "metadata": {
        "id": "Xa00ihS8Z0H5"
      },
      "source": [
        "## Entrega\n",
        "\n",
        "Recuerda guardar este notebook en tu repositorio."
      ]
    }
  ]
}