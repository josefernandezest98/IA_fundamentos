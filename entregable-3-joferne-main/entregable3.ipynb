{
  "nbformat": 4,
  "nbformat_minor": 0,
  "metadata": {
    "accelerator": "GPU",
    "colab": {
      "name": "entregable3.ipynb",
      "provenance": [],
      "include_colab_link": true
    },
    "kernelspec": {
      "display_name": "Python 3",
      "name": "python3"
    },
    "language_info": {
      "name": "python"
    }
  },
  "cells": [
    {
      "cell_type": "markdown",
      "metadata": {
        "id": "view-in-github",
        "colab_type": "text"
      },
      "source": [
        "<a href=\"https://colab.research.google.com/github/IA2021UR/entregable-3-joferne/blob/main/entregable3.ipynb\" target=\"_parent\"><img src=\"https://colab.research.google.com/assets/colab-badge.svg\" alt=\"Open In Colab\"/></a>"
      ]
    },
    {
      "cell_type": "markdown",
      "metadata": {
        "id": "Z6p6COaqdKJA"
      },
      "source": [
        "## Entregable 3"
      ]
    },
    {
      "cell_type": "markdown",
      "metadata": {
        "id": "lxpJbS-Yc7pf"
      },
      "source": [
        "Como no consigo subir a GitHub el archivo porque pesa demasiado, dejo aquí el enlace.\n",
        "\n",
        "https://www.kaggle.com/clmentbisaillon/fake-and-real-news-dataset\n",
        "\n",
        "Consiste en crear un detector de noticias verdaderas y falsas."
      ]
    },
    {
      "cell_type": "markdown",
      "metadata": {
        "id": "65sPwpvASz5v"
      },
      "source": [
        "Cargamos los datos y preparamos el dataset."
      ]
    },
    {
      "cell_type": "code",
      "metadata": {
        "colab": {
          "base_uri": "https://localhost:8080/"
        },
        "id": "u0r4Kq5OxKIo",
        "outputId": "74915347-e35f-48ff-b656-6b85b85d3980"
      },
      "source": [
        "!unzip archive.zip"
      ],
      "execution_count": 1,
      "outputs": [
        {
          "output_type": "stream",
          "text": [
            "Archive:  archive.zip\n",
            "  inflating: Fake.csv                \n",
            "  inflating: True.csv                \n"
          ],
          "name": "stdout"
        }
      ]
    },
    {
      "cell_type": "code",
      "metadata": {
        "id": "lhxS2Ima1bvT"
      },
      "source": [
        "import pandas as pd\n",
        "import numpy as np\n",
        "from sklearn.model_selection import train_test_split\n",
        "\n",
        "df_true = pd.read_csv('True.csv')\n",
        "df_fake = pd.read_csv('Fake.csv')\n",
        "\n",
        "df_train_true, df_test_true = train_test_split(df_true, test_size=0.2)\n",
        "df_train_fake, df_test_fake = train_test_split(df_fake, test_size=0.2)"
      ],
      "execution_count": 2,
      "outputs": []
    },
    {
      "cell_type": "markdown",
      "metadata": {
        "id": "P-HirHLjTGZW"
      },
      "source": [
        "Creamos las carpetas."
      ]
    },
    {
      "cell_type": "code",
      "metadata": {
        "id": "1fLerp2tyJeH"
      },
      "source": [
        "import os\n",
        "\n",
        "os.mkdir(\"dataSet\")\n",
        "os.mkdir(\"dataSet/train\")\n",
        "os.mkdir(\"dataSet/train/fake\")\n",
        "os.mkdir(\"dataSet/train/true\")\n",
        "os.mkdir(\"dataSet/test\")\n",
        "os.mkdir(\"dataSet/test/fake\")\n",
        "os.mkdir(\"dataSet/test/true\")"
      ],
      "execution_count": 3,
      "outputs": []
    },
    {
      "cell_type": "code",
      "metadata": {
        "id": "eZ0hHiIhynxl"
      },
      "source": [
        "df_train_true.to_csv('dataSet/train/true/true_train.csv')\n",
        "df_test_true.to_csv('dataSet/test/true/true_Test.csv')\n",
        "\n",
        "df_train_fake.to_csv('dataSet/train/fake/fake_train.csv')\n",
        "df_test_fake.to_csv('dataSet/test/fake/fake_test.csv')"
      ],
      "execution_count": 4,
      "outputs": []
    },
    {
      "cell_type": "markdown",
      "metadata": {
        "id": "AqdlkTkFTJ0p"
      },
      "source": [
        "Descargamos la librería fastai."
      ]
    },
    {
      "cell_type": "code",
      "metadata": {
        "colab": {
          "base_uri": "https://localhost:8080/"
        },
        "id": "kBH29sgkzIjL",
        "outputId": "5625f298-c741-47ae-e8cb-1cdb19fdcb7e"
      },
      "source": [
        "!pip install fastai --upgrade"
      ],
      "execution_count": 5,
      "outputs": [
        {
          "output_type": "stream",
          "text": [
            "Collecting fastai\n",
            "\u001b[?25l  Downloading https://files.pythonhosted.org/packages/e8/79/e8a87e4c20238e114671314426227db8647d2b42744eab79e0917c59865e/fastai-2.3.1-py3-none-any.whl (194kB)\n",
            "\r\u001b[K     |█▊                              | 10kB 23.4MB/s eta 0:00:01\r\u001b[K     |███▍                            | 20kB 20.0MB/s eta 0:00:01\r\u001b[K     |█████                           | 30kB 16.1MB/s eta 0:00:01\r\u001b[K     |██████▊                         | 40kB 14.7MB/s eta 0:00:01\r\u001b[K     |████████▍                       | 51kB 7.7MB/s eta 0:00:01\r\u001b[K     |██████████                      | 61kB 9.0MB/s eta 0:00:01\r\u001b[K     |███████████▉                    | 71kB 8.9MB/s eta 0:00:01\r\u001b[K     |█████████████▌                  | 81kB 9.9MB/s eta 0:00:01\r\u001b[K     |███████████████▏                | 92kB 9.4MB/s eta 0:00:01\r\u001b[K     |████████████████▉               | 102kB 7.6MB/s eta 0:00:01\r\u001b[K     |██████████████████▌             | 112kB 7.6MB/s eta 0:00:01\r\u001b[K     |████████████████████▏           | 122kB 7.6MB/s eta 0:00:01\r\u001b[K     |██████████████████████          | 133kB 7.6MB/s eta 0:00:01\r\u001b[K     |███████████████████████▋        | 143kB 7.6MB/s eta 0:00:01\r\u001b[K     |█████████████████████████▎      | 153kB 7.6MB/s eta 0:00:01\r\u001b[K     |███████████████████████████     | 163kB 7.6MB/s eta 0:00:01\r\u001b[K     |████████████████████████████▋   | 174kB 7.6MB/s eta 0:00:01\r\u001b[K     |██████████████████████████████▎ | 184kB 7.6MB/s eta 0:00:01\r\u001b[K     |████████████████████████████████| 194kB 7.6MB/s eta 0:00:01\r\u001b[K     |████████████████████████████████| 204kB 7.6MB/s \n",
            "\u001b[?25hRequirement already satisfied, skipping upgrade: spacy<4 in /usr/local/lib/python3.7/dist-packages (from fastai) (2.2.4)\n",
            "Requirement already satisfied, skipping upgrade: scipy in /usr/local/lib/python3.7/dist-packages (from fastai) (1.4.1)\n",
            "Requirement already satisfied, skipping upgrade: fastprogress>=0.2.4 in /usr/local/lib/python3.7/dist-packages (from fastai) (1.0.0)\n",
            "Requirement already satisfied, skipping upgrade: requests in /usr/local/lib/python3.7/dist-packages (from fastai) (2.23.0)\n",
            "Collecting fastcore<1.4,>=1.3.8\n",
            "\u001b[?25l  Downloading https://files.pythonhosted.org/packages/d8/b0/f1fbf554e0bf3c76e1bdc3b82eedfe41fcf656479586be38c64421082b1b/fastcore-1.3.20-py3-none-any.whl (53kB)\n",
            "\u001b[K     |████████████████████████████████| 61kB 9.3MB/s \n",
            "\u001b[?25hRequirement already satisfied, skipping upgrade: torchvision>=0.8.2 in /usr/local/lib/python3.7/dist-packages (from fastai) (0.9.1+cu101)\n",
            "Requirement already satisfied, skipping upgrade: scikit-learn in /usr/local/lib/python3.7/dist-packages (from fastai) (0.22.2.post1)\n",
            "Requirement already satisfied, skipping upgrade: pillow>6.0.0 in /usr/local/lib/python3.7/dist-packages (from fastai) (7.1.2)\n",
            "Requirement already satisfied, skipping upgrade: matplotlib in /usr/local/lib/python3.7/dist-packages (from fastai) (3.2.2)\n",
            "Requirement already satisfied, skipping upgrade: torch<1.9,>=1.7.0 in /usr/local/lib/python3.7/dist-packages (from fastai) (1.8.1+cu101)\n",
            "Requirement already satisfied, skipping upgrade: packaging in /usr/local/lib/python3.7/dist-packages (from fastai) (20.9)\n",
            "Requirement already satisfied, skipping upgrade: pip in /usr/local/lib/python3.7/dist-packages (from fastai) (19.3.1)\n",
            "Requirement already satisfied, skipping upgrade: pandas in /usr/local/lib/python3.7/dist-packages (from fastai) (1.1.5)\n",
            "Requirement already satisfied, skipping upgrade: pyyaml in /usr/local/lib/python3.7/dist-packages (from fastai) (3.13)\n",
            "Requirement already satisfied, skipping upgrade: wasabi<1.1.0,>=0.4.0 in /usr/local/lib/python3.7/dist-packages (from spacy<4->fastai) (0.8.2)\n",
            "Requirement already satisfied, skipping upgrade: tqdm<5.0.0,>=4.38.0 in /usr/local/lib/python3.7/dist-packages (from spacy<4->fastai) (4.41.1)\n",
            "Requirement already satisfied, skipping upgrade: plac<1.2.0,>=0.9.6 in /usr/local/lib/python3.7/dist-packages (from spacy<4->fastai) (1.1.3)\n",
            "Requirement already satisfied, skipping upgrade: cymem<2.1.0,>=2.0.2 in /usr/local/lib/python3.7/dist-packages (from spacy<4->fastai) (2.0.5)\n",
            "Requirement already satisfied, skipping upgrade: preshed<3.1.0,>=3.0.2 in /usr/local/lib/python3.7/dist-packages (from spacy<4->fastai) (3.0.5)\n",
            "Requirement already satisfied, skipping upgrade: catalogue<1.1.0,>=0.0.7 in /usr/local/lib/python3.7/dist-packages (from spacy<4->fastai) (1.0.0)\n",
            "Requirement already satisfied, skipping upgrade: numpy>=1.15.0 in /usr/local/lib/python3.7/dist-packages (from spacy<4->fastai) (1.19.5)\n",
            "Requirement already satisfied, skipping upgrade: setuptools in /usr/local/lib/python3.7/dist-packages (from spacy<4->fastai) (57.0.0)\n",
            "Requirement already satisfied, skipping upgrade: thinc==7.4.0 in /usr/local/lib/python3.7/dist-packages (from spacy<4->fastai) (7.4.0)\n",
            "Requirement already satisfied, skipping upgrade: srsly<1.1.0,>=1.0.2 in /usr/local/lib/python3.7/dist-packages (from spacy<4->fastai) (1.0.5)\n",
            "Requirement already satisfied, skipping upgrade: blis<0.5.0,>=0.4.0 in /usr/local/lib/python3.7/dist-packages (from spacy<4->fastai) (0.4.1)\n",
            "Requirement already satisfied, skipping upgrade: murmurhash<1.1.0,>=0.28.0 in /usr/local/lib/python3.7/dist-packages (from spacy<4->fastai) (1.0.5)\n",
            "Requirement already satisfied, skipping upgrade: chardet<4,>=3.0.2 in /usr/local/lib/python3.7/dist-packages (from requests->fastai) (3.0.4)\n",
            "Requirement already satisfied, skipping upgrade: certifi>=2017.4.17 in /usr/local/lib/python3.7/dist-packages (from requests->fastai) (2020.12.5)\n",
            "Requirement already satisfied, skipping upgrade: urllib3!=1.25.0,!=1.25.1,<1.26,>=1.21.1 in /usr/local/lib/python3.7/dist-packages (from requests->fastai) (1.24.3)\n",
            "Requirement already satisfied, skipping upgrade: idna<3,>=2.5 in /usr/local/lib/python3.7/dist-packages (from requests->fastai) (2.10)\n",
            "Requirement already satisfied, skipping upgrade: joblib>=0.11 in /usr/local/lib/python3.7/dist-packages (from scikit-learn->fastai) (1.0.1)\n",
            "Requirement already satisfied, skipping upgrade: pyparsing!=2.0.4,!=2.1.2,!=2.1.6,>=2.0.1 in /usr/local/lib/python3.7/dist-packages (from matplotlib->fastai) (2.4.7)\n",
            "Requirement already satisfied, skipping upgrade: cycler>=0.10 in /usr/local/lib/python3.7/dist-packages (from matplotlib->fastai) (0.10.0)\n",
            "Requirement already satisfied, skipping upgrade: kiwisolver>=1.0.1 in /usr/local/lib/python3.7/dist-packages (from matplotlib->fastai) (1.3.1)\n",
            "Requirement already satisfied, skipping upgrade: python-dateutil>=2.1 in /usr/local/lib/python3.7/dist-packages (from matplotlib->fastai) (2.8.1)\n",
            "Requirement already satisfied, skipping upgrade: typing-extensions in /usr/local/lib/python3.7/dist-packages (from torch<1.9,>=1.7.0->fastai) (3.7.4.3)\n",
            "Requirement already satisfied, skipping upgrade: pytz>=2017.2 in /usr/local/lib/python3.7/dist-packages (from pandas->fastai) (2018.9)\n",
            "Requirement already satisfied, skipping upgrade: importlib-metadata>=0.20; python_version < \"3.8\" in /usr/local/lib/python3.7/dist-packages (from catalogue<1.1.0,>=0.0.7->spacy<4->fastai) (4.0.1)\n",
            "Requirement already satisfied, skipping upgrade: six in /usr/local/lib/python3.7/dist-packages (from cycler>=0.10->matplotlib->fastai) (1.15.0)\n",
            "Requirement already satisfied, skipping upgrade: zipp>=0.5 in /usr/local/lib/python3.7/dist-packages (from importlib-metadata>=0.20; python_version < \"3.8\"->catalogue<1.1.0,>=0.0.7->spacy<4->fastai) (3.4.1)\n",
            "Installing collected packages: fastcore, fastai\n",
            "  Found existing installation: fastai 1.0.61\n",
            "    Uninstalling fastai-1.0.61:\n",
            "      Successfully uninstalled fastai-1.0.61\n",
            "Successfully installed fastai-2.3.1 fastcore-1.3.20\n"
          ],
          "name": "stdout"
        }
      ]
    },
    {
      "cell_type": "markdown",
      "metadata": {
        "id": "nASI6SEETRQs"
      },
      "source": [
        "Tokenización con fastai."
      ]
    },
    {
      "cell_type": "code",
      "metadata": {
        "id": "cjMokYyWzZ5P"
      },
      "source": [
        "from fastai.text.all import *\n",
        "import pathlib\n",
        "\n",
        "path = pathlib.Path('dataSet/')"
      ],
      "execution_count": 6,
      "outputs": []
    },
    {
      "cell_type": "code",
      "metadata": {
        "colab": {
          "base_uri": "https://localhost:8080/",
          "height": 35
        },
        "id": "uaLOvcSJzhXs",
        "outputId": "17928195-8f46-4289-873b-44dfbbdaed4f"
      },
      "source": [
        "files = get_files(path, folders=['test', 'train'])\n",
        "txt = files[2].open().read(); txt[:75]"
      ],
      "execution_count": 7,
      "outputs": [
        {
          "output_type": "execute_result",
          "data": {
            "application/vnd.google.colaboratory.intrinsic+json": {
              "type": "string"
            },
            "text/plain": [
              "',title,text,subject,date\\n6502, Whoops: VA Gun Shop Employee Accidentally Sh'"
            ]
          },
          "metadata": {
            "tags": []
          },
          "execution_count": 7
        }
      ]
    },
    {
      "cell_type": "code",
      "metadata": {
        "id": "taOhdX7XztZJ"
      },
      "source": [
        "wt = WordTokenizer()\n",
        "tkn = Tokenizer(wt)"
      ],
      "execution_count": 8,
      "outputs": []
    },
    {
      "cell_type": "code",
      "metadata": {
        "colab": {
          "base_uri": "https://localhost:8080/"
        },
        "id": "9CMZZWAf2lBS",
        "outputId": "419a9c03-524e-4af0-efd2-3df6bdd8c373"
      },
      "source": [
        "first(wt([txt]))"
      ],
      "execution_count": 9,
      "outputs": [
        {
          "output_type": "execute_result",
          "data": {
            "text/plain": [
              "(#9749410) [',','title',',','text',',','subject',',','date','\\n','6502'...]"
            ]
          },
          "metadata": {
            "tags": []
          },
          "execution_count": 9
        }
      ]
    },
    {
      "cell_type": "code",
      "metadata": {
        "colab": {
          "base_uri": "https://localhost:8080/",
          "height": 69
        },
        "id": "oaGXkBCP2rF6",
        "outputId": "532da4ce-b666-40e3-af51-8cf48244067f"
      },
      "source": [
        "coll_repr(tkn(txt), 31)"
      ],
      "execution_count": 10,
      "outputs": [
        {
          "output_type": "execute_result",
          "data": {
            "application/vnd.google.colaboratory.intrinsic+json": {
              "type": "string"
            },
            "text/plain": [
              "'(#10907072) [\\'xxbos\\',\\',\\',\\'title\\',\\',\\',\\'text\\',\\',\\',\\'subject\\',\\',\\',\\'date\\',\\'\\\\n\\',\\'6502\\',\\',\\',\\'xxmaj\\',\\'whoops\\',\\':\\',\\'xxup\\',\\'va\\',\\'xxmaj\\',\\'gun\\',\\'xxmaj\\',\\'shop\\',\\'xxmaj\\',\\'employee\\',\\'xxmaj\\',\\'accidentally\\',\\'xxmaj\\',\\'shoots\\',\\'herself,\"an\\',\\'employee\\',\\'of\\',\\'xxmaj\\'...]'"
            ]
          },
          "metadata": {
            "tags": []
          },
          "execution_count": 10
        }
      ]
    },
    {
      "cell_type": "markdown",
      "metadata": {
        "id": "XBYfIVK4d-A2"
      },
      "source": [
        "Numericalización con fastai."
      ]
    },
    {
      "cell_type": "code",
      "metadata": {
        "id": "0vOgKVKW2uPE"
      },
      "source": [
        "txts = L(o.open().read() for o in files[:2000])\n",
        "toks200 = txts[:200].map(tkn)\n",
        "num = Numericalize()\n",
        "num.setup(toks200)"
      ],
      "execution_count": 11,
      "outputs": []
    },
    {
      "cell_type": "code",
      "metadata": {
        "colab": {
          "base_uri": "https://localhost:8080/",
          "height": 52
        },
        "id": "8BUOViEn2yXH",
        "outputId": "a9d0bd3a-915a-4a2e-bd24-e3305f81f2f9"
      },
      "source": [
        "coll_repr(num.vocab,20)"
      ],
      "execution_count": 12,
      "outputs": [
        {
          "output_type": "execute_result",
          "data": {
            "application/vnd.google.colaboratory.intrinsic+json": {
              "type": "string"
            },
            "text/plain": [
              "\"(#60008) ['xxunk','xxpad','xxbos','xxeos','xxfld','xxrep','xxwrep','xxup','xxmaj','the',',','.','to','of','a','and','in','that','on','-'...]\""
            ]
          },
          "metadata": {
            "tags": []
          },
          "execution_count": 12
        }
      ]
    },
    {
      "cell_type": "code",
      "metadata": {
        "colab": {
          "base_uri": "https://localhost:8080/"
        },
        "id": "JyegpARW200_",
        "outputId": "ee3956ab-1436-4df6-aee3-971ce4f55099"
      },
      "source": [
        "toks = tkn(txt)\n",
        "print(coll_repr(tkn(txt), 31))\n",
        "nums = num(toks)[:20]\n",
        "nums"
      ],
      "execution_count": 13,
      "outputs": [
        {
          "output_type": "stream",
          "text": [
            "(#10907072) ['xxbos',',','title',',','text',',','subject',',','date','\\n','6502',',','xxmaj','whoops',':','xxup','va','xxmaj','gun','xxmaj','shop','xxmaj','employee','xxmaj','accidentally','xxmaj','shoots','herself,\"an','employee','of','xxmaj'...]\n"
          ],
          "name": "stdout"
        },
        {
          "output_type": "execute_result",
          "data": {
            "text/plain": [
              "TensorText([    2,    10,  3509,    10,  2935,    10,  1496,    10,  1877,    61,\n",
              "            0,    10,     8, 32046,    38,     7,  3959,     8,   442,     8])"
            ]
          },
          "metadata": {
            "tags": []
          },
          "execution_count": 13
        }
      ]
    },
    {
      "cell_type": "code",
      "metadata": {
        "colab": {
          "base_uri": "https://localhost:8080/",
          "height": 35
        },
        "id": "TW5iGv5S24jC",
        "outputId": "fad8f5fc-023d-4acf-9299-ab8ffb862e0e"
      },
      "source": [
        "' '.join(num.vocab[o] for o in nums)"
      ],
      "execution_count": 14,
      "outputs": [
        {
          "output_type": "execute_result",
          "data": {
            "application/vnd.google.colaboratory.intrinsic+json": {
              "type": "string"
            },
            "text/plain": [
              "'xxbos , title , text , subject , date \\n xxunk , xxmaj whoops : xxup va xxmaj gun xxmaj'"
            ]
          },
          "metadata": {
            "tags": []
          },
          "execution_count": 14
        }
      ]
    },
    {
      "cell_type": "markdown",
      "metadata": {
        "id": "E___faxsTX8_"
      },
      "source": [
        "Organizamos el dataset en batches."
      ]
    },
    {
      "cell_type": "code",
      "metadata": {
        "id": "Us7OUHiF27CN"
      },
      "source": [
        "nums200 = toks200.map(num)\n",
        "dl = LMDataLoader(nums200)"
      ],
      "execution_count": 15,
      "outputs": []
    },
    {
      "cell_type": "code",
      "metadata": {
        "colab": {
          "base_uri": "https://localhost:8080/"
        },
        "id": "ms-MTM8O2_ez",
        "outputId": "4d768104-6f45-486a-ae2e-3b5e0c376183"
      },
      "source": [
        "x,y = first(dl)\n",
        "x.shape,y.shape"
      ],
      "execution_count": 16,
      "outputs": [
        {
          "output_type": "execute_result",
          "data": {
            "text/plain": [
              "(torch.Size([64, 72]), torch.Size([64, 72]))"
            ]
          },
          "metadata": {
            "tags": []
          },
          "execution_count": 16
        }
      ]
    },
    {
      "cell_type": "code",
      "metadata": {
        "colab": {
          "base_uri": "https://localhost:8080/"
        },
        "id": "5uxImrLn3CGW",
        "outputId": "05e74f60-b651-444d-f45e-45ffc3cdbc6d"
      },
      "source": [
        "print(' '.join(num.vocab[o] for o in x[0][:20]))\n",
        "print(' '.join(num.vocab[o] for o in y[0][:20]))"
      ],
      "execution_count": 17,
      "outputs": [
        {
          "output_type": "stream",
          "text": [
            "xxbos , title , text , subject , date \n",
            " xxunk xxup redux ? cnn ’s xxmaj role in xxmaj\n",
            ", title , text , subject , date \n",
            " xxunk xxup redux ? cnn ’s xxmaj role in xxmaj peddling\n"
          ],
          "name": "stdout"
        }
      ]
    },
    {
      "cell_type": "markdown",
      "metadata": {
        "id": "KlIGE3MrTdRR"
      },
      "source": [
        "Modelo de lenguaje."
      ]
    },
    {
      "cell_type": "code",
      "metadata": {
        "id": "GvfTsBJ2glKR"
      },
      "source": [
        "df_fake = pd.read_csv('Fake.csv')\n",
        "df_fake['class'] = 'fake'\n",
        "\n",
        "df_true = pd.read_csv('True.csv')\n",
        "df_true['class'] = 'true'\n",
        "\n",
        "dfFastAI = pd.concat([df_true, df_fake])\n",
        "\n",
        "os.mkdir(\"dataSetConcatenated\")\n",
        "dfFastAI.to_csv('dataSetConcatenated/concatenated.csv')"
      ],
      "execution_count": 18,
      "outputs": []
    },
    {
      "cell_type": "markdown",
      "metadata": {
        "id": "FRsvMKEDe_xl"
      },
      "source": [
        "Lo hacemos con la documentación de:\n",
        "\n",
        "https://docs.fast.ai/text.data.html#TextDataLoaders.from_csv"
      ]
    },
    {
      "cell_type": "code",
      "metadata": {
        "colab": {
          "base_uri": "https://localhost:8080/",
          "height": 71
        },
        "id": "T4m-H9X3gk-u",
        "outputId": "9d088d15-fe86-4f50-cacf-f5ba703c8d74"
      },
      "source": [
        "df = pd.read_csv('dataSetConcatenated/concatenated.csv')\n",
        "\n",
        "dls_lm = TextDataLoaders.from_csv('dataSetConcatenated/', 'concatenated.csv', text_col='text', is_lm=True)"
      ],
      "execution_count": 19,
      "outputs": [
        {
          "output_type": "display_data",
          "data": {
            "text/html": [
              ""
            ],
            "text/plain": [
              "<IPython.core.display.HTML object>"
            ]
          },
          "metadata": {
            "tags": []
          }
        },
        {
          "output_type": "stream",
          "text": [
            "/usr/local/lib/python3.7/dist-packages/numpy/core/_asarray.py:83: VisibleDeprecationWarning: Creating an ndarray from ragged nested sequences (which is a list-or-tuple of lists-or-tuples-or ndarrays with different lengths or shapes) is deprecated. If you meant to do this, you must specify 'dtype=object' when creating the ndarray\n",
            "  return array(a, dtype, copy=False, order=order)\n"
          ],
          "name": "stderr"
        }
      ]
    },
    {
      "cell_type": "code",
      "metadata": {
        "colab": {
          "base_uri": "https://localhost:8080/",
          "height": 629
        },
        "id": "y2xuwxc6gk0K",
        "outputId": "1724e0d2-cf08-4052-eca9-67d2e0e9431a"
      },
      "source": [
        "dls_lm.show_batch(max_n=5)"
      ],
      "execution_count": 20,
      "outputs": [
        {
          "output_type": "display_data",
          "data": {
            "text/html": [
              "<table border=\"1\" class=\"dataframe\">\n",
              "  <thead>\n",
              "    <tr style=\"text-align: right;\">\n",
              "      <th></th>\n",
              "      <th>text</th>\n",
              "      <th>text_</th>\n",
              "    </tr>\n",
              "  </thead>\n",
              "  <tbody>\n",
              "    <tr>\n",
              "      <th>0</th>\n",
              "      <td>xxbos xxmaj here we go again 25 years after the xxmaj gulf xxmaj war we re back at it but with xxup isis this time.the xxup u.s . xxmaj air xxmaj force has deployed xxup b-52 long - ranger bombers to the xxmaj middle xxmaj east , for the first time since the xxmaj gulf xxmaj war ended , to conduct strikes against the xxmaj islamic xxmaj state in xxmaj iraq and</td>\n",
              "      <td>xxmaj here we go again 25 years after the xxmaj gulf xxmaj war we re back at it but with xxup isis this time.the xxup u.s . xxmaj air xxmaj force has deployed xxup b-52 long - ranger bombers to the xxmaj middle xxmaj east , for the first time since the xxmaj gulf xxmaj war ended , to conduct strikes against the xxmaj islamic xxmaj state in xxmaj iraq and xxmaj</td>\n",
              "    </tr>\n",
              "    <tr>\n",
              "      <th>1</th>\n",
              "      <td>reuters on xxmaj friday . i m taking my chances . xxmaj we can not live in fear and let the fear paralyze us . xxmaj she said the party was still in contact with those members outside the country as the opposition tries to rally international pressure on the government . a spokesman for the ruling party said it was an internal issue for the xxup cnrp if its members were</td>\n",
              "      <td>on xxmaj friday . i m taking my chances . xxmaj we can not live in fear and let the fear paralyze us . xxmaj she said the party was still in contact with those members outside the country as the opposition tries to rally international pressure on the government . a spokesman for the ruling party said it was an internal issue for the xxup cnrp if its members were abroad</td>\n",
              "    </tr>\n",
              "    <tr>\n",
              "      <th>2</th>\n",
              "      <td>29 , took the whole family his little four children and wife to the is - controlled area inside xxmaj syria . xxmaj now xxmaj skr mo filmed a propaganda video outside the xxmaj syrian city xxmaj kobane where he preaches jihad and calls xxmaj swedish jihadists to leave xxmaj sweden and join the holy war . xxmaj my brothers , hijra ( migration ) and jihad are so simple . xxmaj</td>\n",
              "      <td>, took the whole family his little four children and wife to the is - controlled area inside xxmaj syria . xxmaj now xxmaj skr mo filmed a propaganda video outside the xxmaj syrian city xxmaj kobane where he preaches jihad and calls xxmaj swedish jihadists to leave xxmaj sweden and join the holy war . xxmaj my brothers , hijra ( migration ) and jihad are so simple . xxmaj it</td>\n",
              "    </tr>\n",
              "    <tr>\n",
              "      <th>3</th>\n",
              "      <td>xxmaj committee in xxmaj july . xxmaj american xxunk s xxmaj hillary lying about a video being reason for the attack on the unsecured xxmaj benghazi compound , even though she xxup always xxup knew ( see email above ) that it had xxup nothing to do with the attack : here s the speech xxmaj sean xxmaj smith s mother , xxmaj pat xxmaj smith gave at the xxup rnc xxmaj</td>\n",
              "      <td>committee in xxmaj july . xxmaj american xxunk s xxmaj hillary lying about a video being reason for the attack on the unsecured xxmaj benghazi compound , even though she xxup always xxup knew ( see email above ) that it had xxup nothing to do with the attack : here s the speech xxmaj sean xxmaj smith s mother , xxmaj pat xxmaj smith gave at the xxup rnc xxmaj convention</td>\n",
              "    </tr>\n",
              "    <tr>\n",
              "      <th>4</th>\n",
              "      <td>while these situations are often called accidents , the true issue is negligence . xxmaj simply put , nothing would have happened in many , if not most accidental shootings if the gun wasn t present in the first place or , at minimum , if the owners of the weapons actually cared about gun xxunk xxup nra regularly promotes the lie that all people who own firearms are responsible good guys</td>\n",
              "      <td>these situations are often called accidents , the true issue is negligence . xxmaj simply put , nothing would have happened in many , if not most accidental shootings if the gun wasn t present in the first place or , at minimum , if the owners of the weapons actually cared about gun xxunk xxup nra regularly promotes the lie that all people who own firearms are responsible good guys with</td>\n",
              "    </tr>\n",
              "  </tbody>\n",
              "</table>"
            ],
            "text/plain": [
              "<IPython.core.display.HTML object>"
            ]
          },
          "metadata": {
            "tags": []
          }
        }
      ]
    },
    {
      "cell_type": "markdown",
      "metadata": {
        "id": "TYPagbytTlxN"
      },
      "source": [
        "Fine tuning el modelo de lenguaje."
      ]
    },
    {
      "cell_type": "code",
      "metadata": {
        "id": "cI1XyhAR3MLM",
        "colab": {
          "base_uri": "https://localhost:8080/",
          "height": 17
        },
        "outputId": "d2839344-5d0a-47b6-d8b3-427fbffa580c"
      },
      "source": [
        "learn = language_model_learner(\n",
        "    dls_lm, AWD_LSTM, drop_mult=0.3, \n",
        "    metrics=[accuracy,Perplexity()]).to_fp16()"
      ],
      "execution_count": 21,
      "outputs": [
        {
          "output_type": "display_data",
          "data": {
            "text/html": [
              ""
            ],
            "text/plain": [
              "<IPython.core.display.HTML object>"
            ]
          },
          "metadata": {
            "tags": []
          }
        }
      ]
    },
    {
      "cell_type": "code",
      "metadata": {
        "id": "02uddyN03aqv",
        "colab": {
          "base_uri": "https://localhost:8080/",
          "height": 80
        },
        "outputId": "95a240cb-f7ff-4e62-942f-d59728939306"
      },
      "source": [
        "learn.fit_one_cycle(1, 2e-2)"
      ],
      "execution_count": 22,
      "outputs": [
        {
          "output_type": "display_data",
          "data": {
            "text/html": [
              "<table border=\"1\" class=\"dataframe\">\n",
              "  <thead>\n",
              "    <tr style=\"text-align: left;\">\n",
              "      <th>epoch</th>\n",
              "      <th>train_loss</th>\n",
              "      <th>valid_loss</th>\n",
              "      <th>accuracy</th>\n",
              "      <th>perplexity</th>\n",
              "      <th>time</th>\n",
              "    </tr>\n",
              "  </thead>\n",
              "  <tbody>\n",
              "    <tr>\n",
              "      <td>0</td>\n",
              "      <td>3.630003</td>\n",
              "      <td>3.489906</td>\n",
              "      <td>0.355305</td>\n",
              "      <td>32.782867</td>\n",
              "      <td>17:59</td>\n",
              "    </tr>\n",
              "  </tbody>\n",
              "</table>"
            ],
            "text/plain": [
              "<IPython.core.display.HTML object>"
            ]
          },
          "metadata": {
            "tags": []
          }
        }
      ]
    },
    {
      "cell_type": "code",
      "metadata": {
        "colab": {
          "base_uri": "https://localhost:8080/",
          "height": 157
        },
        "id": "A3wrAlTi16ce",
        "outputId": "7807ac2b-80d8-4b2e-a26b-1c1a02412921"
      },
      "source": [
        "learn.unfreeze()\n",
        "learn.fit_one_cycle(10, 2e-3) "
      ],
      "execution_count": null,
      "outputs": [
        {
          "output_type": "display_data",
          "data": {
            "text/html": [
              "\n",
              "    <div>\n",
              "        <style>\n",
              "            /* Turns off some styling */\n",
              "            progress {\n",
              "                /* gets rid of default border in Firefox and Opera. */\n",
              "                border: none;\n",
              "                /* Needs to be in here for Safari polyfill so background images work as expected. */\n",
              "                background-size: auto;\n",
              "            }\n",
              "            .progress-bar-interrupted, .progress-bar-interrupted::-webkit-progress-bar {\n",
              "                background: #F44336;\n",
              "            }\n",
              "        </style>\n",
              "      <progress value='2' class='' max='10' style='width:300px; height:20px; vertical-align: middle;'></progress>\n",
              "      20.00% [2/10 39:00<2:36:00]\n",
              "    </div>\n",
              "    \n",
              "<table border=\"1\" class=\"dataframe\">\n",
              "  <thead>\n",
              "    <tr style=\"text-align: left;\">\n",
              "      <th>epoch</th>\n",
              "      <th>train_loss</th>\n",
              "      <th>valid_loss</th>\n",
              "      <th>accuracy</th>\n",
              "      <th>perplexity</th>\n",
              "      <th>time</th>\n",
              "    </tr>\n",
              "  </thead>\n",
              "  <tbody>\n",
              "    <tr>\n",
              "      <td>0</td>\n",
              "      <td>3.308049</td>\n",
              "      <td>3.334590</td>\n",
              "      <td>0.374641</td>\n",
              "      <td>28.066879</td>\n",
              "      <td>19:23</td>\n",
              "    </tr>\n",
              "    <tr>\n",
              "      <td>1</td>\n",
              "      <td>3.281151</td>\n",
              "      <td>3.297311</td>\n",
              "      <td>0.379551</td>\n",
              "      <td>27.039839</td>\n",
              "      <td>19:36</td>\n",
              "    </tr>\n",
              "  </tbody>\n",
              "</table><p>\n",
              "\n",
              "    <div>\n",
              "        <style>\n",
              "            /* Turns off some styling */\n",
              "            progress {\n",
              "                /* gets rid of default border in Firefox and Opera. */\n",
              "                border: none;\n",
              "                /* Needs to be in here for Safari polyfill so background images work as expected. */\n",
              "                background-size: auto;\n",
              "            }\n",
              "            .progress-bar-interrupted, .progress-bar-interrupted::-webkit-progress-bar {\n",
              "                background: #F44336;\n",
              "            }\n",
              "        </style>\n",
              "      <progress value='187' class='' max='1030' style='width:300px; height:20px; vertical-align: middle;'></progress>\n",
              "      18.16% [187/1030 00:26<02:01 3.1851]\n",
              "    </div>\n",
              "    "
            ],
            "text/plain": [
              "<IPython.core.display.HTML object>"
            ]
          },
          "metadata": {
            "tags": []
          }
        }
      ]
    },
    {
      "cell_type": "code",
      "metadata": {
        "id": "Uopm-X4y3gnA"
      },
      "source": [
        "learn.save_encoder('finetuned')"
      ],
      "execution_count": null,
      "outputs": []
    },
    {
      "cell_type": "markdown",
      "metadata": {
        "id": "Mby5m_NeTr4i"
      },
      "source": [
        "Creando un clasificador."
      ]
    },
    {
      "cell_type": "code",
      "metadata": {
        "id": "76n_CFPZ3jfX"
      },
      "source": [
        "dls_clas = TextDataLoaders.from_csv('dataSetConcatenated/', 'concatenated.csv', text_col='title', label_col='class')"
      ],
      "execution_count": null,
      "outputs": []
    },
    {
      "cell_type": "code",
      "metadata": {
        "id": "F6iAa1IK3l7p"
      },
      "source": [
        "dls_clas.show_batch(max_n=5)"
      ],
      "execution_count": null,
      "outputs": []
    },
    {
      "cell_type": "code",
      "metadata": {
        "id": "82kzJMMd3n0-"
      },
      "source": [
        "learn = text_classifier_learner(dls_clas, AWD_LSTM, drop_mult=0.5, \n",
        "                                metrics=accuracy).to_fp16()"
      ],
      "execution_count": null,
      "outputs": []
    },
    {
      "cell_type": "code",
      "metadata": {
        "id": "5iVFkrYr3r9U"
      },
      "source": [
        "learn = learn.load_encoder('finetuned')"
      ],
      "execution_count": null,
      "outputs": []
    },
    {
      "cell_type": "code",
      "metadata": {
        "id": "-kbCwTHW30cq"
      },
      "source": [
        "learn.fit_one_cycle(1, 2e-2)"
      ],
      "execution_count": null,
      "outputs": []
    },
    {
      "cell_type": "code",
      "metadata": {
        "id": "1mkKoPBA33ay"
      },
      "source": [
        "learn.freeze_to(-2)\n",
        "learn.fit_one_cycle(1, slice(1e-2/(2.6**4),1e-2))"
      ],
      "execution_count": null,
      "outputs": []
    },
    {
      "cell_type": "code",
      "metadata": {
        "id": "9Vvbpsjg36f9"
      },
      "source": [
        "learn.freeze_to(-3)\n",
        "learn.fit_one_cycle(1, slice(5e-3/(2.6**4),5e-3))"
      ],
      "execution_count": null,
      "outputs": []
    },
    {
      "cell_type": "code",
      "metadata": {
        "id": "_L8gMwks38tT"
      },
      "source": [
        "learn.unfreeze()\n",
        "learn.fit_one_cycle(2, slice(1e-3/(2.6**4),1e-3))"
      ],
      "execution_count": null,
      "outputs": []
    }
  ]
}