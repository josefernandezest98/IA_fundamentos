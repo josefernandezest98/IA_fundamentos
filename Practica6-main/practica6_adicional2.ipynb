{
 "cells": [
  {
   "cell_type": "markdown",
   "metadata": {},
   "source": [
    "# Práctica 6. Ejercicio adicional 2: Detectando el subajuste y el sobreajuste\n",
    "\n",
    "En este notebook veremos como podemos visualizar el\n",
    "subajuste y el sobreajuste de un modelo. Para ello utilizaremos dos gráficas:\n",
    "la curva de validación y la curva de aprendizaje."
   ]
  },
  {
   "cell_type": "markdown",
   "metadata": {},
   "source": [
    "### Curva de validación\n",
    "\n",
    "La curva de validación nos permite visualizar el rendimiento de un modelo tanto en el conjunto de entrenamiento como en el de test para distintos valores. En concreto podemos utilizar validación cruzada para ver cuando se produce el subajuste y el sobreajuste.\n",
    "\n",
    "Empezamos descargando, y posteriormente cargando, el fichero `plot_curves` que sirve para visualizar las curvas de validación."
   ]
  },
  {
   "cell_type": "code",
   "execution_count": null,
   "metadata": {},
   "outputs": [],
   "source": [
    "!wget https://raw.githubusercontent.com/IA1819/Code/master/plot_curves.py -O plot_curves.py"
   ]
  },
  {
   "cell_type": "code",
   "execution_count": null,
   "metadata": {
    "collapsed": true
   },
   "outputs": [],
   "source": [
    "from plot_curves import *"
   ]
  },
  {
   "cell_type": "markdown",
   "metadata": {},
   "source": [
    "Vamos a utilizar un dataset existente de dígitos manuscritos que vimos en la práctica 5."
   ]
  },
  {
   "cell_type": "code",
   "execution_count": null,
   "metadata": {
    "collapsed": true
   },
   "outputs": [],
   "source": [
    "from sklearn.datasets import load_digits\n",
    "digits = load_digits()\n",
    "Xdigits, ydigits = digits.data, digits.target"
   ]
  },
  {
   "cell_type": "markdown",
   "metadata": {},
   "source": [
    "Vamos a explorar la curva de validación el algoritmo SVM y utilizando distintos parámetros de gamma que vienen dados por el siguiente rango de parámetros."
   ]
  },
  {
   "cell_type": "code",
   "execution_count": null,
   "metadata": {
    "collapsed": true
   },
   "outputs": [],
   "source": [
    "param_range = np.logspace(-6, -1, 5)"
   ]
  },
  {
   "cell_type": "markdown",
   "metadata": {},
   "source": [
    "Invocamos a la función `plot_validation_curve` pasándole el modelo que queremos utilizar, las instancias, sus etiquetas, el nombre del parametro que vamos a explorar, el valor de k para la validacion cruzada (argumento cv) y la metrica que utilizamos para medir la bondad del clasificador. "
   ]
  },
  {
   "cell_type": "code",
   "execution_count": null,
   "metadata": {},
   "outputs": [],
   "source": [
    "from sklearn.svm import SVC\n",
    "%matplotlib inline\n",
    "plot_validation_curve(\n",
    "    SVC(), Xdigits, ydigits, param_name=\"gamma\", param_range=param_range,\n",
    "    cv=10, scoring=\"accuracy\")"
   ]
  },
  {
   "cell_type": "markdown",
   "metadata": {},
   "source": [
    "##### Pregunta\n",
    "¿Para qué valores de gamma se produce el subajuste? ¿y el sobreajuste?.\n"
   ]
  },
  {
   "cell_type": "code",
   "execution_count": null,
   "metadata": {
    "collapsed": true
   },
   "outputs": [],
   "source": []
  },
  {
   "cell_type": "markdown",
   "metadata": {},
   "source": [
    "## Curva de aprendizaje \n",
    "\n",
    "Para generar las curvas de aprendizaje que vimos en clase se puede usar la función `plot_learning_curve` pasándole el modelo que queremos utilizar, las instancias y las etiquetas. Notad que las curvas de aprendizaje que se generan aquí no están basadas en el error del clasificador sino en su rendimiento."
   ]
  },
  {
   "cell_type": "code",
   "execution_count": null,
   "metadata": {},
   "outputs": [],
   "source": [
    "plot_learning_curve(SVC(gamma=0.001), Xdigits, ydigits)"
   ]
  },
  {
   "cell_type": "markdown",
   "metadata": {},
   "source": [
    "##### Ejercicio\n",
    "Genera nuevas curvas de aprendizaje utilizando otros modelos."
   ]
  },
  {
   "cell_type": "code",
   "execution_count": null,
   "metadata": {
    "collapsed": true
   },
   "outputs": [],
   "source": []
  },
  {
   "cell_type": "markdown",
   "metadata": {},
   "source": [
    "Recuerda guardar este notebook usando la opción *\"Save in GitHub...\"*."
   ]
  }
 ],
 "metadata": {
  "kernelspec": {
   "display_name": "Python 3",
   "language": "python",
   "name": "python3"
  },
  "language_info": {
   "codemirror_mode": {
    "name": "ipython",
    "version": 3
   },
   "file_extension": ".py",
   "mimetype": "text/x-python",
   "name": "python",
   "nbconvert_exporter": "python",
   "pygments_lexer": "ipython3",
   "version": "3.6.7"
  }
 },
 "nbformat": 4,
 "nbformat_minor": 2
}
