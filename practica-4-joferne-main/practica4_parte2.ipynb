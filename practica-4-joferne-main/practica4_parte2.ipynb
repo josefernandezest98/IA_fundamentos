{
  "nbformat": 4,
  "nbformat_minor": 0,
  "metadata": {
    "colab": {
      "name": "practica4_parte2.ipynb",
      "provenance": [],
      "include_colab_link": true
    },
    "kernelspec": {
      "display_name": "Python 3",
      "language": "python",
      "name": "python3"
    },
    "language_info": {
      "codemirror_mode": {
        "name": "ipython",
        "version": 3
      },
      "file_extension": ".py",
      "mimetype": "text/x-python",
      "name": "python",
      "nbconvert_exporter": "python",
      "pygments_lexer": "ipython3",
      "version": "3.6.8"
    }
  },
  "cells": [
    {
      "cell_type": "markdown",
      "metadata": {
        "id": "view-in-github",
        "colab_type": "text"
      },
      "source": [
        "<a href=\"https://colab.research.google.com/github/IA2021UR/practica-4-joferne/blob/main/practica4_parte2.ipynb\" target=\"_parent\"><img src=\"https://colab.research.google.com/assets/colab-badge.svg\" alt=\"Open In Colab\"/></a>"
      ]
    },
    {
      "cell_type": "markdown",
      "metadata": {
        "id": "9GId-1w5Wvg5"
      },
      "source": [
        "# Práctica 4 Parte II. Clustering jerárquico en sklearn"
      ]
    },
    {
      "cell_type": "markdown",
      "metadata": {
        "id": "i9zInh3kWvg9"
      },
      "source": [
        "Antes de empezar a ver cómo funciona el clustering jerárquico en la librería sklearn, vamos a fijar la notación:\n",
        "- Tenemos n instancias con m descriptores cada una, almacenadas en X\n",
        "- Llamaremos Z al vector que contiene la información de enlazamiento\n",
        "\n",
        "El proceso de clústering jerárquico en sklearn consta de dos partes. En la primera se calcula el dendograma para ver cuántos clústeres hay en el dataset. En la segunda se lleva a cabo el proceso de clustering."
      ]
    },
    {
      "cell_type": "markdown",
      "metadata": {
        "id": "GcHpwtl2WvhA"
      },
      "source": [
        "## Generando el dendograma\n",
        "\n",
        "Comenzamos importando las librerías que vamos a utilizar."
      ]
    },
    {
      "cell_type": "code",
      "metadata": {
        "id": "qFPgath2WvhF"
      },
      "source": [
        "from matplotlib import pyplot as plt\n",
        "import matplotlib.cm as cm\n",
        "from scipy.cluster.hierarchy import dendrogram, linkage\n",
        "from sklearn.cluster import AgglomerativeClustering\n",
        "import numpy as np\n",
        "%matplotlib inline"
      ],
      "execution_count": 1,
      "outputs": []
    },
    {
      "cell_type": "markdown",
      "metadata": {
        "id": "EUUGRHxbWvhM"
      },
      "source": [
        "A continuación vamos a generar los datos de nuestra muestra. Como existe una componente aleatoria a la hora de generar la muestra, vamos a fijar la semilla para poder reproducir los resultados"
      ]
    },
    {
      "cell_type": "code",
      "metadata": {
        "id": "wczgpW0VWvhP"
      },
      "source": [
        "np.random.seed(4711)"
      ],
      "execution_count": 2,
      "outputs": []
    },
    {
      "cell_type": "markdown",
      "metadata": {
        "id": "DdLikNb3WvhX"
      },
      "source": [
        "Vamos a generar dos clusters: el clúster a con 100 puntos y el clúster b con 50. Generamos 100 puntos aleatorios siguiendo una distribución normal. El primer valor que le pasamos ([10,0]) indica la coordenada donde es más probable que se generen los puntos de la muestra. El siguiente valor ([[3, 1], [1, 4]]) indica la covarianza. Más información sobre esta manera de generar puntos aleatorios viene descrita en https://docs.scipy.org/doc/numpy/reference/generated/numpy.random.multivariate_normal.html"
      ]
    },
    {
      "cell_type": "code",
      "metadata": {
        "id": "S61NiCJbWvhY"
      },
      "source": [
        "a = np.random.multivariate_normal([10, 0], [[3, 1], [1, 4]], size=[100,])"
      ],
      "execution_count": 3,
      "outputs": []
    },
    {
      "cell_type": "markdown",
      "metadata": {
        "id": "MWDGwjjzWvhe"
      },
      "source": [
        "Generamos 50 puntos aleatorios siguiendo una distribución normal"
      ]
    },
    {
      "cell_type": "code",
      "metadata": {
        "id": "imf26uXiWvhh"
      },
      "source": [
        "b = np.random.multivariate_normal([0, 20], [[3, 1], [1, 4]], size=[50,])"
      ],
      "execution_count": 4,
      "outputs": []
    },
    {
      "cell_type": "markdown",
      "metadata": {
        "id": "Ixv-WVHbWvhm"
      },
      "source": [
        "Concatenamos ambos datasets."
      ]
    },
    {
      "cell_type": "code",
      "metadata": {
        "id": "gTRznRbSWvhs"
      },
      "source": [
        "X = np.concatenate((a, b),)"
      ],
      "execution_count": 5,
      "outputs": []
    },
    {
      "cell_type": "markdown",
      "metadata": {
        "id": "vBON1vm7Wvhw"
      },
      "source": [
        "Veamos el dataset que hemos generado"
      ]
    },
    {
      "cell_type": "code",
      "metadata": {
        "colab": {
          "base_uri": "https://localhost:8080/",
          "height": 266
        },
        "id": "oTzjukW3Wvhy",
        "outputId": "11e5900c-2f81-4767-96d7-b359025bd4ba"
      },
      "source": [
        "plt.scatter(X[:,0], X[:,1])\n",
        "plt.show()"
      ],
      "execution_count": 6,
      "outputs": [
        {
          "output_type": "display_data",
          "data": {
            "image/png": "[encoded data removed]",
            "text/plain": [
              "<Figure size 432x288 with 1 Axes>"
            ]
          },
          "metadata": {
            "tags": [],
            "needs_background": "light"
          }
        }
      ]
    },
    {
      "cell_type": "markdown",
      "metadata": {
        "id": "bAdHdCcOWvh-"
      },
      "source": [
        "Veámos ahora como se realiza el clustering jerárquico. El primer paso consiste en definir el enlazado. En este caso utilizaremos ward como método de enlazado. Además de ward se pueden utilizar los valores 'single', 'complete', y 'average'."
      ]
    },
    {
      "cell_type": "code",
      "metadata": {
        "id": "-KjvZhEXWviE"
      },
      "source": [
        "Z = linkage(X,'ward')"
      ],
      "execution_count": 7,
      "outputs": []
    },
    {
      "cell_type": "markdown",
      "metadata": {
        "id": "AiFiDXG-WviI"
      },
      "source": [
        "Veámos ahora el dendograma que se genera utilizando el enlazado de Ward. "
      ]
    },
    {
      "cell_type": "code",
      "metadata": {
        "colab": {
          "base_uri": "https://localhost:8080/",
          "height": 301
        },
        "id": "v_qxn8qwWviJ",
        "outputId": "407fd09d-9d9d-44de-fe3c-56ec56303289"
      },
      "source": [
        "plt.title('Clustering jerarquico usando Ward')\n",
        "plt.xlabel('indice de la muestra')\n",
        "plt.ylabel('distancia')\n",
        "dendrogram(\n",
        "    Z,\n",
        "    leaf_rotation=90.,\n",
        "    leaf_font_size=8.,\n",
        ")\n",
        "plt.show()"
      ],
      "execution_count": 8,
      "outputs": [
        {
          "output_type": "display_data",
          "data": {
            "image/png": "[encoded data removed]",
            "text/plain": [
              "<Figure size 432x288 with 1 Axes>"
            ]
          },
          "metadata": {
            "tags": [],
            "needs_background": "light"
          }
        }
      ]
    },
    {
      "cell_type": "markdown",
      "metadata": {
        "id": "_ZYqDTYyWviQ"
      },
      "source": [
        "***\n",
        "### Ejercicio \n",
        "Utilizando los datos almacenados en X, genera los dendrogramas utilizando los métodos de enlazado 'single', 'complete', y 'average'."
      ]
    },
    {
      "cell_type": "markdown",
      "metadata": {
        "id": "tq5AyOr5VzB-"
      },
      "source": [
        "SINGLE"
      ]
    },
    {
      "cell_type": "code",
      "metadata": {
        "id": "6-BSpkNZWviS"
      },
      "source": [
        "Z = linkage(X,'single')"
      ],
      "execution_count": 9,
      "outputs": []
    },
    {
      "cell_type": "code",
      "metadata": {
        "colab": {
          "base_uri": "https://localhost:8080/",
          "height": 301
        },
        "id": "Y-BdVY4oVx4V",
        "outputId": "a75309b4-ebf8-4036-dcdf-161ade9deb0d"
      },
      "source": [
        "plt.title('Clustering jerarquico usando Single')\n",
        "plt.xlabel('indice de la muestra')\n",
        "plt.ylabel('distancia')\n",
        "dendrogram(\n",
        "    Z,\n",
        "    leaf_rotation=90.,\n",
        "    leaf_font_size=8.,\n",
        ")\n",
        "plt.show()"
      ],
      "execution_count": 10,
      "outputs": [
        {
          "output_type": "display_data",
          "data": {
            "image/png": "[encoded data removed]",
            "text/plain": [
              "<Figure size 432x288 with 1 Axes>"
            ]
          },
          "metadata": {
            "tags": [],
            "needs_background": "light"
          }
        }
      ]
    },
    {
      "cell_type": "markdown",
      "metadata": {
        "id": "l445sLrjWNhX"
      },
      "source": [
        "COMPLETE"
      ]
    },
    {
      "cell_type": "code",
      "metadata": {
        "id": "1DdBmd1gVxoQ"
      },
      "source": [
        "Z = linkage(X,'complete')"
      ],
      "execution_count": 11,
      "outputs": []
    },
    {
      "cell_type": "code",
      "metadata": {
        "colab": {
          "base_uri": "https://localhost:8080/",
          "height": 301
        },
        "id": "9tPvyhs-Vxj1",
        "outputId": "84918fa7-0240-47bc-ad02-9c2259029ad1"
      },
      "source": [
        "plt.title('Clustering jerarquico usando Complete')\n",
        "plt.xlabel('indice de la muestra')\n",
        "plt.ylabel('distancia')\n",
        "dendrogram(\n",
        "    Z,\n",
        "    leaf_rotation=90.,\n",
        "    leaf_font_size=8.,\n",
        ")\n",
        "plt.show()"
      ],
      "execution_count": 12,
      "outputs": [
        {
          "output_type": "display_data",
          "data": {
            "image/png": "[encoded data removed]",
            "text/plain": [
              "<Figure size 432x288 with 1 Axes>"
            ]
          },
          "metadata": {
            "tags": [],
            "needs_background": "light"
          }
        }
      ]
    },
    {
      "cell_type": "markdown",
      "metadata": {
        "id": "eDf9eal6WQ-K"
      },
      "source": [
        "AVERAGE"
      ]
    },
    {
      "cell_type": "code",
      "metadata": {
        "id": "P5yIN3F5Vxgo"
      },
      "source": [
        "Z = linkage(X,'average')"
      ],
      "execution_count": 13,
      "outputs": []
    },
    {
      "cell_type": "code",
      "metadata": {
        "colab": {
          "base_uri": "https://localhost:8080/",
          "height": 301
        },
        "id": "Fct25qUYVxcu",
        "outputId": "ec64c4d1-7878-4fe0-e7fb-7c36a9f655cf"
      },
      "source": [
        "plt.title('Clustering jerarquico usando Average')\n",
        "plt.xlabel('indice de la muestra')\n",
        "plt.ylabel('distancia')\n",
        "dendrogram(\n",
        "    Z,\n",
        "    leaf_rotation=90.,\n",
        "    leaf_font_size=8.,\n",
        ")\n",
        "plt.show()"
      ],
      "execution_count": 14,
      "outputs": [
        {
          "output_type": "display_data",
          "data": {
            "image/png": "[encoded data removed]",
            "text/plain": [
              "<Figure size 432x288 with 1 Axes>"
            ]
          },
          "metadata": {
            "tags": [],
            "needs_background": "light"
          }
        }
      ]
    },
    {
      "cell_type": "markdown",
      "metadata": {
        "id": "B3jnra-sWviX"
      },
      "source": [
        "***"
      ]
    },
    {
      "cell_type": "markdown",
      "metadata": {
        "id": "dMbY0t0PWvia"
      },
      "source": [
        "## Construyendo los clústeres\n",
        "\n",
        "Pasamos ahora a construir los clústeres. En el dendograma generado utilizando Ward, hemos visto que hay claramente dos clústeres, por lo que podemos pasar a utilizar el clústering jerárquico para agrupar los puntos. Para ello debemos construir una instancia de la clase ```AgglomerativeClustering``` a la cual le pasamos el método de enlazado y el número de clústeres."
      ]
    },
    {
      "cell_type": "code",
      "metadata": {
        "id": "ujPIBBi9Wvid"
      },
      "source": [
        "clustering = AgglomerativeClustering(linkage='ward', n_clusters=2)"
      ],
      "execution_count": 15,
      "outputs": []
    },
    {
      "cell_type": "markdown",
      "metadata": {
        "id": "_fBoRCVrWvii"
      },
      "source": [
        "Ahora podemos agrupar los clústeres usando el método fit como vimos con los otros algoritmos de clustering."
      ]
    },
    {
      "cell_type": "code",
      "metadata": {
        "id": "EbE1yyYxWvij"
      },
      "source": [
        "clusters = clustering.fit(X)\n",
        "labels = clusters.labels_"
      ],
      "execution_count": 16,
      "outputs": []
    },
    {
      "cell_type": "markdown",
      "metadata": {
        "id": "XI4gVUWAWviq"
      },
      "source": [
        "Finalmente, el siguiente código nos sirve para visualizar los clústeres. "
      ]
    },
    {
      "cell_type": "code",
      "metadata": {
        "id": "9tdCT6ZuWvir"
      },
      "source": [
        "def plot_clusters(X,labels):\n",
        "    colors = cm.rainbow(np.linspace(0, 1, len(np.unique(labels))))\n",
        "    for i,l in enumerate(np.unique(labels)):\n",
        "        Y = np.array([list(X[j]) for j,a in enumerate(labels) if a == l])\n",
        "        plt.scatter(Y[:,0], Y[:,1],color=colors[i])\n",
        "    plt.show()    "
      ],
      "execution_count": 17,
      "outputs": []
    },
    {
      "cell_type": "code",
      "metadata": {
        "colab": {
          "base_uri": "https://localhost:8080/",
          "height": 266
        },
        "id": "TdFKIniRWviy",
        "outputId": "67e93706-b8dc-4e55-8f6f-d9e09ae2e171"
      },
      "source": [
        "plot_clusters(X,labels)"
      ],
      "execution_count": 18,
      "outputs": [
        {
          "output_type": "display_data",
          "data": {
            "image/png": "[encoded data removed]",
            "text/plain": [
              "<Figure size 432x288 with 1 Axes>"
            ]
          },
          "metadata": {
            "tags": [],
            "needs_background": "light"
          }
        }
      ]
    },
    {
      "cell_type": "markdown",
      "metadata": {
        "id": "Xq6z1B3EWvi3"
      },
      "source": [
        "### Ejercicio\n",
        "\n",
        "¿Se obtienen los mismos resultados si utilizamos los otros enlazados?"
      ]
    },
    {
      "cell_type": "markdown",
      "metadata": {
        "id": "oKUV6xMgXJGw"
      },
      "source": [
        "SINGLE"
      ]
    },
    {
      "cell_type": "code",
      "metadata": {
        "id": "ytZn9B7oW3ut"
      },
      "source": [
        "clustering = AgglomerativeClustering(linkage='single', n_clusters=2)"
      ],
      "execution_count": 19,
      "outputs": []
    },
    {
      "cell_type": "code",
      "metadata": {
        "id": "FykLnVKOW5Ao"
      },
      "source": [
        "clusters = clustering.fit(X)\n",
        "labels = clusters.labels_"
      ],
      "execution_count": 20,
      "outputs": []
    },
    {
      "cell_type": "code",
      "metadata": {
        "colab": {
          "base_uri": "https://localhost:8080/",
          "height": 266
        },
        "id": "b0GkYB9nWzlc",
        "outputId": "2354472b-5de5-471c-bfb4-ffc54657e4ed"
      },
      "source": [
        "plot_clusters(X,labels)"
      ],
      "execution_count": 21,
      "outputs": [
        {
          "output_type": "display_data",
          "data": {
            "image/png": "[encoded data removed]",
            "text/plain": [
              "<Figure size 432x288 with 1 Axes>"
            ]
          },
          "metadata": {
            "tags": [],
            "needs_background": "light"
          }
        }
      ]
    },
    {
      "cell_type": "markdown",
      "metadata": {
        "id": "5uNlOeKaXMHb"
      },
      "source": [
        "COMPLETE"
      ]
    },
    {
      "cell_type": "code",
      "metadata": {
        "id": "KSUr63rgWzin"
      },
      "source": [
        "clustering = AgglomerativeClustering(linkage='complete', n_clusters=2)"
      ],
      "execution_count": 22,
      "outputs": []
    },
    {
      "cell_type": "code",
      "metadata": {
        "id": "e7bBa0G7Wzfz"
      },
      "source": [
        "clusters = clustering.fit(X)\n",
        "labels = clusters.labels_"
      ],
      "execution_count": 23,
      "outputs": []
    },
    {
      "cell_type": "code",
      "metadata": {
        "colab": {
          "base_uri": "https://localhost:8080/",
          "height": 266
        },
        "id": "Aizb3foqWzUO",
        "outputId": "43ce1392-29bb-418e-c541-87b043933e3a"
      },
      "source": [
        "plot_clusters(X,labels)"
      ],
      "execution_count": 24,
      "outputs": [
        {
          "output_type": "display_data",
          "data": {
            "image/png": "[encoded data removed]",
            "text/plain": [
              "<Figure size 432x288 with 1 Axes>"
            ]
          },
          "metadata": {
            "tags": [],
            "needs_background": "light"
          }
        }
      ]
    },
    {
      "cell_type": "markdown",
      "metadata": {
        "id": "5_rXTyneXgZ4"
      },
      "source": [
        "AVERAGE"
      ]
    },
    {
      "cell_type": "code",
      "metadata": {
        "id": "mt1F-GoHWzQx"
      },
      "source": [
        "clustering = AgglomerativeClustering(linkage='average', n_clusters=2)"
      ],
      "execution_count": 25,
      "outputs": []
    },
    {
      "cell_type": "code",
      "metadata": {
        "id": "Sw1VveJPWzNH"
      },
      "source": [
        "clusters = clustering.fit(X)\n",
        "labels = clusters.labels_"
      ],
      "execution_count": 26,
      "outputs": []
    },
    {
      "cell_type": "code",
      "metadata": {
        "colab": {
          "base_uri": "https://localhost:8080/",
          "height": 266
        },
        "id": "6ThErElJXqBE",
        "outputId": "726968b4-c3b3-4255-ec8c-7089c9a428b7"
      },
      "source": [
        "plot_clusters(X,labels)"
      ],
      "execution_count": 27,
      "outputs": [
        {
          "output_type": "display_data",
          "data": {
            "image/png": "[encoded data removed]",
            "text/plain": [
              "<Figure size 432x288 with 1 Axes>"
            ]
          },
          "metadata": {
            "tags": [],
            "needs_background": "light"
          }
        }
      ]
    },
    {
      "cell_type": "markdown",
      "metadata": {
        "id": "gveKXYWcWvjB"
      },
      "source": [
        "*** \n",
        "\n",
        "### Ejercicio \n",
        "\n",
        "Repite lo que hemos hecho hasta ahora para el dataset de iris que vimos en la práctica anterior. Debido a que en el dataset iris, las instancias se representan con 4 descriptores, no será posible visualizar los clústeres con la función ```plot_clusters```. "
      ]
    },
    {
      "cell_type": "code",
      "metadata": {
        "colab": {
          "base_uri": "https://localhost:8080/"
        },
        "id": "rEQxfH3EWvjC",
        "outputId": "38096651-b6b4-43ed-8c78-cd48a4a14676"
      },
      "source": [
        "!wget https://raw.githubusercontent.com/IA1819/Datasets/master/iris.csv -O iris.csv"
      ],
      "execution_count": 28,
      "outputs": [
        {
          "output_type": "stream",
          "text": [
            "--2021-03-23 14:04:30--  https://raw.githubusercontent.com/IA1819/Datasets/master/iris.csv\n",
            "Resolving raw.githubusercontent.com (raw.githubusercontent.com)... 185.199.108.133, 185.199.109.133, 185.199.110.133, ...\n",
            "Connecting to raw.githubusercontent.com (raw.githubusercontent.com)|185.199.108.133|:443... connected.\n",
            "HTTP request sent, awaiting response... 200 OK\n",
            "Length: 4606 (4.5K) [text/plain]\n",
            "Saving to: ‘iris.csv’\n",
            "\n",
            "\riris.csv              0%[                    ]       0  --.-KB/s               \riris.csv            100%[===================>]   4.50K  --.-KB/s    in 0s      \n",
            "\n",
            "2021-03-23 14:04:30 (49.9 MB/s) - ‘iris.csv’ saved [4606/4606]\n",
            "\n"
          ],
          "name": "stdout"
        }
      ]
    },
    {
      "cell_type": "code",
      "metadata": {
        "id": "DuVdB-4yZSPd"
      },
      "source": [
        "import pandas as pd"
      ],
      "execution_count": 29,
      "outputs": []
    },
    {
      "cell_type": "code",
      "metadata": {
        "id": "rkJ2zGrEZSLy"
      },
      "source": [
        "df = pd.read_csv('iris.csv')"
      ],
      "execution_count": 40,
      "outputs": []
    },
    {
      "cell_type": "markdown",
      "metadata": {
        "id": "C8BY4fdjabFx"
      },
      "source": [
        "Elimino la columna \"class\" ya que si no me produce un error."
      ]
    },
    {
      "cell_type": "code",
      "metadata": {
        "colab": {
          "base_uri": "https://localhost:8080/",
          "height": 419
        },
        "id": "HrqtpT1jaSN9",
        "outputId": "47232da0-bf29-4cf3-da39-fc9e43616b42"
      },
      "source": [
        "df = df.iloc[:,:-1];df"
      ],
      "execution_count": 41,
      "outputs": [
        {
          "output_type": "execute_result",
          "data": {
            "text/html": [
              "<div>\n",
              "<style scoped>\n",
              "    .dataframe tbody tr th:only-of-type {\n",
              "        vertical-align: middle;\n",
              "    }\n",
              "\n",
              "    .dataframe tbody tr th {\n",
              "        vertical-align: top;\n",
              "    }\n",
              "\n",
              "    .dataframe thead th {\n",
              "        text-align: right;\n",
              "    }\n",
              "</style>\n",
              "<table border=\"1\" class=\"dataframe\">\n",
              "  <thead>\n",
              "    <tr style=\"text-align: right;\">\n",
              "      <th></th>\n",
              "      <th>sepal_length</th>\n",
              "      <th>sepal_width</th>\n",
              "      <th>petal_length</th>\n",
              "      <th>petal_width</th>\n",
              "    </tr>\n",
              "  </thead>\n",
              "  <tbody>\n",
              "    <tr>\n",
              "      <th>0</th>\n",
              "      <td>5.1</td>\n",
              "      <td>3.5</td>\n",
              "      <td>1.4</td>\n",
              "      <td>0.2</td>\n",
              "    </tr>\n",
              "    <tr>\n",
              "      <th>1</th>\n",
              "      <td>4.9</td>\n",
              "      <td>3.0</td>\n",
              "      <td>1.4</td>\n",
              "      <td>0.2</td>\n",
              "    </tr>\n",
              "    <tr>\n",
              "      <th>2</th>\n",
              "      <td>4.7</td>\n",
              "      <td>3.2</td>\n",
              "      <td>1.3</td>\n",
              "      <td>0.2</td>\n",
              "    </tr>\n",
              "    <tr>\n",
              "      <th>3</th>\n",
              "      <td>4.6</td>\n",
              "      <td>3.1</td>\n",
              "      <td>1.5</td>\n",
              "      <td>0.2</td>\n",
              "    </tr>\n",
              "    <tr>\n",
              "      <th>4</th>\n",
              "      <td>5.0</td>\n",
              "      <td>3.6</td>\n",
              "      <td>1.4</td>\n",
              "      <td>0.2</td>\n",
              "    </tr>\n",
              "    <tr>\n",
              "      <th>...</th>\n",
              "      <td>...</td>\n",
              "      <td>...</td>\n",
              "      <td>...</td>\n",
              "      <td>...</td>\n",
              "    </tr>\n",
              "    <tr>\n",
              "      <th>145</th>\n",
              "      <td>6.7</td>\n",
              "      <td>3.0</td>\n",
              "      <td>5.2</td>\n",
              "      <td>2.3</td>\n",
              "    </tr>\n",
              "    <tr>\n",
              "      <th>146</th>\n",
              "      <td>6.3</td>\n",
              "      <td>2.5</td>\n",
              "      <td>5.0</td>\n",
              "      <td>1.9</td>\n",
              "    </tr>\n",
              "    <tr>\n",
              "      <th>147</th>\n",
              "      <td>6.5</td>\n",
              "      <td>3.0</td>\n",
              "      <td>5.2</td>\n",
              "      <td>2.0</td>\n",
              "    </tr>\n",
              "    <tr>\n",
              "      <th>148</th>\n",
              "      <td>6.2</td>\n",
              "      <td>3.4</td>\n",
              "      <td>5.4</td>\n",
              "      <td>2.3</td>\n",
              "    </tr>\n",
              "    <tr>\n",
              "      <th>149</th>\n",
              "      <td>5.9</td>\n",
              "      <td>3.0</td>\n",
              "      <td>5.1</td>\n",
              "      <td>1.8</td>\n",
              "    </tr>\n",
              "  </tbody>\n",
              "</table>\n",
              "<p>150 rows × 4 columns</p>\n",
              "</div>"
            ],
            "text/plain": [
              "     sepal_length  sepal_width  petal_length  petal_width\n",
              "0             5.1          3.5           1.4          0.2\n",
              "1             4.9          3.0           1.4          0.2\n",
              "2             4.7          3.2           1.3          0.2\n",
              "3             4.6          3.1           1.5          0.2\n",
              "4             5.0          3.6           1.4          0.2\n",
              "..            ...          ...           ...          ...\n",
              "145           6.7          3.0           5.2          2.3\n",
              "146           6.3          2.5           5.0          1.9\n",
              "147           6.5          3.0           5.2          2.0\n",
              "148           6.2          3.4           5.4          2.3\n",
              "149           5.9          3.0           5.1          1.8\n",
              "\n",
              "[150 rows x 4 columns]"
            ]
          },
          "metadata": {
            "tags": []
          },
          "execution_count": 41
        }
      ]
    },
    {
      "cell_type": "markdown",
      "metadata": {
        "id": "3ENeQ2dpZ7dX"
      },
      "source": [
        "WARD"
      ]
    },
    {
      "cell_type": "code",
      "metadata": {
        "id": "Vuq1Fvf7ZSIO"
      },
      "source": [
        "Z = linkage(df,'ward')"
      ],
      "execution_count": 44,
      "outputs": []
    },
    {
      "cell_type": "code",
      "metadata": {
        "id": "qR8fLEmUZSER",
        "outputId": "f7e91d6b-ca2e-4313-8095-ad95175f36b2",
        "colab": {
          "base_uri": "https://localhost:8080/",
          "height": 301
        }
      },
      "source": [
        "plt.title('Clustering jerarquico usando Ward')\n",
        "plt.xlabel('indice de la muestra')\n",
        "plt.ylabel('distancia')\n",
        "dendrogram(\n",
        "    Z,\n",
        "    leaf_rotation=90.,\n",
        "    leaf_font_size=8.,\n",
        ")\n",
        "plt.show()"
      ],
      "execution_count": 45,
      "outputs": [
        {
          "output_type": "display_data",
          "data": {
            "image/png": "[encoded data removed]",
            "text/plain": [
              "<Figure size 432x288 with 1 Axes>"
            ]
          },
          "metadata": {
            "tags": [],
            "needs_background": "light"
          }
        }
      ]
    },
    {
      "cell_type": "markdown",
      "metadata": {
        "id": "t3iPZveOZ-I0"
      },
      "source": [
        "SINGLE"
      ]
    },
    {
      "cell_type": "code",
      "metadata": {
        "id": "FLwFDMoEZR-M"
      },
      "source": [
        "Z = linkage(df,'single')"
      ],
      "execution_count": 46,
      "outputs": []
    },
    {
      "cell_type": "code",
      "metadata": {
        "id": "W_TeS1ZgZR5T",
        "outputId": "d14b497f-f0de-4ea6-ae2d-3fbbe9203ef6",
        "colab": {
          "base_uri": "https://localhost:8080/",
          "height": 301
        }
      },
      "source": [
        "plt.title('Clustering jerarquico usando Single')\n",
        "plt.xlabel('indice de la muestra')\n",
        "plt.ylabel('distancia')\n",
        "dendrogram(\n",
        "    Z,\n",
        "    leaf_rotation=90.,\n",
        "    leaf_font_size=8.,\n",
        ")\n",
        "plt.show()"
      ],
      "execution_count": 47,
      "outputs": [
        {
          "output_type": "display_data",
          "data": {
            "image/png": "[encoded data removed]",
            "text/plain": [
              "<Figure size 432x288 with 1 Axes>"
            ]
          },
          "metadata": {
            "tags": [],
            "needs_background": "light"
          }
        }
      ]
    },
    {
      "cell_type": "markdown",
      "metadata": {
        "id": "gM1HGYyUaCKn"
      },
      "source": [
        "COMPLETE"
      ]
    },
    {
      "cell_type": "code",
      "metadata": {
        "id": "GJbkQoalaBs2"
      },
      "source": [
        "Z = linkage(df,'complete')"
      ],
      "execution_count": 48,
      "outputs": []
    },
    {
      "cell_type": "code",
      "metadata": {
        "id": "AkyUpX2daBp4",
        "outputId": "3c9a97c1-4762-4fc4-82c9-464f9a96d28c",
        "colab": {
          "base_uri": "https://localhost:8080/",
          "height": 301
        }
      },
      "source": [
        "plt.title('Clustering jerarquico usando Complete')\n",
        "plt.xlabel('indice de la muestra')\n",
        "plt.ylabel('distancia')\n",
        "dendrogram(\n",
        "    Z,\n",
        "    leaf_rotation=90.,\n",
        "    leaf_font_size=8.,\n",
        ")\n",
        "plt.show()"
      ],
      "execution_count": 49,
      "outputs": [
        {
          "output_type": "display_data",
          "data": {
            "image/png": "[encoded data removed]",
            "text/plain": [
              "<Figure size 432x288 with 1 Axes>"
            ]
          },
          "metadata": {
            "tags": [],
            "needs_background": "light"
          }
        }
      ]
    },
    {
      "cell_type": "markdown",
      "metadata": {
        "id": "FER9nLQ5aFpt"
      },
      "source": [
        "AVERAGE"
      ]
    },
    {
      "cell_type": "code",
      "metadata": {
        "id": "3H5P5QtIaBm6"
      },
      "source": [
        "Z = linkage(df,'average')"
      ],
      "execution_count": 50,
      "outputs": []
    },
    {
      "cell_type": "code",
      "metadata": {
        "id": "KpabFrDIaBjn",
        "outputId": "5d043dec-6316-427d-d818-24de98fe4920",
        "colab": {
          "base_uri": "https://localhost:8080/",
          "height": 301
        }
      },
      "source": [
        "plt.title('Clustering jerarquico usando Average')\n",
        "plt.xlabel('indice de la muestra')\n",
        "plt.ylabel('distancia')\n",
        "dendrogram(\n",
        "    Z,\n",
        "    leaf_rotation=90.,\n",
        "    leaf_font_size=8.,\n",
        ")\n",
        "plt.show()"
      ],
      "execution_count": 51,
      "outputs": [
        {
          "output_type": "display_data",
          "data": {
            "image/png": "[encoded data removed]",
            "text/plain": [
              "<Figure size 432x288 with 1 Axes>"
            ]
          },
          "metadata": {
            "tags": [],
            "needs_background": "light"
          }
        }
      ]
    },
    {
      "cell_type": "markdown",
      "metadata": {
        "id": "hkc-Uu8oWvjN"
      },
      "source": [
        "***\n",
        "\n",
        "## Entrega\n",
        "\n",
        "Recuerda guardar tus cambios en tu repositorio utilizando la opción \"Save File in GitHub...\" del menú File."
      ]
    }
  ]
}