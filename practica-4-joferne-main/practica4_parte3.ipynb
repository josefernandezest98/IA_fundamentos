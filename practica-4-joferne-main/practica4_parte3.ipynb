{
  "nbformat": 4,
  "nbformat_minor": 0,
  "metadata": {
    "colab": {
      "name": "practica4_parte3.ipynb",
      "provenance": [],
      "include_colab_link": true
    },
    "kernelspec": {
      "display_name": "Python 3",
      "language": "python",
      "name": "python3"
    },
    "language_info": {
      "codemirror_mode": {
        "name": "ipython",
        "version": 3
      },
      "file_extension": ".py",
      "mimetype": "text/x-python",
      "name": "python",
      "nbconvert_exporter": "python",
      "pygments_lexer": "ipython3",
      "version": "3.6.7"
    }
  },
  "cells": [
    {
      "cell_type": "markdown",
      "metadata": {
        "id": "view-in-github",
        "colab_type": "text"
      },
      "source": [
        "<a href=\"https://colab.research.google.com/github/IA2021UR/practica-4-joferne/blob/main/practica4_parte3.ipynb\" target=\"_parent\"><img src=\"https://colab.research.google.com/assets/colab-badge.svg\" alt=\"Open In Colab\"/></a>"
      ]
    },
    {
      "cell_type": "markdown",
      "metadata": {
        "id": "DLqZeLRaXrIY"
      },
      "source": [
        "# Práctica 4 Parte III. Reducción de la dimensionalidad"
      ]
    },
    {
      "cell_type": "markdown",
      "metadata": {
        "id": "_Awr0NXAXrId"
      },
      "source": [
        "Vamos a ver cómo funciona el algoritmo de PCA utilizado un dataset muy conocido en el mundo del aprendizaje automático: el dataset de los dígitos. \n",
        "\n",
        "El dataset de los dígitos está compuesto por 1797 imágenes de dígitos manuscritos de tamaño 8x8. Este dataset se utiliza normalmente para algoritmos de clasificación (que veremos más adelante), pero también es un buen ejemplo para ver los algoritmos de clustering y de reducción de dimensionalidad. \n",
        "\n",
        "Cada dígito viene representado por un vector de 64 componentes que corresponden a los valores de cada pixel del dígito. Para más información sobre este dataset ver: http://scikit-learn.org/stable/auto_examples/datasets/plot_digits_last_image.html."
      ]
    },
    {
      "cell_type": "markdown",
      "metadata": {
        "id": "VdD3C9U-XrIf"
      },
      "source": [
        "En esta parte de la práctica compararemos los resultados que se obtienen utilizando K-means y K-means combinado con PCA. Para ello empezamos cargando las librerías necesarias. "
      ]
    },
    {
      "cell_type": "code",
      "metadata": {
        "id": "YiyWYyD0XrIk"
      },
      "source": [
        "from sklearn.cluster import KMeans\n",
        "from sklearn.datasets import load_digits\n",
        "from sklearn.decomposition import PCA\n",
        "from sklearn.preprocessing import scale\n",
        "import numpy as np\n",
        "from matplotlib import pyplot as plt\n",
        "%matplotlib inline"
      ],
      "execution_count": 1,
      "outputs": []
    },
    {
      "cell_type": "markdown",
      "metadata": {
        "id": "XrXHTdjRXrIs"
      },
      "source": [
        "Fijamos la semilla para obtener siempre los mismos resultados."
      ]
    },
    {
      "cell_type": "code",
      "metadata": {
        "id": "JsEgWUotXrIu"
      },
      "source": [
        "np.random.seed(42)"
      ],
      "execution_count": 2,
      "outputs": []
    },
    {
      "cell_type": "markdown",
      "metadata": {
        "id": "5oEH3Gn7XrI1"
      },
      "source": [
        "Cargamos el dataset de los dígitos."
      ]
    },
    {
      "cell_type": "code",
      "metadata": {
        "id": "OcVDnEAMXrI3"
      },
      "source": [
        "digits = load_digits()"
      ],
      "execution_count": 3,
      "outputs": []
    },
    {
      "cell_type": "markdown",
      "metadata": {
        "id": "rPzQSmokXrI-"
      },
      "source": [
        "Obtenemos los descriptores de las instancias y estandarizamos (veremos en qué consiste este proceso más adelante) el dataset."
      ]
    },
    {
      "cell_type": "code",
      "metadata": {
        "id": "6Vouy_G_XrJA"
      },
      "source": [
        "data = scale(digits.data)"
      ],
      "execution_count": 4,
      "outputs": []
    },
    {
      "cell_type": "markdown",
      "metadata": {
        "id": "iPVwzx52XrJF"
      },
      "source": [
        "Mostramos el número de instancias del dataset y el número de descriptores."
      ]
    },
    {
      "cell_type": "code",
      "metadata": {
        "colab": {
          "base_uri": "https://localhost:8080/"
        },
        "id": "TPg1y-0eXrJK",
        "outputId": "340fc39c-df0a-4165-bc6d-bb32142c13b5"
      },
      "source": [
        "n_instancias, n_descriptores = data.shape\n",
        "print(\"n_instancias %d, n_descriptores %d\" % (n_instancias, n_descriptores))"
      ],
      "execution_count": 5,
      "outputs": [
        {
          "output_type": "stream",
          "text": [
            "n_instancias 1797, n_descriptores 64\n"
          ],
          "name": "stdout"
        }
      ]
    },
    {
      "cell_type": "markdown",
      "metadata": {
        "id": "a5zIfm68XrJQ"
      },
      "source": [
        "Construimos el estimador K-means. Tenemos 10 clusters ya que de antemano sabemos que hay 10 posibles dígitos y por lo tanto 10 posibles grupos."
      ]
    },
    {
      "cell_type": "code",
      "metadata": {
        "id": "GFpDQecsXrJS"
      },
      "source": [
        "estimator = KMeans(n_clusters=10)"
      ],
      "execution_count": 6,
      "outputs": []
    },
    {
      "cell_type": "markdown",
      "metadata": {
        "id": "N4UCohQlXrJZ"
      },
      "source": [
        "Realizamos la agrupación por clusters y mostramos el tiempo necesario"
      ]
    },
    {
      "cell_type": "code",
      "metadata": {
        "colab": {
          "base_uri": "https://localhost:8080/"
        },
        "id": "xEZRwKPpXrJc",
        "outputId": "213d5feb-2723-4dba-9dd1-acbea932c7a9"
      },
      "source": [
        "%%time \n",
        "estimator.fit(data)"
      ],
      "execution_count": 7,
      "outputs": [
        {
          "output_type": "stream",
          "text": [
            "CPU times: user 393 ms, sys: 330 ms, total: 722 ms\n",
            "Wall time: 388 ms\n"
          ],
          "name": "stdout"
        },
        {
          "output_type": "execute_result",
          "data": {
            "text/plain": [
              "KMeans(algorithm='auto', copy_x=True, init='k-means++', max_iter=300,\n",
              "       n_clusters=10, n_init=10, n_jobs=None, precompute_distances='auto',\n",
              "       random_state=None, tol=0.0001, verbose=0)"
            ]
          },
          "metadata": {
            "tags": []
          },
          "execution_count": 7
        }
      ]
    },
    {
      "cell_type": "markdown",
      "metadata": {
        "id": "amED7EAqXrJi"
      },
      "source": [
        "Ahora definimos una función que nos indica para cada clase la distribución en clusters. Notad que los clusters no están ordenados."
      ]
    },
    {
      "cell_type": "code",
      "metadata": {
        "id": "XFj54cqtXrJk"
      },
      "source": [
        "def valida_digits(etiquetas_esperadas, etiquetas_obtenidas):\n",
        "    for i in range(0,10):\n",
        "        res = np.zeros(10).astype(\"uint8\")\n",
        "        for j,etiqueta in enumerate(etiquetas_esperadas):\n",
        "            if(etiqueta==i):\n",
        "                res[etiquetas_obtenidas[j]]+=1\n",
        "        print(\"Dígito \" + str(i) + \": \")\n",
        "        print(res)"
      ],
      "execution_count": 8,
      "outputs": []
    },
    {
      "cell_type": "markdown",
      "metadata": {
        "id": "7Gcp_VAiXrJq"
      },
      "source": [
        "Mostramos la distribución de los dígitos."
      ]
    },
    {
      "cell_type": "code",
      "metadata": {
        "colab": {
          "base_uri": "https://localhost:8080/"
        },
        "id": "vdbje5V1XrJr",
        "outputId": "c923c281-6dfb-4918-d5bf-1a813cabd10c"
      },
      "source": [
        "valida_digits(digits.target,estimator.labels_)"
      ],
      "execution_count": 9,
      "outputs": [
        {
          "output_type": "stream",
          "text": [
            "Dígito 0: \n",
            "[  0   0   0   0 177   1   0   0   0   0]\n",
            "Dígito 1: \n",
            "[ 0 58  1  0  0  0  0 27  0 96]\n",
            "Dígito 2: \n",
            "[ 0  4 92  7  0  0  0 46  1 27]\n",
            "Dígito 3: \n",
            "[  0   0  11 157   0   0   0   1   7   7]\n",
            "Dígito 4: \n",
            "[  0   8   1   0   0 157   9   0   4   2]\n",
            "Dígito 5: \n",
            "[ 4  4 81 76  0  3  0  0  5  9]\n",
            "Dígito 6: \n",
            "[172   1   0   0   1   0   0   1   0   6]\n",
            "Dígito 7: \n",
            "[  0   3   8   0   0   0  17   0 151   0]\n",
            "Dígito 8: \n",
            "[ 2 13 15 47  0  0  0  0  2 95]\n",
            "Dígito 9: \n",
            "[  0  19   2 146   0   0   3   0   8   2]\n"
          ],
          "name": "stdout"
        }
      ]
    },
    {
      "cell_type": "markdown",
      "metadata": {
        "id": "pEtkDeQGXrJw"
      },
      "source": [
        "Repetimos el proceso pero esta vez aplicando el algoritmo de PCA tomando 20 componentes principales"
      ]
    },
    {
      "cell_type": "code",
      "metadata": {
        "colab": {
          "base_uri": "https://localhost:8080/"
        },
        "id": "fZAdRnxYXrJy",
        "outputId": "53685395-f08c-4904-a910-72d5a80add50"
      },
      "source": [
        "%%time \n",
        "pca = PCA(n_components=20).fit(data)\n",
        "data_r = pca.transform(data)\n",
        "estimator = KMeans(n_clusters=10)\n",
        "estimator.fit(data_r)"
      ],
      "execution_count": 10,
      "outputs": [
        {
          "output_type": "stream",
          "text": [
            "CPU times: user 266 ms, sys: 324 ms, total: 589 ms\n",
            "Wall time: 321 ms\n"
          ],
          "name": "stdout"
        }
      ]
    },
    {
      "cell_type": "code",
      "metadata": {
        "colab": {
          "base_uri": "https://localhost:8080/"
        },
        "id": "FgkSQYYsXrJ6",
        "outputId": "8cbf82bf-fec8-4945-c045-6fcf89d1c4fc"
      },
      "source": [
        "valida_digits(digits.target,estimator.labels_)"
      ],
      "execution_count": 11,
      "outputs": [
        {
          "output_type": "stream",
          "text": [
            "Dígito 0: \n",
            "[  0   0   0   0 177   0   0   0   0   1]\n",
            "Dígito 1: \n",
            "[ 0  1 58 96  0 27  0  0  0  0]\n",
            "Dígito 2: \n",
            "[ 0  3  6 34  0 55 76  3  0  0]\n",
            "Dígito 3: \n",
            "[  0   9   0   8   0   2  13 151   0   0]\n",
            "Dígito 4: \n",
            "[  0   4   7   4   0   0   0   0   9 157]\n",
            "Dígito 5: \n",
            "[ 3  2  2 61  0  0 42 70  0  2]\n",
            "Dígito 6: \n",
            "[173   0   1   6   1   0   0   0   0   0]\n",
            "Dígito 7: \n",
            "[  0 150   3   0   0   0   8   0  17   1]\n",
            "Dígito 8: \n",
            "[ 3  3 16 97  0  0  8 47  0  0]\n",
            "Dígito 9: \n",
            "[  0   9  19   4   0   3   0 142   3   0]\n"
          ],
          "name": "stdout"
        }
      ]
    },
    {
      "cell_type": "markdown",
      "metadata": {
        "id": "Z8KQ5drNXrJ-"
      },
      "source": [
        "***\n",
        "## Ejercicio \n",
        "Compara los resultados tanto en tiempo, como en distribución de los clusters utilizando PCA y sin utilizarlo."
      ]
    },
    {
      "cell_type": "code",
      "metadata": {
        "id": "pIxR75i_XrJ_",
        "outputId": "3df3cb11-f225-4776-e10c-9f27aff186fa",
        "colab": {
          "base_uri": "https://localhost:8080/"
        }
      },
      "source": [
        "%%time \n",
        "estimator.fit(data)"
      ],
      "execution_count": 16,
      "outputs": [
        {
          "output_type": "stream",
          "text": [
            "CPU times: user 390 ms, sys: 331 ms, total: 721 ms\n",
            "Wall time: 380 ms\n"
          ],
          "name": "stdout"
        },
        {
          "output_type": "execute_result",
          "data": {
            "text/plain": [
              "KMeans(algorithm='auto', copy_x=True, init='k-means++', max_iter=300,\n",
              "       n_clusters=10, n_init=10, n_jobs=None, precompute_distances='auto',\n",
              "       random_state=None, tol=0.0001, verbose=0)"
            ]
          },
          "metadata": {
            "tags": []
          },
          "execution_count": 16
        }
      ]
    },
    {
      "cell_type": "code",
      "metadata": {
        "id": "u17Rsu3m1oV9",
        "outputId": "48887455-9cf7-49d4-bff8-1a121325ea7a",
        "colab": {
          "base_uri": "https://localhost:8080/"
        }
      },
      "source": [
        "valida_digits(digits.target,estimator.labels_)"
      ],
      "execution_count": 18,
      "outputs": [
        {
          "output_type": "stream",
          "text": [
            "Dígito 0: \n",
            "[  0   0 177   0   0   0   1   0   0   0]\n",
            "Dígito 1: \n",
            "[ 0 27  0  0  1 58  0  0  0 96]\n",
            "Dígito 2: \n",
            "[ 3 54  0  0  2  5  0  0 77 36]\n",
            "Dígito 3: \n",
            "[151   2   0   0   8   0   0   0  13   9]\n",
            "Dígito 4: \n",
            "[  0   0   0   9   4   7 157   0   0   4]\n",
            "Dígito 5: \n",
            "[72  0  0  0  2  2  2  2 41 61]\n",
            "Dígito 6: \n",
            "[  0   0   1   0   0   1   0 175   0   4]\n",
            "Dígito 7: \n",
            "[  0   0   0  18 151   3   0   0   7   0]\n",
            "Dígito 8: \n",
            "[46  0  0  0  2 16  0  3  9 98]\n",
            "Dígito 9: \n",
            "[145   0   0   3   8  19   0   0   0   5]\n"
          ],
          "name": "stdout"
        }
      ]
    },
    {
      "cell_type": "code",
      "metadata": {
        "id": "qdhcowMi0omK",
        "outputId": "af35aa79-e4b7-4cf2-e016-70bf26e5d4ab",
        "colab": {
          "base_uri": "https://localhost:8080/"
        }
      },
      "source": [
        "%%time \n",
        "pca = PCA(n_components=20).fit(data)\n",
        "data_r = pca.transform(data)\n",
        "estimator = KMeans(n_clusters=10)\n",
        "estimator.fit(data_r)"
      ],
      "execution_count": 19,
      "outputs": [
        {
          "output_type": "stream",
          "text": [
            "CPU times: user 271 ms, sys: 305 ms, total: 576 ms\n",
            "Wall time: 315 ms\n"
          ],
          "name": "stdout"
        }
      ]
    },
    {
      "cell_type": "code",
      "metadata": {
        "id": "q71S31Rl1tES",
        "outputId": "314e5be6-73b7-4f41-e394-f69a9765a84d",
        "colab": {
          "base_uri": "https://localhost:8080/"
        }
      },
      "source": [
        "valida_digits(digits.target,estimator.labels_)"
      ],
      "execution_count": 20,
      "outputs": [
        {
          "output_type": "stream",
          "text": [
            "Dígito 0: \n",
            "[177   0   0   0   0   0   0   0   1   0]\n",
            "Dígito 1: \n",
            "[ 0  1  0 96  0 58  0 27  0  0]\n",
            "Dígito 2: \n",
            "[ 0  2  3 38  0  5  0 55  0 74]\n",
            "Dígito 3: \n",
            "[  0   9 151   8   0   0   0   2   0  13]\n",
            "Dígito 4: \n",
            "[  0   4   0   4   9   7   0   0 157   0]\n",
            "Dígito 5: \n",
            "[ 0  2 70 61  0  2  3  0  2 42]\n",
            "Dígito 6: \n",
            "[  1   0   0   6   0   1 173   0   0   0]\n",
            "Dígito 7: \n",
            "[  0 149   0   0  18   3   0   0   1   8]\n",
            "Dígito 8: \n",
            "[ 0  3 47 97  0 16  3  0  0  8]\n",
            "Dígito 9: \n",
            "[  0   9 142   4   3  19   0   3   0   0]\n"
          ],
          "name": "stdout"
        }
      ]
    },
    {
      "cell_type": "markdown",
      "metadata": {
        "id": "q-gNj_3k0v31"
      },
      "source": [
        "Sin utilizar PCA tarda 730ms mientras que aplicando la reducción de dimensionalidad mediante PCA tarda 605ms. Mejora el rendimiento en un 17.12%. La distribución podemos compararla observando los valida_digits de arriba."
      ]
    },
    {
      "cell_type": "markdown",
      "metadata": {
        "id": "22bvfaYBXrKH"
      },
      "source": [
        "***"
      ]
    },
    {
      "cell_type": "markdown",
      "metadata": {
        "id": "ytIGSw97XrKI"
      },
      "source": [
        "Utilizando los siguientes comandos podemos ver el porcentaje de varianza explicado por cada una de las componentes de PCA y el total."
      ]
    },
    {
      "cell_type": "code",
      "metadata": {
        "id": "Ryk8rfnJXrKK",
        "outputId": "1a504880-5892-4f10-a76e-9b4ae909ea65",
        "colab": {
          "base_uri": "https://localhost:8080/"
        }
      },
      "source": [
        "print(pca.explained_variance_ratio_)\n",
        "print(\"Varianza total: \" + str(100*np.sum(pca.explained_variance_ratio_))+ \"%\")"
      ],
      "execution_count": 21,
      "outputs": [
        {
          "output_type": "stream",
          "text": [
            "[0.12033916 0.09561054 0.08444415 0.06498408 0.04860155 0.04214119\n",
            " 0.03942082 0.0338938  0.02998219 0.02931987 0.02781796 0.02577044\n",
            " 0.02275222 0.02227097 0.02165173 0.01914093 0.01775415 0.01636319\n",
            " 0.01596108 0.01488149]\n",
            "Varianza total: 79.3101513378981%\n"
          ],
          "name": "stdout"
        }
      ]
    },
    {
      "cell_type": "markdown",
      "metadata": {
        "id": "HtV3KN4bXrKQ"
      },
      "source": [
        "La siguiente función nos genera un gráfico mostrando la varianza acumulada y la varianza individual que se obtiene al considerar distintos valores como componentes principales (en concreto va tomando valores entre 1 y el número de descriptores). Además esta función muestra la varianza total para cada caso."
      ]
    },
    {
      "cell_type": "code",
      "metadata": {
        "id": "RDm3uR0_XrKS"
      },
      "source": [
        "def drawVarianza(data):\n",
        "    pcas = [PCA(n_components=k).fit(data) for k in range(1,len(data[0]))]\n",
        "    var = [pca.explained_variance_ratio_[-1] for pca in pcas]\n",
        "    varianzas = [np.sum(pca.explained_variance_ratio_) for pca in pcas]\n",
        "    for k in range(1,len(data[0])):\n",
        "        print(\"Varianza total (%s componentes): %s\" % (k,str(100 * varianzas[k-1])))\n",
        "    plt.clf()\n",
        "\n",
        "    plt.step(range(1,len(data[0])),varianzas,where='mid',label='varianza acumulada')\n",
        "    plt.bar(range(1,len(data[0])),var,alpha=0.5,align='center',label='varianza individual')\n",
        "    plt.xlabel('Componentes principales')\n",
        "    plt.ylabel('Ratio de varianza explicada')\n",
        "    plt.show()"
      ],
      "execution_count": 22,
      "outputs": []
    },
    {
      "cell_type": "code",
      "metadata": {
        "id": "SMSbcFAvXrKc",
        "outputId": "072b2c12-ecd3-4206-b4ab-af788aa2dfa5",
        "colab": {
          "base_uri": "https://localhost:8080/",
          "height": 1000
        }
      },
      "source": [
        "drawVarianza(data)"
      ],
      "execution_count": 23,
      "outputs": [
        {
          "output_type": "stream",
          "text": [
            "Varianza total (1 componentes): 12.033916097277917\n",
            "Varianza total (2 componentes): 21.594970401567124\n",
            "Varianza total (3 componentes): 30.03938539073088\n",
            "Varianza total (4 componentes): 36.537793127295245\n",
            "Varianza total (5 componentes): 41.39794582363952\n",
            "Varianza total (6 componentes): 45.61204646794234\n",
            "Varianza total (7 componentes): 49.55173912610355\n",
            "Varianza total (8 componentes): 52.94211207657358\n",
            "Varianza total (9 componentes): 55.938578279652184\n",
            "Varianza total (10 componentes): 58.867526811530425\n",
            "Varianza total (11 componentes): 61.65280957217304\n",
            "Varianza total (12 componentes): 64.22985800954153\n",
            "Varianza total (13 componentes): 66.50501071233191\n",
            "Varianza total (14 componentes): 68.73274261280605\n",
            "Varianza total (15 componentes): 70.89638624908173\n",
            "Varianza total (16 componentes): 72.8082133813029\n",
            "Varianza total (17 componentes): 74.58778137711462\n",
            "Varianza total (18 componentes): 76.21893253805173\n",
            "Varianza total (19 componentes): 77.82176637503571\n",
            "Varianza total (20 componentes): 79.31035895809863\n",
            "Varianza total (21 componentes): 80.65455287171415\n",
            "Varianza total (22 componentes): 81.93176556416782\n",
            "Varianza total (23 componentes): 83.0928315052327\n",
            "Varianza total (24 componentes): 84.14935141702057\n",
            "Varianza total (25 componentes): 85.1268716773387\n",
            "Varianza total (26 componentes): 86.07348239169725\n",
            "Varianza total (27 componentes): 86.93511880097637\n",
            "Varianza total (28 componentes): 87.76938166108691\n",
            "Varianza total (29 componentes): 88.56807856875723\n",
            "Varianza total (30 componentes): 89.30879050637684\n",
            "Varianza total (31 componentes): 90.03968102885096\n",
            "Varianza total (32 componentes): 90.73544038982683\n",
            "Varianza total (33 componentes): 91.38945895275789\n",
            "Varianza total (34 componentes): 92.02903161823504\n",
            "Varianza total (35 componentes): 92.618789604432\n",
            "Varianza total (36 componentes): 93.19202538302544\n",
            "Varianza total (37 componentes): 93.71465531635944\n",
            "Varianza total (38 componentes): 94.19703213996443\n",
            "Varianza total (39 componentes): 94.64683112568709\n",
            "Varianza total (40 componentes): 95.07701691045465\n",
            "Varianza total (41 componentes): 95.48097156636213\n",
            "Varianza total (42 componentes): 95.87902140340219\n",
            "Varianza total (43 componentes): 96.23662609078504\n",
            "Varianza total (44 componentes): 96.57742522076146\n",
            "Varianza total (45 componentes): 96.90556677960853\n",
            "Varianza total (46 componentes): 97.21613601972044\n",
            "Varianza total (47 componentes): 97.50472689904208\n",
            "Varianza total (48 componentes): 97.78218760792836\n",
            "Varianza total (49 componentes): 98.04134905967182\n",
            "Varianza total (50 componentes): 98.27584146208005\n",
            "Varianza total (51 componentes): 98.49417631792718\n",
            "Varianza total (52 componentes): 98.6977739524527\n",
            "Varianza total (53 componentes): 98.89328637847252\n",
            "Varianza total (54 componentes): 99.07660487766971\n",
            "Varianza total (55 componentes): 99.2445512651653\n",
            "Varianza total (56 componentes): 99.40578732742202\n",
            "Varianza total (57 componentes): 99.55355002152811\n",
            "Varianza total (58 componentes): 99.6886684328652\n",
            "Varianza total (59 componentes): 99.8137691753625\n",
            "Varianza total (60 componentes): 99.91746490551822\n",
            "Varianza total (61 componentes): 100.00000000000003\n",
            "Varianza total (62 componentes): 100.00000000000003\n",
            "Varianza total (63 componentes): 100.00000000000003\n"
          ],
          "name": "stdout"
        },
        {
          "output_type": "display_data",
          "data": {
            "image/png": "[encoded data removed]",
            "text/plain": [
              "<Figure size 432x288 with 1 Axes>"
            ]
          },
          "metadata": {
            "tags": [],
            "needs_background": "light"
          }
        }
      ]
    },
    {
      "cell_type": "markdown",
      "metadata": {
        "id": "3nS8SrouXrKl"
      },
      "source": [
        "*** \n",
        "## Ejercicio\n",
        "En clase hemos visto que para elegir el número de componentes k, debemos tomar el menor k tal que la varianza total sea mayor que el 99%. En nuestro caso, ¿qué valor deberíamos tomar?"
      ]
    },
    {
      "cell_type": "code",
      "metadata": {
        "id": "x7RsJgIZXrKn",
        "outputId": "249208eb-438e-4c18-95b2-c8c3099a1590",
        "colab": {
          "base_uri": "https://localhost:8080/"
        }
      },
      "source": [
        "def determina_componentes(data):\n",
        "    pcas = [PCA(n_components=k).fit(data) for k in range(1,len(data[0]))]\n",
        "    var = [pca.explained_variance_ratio_[-1] for pca in pcas]\n",
        "    varianzas = [np.sum(pca.explained_variance_ratio_) for pca in pcas]\n",
        "    for k in range(1,len(data[0])):\n",
        "      if((100 * varianzas[k-1]) > 99.0):\n",
        "        print(\"Varianza total (%s componentes): %s\" % (k,str(100 * varianzas[k-1])))\n",
        "\n",
        "determina_componentes(data)"
      ],
      "execution_count": 25,
      "outputs": [
        {
          "output_type": "stream",
          "text": [
            "Varianza total (54 componentes): 99.07660487766971\n",
            "Varianza total (55 componentes): 99.2445512651653\n",
            "Varianza total (56 componentes): 99.40578732742202\n",
            "Varianza total (57 componentes): 99.55355002152811\n",
            "Varianza total (58 componentes): 99.6886684328652\n",
            "Varianza total (59 componentes): 99.8137691753625\n",
            "Varianza total (60 componentes): 99.91746490551822\n",
            "Varianza total (61 componentes): 100.00000000000003\n",
            "Varianza total (62 componentes): 100.00000000000003\n",
            "Varianza total (63 componentes): 100.00000000000003\n"
          ],
          "name": "stdout"
        }
      ]
    },
    {
      "cell_type": "markdown",
      "metadata": {
        "id": "YOrWMEOl3XMA"
      },
      "source": [
        "A partir de 54 componentes (incluido) la varianza es mayor que el 99%. Por tanto deberíamos tomar 54 componentes."
      ]
    },
    {
      "cell_type": "markdown",
      "metadata": {
        "id": "rQfBJTZxXrKt"
      },
      "source": [
        "***"
      ]
    },
    {
      "cell_type": "markdown",
      "metadata": {
        "id": "R02t6x4zXrKu"
      },
      "source": [
        "## Ejercicio adicional\n",
        "Recupera los ficheros de la práctica 3 y repite el análisis hecho para el dataset de los dígitos, pero esta vez utilizando el dataset iris.csv.\n"
      ]
    },
    {
      "cell_type": "code",
      "metadata": {
        "id": "J91BaawH3yC7"
      },
      "source": [
        "import pandas as pd"
      ],
      "execution_count": 27,
      "outputs": []
    },
    {
      "cell_type": "code",
      "metadata": {
        "id": "2C3rL00SXrKv",
        "outputId": "ecea6a37-031d-486f-efb4-6436686fbcbe",
        "colab": {
          "base_uri": "https://localhost:8080/"
        }
      },
      "source": [
        "!wget https://raw.githubusercontent.com/IA1819/Datasets/master/iris.csv -O iris.csv"
      ],
      "execution_count": 26,
      "outputs": [
        {
          "output_type": "stream",
          "text": [
            "--2021-04-05 16:30:09--  https://raw.githubusercontent.com/IA1819/Datasets/master/iris.csv\n",
            "Resolving raw.githubusercontent.com (raw.githubusercontent.com)... 185.199.108.133, 185.199.109.133, 185.199.110.133, ...\n",
            "Connecting to raw.githubusercontent.com (raw.githubusercontent.com)|185.199.108.133|:443... connected.\n",
            "HTTP request sent, awaiting response... 200 OK\n",
            "Length: 4606 (4.5K) [text/plain]\n",
            "Saving to: ‘iris.csv’\n",
            "\n",
            "iris.csv            100%[===================>]   4.50K  --.-KB/s    in 0s      \n",
            "\n",
            "2021-04-05 16:30:09 (20.8 MB/s) - ‘iris.csv’ saved [4606/4606]\n",
            "\n"
          ],
          "name": "stdout"
        }
      ]
    },
    {
      "cell_type": "code",
      "metadata": {
        "id": "c-00URg93sPw"
      },
      "source": [
        "df = pd.read_csv('iris.csv')"
      ],
      "execution_count": 28,
      "outputs": []
    },
    {
      "cell_type": "code",
      "metadata": {
        "id": "JCREMB323sFz"
      },
      "source": [
        "df_noclass = df.iloc[:,:-1]"
      ],
      "execution_count": 29,
      "outputs": []
    },
    {
      "cell_type": "code",
      "metadata": {
        "id": "5luVSAxS3sCf"
      },
      "source": [
        "data = scale(df_noclass)"
      ],
      "execution_count": 30,
      "outputs": []
    },
    {
      "cell_type": "code",
      "metadata": {
        "id": "js4PySR83r_X",
        "outputId": "5df47efb-7967-4e6a-b51d-a583a2f3d32e",
        "colab": {
          "base_uri": "https://localhost:8080/"
        }
      },
      "source": [
        "n_instancias, n_descriptores = data.shape\n",
        "print(\"n_instancias %d, n_descriptores %d\" % (n_instancias, n_descriptores))"
      ],
      "execution_count": 31,
      "outputs": [
        {
          "output_type": "stream",
          "text": [
            "n_instancias 150, n_descriptores 4\n"
          ],
          "name": "stdout"
        }
      ]
    },
    {
      "cell_type": "code",
      "metadata": {
        "id": "kKDgrjKt3r7n"
      },
      "source": [
        "estimator = KMeans(n_clusters=3)"
      ],
      "execution_count": 32,
      "outputs": []
    },
    {
      "cell_type": "code",
      "metadata": {
        "id": "py7_0VV73r4b",
        "outputId": "c61694fa-89a2-4df1-ac9c-1659d0ccd428",
        "colab": {
          "base_uri": "https://localhost:8080/"
        }
      },
      "source": [
        "%%time \n",
        "estimator.fit(data)"
      ],
      "execution_count": 33,
      "outputs": [
        {
          "output_type": "stream",
          "text": [
            "CPU times: user 34.4 ms, sys: 0 ns, total: 34.4 ms\n",
            "Wall time: 37.5 ms\n"
          ],
          "name": "stdout"
        },
        {
          "output_type": "execute_result",
          "data": {
            "text/plain": [
              "KMeans(algorithm='auto', copy_x=True, init='k-means++', max_iter=300,\n",
              "       n_clusters=3, n_init=10, n_jobs=None, precompute_distances='auto',\n",
              "       random_state=None, tol=0.0001, verbose=0)"
            ]
          },
          "metadata": {
            "tags": []
          },
          "execution_count": 33
        }
      ]
    },
    {
      "cell_type": "code",
      "metadata": {
        "id": "9a3fJnj947Kt",
        "outputId": "5e7b4a76-2980-4d06-bc28-3488af334e14",
        "colab": {
          "base_uri": "https://localhost:8080/"
        }
      },
      "source": [
        "%%time \n",
        "pca = PCA(n_components=3).fit(data)\n",
        "data_r = pca.transform(data)\n",
        "estimator = KMeans(n_clusters=3)\n",
        "estimator.fit(data_r)"
      ],
      "execution_count": 36,
      "outputs": [
        {
          "output_type": "stream",
          "text": [
            "CPU times: user 31.3 ms, sys: 463 µs, total: 31.8 ms\n",
            "Wall time: 33.2 ms\n"
          ],
          "name": "stdout"
        }
      ]
    },
    {
      "cell_type": "markdown",
      "metadata": {
        "id": "-4nEyZu86tEk"
      },
      "source": [
        "Con PCA ha tardado un total de 31.8ms y sin PCA un total de 34.4ms. Una mejora con PCA del 7.55%."
      ]
    },
    {
      "cell_type": "code",
      "metadata": {
        "id": "OSDbOspW48RM",
        "outputId": "7bd50037-e4e8-44d1-94fd-7e00e417eafc",
        "colab": {
          "base_uri": "https://localhost:8080/",
          "height": 330
        }
      },
      "source": [
        "drawVarianza(data)"
      ],
      "execution_count": 37,
      "outputs": [
        {
          "output_type": "stream",
          "text": [
            "Varianza total (1 componentes): 72.77045209380132\n",
            "Varianza total (2 componentes): 95.80097536148196\n",
            "Varianza total (3 componentes): 99.48480731910936\n"
          ],
          "name": "stdout"
        },
        {
          "output_type": "display_data",
          "data": {
            "image/png": "[encoded data removed]",
            "text/plain": [
              "<Figure size 432x288 with 1 Axes>"
            ]
          },
          "metadata": {
            "tags": [],
            "needs_background": "light"
          }
        }
      ]
    },
    {
      "cell_type": "markdown",
      "metadata": {
        "id": "v9gPKTbc7OcH"
      },
      "source": [
        "A partir de 3 componentes tenemos más del 99% de varianza total."
      ]
    },
    {
      "cell_type": "markdown",
      "metadata": {
        "id": "2I2SsoPzXszp"
      },
      "source": [
        "## Entrega\n",
        "\n",
        "Recuerda guardar tus cambios en tu repositorio utilizando la opción \"Save a copy in GitHub...\" del menú File."
      ]
    }
  ]
}