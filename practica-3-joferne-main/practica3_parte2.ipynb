{
  "nbformat": 4,
  "nbformat_minor": 0,
  "metadata": {
    "colab": {
      "name": "practica3_parte2.ipynb",
      "provenance": [],
      "include_colab_link": true
    },
    "kernelspec": {
      "display_name": "Python 3",
      "language": "python",
      "name": "python3"
    },
    "language_info": {
      "codemirror_mode": {
        "name": "ipython",
        "version": 3
      },
      "file_extension": ".py",
      "mimetype": "text/x-python",
      "name": "python",
      "nbconvert_exporter": "python",
      "pygments_lexer": "ipython3",
      "version": "3.6.8"
    }
  },
  "cells": [
    {
      "cell_type": "markdown",
      "metadata": {
        "id": "view-in-github",
        "colab_type": "text"
      },
      "source": [
        "<a href=\"https://colab.research.google.com/github/IA2021UR/practica-3-joferne/blob/main/practica3_parte2.ipynb\" target=\"_parent\"><img src=\"https://colab.research.google.com/assets/colab-badge.svg\" alt=\"Open In Colab\"/></a>"
      ]
    },
    {
      "cell_type": "markdown",
      "metadata": {
        "id": "TXZ7ATvTnKYe"
      },
      "source": [
        "# Práctica 3 Parte II. Clustering con sklearn"
      ]
    },
    {
      "cell_type": "markdown",
      "metadata": {
        "id": "k0fhzncanKYj"
      },
      "source": [
        "Para la segunda parte obligatoria de esta práctica vamos a utilizar la librería [sklearn](http://scikit-learn.org/stable/) para trabajar con distintos algoritmos de clustering. La librería sklearn es una librería de Python que proporciona una gran cantidad de algoritmos de aprendizaje automático. \n",
        "\n",
        "Como en el notebook de la parte I debes ir leyendo las explicaciones, ejecutando el código que se te proporciona, y respondiendo a los ejercicios planteados. \n",
        "\n",
        "Recuerda que para que los cambios se vayan guardando en tu repositorio de GitHub tienes que utilizar la opción *Save a Copy in GitHub...* del menú *File*."
      ]
    },
    {
      "cell_type": "markdown",
      "metadata": {
        "id": "7yv07a6HnKYm"
      },
      "source": [
        "Para nuestras pruebas con la libreria sklearn usaremos el fichero iris.csv. Este dataset es uno de los más utilizados en aprendizaje automático. Se trata de\n",
        "una lista con 150 vectores de datos, cada uno de ellos con cuatro medidas numéricas sobre longitud y anchura de sépalo y pétalo de la flor de la\n",
        "planta iris. Cada vector tiene asignado una de las tres posibles clasificaciones:\n",
        "setosa, versiclor o virgínica. Puedes encontrar información sobre dicho dataset en  https://archive.ics.uci.edu/ml/datasets/Iris. \n",
        "\n",
        "Comenzamos descargando el dataset. "
      ]
    },
    {
      "cell_type": "code",
      "metadata": {
        "id": "j8ksi4w2oZ2C",
        "colab": {
          "base_uri": "https://localhost:8080/"
        },
        "outputId": "c5689066-5934-416b-81c0-a484802a5532"
      },
      "source": [
        "!wget https://raw.githubusercontent.com/IA1819/Datasets/master/iris.csv -O iris.csv"
      ],
      "execution_count": 1,
      "outputs": [
        {
          "output_type": "stream",
          "text": [
            "--2021-03-18 15:35:34--  https://raw.githubusercontent.com/IA1819/Datasets/master/iris.csv\n",
            "Resolving raw.githubusercontent.com (raw.githubusercontent.com)... 185.199.111.133, 185.199.109.133, 185.199.110.133, ...\n",
            "Connecting to raw.githubusercontent.com (raw.githubusercontent.com)|185.199.111.133|:443... connected.\n",
            "HTTP request sent, awaiting response... 200 OK\n",
            "Length: 4606 (4.5K) [text/plain]\n",
            "Saving to: ‘iris.csv’\n",
            "\n",
            "iris.csv            100%[===================>]   4.50K  --.-KB/s    in 0s      \n",
            "\n",
            "2021-03-18 15:35:34 (55.9 MB/s) - ‘iris.csv’ saved [4606/4606]\n",
            "\n"
          ],
          "name": "stdout"
        }
      ]
    },
    {
      "cell_type": "markdown",
      "metadata": {
        "id": "Q862KluWnKYr"
      },
      "source": [
        "Para cargar este dataset vamos a utilizar la librería pandas."
      ]
    },
    {
      "cell_type": "code",
      "metadata": {
        "id": "GDJ8lOFMnKYt"
      },
      "source": [
        "import pandas as pd"
      ],
      "execution_count": 2,
      "outputs": []
    },
    {
      "cell_type": "markdown",
      "metadata": {
        "collapsed": true,
        "id": "6m6pqTANnKY1"
      },
      "source": [
        "Utilizando el siguiente comando cargamos los datos a partir del fichero iris.csv y los almacenamos en la variable df. "
      ]
    },
    {
      "cell_type": "code",
      "metadata": {
        "id": "WlC7V89YnKY3"
      },
      "source": [
        "df = pd.read_csv('iris.csv')"
      ],
      "execution_count": 3,
      "outputs": []
    },
    {
      "cell_type": "markdown",
      "metadata": {
        "id": "rdzxlYLDnKY-"
      },
      "source": [
        "***\n",
        "**Pregunta**\n",
        "Muestra las 8 primeras filas que se obtienen al evaluar df. Para ello escribe el comando a ejecutar en la siguiente celda (podemos utilizar la sintaxis de slices para obtener filas de un DataFrame)."
      ]
    },
    {
      "cell_type": "code",
      "metadata": {
        "id": "dYgsMgwwRp-K",
        "colab": {
          "base_uri": "https://localhost:8080/",
          "height": 297
        },
        "outputId": "1fc76ef1-4d14-443a-fb7c-9bf3813b9708"
      },
      "source": [
        "df.head(8)"
      ],
      "execution_count": 4,
      "outputs": [
        {
          "output_type": "execute_result",
          "data": {
            "text/html": [
              "<div>\n",
              "<style scoped>\n",
              "    .dataframe tbody tr th:only-of-type {\n",
              "        vertical-align: middle;\n",
              "    }\n",
              "\n",
              "    .dataframe tbody tr th {\n",
              "        vertical-align: top;\n",
              "    }\n",
              "\n",
              "    .dataframe thead th {\n",
              "        text-align: right;\n",
              "    }\n",
              "</style>\n",
              "<table border=\"1\" class=\"dataframe\">\n",
              "  <thead>\n",
              "    <tr style=\"text-align: right;\">\n",
              "      <th></th>\n",
              "      <th>sepal_length</th>\n",
              "      <th>sepal_width</th>\n",
              "      <th>petal_length</th>\n",
              "      <th>petal_width</th>\n",
              "      <th>class</th>\n",
              "    </tr>\n",
              "  </thead>\n",
              "  <tbody>\n",
              "    <tr>\n",
              "      <th>0</th>\n",
              "      <td>5.1</td>\n",
              "      <td>3.5</td>\n",
              "      <td>1.4</td>\n",
              "      <td>0.2</td>\n",
              "      <td>Iris-setosa</td>\n",
              "    </tr>\n",
              "    <tr>\n",
              "      <th>1</th>\n",
              "      <td>4.9</td>\n",
              "      <td>3.0</td>\n",
              "      <td>1.4</td>\n",
              "      <td>0.2</td>\n",
              "      <td>Iris-setosa</td>\n",
              "    </tr>\n",
              "    <tr>\n",
              "      <th>2</th>\n",
              "      <td>4.7</td>\n",
              "      <td>3.2</td>\n",
              "      <td>1.3</td>\n",
              "      <td>0.2</td>\n",
              "      <td>Iris-setosa</td>\n",
              "    </tr>\n",
              "    <tr>\n",
              "      <th>3</th>\n",
              "      <td>4.6</td>\n",
              "      <td>3.1</td>\n",
              "      <td>1.5</td>\n",
              "      <td>0.2</td>\n",
              "      <td>Iris-setosa</td>\n",
              "    </tr>\n",
              "    <tr>\n",
              "      <th>4</th>\n",
              "      <td>5.0</td>\n",
              "      <td>3.6</td>\n",
              "      <td>1.4</td>\n",
              "      <td>0.2</td>\n",
              "      <td>Iris-setosa</td>\n",
              "    </tr>\n",
              "    <tr>\n",
              "      <th>5</th>\n",
              "      <td>5.4</td>\n",
              "      <td>3.9</td>\n",
              "      <td>1.7</td>\n",
              "      <td>0.4</td>\n",
              "      <td>Iris-setosa</td>\n",
              "    </tr>\n",
              "    <tr>\n",
              "      <th>6</th>\n",
              "      <td>4.6</td>\n",
              "      <td>3.4</td>\n",
              "      <td>1.4</td>\n",
              "      <td>0.3</td>\n",
              "      <td>Iris-setosa</td>\n",
              "    </tr>\n",
              "    <tr>\n",
              "      <th>7</th>\n",
              "      <td>5.0</td>\n",
              "      <td>3.4</td>\n",
              "      <td>1.5</td>\n",
              "      <td>0.2</td>\n",
              "      <td>Iris-setosa</td>\n",
              "    </tr>\n",
              "  </tbody>\n",
              "</table>\n",
              "</div>"
            ],
            "text/plain": [
              "   sepal_length  sepal_width  petal_length  petal_width        class\n",
              "0           5.1          3.5           1.4          0.2  Iris-setosa\n",
              "1           4.9          3.0           1.4          0.2  Iris-setosa\n",
              "2           4.7          3.2           1.3          0.2  Iris-setosa\n",
              "3           4.6          3.1           1.5          0.2  Iris-setosa\n",
              "4           5.0          3.6           1.4          0.2  Iris-setosa\n",
              "5           5.4          3.9           1.7          0.4  Iris-setosa\n",
              "6           4.6          3.4           1.4          0.3  Iris-setosa\n",
              "7           5.0          3.4           1.5          0.2  Iris-setosa"
            ]
          },
          "metadata": {
            "tags": []
          },
          "execution_count": 4
        }
      ]
    },
    {
      "cell_type": "markdown",
      "metadata": {
        "id": "2-D1n28lnKZG"
      },
      "source": [
        "***\n",
        "\n",
        "Para los algoritmos de clustering, la ultima columna de df no es necesaria ya que no vamos a utilizar la clase. Para eliminar esta columna usaremos el siguiente comando."
      ]
    },
    {
      "cell_type": "code",
      "metadata": {
        "id": "QteGvFV3nKZI"
      },
      "source": [
        "df_noclass = df.iloc[:,:-1]"
      ],
      "execution_count": 5,
      "outputs": []
    },
    {
      "cell_type": "markdown",
      "metadata": {
        "id": "WsYeEv2anKZO"
      },
      "source": [
        "df es un DataFrame, pero nosotros estamos interesados en almacenar los valores del dataset como una lista de listas que es el formato esperado por la libreria sklearn. Para hacer esta conversion usamos el siguiente comando."
      ]
    },
    {
      "cell_type": "code",
      "metadata": {
        "id": "9dJ535BFnKZS"
      },
      "source": [
        "irisValues = df_noclass.values"
      ],
      "execution_count": 6,
      "outputs": []
    },
    {
      "cell_type": "markdown",
      "metadata": {
        "id": "nq5fJqzinKZW"
      },
      "source": [
        "## K-means"
      ]
    },
    {
      "cell_type": "markdown",
      "metadata": {
        "id": "sp_yjhRHnKZZ"
      },
      "source": [
        "Veámos como utilizar el algoritmo de [K-means de la librería sklearn](https://scikit-learn.org/stable/modules/generated/sklearn.cluster.KMeans.html#sklearn.cluster.KMeans). Lo primero es cargar dicha funcionalidad. Todos los algoritmos de clustering disponibles en la librería sklearn se encuentran en el módulo [sklearn.cluster](https://scikit-learn.org/stable/modules/clustering.html). Además todos los algoritmos heredan de [BaseEstimator](https://scikit-learn.org/stable/modules/generated/sklearn.base.BaseEstimator.html), lo que nos permitirá intercambiar los algoritmos de manera sencilla."
      ]
    },
    {
      "cell_type": "code",
      "metadata": {
        "id": "MXv98_2CnKZc"
      },
      "source": [
        "from sklearn.cluster import KMeans"
      ],
      "execution_count": 7,
      "outputs": []
    },
    {
      "cell_type": "markdown",
      "metadata": {
        "id": "agjHZFK9nKZk"
      },
      "source": [
        "A continuación creamos un estimador usando dicha funcionalidad e indicándole el número de clusters a utilizar. Daros cuenta de que en el siguiente comando no indicamos el dataset, sino que simplemente iniciamos el algoritmo K-means, esto construye un objeto de la clase KMeans. Veremos que esta manera es la habitual para los algoritmos de clustering, y esto nos permitirá cambiar de algoritmo de manera sencilla."
      ]
    },
    {
      "cell_type": "code",
      "metadata": {
        "id": "kz_LeNuWnKZn"
      },
      "source": [
        "estimatorKmeans = KMeans(n_clusters=3)"
      ],
      "execution_count": 8,
      "outputs": []
    },
    {
      "cell_type": "markdown",
      "metadata": {
        "id": "5_ec49QdnKZr"
      },
      "source": [
        "**Respuesta**\n",
        "\n",
        "*   n_clusters: por defecto se asignan 8 si no se especifica.\n",
        "*   n_init: número de veces (por defecto 10) que se ejecutará el algoritmo con diferentes centroides.\n",
        "*   max_iter: máximo de iteraciones del algoritmo por ejecución (100 por defecto).\n",
        "*   tol: error cometido según la norma de Frobenius (1^(-4)).\n",
        "*   precompute_distances: precalcular las distancias. Necesita más memoria. se calcula siempre que n_samples * n_clusters < 12 millones, aunque se puede elegir que nunca o siempre se precalculen.\n",
        "*   verbose: verbosidad (0 por defecto).\n",
        "*   random_state: genera un número aleaatorio para inicializar los centroides. Por defecto no se genera un número aleatorio.\n",
        "*   copy_x: se utiliza cuando el precálculo de distancias es más preciso para centrar primero los datos. Por defecto sí se hace una copia, incluso aunque se le indique False en ciertos casos también la hace.\n",
        "*   n_jobs: indica el número de subprocesos OpenMP que se utilizarán para el cálculo. Por defecto se le asigna ninguno.\n",
        "*   algorithm: indica el algoritmo a utilizar en el proceso. Asigna un algoritmo automático por defecto.\n",
        "\n",
        "\n",
        "\n",
        "***"
      ]
    },
    {
      "cell_type": "markdown",
      "metadata": {
        "id": "3MTRhvyqnKZu"
      },
      "source": [
        "A continuación vamos a calcular los clusters. Para ello utilizamos el método fit de la clase KMeans."
      ]
    },
    {
      "cell_type": "code",
      "metadata": {
        "id": "lcCWyT3ZnKZw",
        "colab": {
          "base_uri": "https://localhost:8080/"
        },
        "outputId": "cc7a6786-3b22-4ed3-fb70-2fefec64a49e"
      },
      "source": [
        "estimatorKmeans.fit(irisValues)"
      ],
      "execution_count": 9,
      "outputs": [
        {
          "output_type": "execute_result",
          "data": {
            "text/plain": [
              "KMeans(algorithm='auto', copy_x=True, init='k-means++', max_iter=300,\n",
              "       n_clusters=3, n_init=10, n_jobs=None, precompute_distances='auto',\n",
              "       random_state=None, tol=0.0001, verbose=0)"
            ]
          },
          "metadata": {
            "tags": []
          },
          "execution_count": 9
        }
      ]
    },
    {
      "cell_type": "markdown",
      "metadata": {
        "id": "PQ0fI7oKnKZ0"
      },
      "source": [
        "Como se puede observar el comando anterior nos devuelve la instancia de la clase KMeans, para acceder a dicha información tenemos que usar el atributo labels_ de la clase KMeans."
      ]
    },
    {
      "cell_type": "code",
      "metadata": {
        "id": "u6mEcm_OnKZ3",
        "colab": {
          "base_uri": "https://localhost:8080/"
        },
        "outputId": "439290e0-5ea7-485a-c8ed-086075269886"
      },
      "source": [
        "estimatorKmeans.labels_"
      ],
      "execution_count": 10,
      "outputs": [
        {
          "output_type": "execute_result",
          "data": {
            "text/plain": [
              "array([1, 1, 1, 1, 1, 1, 1, 1, 1, 1, 1, 1, 1, 1, 1, 1, 1, 1, 1, 1, 1, 1,\n",
              "       1, 1, 1, 1, 1, 1, 1, 1, 1, 1, 1, 1, 1, 1, 1, 1, 1, 1, 1, 1, 1, 1,\n",
              "       1, 1, 1, 1, 1, 1, 0, 0, 2, 0, 0, 0, 0, 0, 0, 0, 0, 0, 0, 0, 0, 0,\n",
              "       0, 0, 0, 0, 0, 0, 0, 0, 0, 0, 0, 2, 0, 0, 0, 0, 0, 0, 0, 0, 0, 0,\n",
              "       0, 0, 0, 0, 0, 0, 0, 0, 0, 0, 0, 0, 2, 0, 2, 2, 2, 2, 0, 2, 2, 2,\n",
              "       2, 2, 2, 0, 0, 2, 2, 2, 2, 0, 2, 0, 2, 0, 2, 2, 0, 0, 2, 2, 2, 2,\n",
              "       2, 0, 2, 2, 2, 2, 0, 2, 2, 2, 0, 2, 2, 2, 0, 2, 2, 0], dtype=int32)"
            ]
          },
          "metadata": {
            "tags": []
          },
          "execution_count": 10
        }
      ]
    },
    {
      "cell_type": "markdown",
      "metadata": {
        "id": "LXpZmMsznKZ-"
      },
      "source": [
        "***\n",
        "**Pregunta**\n",
        "\n",
        "Ejecuta uno o varios comandos para averiguar a qué cluster se han asignado las instancias 5, 37 y 90 del dataset."
      ]
    },
    {
      "cell_type": "code",
      "metadata": {
        "id": "OAhsi6xxnKZ_",
        "colab": {
          "base_uri": "https://localhost:8080/"
        },
        "outputId": "95167aa4-85b5-4d74-e1bd-dd09b2f2f798"
      },
      "source": [
        "print(estimatorKmeans.labels_[4],estimatorKmeans.labels_[36],estimatorKmeans.labels_[89])"
      ],
      "execution_count": 11,
      "outputs": [
        {
          "output_type": "stream",
          "text": [
            "1 1 0\n"
          ],
          "name": "stdout"
        }
      ]
    },
    {
      "cell_type": "markdown",
      "metadata": {
        "id": "ofkLOLEVnKaC"
      },
      "source": [
        "***"
      ]
    },
    {
      "cell_type": "markdown",
      "metadata": {
        "id": "eU39CuUNnKaG"
      },
      "source": [
        "Otro de los atributos útiles que nos proporciona la clase KMeans es inertia_ que nos devuelve el valor de la función de coste."
      ]
    },
    {
      "cell_type": "markdown",
      "metadata": {
        "id": "pWDag_U6nKaJ"
      },
      "source": [
        "***\n",
        "**Pregunta**\n",
        "\n",
        "¿Qué valor tiene la función de coste en nuestro caso?"
      ]
    },
    {
      "cell_type": "code",
      "metadata": {
        "id": "Xtdu5pOFnKaL",
        "colab": {
          "base_uri": "https://localhost:8080/"
        },
        "outputId": "bb16c401-820e-411c-e8f9-23b7a1fe7a38"
      },
      "source": [
        "estimatorKmeans.inertia_"
      ],
      "execution_count": 12,
      "outputs": [
        {
          "output_type": "execute_result",
          "data": {
            "text/plain": [
              "78.94084142614602"
            ]
          },
          "metadata": {
            "tags": []
          },
          "execution_count": 12
        }
      ]
    },
    {
      "cell_type": "markdown",
      "metadata": {
        "id": "fxer4MpwnKaT"
      },
      "source": [
        "***"
      ]
    },
    {
      "cell_type": "markdown",
      "metadata": {
        "id": "wfirzOb-nKaT"
      },
      "source": [
        "El siguiente código permite generar una imagen con la función coste para distintos valores de k, de este modo podemos elegir el valor de k basándonos en el método del codo."
      ]
    },
    {
      "cell_type": "code",
      "metadata": {
        "id": "JCQotb6enKaW"
      },
      "source": [
        "import matplotlib.pyplot as plt\n",
        "%matplotlib inline\n",
        "\n",
        "def drawElbow(maxClusters,data):\n",
        "    kmeans = [KMeans(n_clusters=k).fit(data) for k in range(1,maxClusters)]\n",
        "    costFunction = [estimator.inertia_ for estimator in kmeans]\n",
        "    plt.plot(costFunction)\n",
        "    plt.title(\"Cost function\")\n",
        "    plt.show()"
      ],
      "execution_count": 13,
      "outputs": []
    },
    {
      "cell_type": "code",
      "metadata": {
        "id": "dljjNz_-nKaa",
        "colab": {
          "base_uri": "https://localhost:8080/",
          "height": 281
        },
        "outputId": "e4546442-c4c0-4a4f-e7ed-731d16a84bb6"
      },
      "source": [
        "drawElbow(15,irisValues)"
      ],
      "execution_count": 14,
      "outputs": [
        {
          "output_type": "display_data",
          "data": {
            "image/png": "[encoded data removed]",
            "text/plain": [
              "<Figure size 432x288 with 1 Axes>"
            ]
          },
          "metadata": {
            "tags": [],
            "needs_background": "light"
          }
        }
      ]
    },
    {
      "cell_type": "markdown",
      "metadata": {
        "id": "4idgmeBQnKal"
      },
      "source": [
        "*** \n",
        "**Pregunta**\n",
        "\n",
        "Teniendo en cuenta el gráfico anterior. ¿Qué número de clústeres consideras adecuado para este dataset?\n",
        "\n",
        "**Respuesta**\n",
        "\n",
        "Observando en la gráfica cuándo se aplana la curva, diría que entre 2 y 4 clústers lo consideraría adecuado (en concreto 3).\n",
        "***\n"
      ]
    },
    {
      "cell_type": "markdown",
      "metadata": {
        "id": "W1BTMelWnKar"
      },
      "source": [
        "La siguiente función toma tres argumentos: el resultado devuelto al llamar al atributo labels_ de un objeto KMeans, el dataset original (en nuestro caso df) y una clase (en nuestro ejemplo puede ser Iris-setosa, Iris-versicolor o Iris-virginica); y devuelva una lista con el número de instancias de esa clase para cada clúster. "
      ]
    },
    {
      "cell_type": "code",
      "metadata": {
        "id": "SQ1dJeIBnKat"
      },
      "source": [
        "import numpy as np\n",
        "\n",
        "def valida_iris(labels,dataset,clase):\n",
        "    values = dataset.values\n",
        "    res = np.zeros(3).astype(\"uint8\")\n",
        "    for i,instance in enumerate(values):\n",
        "        if(instance[4]==clase):\n",
        "            res[labels[i]]+=1\n",
        "    return res"
      ],
      "execution_count": 15,
      "outputs": []
    },
    {
      "cell_type": "markdown",
      "metadata": {
        "id": "ThtfuMPnnKaz"
      },
      "source": [
        "*** \n",
        "**Pregunta**\n",
        "\n",
        "¿Qué resultados se obtienen para cada clase? A continuación se muestra el comando para la clase Iris-setosa. Proporciona en las celdas disponibles las llamadas a la función con las clases que quedan.\n"
      ]
    },
    {
      "cell_type": "code",
      "metadata": {
        "id": "TvsVRHIMnKa1",
        "colab": {
          "base_uri": "https://localhost:8080/"
        },
        "outputId": "d4dd63fb-a22f-4fee-d750-c472b55ae5b2"
      },
      "source": [
        "valida_iris(estimatorKmeans.labels_,df,'Iris-setosa')"
      ],
      "execution_count": 16,
      "outputs": [
        {
          "output_type": "execute_result",
          "data": {
            "text/plain": [
              "array([ 0, 50,  0], dtype=uint8)"
            ]
          },
          "metadata": {
            "tags": []
          },
          "execution_count": 16
        }
      ]
    },
    {
      "cell_type": "code",
      "metadata": {
        "id": "aZe_IfQ3nKa3",
        "colab": {
          "base_uri": "https://localhost:8080/"
        },
        "outputId": "c1a96b3b-2fff-46c3-bf04-21543ad1e3c2"
      },
      "source": [
        "valida_iris(estimatorKmeans.labels_,df,'Iris-versicolor')"
      ],
      "execution_count": 17,
      "outputs": [
        {
          "output_type": "execute_result",
          "data": {
            "text/plain": [
              "array([48,  0,  2], dtype=uint8)"
            ]
          },
          "metadata": {
            "tags": []
          },
          "execution_count": 17
        }
      ]
    },
    {
      "cell_type": "code",
      "metadata": {
        "id": "cb21UmLHnKbD",
        "colab": {
          "base_uri": "https://localhost:8080/"
        },
        "outputId": "7b326d51-1f4d-4e8e-bf8e-d51b78d423ba"
      },
      "source": [
        "valida_iris(estimatorKmeans.labels_,df,'Iris-virginica')"
      ],
      "execution_count": 18,
      "outputs": [
        {
          "output_type": "execute_result",
          "data": {
            "text/plain": [
              "array([14,  0, 36], dtype=uint8)"
            ]
          },
          "metadata": {
            "tags": []
          },
          "execution_count": 18
        }
      ]
    },
    {
      "cell_type": "markdown",
      "metadata": {
        "id": "MLjQDlhYnKbL"
      },
      "source": [
        "\n",
        "***"
      ]
    },
    {
      "cell_type": "markdown",
      "metadata": {
        "id": "YLUyUpRknKbN"
      },
      "source": [
        "## Mean shift"
      ]
    },
    {
      "cell_type": "markdown",
      "metadata": {
        "id": "1ZzYHVAUnKbN"
      },
      "source": [
        "Veámos ahora como utilizar el algoritmo de [Mean Shift](https://scikit-learn.org/stable/modules/generated/sklearn.cluster.MeanShift.html#sklearn.cluster.MeanShift). De nuevo, lo primero es cargar dicha funcionalidad."
      ]
    },
    {
      "cell_type": "code",
      "metadata": {
        "id": "hL2HlKvWnKbO"
      },
      "source": [
        "from sklearn.cluster import MeanShift"
      ],
      "execution_count": 19,
      "outputs": []
    },
    {
      "cell_type": "markdown",
      "metadata": {
        "id": "cyS2n6FQnKbT"
      },
      "source": [
        "A continuación creamos un estimador usando dicha funcionalidad, y a continuación calculamos los clusters."
      ]
    },
    {
      "cell_type": "code",
      "metadata": {
        "id": "NMmFWGfDnKbT",
        "colab": {
          "base_uri": "https://localhost:8080/"
        },
        "outputId": "e28b4bbe-cb41-4ef1-f5a1-ed9af9dc29f3"
      },
      "source": [
        "estimatorMeanShift = MeanShift()\n",
        "estimatorMeanShift.fit(irisValues)"
      ],
      "execution_count": 20,
      "outputs": [
        {
          "output_type": "execute_result",
          "data": {
            "text/plain": [
              "MeanShift(bandwidth=None, bin_seeding=False, cluster_all=True, max_iter=300,\n",
              "          min_bin_freq=1, n_jobs=None, seeds=None)"
            ]
          },
          "metadata": {
            "tags": []
          },
          "execution_count": 20
        }
      ]
    },
    {
      "cell_type": "markdown",
      "metadata": {
        "id": "TgSSHY5wnKbW"
      },
      "source": [
        "Veremos que esto nos devuelve la instancia de la clase MeanShift, para acceder a dicha información tenemos que usar el atributo labels_."
      ]
    },
    {
      "cell_type": "code",
      "metadata": {
        "id": "7vsM68kZnKbW",
        "colab": {
          "base_uri": "https://localhost:8080/"
        },
        "outputId": "983a6c8a-9c19-47ea-caec-7d8f21492ca5"
      },
      "source": [
        "estimatorMeanShift.labels_"
      ],
      "execution_count": 21,
      "outputs": [
        {
          "output_type": "execute_result",
          "data": {
            "text/plain": [
              "array([1, 1, 1, 1, 1, 1, 1, 1, 1, 1, 1, 1, 1, 1, 1, 1, 1, 1, 1, 1, 1, 1,\n",
              "       1, 1, 1, 1, 1, 1, 1, 1, 1, 1, 1, 1, 1, 1, 1, 1, 1, 1, 1, 1, 1, 1,\n",
              "       1, 1, 1, 1, 1, 1, 0, 0, 0, 0, 0, 0, 0, 0, 0, 0, 0, 0, 0, 0, 0, 0,\n",
              "       0, 0, 0, 0, 0, 0, 0, 0, 0, 0, 0, 0, 0, 0, 0, 0, 0, 0, 0, 0, 0, 0,\n",
              "       0, 0, 0, 0, 0, 0, 0, 0, 0, 0, 1, 0, 0, 0, 0, 0, 0, 0, 0, 0, 0, 0,\n",
              "       0, 0, 0, 0, 0, 0, 0, 0, 0, 0, 0, 0, 0, 0, 0, 0, 0, 0, 0, 0, 0, 0,\n",
              "       0, 0, 0, 0, 0, 0, 0, 0, 0, 0, 0, 0, 0, 0, 0, 0, 0, 0])"
            ]
          },
          "metadata": {
            "tags": []
          },
          "execution_count": 21
        }
      ]
    },
    {
      "cell_type": "markdown",
      "metadata": {
        "id": "28xExrTEnKba"
      },
      "source": [
        "*** \n",
        "**Pregunta**\n",
        "\n",
        "¿Cuántos clusters sugiere el método de Mean Shift para el dataset de iris?\n",
        "\n",
        "**Respuesta**\n",
        "\n",
        "Esta vez simplemente dos clústers.\n",
        "\n",
        "***"
      ]
    },
    {
      "cell_type": "markdown",
      "metadata": {
        "id": "LojrzLhAnKbb"
      },
      "source": [
        "*** \n",
        "**Pregunta**\n",
        "\n",
        "Utilizando la función valida_iris, ¿qué resultados se obtienen para cada clase utilizando Mean Shift?"
      ]
    },
    {
      "cell_type": "code",
      "metadata": {
        "id": "duuaVJadnKbe",
        "colab": {
          "base_uri": "https://localhost:8080/"
        },
        "outputId": "26390eed-87d4-4884-8e40-305ac768d80d"
      },
      "source": [
        "valida_iris(estimatorMeanShift.labels_,df,'Iris-setosa')"
      ],
      "execution_count": 22,
      "outputs": [
        {
          "output_type": "execute_result",
          "data": {
            "text/plain": [
              "array([ 0, 50,  0], dtype=uint8)"
            ]
          },
          "metadata": {
            "tags": []
          },
          "execution_count": 22
        }
      ]
    },
    {
      "cell_type": "code",
      "metadata": {
        "id": "TiEmbnuvnKbj",
        "colab": {
          "base_uri": "https://localhost:8080/"
        },
        "outputId": "5c44ed16-05a8-4bcf-9093-3fc426e8c954"
      },
      "source": [
        "valida_iris(estimatorMeanShift.labels_,df,'Iris-versicolor')"
      ],
      "execution_count": 23,
      "outputs": [
        {
          "output_type": "execute_result",
          "data": {
            "text/plain": [
              "array([49,  1,  0], dtype=uint8)"
            ]
          },
          "metadata": {
            "tags": []
          },
          "execution_count": 23
        }
      ]
    },
    {
      "cell_type": "code",
      "metadata": {
        "id": "dlZIiXhMnKbl",
        "colab": {
          "base_uri": "https://localhost:8080/"
        },
        "outputId": "1845920a-5f89-4cc8-ea73-f48069fb2306"
      },
      "source": [
        "valida_iris(estimatorMeanShift.labels_,df,'Iris-virginica')"
      ],
      "execution_count": 24,
      "outputs": [
        {
          "output_type": "execute_result",
          "data": {
            "text/plain": [
              "array([50,  0,  0], dtype=uint8)"
            ]
          },
          "metadata": {
            "tags": []
          },
          "execution_count": 24
        }
      ]
    },
    {
      "cell_type": "markdown",
      "metadata": {
        "id": "Iyl3DHjdnKbn"
      },
      "source": [
        "***"
      ]
    },
    {
      "cell_type": "markdown",
      "metadata": {
        "id": "gv52RAV3nKbo"
      },
      "source": [
        "## DBSCAN "
      ]
    },
    {
      "cell_type": "markdown",
      "metadata": {
        "id": "nHLzgWhMnKbp"
      },
      "source": [
        "Repetimos lo mismo para el algoritmo de clustering [DBSCAN](https://scikit-learn.org/stable/modules/generated/sklearn.cluster.DBSCAN.html#sklearn.cluster.DBSCAN)."
      ]
    },
    {
      "cell_type": "markdown",
      "metadata": {
        "id": "RKBPe9nhnKbq"
      },
      "source": [
        "*** \n",
        "**Pregunta**\n",
        "\n",
        "¿Qué hace cada una de las siguientes instrucciones?"
      ]
    },
    {
      "cell_type": "code",
      "metadata": {
        "id": "TvcYA74pnKbr",
        "colab": {
          "base_uri": "https://localhost:8080/"
        },
        "outputId": "2c328237-b9ba-4e76-f5fc-58d3e6cc3162"
      },
      "source": [
        "from sklearn.cluster import DBSCAN\n",
        "\n",
        "estimatorDBSCAN = DBSCAN()\n",
        "estimatorDBSCAN.fit(irisValues)\n",
        "estimatorDBSCAN.labels_"
      ],
      "execution_count": 25,
      "outputs": [
        {
          "output_type": "execute_result",
          "data": {
            "text/plain": [
              "array([ 0,  0,  0,  0,  0,  0,  0,  0,  0,  0,  0,  0,  0,  0,  0,  0,  0,\n",
              "        0,  0,  0,  0,  0,  0,  0,  0,  0,  0,  0,  0,  0,  0,  0,  0,  0,\n",
              "        0,  0,  0,  0,  0,  0,  0, -1,  0,  0,  0,  0,  0,  0,  0,  0,  1,\n",
              "        1,  1,  1,  1,  1,  1, -1,  1,  1, -1,  1,  1,  1,  1,  1,  1,  1,\n",
              "       -1,  1,  1,  1,  1,  1,  1,  1,  1,  1,  1,  1,  1,  1,  1,  1,  1,\n",
              "        1,  1, -1,  1,  1,  1,  1,  1, -1,  1,  1,  1,  1, -1,  1,  1,  1,\n",
              "        1,  1,  1, -1, -1,  1, -1, -1,  1,  1,  1,  1,  1,  1,  1, -1, -1,\n",
              "        1,  1,  1, -1,  1,  1,  1,  1,  1,  1,  1,  1, -1,  1,  1, -1, -1,\n",
              "        1,  1,  1,  1,  1,  1,  1,  1,  1,  1,  1,  1,  1,  1])"
            ]
          },
          "metadata": {
            "tags": []
          },
          "execution_count": 25
        }
      ]
    },
    {
      "cell_type": "markdown",
      "metadata": {
        "id": "fWIs7wIqnKbu"
      },
      "source": [
        "**Respuesta**\n",
        "\n",
        "\n",
        "*   Importamos la librería DBSCAN\n",
        "*   Creamos un estimador usando dicha funcionalidad.\n",
        "*   A continuación calculamos los clusters.\n",
        "*   Utilizamos el atributo .labels_ para observar a qué clúster pertenece cada instancia.\n",
        "\n",
        "***"
      ]
    },
    {
      "cell_type": "markdown",
      "metadata": {
        "id": "Omk708vCnKbw"
      },
      "source": [
        "*** \n",
        "**Pregunta**\n",
        "\n",
        "Consulta la documentación de DBSCAN y responde a las siguientes preguntas. ¿Qué valores toma por defecto DBSCAN para los parámetros epsilon y min_samples? ¿Qué otros parámetros tiene este algoritmo de clustering en sklearn?\n",
        "\n",
        "**Respuesta**\n",
        "\n",
        "eps: indica la distancia máxima a la que se deben encontrar dos muestras para considerarse próximas. Deberá ser lo mínima posible (epsilon --> 0) y toma por defecto eps = 0.5.\n",
        "\n",
        "Otros parámetros:\n",
        "\n",
        "\n",
        "*   min_samples: número de muestras para que un punto se considere central. Por defecto serán 5.\n",
        "*   metric: métrica utilizada en el espacio. Por defecto se tomará la métrica usual o euclídea.\n",
        "*   metric_params: argumentos claves adicinales para la métrica. Por defecto ninguno.\n",
        "*   algorithm: algoritmo que se va a utilizar.\n",
        "*   leaf_size: tamaño de la hoja, afecta en la velocidad y memoria. Por defecto se tomará 30.\n",
        "*   p: posible utilización de la métrica de  Minkowski. Por defecto se toma p = 2 ya que coincide con la euclídea.\n",
        "*   n_jobs: número de trabajos paralelos. Por defecto ninguno.\n",
        "***"
      ]
    },
    {
      "cell_type": "markdown",
      "metadata": {
        "id": "IwpGB-fZnKbx"
      },
      "source": [
        "*** \n",
        "**Pregunta**\n",
        "\n",
        "¿Cuántos clústeres sugiere el método de DBSCAN para el dataset de iris?\n",
        "\n",
        "**Respuesta**\n",
        "\n",
        "Al igual que kMeans nos siere utilizar 3 clústers.\n",
        "\n",
        "***"
      ]
    },
    {
      "cell_type": "markdown",
      "metadata": {
        "collapsed": true,
        "id": "uI1PejSWnKby"
      },
      "source": [
        "*** \n",
        "**Pregunta**\n",
        "\n",
        "Utilizando la función valida_iris, ¿qué resultados se obtienen para cada clase utilizando DBSCAN?\n"
      ]
    },
    {
      "cell_type": "code",
      "metadata": {
        "id": "Nr10cYRKnKbz",
        "colab": {
          "base_uri": "https://localhost:8080/"
        },
        "outputId": "b5ee7292-94df-434e-b568-01ed7ef0e5d1"
      },
      "source": [
        "valida_iris(estimatorDBSCAN.labels_,df,'Iris-setosa')"
      ],
      "execution_count": 26,
      "outputs": [
        {
          "output_type": "execute_result",
          "data": {
            "text/plain": [
              "array([49,  0,  1], dtype=uint8)"
            ]
          },
          "metadata": {
            "tags": []
          },
          "execution_count": 26
        }
      ]
    },
    {
      "cell_type": "code",
      "metadata": {
        "id": "F0Xe1jnUnKb4",
        "colab": {
          "base_uri": "https://localhost:8080/"
        },
        "outputId": "fd2fdb10-5371-4fae-8f26-7b861f020e8c"
      },
      "source": [
        "valida_iris(estimatorDBSCAN.labels_,df,'Iris-versicolor')"
      ],
      "execution_count": 27,
      "outputs": [
        {
          "output_type": "execute_result",
          "data": {
            "text/plain": [
              "array([ 0, 44,  6], dtype=uint8)"
            ]
          },
          "metadata": {
            "tags": []
          },
          "execution_count": 27
        }
      ]
    },
    {
      "cell_type": "code",
      "metadata": {
        "id": "a_d_-e8GnKb6",
        "colab": {
          "base_uri": "https://localhost:8080/"
        },
        "outputId": "707b0a3a-7bd0-4781-95d1-d777a575f522"
      },
      "source": [
        "valida_iris(estimatorDBSCAN.labels_,df,'Iris-virginica')"
      ],
      "execution_count": 28,
      "outputs": [
        {
          "output_type": "execute_result",
          "data": {
            "text/plain": [
              "array([ 0, 40, 10], dtype=uint8)"
            ]
          },
          "metadata": {
            "tags": []
          },
          "execution_count": 28
        }
      ]
    },
    {
      "cell_type": "markdown",
      "metadata": {
        "id": "Zz6BIsnEnKb9"
      },
      "source": [
        "***"
      ]
    },
    {
      "cell_type": "markdown",
      "metadata": {
        "id": "n7-QgXZPnKb9"
      },
      "source": [
        "Guarda el fichero con la opción *Save a Copy in GitHub...* del menú *File*."
      ]
    }
  ]
}