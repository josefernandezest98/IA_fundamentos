{
  "nbformat": 4,
  "nbformat_minor": 0,
  "metadata": {
    "kernelspec": {
      "display_name": "Python 3",
      "language": "python",
      "name": "python3"
    },
    "language_info": {
      "codemirror_mode": {
        "name": "ipython",
        "version": 3
      },
      "file_extension": ".py",
      "mimetype": "text/x-python",
      "name": "python",
      "nbconvert_exporter": "python",
      "pygments_lexer": "ipython3",
      "version": "3.6.7"
    },
    "colab": {
      "name": "practica8_1.ipynb",
      "provenance": [],
      "include_colab_link": true
    }
  },
  "cells": [
    {
      "cell_type": "markdown",
      "metadata": {
        "id": "view-in-github",
        "colab_type": "text"
      },
      "source": [
        "<a href=\"https://colab.research.google.com/github/IA2021UR/practica-8-joferne/blob/main/practica8_1.ipynb\" target=\"_parent\"><img src=\"https://colab.research.google.com/assets/colab-badge.svg\" alt=\"Open In Colab\"/></a>"
      ]
    },
    {
      "cell_type": "markdown",
      "metadata": {
        "id": "u1kqq14EEi7z"
      },
      "source": [
        "**¡¡¡SIN HACER!!!**"
      ]
    },
    {
      "cell_type": "markdown",
      "metadata": {
        "id": "lZhTz0XGELEC"
      },
      "source": [
        "# Práctica 8. Ejercicio adicional 1: Sudoku. Parte II.\n",
        "\n",
        "Este notebook es el menos guiado de la asignatura. El objetivo es combinar todo lo que hemos visto a lo largo del curso para leer un Sudoku y resolverlo. Para ello tendrás que utilizar lo visto en la práctica anterior, y además [un algoritmo para resolver Sudokus](http://norvig.com/sudoku.html). A la hora de leer los dígitos del Sudoku puedes utilizar cualquiera de estas aproximaciones:\n",
        "- Utilizar propiedades de contornos como vimos en la práctica anterior. \n",
        "- [Utilizar la librería pytesseract](https://www.pyimagesearch.com/2020/09/21/opencv-automatic-license-number-plate-recognition-anpr-with-python/). \n",
        "- [Entrenar un modelo basado en el dataset MNIST](https://www.pyimagesearch.com/2020/08/10/opencv-sudoku-solver-and-ocr/)."
      ]
    },
    {
      "cell_type": "code",
      "metadata": {
        "collapsed": true,
        "id": "M3oifvaBELEw"
      },
      "source": [
        ""
      ],
      "execution_count": null,
      "outputs": []
    },
    {
      "cell_type": "markdown",
      "metadata": {
        "id": "iERR96vzELE0"
      },
      "source": [
        "Al finalizar el notebook recuerda guardarlo usando la opción *\"Save in Github...\"*. "
      ]
    }
  ]
}