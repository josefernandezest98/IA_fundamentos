{
  "nbformat": 4,
  "nbformat_minor": 0,
  "metadata": {
    "colab": {
      "name": "practica2.ipynb",
      "provenance": [],
      "include_colab_link": true
    },
    "kernelspec": {
      "display_name": "Python 3",
      "language": "python",
      "name": "python3"
    },
    "language_info": {
      "codemirror_mode": {
        "name": "ipython",
        "version": 3
      },
      "file_extension": ".py",
      "mimetype": "text/x-python",
      "name": "python",
      "nbconvert_exporter": "python",
      "pygments_lexer": "ipython3",
      "version": "3.6.7"
    }
  },
  "cells": [
    {
      "cell_type": "markdown",
      "metadata": {
        "id": "view-in-github",
        "colab_type": "text"
      },
      "source": [
        "<a href=\"https://colab.research.google.com/github/IA2021UR/practica-2-joferne/blob/main/practica2.ipynb\" target=\"_parent\"><img src=\"https://colab.research.google.com/assets/colab-badge.svg\" alt=\"Open In Colab\"/></a>"
      ]
    },
    {
      "cell_type": "markdown",
      "metadata": {
        "id": "OgLp1Gtc1s2k"
      },
      "source": [
        "# Práctica 2. Introducción a Python II\n",
        "\n",
        "Objetivos de la práctica:\n",
        "* Seguir aprendiendo el uso de Python.\n",
        "    - Listas por comprensión.\n",
        "    - Uso de ficheros.\n",
        "    - Funciones de orden superior\n",
        "    - Clases.\n",
        "\n",
        "Si estás utilizando Colab para interactuar con estos notebooks, para que los cambios realizados se almacenen en el repositorio debes usar la opción Save a copy in GitHub... del menú File. \n",
        "\n",
        "A lo largo de la práctica se proporcionan una serie de tests para que compruebes tus soluciones. También puedes añadir las celdas que consideres necesarias para comprobar los métodos que definas. "
      ]
    },
    {
      "cell_type": "markdown",
      "metadata": {
        "id": "D71waoUK1s2r"
      },
      "source": [
        "## Ejercicios mínimos (6 puntos)\n",
        "\n",
        "### Ejercicio 1\n",
        "\n",
        "Escribir una función cuadrados que recibiendo una secuencia de números, devuelve la lista de los cuadrados de estos números. Ejemplo. Dada la lista ``[4,1,5.2,3,8]``, la función produce como resultado ``[16, 1, 27.040000000000003, 9, 64]``. Implementa dos versiones: una usando un bucle y otra mediante listas por comprensión."
      ]
    },
    {
      "cell_type": "code",
      "metadata": {
        "id": "iXgqCoLwa9kD",
        "colab": {
          "base_uri": "https://localhost:8080/"
        },
        "outputId": "9f34f300-5e3b-4cfc-ef41-a8b5220872ad"
      },
      "source": [
        "!pip install mypy\r\n",
        "!wget https://raw.githubusercontent.com/IA1920/Utils/master/typecheck.py\r\n",
        "\r\n",
        "from typecheck import *\r\n"
      ],
      "execution_count": 7,
      "outputs": [
        {
          "output_type": "stream",
          "text": [
            "Requirement already satisfied: mypy in /usr/local/lib/python3.7/dist-packages (0.812)\n",
            "Requirement already satisfied: typed-ast<1.5.0,>=1.4.0 in /usr/local/lib/python3.7/dist-packages (from mypy) (1.4.2)\n",
            "Requirement already satisfied: mypy-extensions<0.5.0,>=0.4.3 in /usr/local/lib/python3.7/dist-packages (from mypy) (0.4.3)\n",
            "Requirement already satisfied: typing-extensions>=3.7.4 in /usr/local/lib/python3.7/dist-packages (from mypy) (3.7.4.3)\n",
            "--2021-03-03 17:57:21--  https://raw.githubusercontent.com/IA1920/Utils/master/typecheck.py\n",
            "Resolving raw.githubusercontent.com (raw.githubusercontent.com)... 185.199.108.133, 185.199.109.133, 185.199.110.133, ...\n",
            "Connecting to raw.githubusercontent.com (raw.githubusercontent.com)|185.199.108.133|:443... connected.\n",
            "HTTP request sent, awaiting response... 200 OK\n",
            "Length: 1633 (1.6K) [text/plain]\n",
            "Saving to: ‘typecheck.py.2’\n",
            "\n",
            "typecheck.py.2      100%[===================>]   1.59K  --.-KB/s    in 0s      \n",
            "\n",
            "2021-03-03 17:57:21 (30.6 MB/s) - ‘typecheck.py.2’ saved [1633/1633]\n",
            "\n"
          ],
          "name": "stdout"
        }
      ]
    },
    {
      "cell_type": "code",
      "metadata": {
        "id": "4O65rYfF1s2v",
        "colab": {
          "base_uri": "https://localhost:8080/"
        },
        "outputId": "050866c2-512c-4c7d-f569-5116bee711ed"
      },
      "source": [
        "%%typecheck\n",
        "\n",
        "from typing import *\n",
        "\n",
        "def cuadrados_bucle(l:List[float])->List[float]:\n",
        "    '''\n",
        "    >>> cuadrados_bucle([1,2,3,4])\n",
        "    [1, 4, 9, 16]\n",
        "    >>> cuadrados_bucle([4,1,5.2,3,8]) \n",
        "    [16, 1, 27.040000000000003, 9, 64]\n",
        "    >>> cuadrados_bucle([1, 2, 3, 4, 5])\n",
        "    [1, 4, 9, 16, 25]\n",
        "    '''\n",
        "    lista = []\n",
        "    for i in l:\n",
        "      lista.append(i*i)\n",
        "    return lista"
      ],
      "execution_count": 9,
      "outputs": [
        {
          "output_type": "stream",
          "text": [
            "Success: no issues found in 1 source file\n",
            "\n"
          ],
          "name": "stdout"
        }
      ]
    },
    {
      "cell_type": "code",
      "metadata": {
        "id": "paAPtfRW1s29",
        "colab": {
          "base_uri": "https://localhost:8080/"
        },
        "outputId": "ede8858d-d803-4bb1-c54a-cc44ef68dd1e"
      },
      "source": [
        "%%typecheck\n",
        "\n",
        "from typing import *\n",
        "\n",
        "def cuadrados_comprension(l:List[float])->List[float]:\n",
        "    '''\n",
        "    >>> cuadrados_comprension([1,2,3,4])\n",
        "    [1, 4, 9, 16]\n",
        "    >>> cuadrados_comprension([4,1,5.2,3,8])\n",
        "    [16, 1, 27.040000000000003, 9, 64]\n",
        "    >>> cuadrados_comprension([1, 2, 3, 4, 5])\n",
        "    [1, 4, 9, 16, 25]\n",
        "    '''\n",
        "    return [i*i for i in l]"
      ],
      "execution_count": 10,
      "outputs": [
        {
          "output_type": "stream",
          "text": [
            "Success: no issues found in 1 source file\n",
            "\n"
          ],
          "name": "stdout"
        }
      ]
    },
    {
      "cell_type": "markdown",
      "metadata": {
        "id": "rkFL4Evo1s3F"
      },
      "source": [
        "Comprueba los tests."
      ]
    },
    {
      "cell_type": "code",
      "metadata": {
        "colab": {
          "base_uri": "https://localhost:8080/"
        },
        "id": "OxmNo6SB1s3H",
        "outputId": "b1b1e8ca-5b4c-4e03-d21d-3b17bdc8a954"
      },
      "source": [
        "import doctest\n",
        "doctest.testmod()"
      ],
      "execution_count": 11,
      "outputs": [
        {
          "output_type": "execute_result",
          "data": {
            "text/plain": [
              "TestResults(failed=0, attempted=6)"
            ]
          },
          "metadata": {
            "tags": []
          },
          "execution_count": 11
        }
      ]
    },
    {
      "cell_type": "markdown",
      "metadata": {
        "id": "wxoUuMFn1s3P"
      },
      "source": [
        "A partir de ahora en los siguientes ejercicios deberás usar como técnica principal la definición de listas por comprensión.\n",
        "\n",
        "### Ejercicio 2\n",
        "\n",
        "Dada una lista de números naturales, devuelve la suma de los cuadrados de los números pares de la lista. \n",
        "\n",
        "Pista: busca que hace la función ``sum``."
      ]
    },
    {
      "cell_type": "code",
      "metadata": {
        "id": "jjclSo0lW84j"
      },
      "source": [
        "??sum"
      ],
      "execution_count": null,
      "outputs": []
    },
    {
      "cell_type": "code",
      "metadata": {
        "id": "EZIVut3g1s3Q",
        "colab": {
          "base_uri": "https://localhost:8080/"
        },
        "outputId": "d8248bb0-11c0-4f87-f28a-6a65c0e3eb34"
      },
      "source": [
        "%%typecheck\n",
        "\n",
        "from typing import *\n",
        "\n",
        "def suma_cuadrados(lista:List[int])->int:\n",
        "    '''\n",
        "    >>> suma_cuadrados([9,4,2,6,8,1])\n",
        "    120\n",
        "    >>> suma_cuadrados([])\n",
        "    0\n",
        "    >>> suma_cuadrados([9, 4, 6, 8]) \n",
        "    116\n",
        "    '''\n",
        "    return sum([a*a if (a % 2) == 0 else 0 for a in lista])"
      ],
      "execution_count": 12,
      "outputs": [
        {
          "output_type": "stream",
          "text": [
            "Success: no issues found in 1 source file\n",
            "\n"
          ],
          "name": "stdout"
        }
      ]
    },
    {
      "cell_type": "markdown",
      "metadata": {
        "id": "vmpahQeC1s3Y"
      },
      "source": [
        "Comprueba los tests."
      ]
    },
    {
      "cell_type": "code",
      "metadata": {
        "colab": {
          "base_uri": "https://localhost:8080/"
        },
        "id": "r40lPr7O1s3Z",
        "outputId": "54c840a1-1072-43d4-a0f5-4889ca4eba4e"
      },
      "source": [
        "doctest.testmod()"
      ],
      "execution_count": 13,
      "outputs": [
        {
          "output_type": "execute_result",
          "data": {
            "text/plain": [
              "TestResults(failed=0, attempted=9)"
            ]
          },
          "metadata": {
            "tags": []
          },
          "execution_count": 13
        }
      ]
    },
    {
      "cell_type": "markdown",
      "metadata": {
        "id": "Cn9opW_b1s3f"
      },
      "source": [
        "### Ejercicio 3\n",
        "\n",
        "Devuelve una lista con los números divisibles por 3 y por 5 entre los números 100 y 500."
      ]
    },
    {
      "cell_type": "code",
      "metadata": {
        "id": "gixZyimd1s3h",
        "colab": {
          "base_uri": "https://localhost:8080/"
        },
        "outputId": "9d81532c-9b57-4763-c5aa-2ac3d747f40c"
      },
      "source": [
        "%%typecheck\n",
        "\n",
        "from typing import *\n",
        "\n",
        "def entre_100_y_500()->List[int]:\n",
        "    '''\n",
        "    >>> entre_100_y_500()\n",
        "    [105, 120, 135, 150, 165, 180, 195, 210, 225, 240, 255, 270, 285, 300, 315, 330, 345, 360, 375, 390, 405, 420, 435, 450, 465, 480, 495]\n",
        "    '''\n",
        "    return [a for a in range(100,501) if (a % 3) == 0 and (a % 5) == 0]"
      ],
      "execution_count": 14,
      "outputs": [
        {
          "output_type": "stream",
          "text": [
            "Success: no issues found in 1 source file\n",
            "\n"
          ],
          "name": "stdout"
        }
      ]
    },
    {
      "cell_type": "markdown",
      "metadata": {
        "id": "yNQVwlp21s3p"
      },
      "source": [
        "Comprueba los tests."
      ]
    },
    {
      "cell_type": "code",
      "metadata": {
        "colab": {
          "base_uri": "https://localhost:8080/"
        },
        "id": "fCTHU47Z1s3s",
        "outputId": "8b39ade4-d689-4ea0-bb62-da7d4a8b2f78"
      },
      "source": [
        "doctest.testmod()"
      ],
      "execution_count": 15,
      "outputs": [
        {
          "output_type": "execute_result",
          "data": {
            "text/plain": [
              "TestResults(failed=0, attempted=10)"
            ]
          },
          "metadata": {
            "tags": []
          },
          "execution_count": 15
        }
      ]
    },
    {
      "cell_type": "markdown",
      "metadata": {
        "id": "-u46C5Ou1s3w"
      },
      "source": [
        "### Ejercicio 4\n",
        "\n",
        "Dada una lista de números $l=[a(1),...,a(n)]$, calcular el sumatorio $\\sum\\limits_{i=1}^n i \\times a(i)$."
      ]
    },
    {
      "cell_type": "code",
      "metadata": {
        "id": "-l-eGloV1s3y",
        "colab": {
          "base_uri": "https://localhost:8080/"
        },
        "outputId": "de3085af-c442-407d-e1a3-c1dcd6e4067d"
      },
      "source": [
        "%%typecheck\n",
        "\n",
        "from typing import *\n",
        "\n",
        "def suma_formula(lista:List[float])->float:\n",
        "    '''\n",
        "    >>> suma_formula([2,4,6,8,10])\n",
        "    110\n",
        "    >>> suma_formula([])\n",
        "    0\n",
        "    '''\n",
        "    return sum([(i+1)*lista[i] for i in range(0,len(lista))])"
      ],
      "execution_count": 16,
      "outputs": [
        {
          "output_type": "stream",
          "text": [
            "Success: no issues found in 1 source file\n",
            "\n"
          ],
          "name": "stdout"
        }
      ]
    },
    {
      "cell_type": "markdown",
      "metadata": {
        "id": "Cu_O1Yu-1s35"
      },
      "source": [
        "Comprueba los tests."
      ]
    },
    {
      "cell_type": "code",
      "metadata": {
        "colab": {
          "base_uri": "https://localhost:8080/"
        },
        "id": "XoTG2nEY1s37",
        "outputId": "2ae7ebab-7726-41dc-ea1a-0f2411cd2ae0"
      },
      "source": [
        "doctest.testmod()"
      ],
      "execution_count": 17,
      "outputs": [
        {
          "output_type": "execute_result",
          "data": {
            "text/plain": [
              "TestResults(failed=0, attempted=12)"
            ]
          },
          "metadata": {
            "tags": []
          },
          "execution_count": 17
        }
      ]
    },
    {
      "cell_type": "markdown",
      "metadata": {
        "id": "y2ezd-Ex1s4B"
      },
      "source": [
        "### Ejercicio 5\n",
        "\n",
        "Dadas dos listas de la misma longitud, representando dos puntos n-dimensionales, calcular la distancia euclídea entre ellos. \n",
        "\n",
        "Ayuda: puede que necesites importar el módulo ``math``."
      ]
    },
    {
      "cell_type": "code",
      "metadata": {
        "id": "bE8TmeYy1s4D",
        "colab": {
          "base_uri": "https://localhost:8080/"
        },
        "outputId": "d82666e0-6a6b-4615-80f3-d92653ff134b"
      },
      "source": [
        "%%typecheck\n",
        "import math\n",
        "from typing import *\n",
        "\n",
        "def distancia(lista1:List[float],lista2:List[float])->float:\n",
        "    '''\n",
        "    >>> distancia([3,1,2],[1,2,1])\n",
        "    2.449489742783178\n",
        "    >>> distancia([5,3],[4,2])\n",
        "    1.4142135623730951\n",
        "    >>> distancia([5,3],[5,3])\n",
        "    0.0\n",
        "    '''\n",
        "    return math.sqrt(sum([(lista1[i]-lista2[i])*(lista1[i]-lista2[i]) for i in range(0,len(lista1))]))"
      ],
      "execution_count": 18,
      "outputs": [
        {
          "output_type": "stream",
          "text": [
            "Success: no issues found in 1 source file\n",
            "\n"
          ],
          "name": "stdout"
        }
      ]
    },
    {
      "cell_type": "markdown",
      "metadata": {
        "id": "uKuX4hWm1s4I"
      },
      "source": [
        "Comprueba los tests."
      ]
    },
    {
      "cell_type": "code",
      "metadata": {
        "colab": {
          "base_uri": "https://localhost:8080/"
        },
        "id": "EEJgmtfE1s4K",
        "outputId": "e2146d86-ffe1-4bf8-f037-e3685a2a5a31"
      },
      "source": [
        "doctest.testmod()"
      ],
      "execution_count": 19,
      "outputs": [
        {
          "output_type": "execute_result",
          "data": {
            "text/plain": [
              "TestResults(failed=0, attempted=15)"
            ]
          },
          "metadata": {
            "tags": []
          },
          "execution_count": 19
        }
      ]
    },
    {
      "cell_type": "markdown",
      "metadata": {
        "id": "7dD1dMCF1s4Q"
      },
      "source": [
        "### Ejercicio 6\n",
        "\n",
        "Dada una lista y una función que toma un argumento, devolver la lista de los resultados de aplicar la función a cada elemento de la lista.\n",
        "\n",
        "Ejemplo. ``map_mio(abs,[-2,-3,-4,-1])`` devuelve ``[2, 3, 4, 1]``."
      ]
    },
    {
      "cell_type": "code",
      "metadata": {
        "id": "NlusXd261s4R",
        "colab": {
          "base_uri": "https://localhost:8080/"
        },
        "outputId": "5038ada5-f082-4ae7-bf3e-22e83577c5e6"
      },
      "source": [
        "%%typecheck\n",
        "import math\n",
        "from typing import *\n",
        "\n",
        "def map_mio(fun: Callable[[int],int],lista:list)->list:\n",
        "    '''\n",
        "    >>> map_mio(abs,[-2,-3,-4,-1])\n",
        "    [2, 3, 4, 1]\n",
        "    >>> map_mio(math.ceil,[-2.4,3.1,-4.7,5.8])\n",
        "    [-2, 4, -4, 6]\n",
        "    >>> map_mio(math.floor, [-2.4, 3.1, -4.7, 5.8])\n",
        "    [-3, 3, -5, 5]\n",
        "    '''\n",
        "    return [fun(a) for a in lista]"
      ],
      "execution_count": 20,
      "outputs": [
        {
          "output_type": "stream",
          "text": [
            "Success: no issues found in 1 source file\n",
            "\n"
          ],
          "name": "stdout"
        }
      ]
    },
    {
      "cell_type": "markdown",
      "metadata": {
        "id": "9rNRtP8R1s4W"
      },
      "source": [
        "Comprueba los tests."
      ]
    },
    {
      "cell_type": "code",
      "metadata": {
        "colab": {
          "base_uri": "https://localhost:8080/"
        },
        "id": "ysymWXOg1s4X",
        "outputId": "69f44096-29c0-4c5b-e569-be0b1054efd8"
      },
      "source": [
        "doctest.testmod()"
      ],
      "execution_count": 21,
      "outputs": [
        {
          "output_type": "execute_result",
          "data": {
            "text/plain": [
              "TestResults(failed=0, attempted=18)"
            ]
          },
          "metadata": {
            "tags": []
          },
          "execution_count": 21
        }
      ]
    },
    {
      "cell_type": "markdown",
      "metadata": {
        "id": "T6ERhyBx1s4c"
      },
      "source": [
        "### Ejercicio 7\n",
        "\n",
        "Dadas un par de listas de la misma longitud y una función que toma dos argumentos, devolver la lista de los resultados de aplicar la función a cada par de elementos que ocupan la misma posición en las listas de entrada.\n",
        "\n",
        "Ejemplo. ``map2_mio((lambda x,y: x+y) ,[1,2,3,4],[5,2,7,9])`` devuelve ``[6, 4, 10, 13]``."
      ]
    },
    {
      "cell_type": "code",
      "metadata": {
        "id": "AbPOK9HX1s4e",
        "colab": {
          "base_uri": "https://localhost:8080/"
        },
        "outputId": "22722b0b-7c8c-4501-8c19-e7902249d7f4"
      },
      "source": [
        "%%typecheck\n",
        "\n",
        "from typing import *\n",
        "\n",
        "def map2_mio(fun:Callable[[int,int],int],lista1:list,lista2:list)->list:\n",
        "    '''\n",
        "    >>> map2_mio((lambda x,y: x+y) ,[1,2,3,4],[5,2,7,9])\n",
        "    [6, 4, 10, 13]\n",
        "    >>> map2_mio((lambda x,y: x*y) ,[1,2,3,4],[5,2,7,9])\n",
        "    [5, 4, 21, 36]\n",
        "    '''\n",
        "    return [fun(lista1[i],lista2[i]) for i in range(0,len(lista1))]"
      ],
      "execution_count": 22,
      "outputs": [
        {
          "output_type": "stream",
          "text": [
            "Success: no issues found in 1 source file\n",
            "\n"
          ],
          "name": "stdout"
        }
      ]
    },
    {
      "cell_type": "markdown",
      "metadata": {
        "id": "iRh7kymF1s4j"
      },
      "source": [
        "Comprueba los tests."
      ]
    },
    {
      "cell_type": "code",
      "metadata": {
        "colab": {
          "base_uri": "https://localhost:8080/"
        },
        "id": "AjfUtyaR1s4k",
        "outputId": "6d8cb808-144f-46bd-ff15-d26d8f7438ec"
      },
      "source": [
        "doctest.testmod()"
      ],
      "execution_count": 23,
      "outputs": [
        {
          "output_type": "execute_result",
          "data": {
            "text/plain": [
              "TestResults(failed=0, attempted=20)"
            ]
          },
          "metadata": {
            "tags": []
          },
          "execution_count": 23
        }
      ]
    },
    {
      "cell_type": "markdown",
      "metadata": {
        "id": "5SsWTBUJ1s4r"
      },
      "source": [
        "### Ejercicio 8\n",
        "\n",
        "Dadas dos listas de la misma longitud, contar el número de posiciones en las que coinciden los elementos de ambas  listas."
      ]
    },
    {
      "cell_type": "code",
      "metadata": {
        "id": "Dd9kfg_i1s4t",
        "colab": {
          "base_uri": "https://localhost:8080/"
        },
        "outputId": "73d39e98-b9b9-49c9-b877-0c83e0b12792"
      },
      "source": [
        "%%typecheck\n",
        "\n",
        "def cuenta_coincidentes(lista1:list,lista2:list)->int:\n",
        "    '''\n",
        "    >>> cuenta_coincidentes([4,2,6,8,9,3],[3,2,1,8,9,6])\n",
        "    3\n",
        "    >>> cuenta_coincidentes([5,1,7,9,7,1],[3,2,1,8,9,6])\n",
        "    0\n",
        "    '''\n",
        "    return sum([1 for i in range(0,len(lista1)) if lista1[i] == lista2[i]])"
      ],
      "execution_count": 24,
      "outputs": [
        {
          "output_type": "stream",
          "text": [
            "Success: no issues found in 1 source file\n",
            "\n"
          ],
          "name": "stdout"
        }
      ]
    },
    {
      "cell_type": "markdown",
      "metadata": {
        "id": "Sqa1vUNY1s4z"
      },
      "source": [
        "Comprueba los tests."
      ]
    },
    {
      "cell_type": "code",
      "metadata": {
        "colab": {
          "base_uri": "https://localhost:8080/"
        },
        "id": "q3_9fejl1s40",
        "outputId": "6457395d-f309-4898-c3fd-ac23930824cc"
      },
      "source": [
        "doctest.testmod()"
      ],
      "execution_count": 25,
      "outputs": [
        {
          "output_type": "execute_result",
          "data": {
            "text/plain": [
              "TestResults(failed=0, attempted=22)"
            ]
          },
          "metadata": {
            "tags": []
          },
          "execution_count": 25
        }
      ]
    },
    {
      "cell_type": "markdown",
      "metadata": {
        "id": "O-s37Eyt1s44"
      },
      "source": [
        "### Ejercicio 9\n",
        "\n",
        "Dadas dos listas de la misma longitud, devolver un diccionario que tiene como claves las posiciones en las que coinciden los elementos de ambas listas, y como valor de esas claves, el elemento coincidente."
      ]
    },
    {
      "cell_type": "code",
      "metadata": {
        "id": "9bzm97bC1s45",
        "colab": {
          "base_uri": "https://localhost:8080/"
        },
        "outputId": "0ba337c0-ab98-438b-9ca4-6831db6ca62d"
      },
      "source": [
        "%%typecheck\n",
        "\n",
        "def dic_posiciones_coincidentes(lista1:list,lista2:list)->dict:\n",
        "    '''\n",
        "    >>> dic_posiciones_coincidentes([4,2,6,8,9,3],[3,2,1,8,9,6])\n",
        "    {1: 2, 3: 8, 4: 9}\n",
        "    >>> dic_posiciones_coincidentes([2,8,1,2,1,3],[1,8,1,2,1,6])\n",
        "    {1: 8, 2: 1, 3: 2, 4: 1}\n",
        "    '''\n",
        "    #return dict(zip([i for i in range(0,len(lista1)) if lista1[i] == lista2[i]], [lista1[i] for i in range(0,len(lista1)) if lista1[i] == lista2[i]]))\n",
        "    return (lambda x,y: dict(zip(x,y)))([i for i in range(0,len(lista1)) if lista1[i] == lista2[i]],[lista1[i] for i in range(0,len(lista1)) if lista1[i] == lista2[i]])"
      ],
      "execution_count": 26,
      "outputs": [
        {
          "output_type": "stream",
          "text": [
            "Success: no issues found in 1 source file\n",
            "\n"
          ],
          "name": "stdout"
        }
      ]
    },
    {
      "cell_type": "markdown",
      "metadata": {
        "id": "umWUrPFt1s4-"
      },
      "source": [
        "Comprueba los tests."
      ]
    },
    {
      "cell_type": "code",
      "metadata": {
        "colab": {
          "base_uri": "https://localhost:8080/"
        },
        "id": "pzPUpX8e1s4_",
        "outputId": "9d8a79a0-4e4e-4aaf-c2c9-2aa62f6498d3"
      },
      "source": [
        "doctest.testmod()"
      ],
      "execution_count": 27,
      "outputs": [
        {
          "output_type": "execute_result",
          "data": {
            "text/plain": [
              "TestResults(failed=0, attempted=24)"
            ]
          },
          "metadata": {
            "tags": []
          },
          "execution_count": 27
        }
      ]
    },
    {
      "cell_type": "markdown",
      "metadata": {
        "id": "IBHSWmsp1s5C"
      },
      "source": [
        "### Ejercicio 10\n",
        "\n",
        "Un número es perfecto si es la suma de todos sus divisores (excepto él mismo). Definir una función ``filtra_perfectos(n,m,p)`` que devuelve una lista con todos los números perfectos entre ``n`` y ``m`` que cumplen la condición ``p``."
      ]
    },
    {
      "cell_type": "code",
      "metadata": {
        "id": "K0842Ag21s5D",
        "colab": {
          "base_uri": "https://localhost:8080/"
        },
        "outputId": "c6749064-7b94-4021-95e1-c67cc3c305de"
      },
      "source": [
        "%%typecheck\n",
        "\n",
        "from typing import *\n",
        "\n",
        "def filtra_perfectos(n:int,m:int,p:Callable)->List[int]:\n",
        "    '''\n",
        "    >>> filtra_perfectos(3,500, lambda x: True)\n",
        "    [6, 28, 496]\n",
        "    >>> filtra_perfectos(3, 500, lambda x: (x%7==0))\n",
        "    [28]\n",
        "    '''\n",
        "    '''\n",
        "    resultado = []\n",
        "    for i in range (n,m+1):\n",
        "      if p(i) and suma_divisores(i)[1] == True:\n",
        "        resultado.append(i)\n",
        "    return resultado\n",
        "    '''\n",
        "    return [i for i in range(n,m+1) if p(i) and (sum([j for j in range(1,i) if i%j == 0])==i) == True]  "
      ],
      "execution_count": 28,
      "outputs": [
        {
          "output_type": "stream",
          "text": [
            "Success: no issues found in 1 source file\n",
            "\n"
          ],
          "name": "stdout"
        }
      ]
    },
    {
      "cell_type": "markdown",
      "metadata": {
        "id": "JXmsJONG1s5G"
      },
      "source": [
        "Comprueba los tests."
      ]
    },
    {
      "cell_type": "code",
      "metadata": {
        "colab": {
          "base_uri": "https://localhost:8080/"
        },
        "id": "GGx6icZQ1s5I",
        "outputId": "1e74fe40-cd7e-456e-c456-237c280dee74"
      },
      "source": [
        "doctest.testmod()"
      ],
      "execution_count": 29,
      "outputs": [
        {
          "output_type": "execute_result",
          "data": {
            "text/plain": [
              "TestResults(failed=0, attempted=26)"
            ]
          },
          "metadata": {
            "tags": []
          },
          "execution_count": 29
        }
      ]
    },
    {
      "cell_type": "markdown",
      "metadata": {
        "id": "vD61iXz61s5M"
      },
      "source": [
        "### Ejercicio 11\n",
        "\n",
        "Define una función que tome como parámetros un fichero, que por defecto será el fichero 'alice.txt' y una palabra, y cuente el número de apariciones de dicha palabra en el texto. El conteo no será sensible a mayúsculas y minúsculas, es decir Alice y alice se consideran la misma palabra. \n",
        "\n",
        "Como primer paso es necesario reemplazar en el texto todas las ocurrencias de los caracteres de la lista ``['\\'', '`', ',', '?', '!', ')', '(', '--', '.', ';',':','\\n','-']`` por un espacio en blanco.\n",
        "\n",
        "Para este ejercicio no es necesario que uses listas por comprensión."
      ]
    },
    {
      "cell_type": "code",
      "metadata": {
        "id": "sFJ8BlkE1s5P",
        "colab": {
          "base_uri": "https://localhost:8080/"
        },
        "outputId": "6ffd34a6-d97f-486f-af5d-7cc7af1069f6"
      },
      "source": [
        "%%typecheck\n",
        "\n",
        "def cuenta_palabras(palabra:str,fichero:str='alice.txt')->int:\n",
        "    '''\n",
        "    >>> cuenta_palabras('alice')\n",
        "    399\n",
        "    >>> cuenta_palabras('rabbit')\n",
        "    51\n",
        "    '''\n",
        "    with open(fichero,'r+') as f:\n",
        "      fread = f.read()\n",
        "      nuevos = ['\\'', '`', ',', '?', '!', ')', '(', '--', '.', ';',':','\\n','-']\n",
        "      for car in nuevos:\n",
        "        fread = fread.replace(car,' ')\n",
        "      fread = fread.split()\n",
        "    return sum([1 for pal in fread if pal.upper() == palabra.upper()])"
      ],
      "execution_count": 30,
      "outputs": [
        {
          "output_type": "stream",
          "text": [
            "<string>:15: error: Incompatible types in assignment (expression has type \"List[str]\", variable has type \"str\")\n",
            "Found 1 error in 1 file (checked 1 source file)\n",
            "\n"
          ],
          "name": "stdout"
        }
      ]
    },
    {
      "cell_type": "markdown",
      "metadata": {
        "id": "eY79VYbz1s5T"
      },
      "source": [
        "Con el siguiente comando se descarga el fichero de ``alice.txt`` desde el repositorio de GitHub."
      ]
    },
    {
      "cell_type": "code",
      "metadata": {
        "id": "lGN0K06_1s5U",
        "colab": {
          "base_uri": "https://localhost:8080/"
        },
        "outputId": "babe57e9-3860-4ea5-ae9a-2383fa67bbf2"
      },
      "source": [
        "!wget https://raw.githubusercontent.com/IA1920/Utils/master/alice.txt"
      ],
      "execution_count": 31,
      "outputs": [
        {
          "output_type": "stream",
          "text": [
            "--2021-03-03 18:00:30--  https://raw.githubusercontent.com/IA1920/Utils/master/alice.txt\n",
            "Resolving raw.githubusercontent.com (raw.githubusercontent.com)... 185.199.111.133, 185.199.110.133, 185.199.108.133, ...\n",
            "Connecting to raw.githubusercontent.com (raw.githubusercontent.com)|185.199.111.133|:443... connected.\n",
            "HTTP request sent, awaiting response... 200 OK\n",
            "Length: 148575 (145K) [text/plain]\n",
            "Saving to: ‘alice.txt’\n",
            "\n",
            "\ralice.txt             0%[                    ]       0  --.-KB/s               \ralice.txt           100%[===================>] 145.09K  --.-KB/s    in 0.03s   \n",
            "\n",
            "2021-03-03 18:00:30 (5.17 MB/s) - ‘alice.txt’ saved [148575/148575]\n",
            "\n"
          ],
          "name": "stdout"
        }
      ]
    },
    {
      "cell_type": "markdown",
      "metadata": {
        "id": "BqxCNQJs1s5X"
      },
      "source": [
        "Comprueba los tests."
      ]
    },
    {
      "cell_type": "code",
      "metadata": {
        "id": "B66MJViz1s5Z",
        "colab": {
          "base_uri": "https://localhost:8080/"
        },
        "outputId": "75971600-70f6-4794-e0ba-9c95ddac13e4"
      },
      "source": [
        "doctest.testmod()"
      ],
      "execution_count": 32,
      "outputs": [
        {
          "output_type": "execute_result",
          "data": {
            "text/plain": [
              "TestResults(failed=0, attempted=28)"
            ]
          },
          "metadata": {
            "tags": []
          },
          "execution_count": 32
        }
      ]
    },
    {
      "cell_type": "markdown",
      "metadata": {
        "id": "xD9hRwvr1s5c"
      },
      "source": [
        "### Ejercicio 12\n",
        "\n",
        "Define una clase Rectangulo que toma como parámetros del constructor la tupla ``(x,y)``, que indican la posición de la esquina superior izquierda, y dos reales ``w`` y ``h`` que proporcionan respectivamente la anchura y la altura del rectángulo. La clase ``Rectangulo`` debe implementar los métodos: area, perimetro y redefinir el método ``__eq__`` de la clase object."
      ]
    },
    {
      "cell_type": "code",
      "metadata": {
        "id": "Xk-Pjka91s5d",
        "colab": {
          "base_uri": "https://localhost:8080/"
        },
        "outputId": "f5f3e8f9-c35f-4aff-a867-c0886508783c"
      },
      "source": [
        "%%typecheck\n",
        "\n",
        "from typing import *\n",
        "\n",
        "class Rectangulo(object):\n",
        "\n",
        "    def __init__(self,tuplaxy:Tuple[float,float]=(0,0),w:float=0,h:float=0)->None:\n",
        "        self.tuplaxy = (tuplaxy[0],tuplaxy[1])\n",
        "        self.w = w\n",
        "        self.h = h\n",
        "\n",
        "    def area(self)->float:\n",
        "        return self.w*self.h\n",
        "    \n",
        "    def perimetro(self)->float:\n",
        "        return 2*self.w + 2*self.h\n",
        "\n",
        "    def __eq__(self, other)->bool:\n",
        "        return self.w==other.w and self.h==other.h and self.tuplaxy==other.tuplaxy"
      ],
      "execution_count": 33,
      "outputs": [
        {
          "output_type": "stream",
          "text": [
            "Success: no issues found in 1 source file\n",
            "\n"
          ],
          "name": "stdout"
        }
      ]
    },
    {
      "cell_type": "markdown",
      "metadata": {
        "id": "cgIsyxx31s5h"
      },
      "source": [
        "Comprueba los tests. Si al ejecutar la siguiente celda no se muestra nada, eso significa que se pasan los tests."
      ]
    },
    {
      "cell_type": "code",
      "metadata": {
        "id": "B8ZJdHQU1s5i"
      },
      "source": [
        "r1 = Rectangulo((0,0),5,5)\n",
        "r2 = Rectangulo((0, 0), 5, 10)\n",
        "assert(r1.area() == 25)\n",
        "assert(r1.perimetro() == 20)\n",
        "assert(not(r1 ==r2))"
      ],
      "execution_count": 34,
      "outputs": []
    },
    {
      "cell_type": "markdown",
      "metadata": {
        "id": "dFyvr0pf1s5m"
      },
      "source": [
        "## Ejercicios de ampliación I (1.5 puntos)\n",
        "\n"
      ]
    },
    {
      "cell_type": "markdown",
      "metadata": {
        "id": "orx1E3C_1s5o"
      },
      "source": [
        "En los siguientes ejercicios debes utilizar listas por comprensión. \n",
        "\n",
        "### Ejercicio 13\n",
        "\n",
        "Define una función que cree un diccionario a partir de un string donde las claves del diccionario sean las letras\n",
        "del alfabeto, y el valor para cada una de esas claves es el número de ocurrencias de esa letra en el string sin \n",
        "distinguir entre mayúsculas y minúsculas."
      ]
    },
    {
      "cell_type": "code",
      "metadata": {
        "id": "O-wxChOO1s5o",
        "colab": {
          "base_uri": "https://localhost:8080/"
        },
        "outputId": "221dc904-f031-4af1-8260-5569a5254a67"
      },
      "source": [
        "%%typecheck\n",
        "\n",
        "from typing import *\n",
        "\n",
        "def crear_diccionario_de_string(s:str)->Dict[str,int]:\n",
        "  # return (lambda x,y: dict(zip(x,y)))([abc,])\n",
        "    abc = 'abcdefghijklmnopqrstuvwxyz'\n",
        "    #return dict(zip(abc, [num_veces(s,letra) for letra in abc]))\n",
        "    return dict(zip(abc, [sum([1 for let in s if let.upper() == letra.upper()]) for letra in abc]))"
      ],
      "execution_count": 35,
      "outputs": [
        {
          "output_type": "stream",
          "text": [
            "Success: no issues found in 1 source file\n",
            "\n"
          ],
          "name": "stdout"
        }
      ]
    },
    {
      "cell_type": "markdown",
      "metadata": {
        "id": "f2UL6x1E1s5s"
      },
      "source": [
        "Comprueba los tests."
      ]
    },
    {
      "cell_type": "code",
      "metadata": {
        "id": "Zd8CFKeQ1s5t"
      },
      "source": [
        "dic2=crear_diccionario_de_string(\"hola adios\")\n",
        "assert(dic2['a'] == 2)\n",
        "assert(dic2['b'] == 0)\n",
        "assert(dic2['h'] == 1)\n",
        "assert(dic2['o'] == 2)\n",
        "assert(dic2['l'] == 1)\n",
        "assert(dic2['z'] == 0)"
      ],
      "execution_count": 36,
      "outputs": []
    },
    {
      "cell_type": "markdown",
      "metadata": {
        "id": "gUiaKTUh1s5w"
      },
      "source": [
        "### Ejercicio 14\n",
        "\n",
        "Define una función por comprensión que devuelve el número de apariciones de un elemento x en la lista l."
      ]
    },
    {
      "cell_type": "code",
      "metadata": {
        "id": "iJHrZlKJ1s5x",
        "colab": {
          "base_uri": "https://localhost:8080/"
        },
        "outputId": "4ff12f9a-b484-4368-a51b-c8917733fc04"
      },
      "source": [
        "%%typecheck\n",
        "\n",
        "def incidencias(x,l:list)->int:\n",
        "    '''\n",
        "    >>> incidencias(0,[])\n",
        "    0\n",
        "    >>> incidencias(0, [0,1,0,10,0])\n",
        "    3\n",
        "    >>> incidencias(1, [0, 1, 0, 10, 0])\n",
        "    1\n",
        "    >>> incidencias(10, [0, 1, 0, 10, 0])\n",
        "    1\n",
        "    '''\n",
        "    #return sum(list(map(lambda elem: True if elem == x else False,l)))\n",
        "    return sum([1 for elem in l if elem == x])"
      ],
      "execution_count": 37,
      "outputs": [
        {
          "output_type": "stream",
          "text": [
            "Success: no issues found in 1 source file\n",
            "\n"
          ],
          "name": "stdout"
        }
      ]
    },
    {
      "cell_type": "markdown",
      "metadata": {
        "id": "f3MJEx_I1s50"
      },
      "source": [
        "Comprueba los tests. "
      ]
    },
    {
      "cell_type": "code",
      "metadata": {
        "id": "Tt84Ka3U1s51",
        "colab": {
          "base_uri": "https://localhost:8080/"
        },
        "outputId": "7e9b6940-0dc3-4028-ef75-83122c9c6241"
      },
      "source": [
        "doctest.testmod()"
      ],
      "execution_count": 38,
      "outputs": [
        {
          "output_type": "execute_result",
          "data": {
            "text/plain": [
              "TestResults(failed=0, attempted=32)"
            ]
          },
          "metadata": {
            "tags": []
          },
          "execution_count": 38
        }
      ]
    },
    {
      "cell_type": "markdown",
      "metadata": {
        "id": "Och14nQ01s54"
      },
      "source": [
        "### Ejercicio 15\n",
        "\n",
        "Define una función por comprensión que devuelve verdad si todos los elementos de una lista son pares y falso en caso contrario. En caso de que la lista este vacía, devolverá verdad."
      ]
    },
    {
      "cell_type": "code",
      "metadata": {
        "id": "wx3DhTFm1s55",
        "colab": {
          "base_uri": "https://localhost:8080/"
        },
        "outputId": "8fcc9ba7-8c96-4889-ddfb-7b1ce5ad5575"
      },
      "source": [
        "%%typecheck\n",
        "\n",
        "def todos_pares(l:list)->bool:\n",
        "    '''\n",
        "    >>> todos_pares([])\n",
        "    True\n",
        "    >>> todos_pares([1])\n",
        "    False\n",
        "    >>> todos_pares([2,4,6,8,10,1])\n",
        "    False\n",
        "    >>> todos_pares([2, 4, 6, 8, 10])\n",
        "    True\n",
        "    '''\n",
        "    #return sum(list(map(lambda x: True if x % 2 == 0 else False,l))) == len(l)\n",
        "    return sum([1 for n in l if n % 2 == 0]) == len(l)"
      ],
      "execution_count": 39,
      "outputs": [
        {
          "output_type": "stream",
          "text": [
            "Success: no issues found in 1 source file\n",
            "\n"
          ],
          "name": "stdout"
        }
      ]
    },
    {
      "cell_type": "markdown",
      "metadata": {
        "id": "Y5SZkx5K1s6C"
      },
      "source": [
        "Comprueba los tests."
      ]
    },
    {
      "cell_type": "code",
      "metadata": {
        "id": "rU4HnkZ81s6C",
        "colab": {
          "base_uri": "https://localhost:8080/"
        },
        "outputId": "9d02504b-e3c3-4917-f09c-0be5c7de87a6"
      },
      "source": [
        "doctest.testmod()"
      ],
      "execution_count": 40,
      "outputs": [
        {
          "output_type": "execute_result",
          "data": {
            "text/plain": [
              "TestResults(failed=0, attempted=36)"
            ]
          },
          "metadata": {
            "tags": []
          },
          "execution_count": 40
        }
      ]
    },
    {
      "cell_type": "markdown",
      "metadata": {
        "id": "FWNPvl0G1s6G"
      },
      "source": [
        "### Ejercicio 16\n",
        "\n",
        "Define una función por comprensión que devuelve verdad si algún elemento de una lista es impar y falso\n",
        "en caso contrario. En caso de que la lista este vacía, devolverá falso."
      ]
    },
    {
      "cell_type": "code",
      "metadata": {
        "id": "XO_BGLTk1s6G",
        "colab": {
          "base_uri": "https://localhost:8080/"
        },
        "outputId": "ae8ae89b-0ebc-4d3d-9e92-a64c7e2dd60b"
      },
      "source": [
        "%%typecheck\n",
        "\n",
        "def algun_impar(l:list)->bool:\n",
        "    '''\n",
        "    >>> algun_impar([])\n",
        "    False\n",
        "    >>> algun_impar([1])\n",
        "    True\n",
        "    >>> algun_impar([2,4,6,8,10,1])\n",
        "    True\n",
        "    >>> algun_impar([2, 4, 6, 8, 10])\n",
        "    False\n",
        "    '''\n",
        "    #return sum(list(map(lambda x: True if x % 2 == 1 else False,l))) > 0\n",
        "    return sum([1 for n in l if n % 2 == 1]) > 0"
      ],
      "execution_count": 41,
      "outputs": [
        {
          "output_type": "stream",
          "text": [
            "Success: no issues found in 1 source file\n",
            "\n"
          ],
          "name": "stdout"
        }
      ]
    },
    {
      "cell_type": "markdown",
      "metadata": {
        "id": "GtQlkVDn1s6N"
      },
      "source": [
        "Comprueba los tests."
      ]
    },
    {
      "cell_type": "code",
      "metadata": {
        "id": "glXYH3hm1s6O",
        "colab": {
          "base_uri": "https://localhost:8080/"
        },
        "outputId": "8336926b-63eb-4dcf-c7b7-178e5f69d744"
      },
      "source": [
        "doctest.testmod()"
      ],
      "execution_count": 42,
      "outputs": [
        {
          "output_type": "execute_result",
          "data": {
            "text/plain": [
              "TestResults(failed=0, attempted=40)"
            ]
          },
          "metadata": {
            "tags": []
          },
          "execution_count": 42
        }
      ]
    },
    {
      "cell_type": "markdown",
      "metadata": {
        "id": "jz6oxDBY1s6Y"
      },
      "source": [
        "## Ejercicios de ampliación II (2 puntos)\n",
        "\n",
        "Retomamos nuestro ejemplo del código genético visto en la práctica 1.\n",
        "\n",
        "Recupera el método que dada una secuencia de ADN (un string) que contiene las letras A, C, G, y T  nos devuelve cuántas veces aparece una cierta base en dicha secuencia."
      ]
    },
    {
      "cell_type": "code",
      "metadata": {
        "id": "-lh1ztjV1s6Z",
        "colab": {
          "base_uri": "https://localhost:8080/"
        },
        "outputId": "7b67a2e1-5770-4afd-de8f-47c3e9407d94"
      },
      "source": [
        "%%typecheck\n",
        "\n",
        "def cuenta(adn:str, base:str)->int:\n",
        "    '''\n",
        "    >>> cuenta('ATGGCATTA', 'A')\n",
        "    3\n",
        "    >>> cuenta('ATGGCATTA', 'T')\n",
        "    3\n",
        "    >>> cuenta('ATGGCATTA', 'G')\n",
        "    2\n",
        "    >>> cuenta('ATGGCATTA', 'C') \n",
        "    1\n",
        "    >>> cuenta('ATGGCATTA', 'D')\n",
        "    0\n",
        "    >>> cuenta('', 'C') \n",
        "    0\n",
        "    >>> cuenta('AAATTTGGGCCCCGTA', 'A')\n",
        "    4\n",
        "    >>> cuenta('AAATTTGGGCCCCGTA', 'C')\n",
        "    4\n",
        "    >>> cuenta('AAATTTGGGCCCCGTA', 'G')\n",
        "    4\n",
        "    >>> cuenta('AAATTTGGGCCCCGTA', 'T')\n",
        "    4\n",
        "    '''\n",
        "    veces = 0\n",
        "    for letra in adn:\n",
        "      if letra == base:\n",
        "        veces = veces + 1\n",
        "    return veces\n"
      ],
      "execution_count": 43,
      "outputs": [
        {
          "output_type": "stream",
          "text": [
            "Success: no issues found in 1 source file\n",
            "\n"
          ],
          "name": "stdout"
        }
      ]
    },
    {
      "cell_type": "markdown",
      "metadata": {
        "id": "Uxf52UGk1s6c"
      },
      "source": [
        "Comprueba los tests."
      ]
    },
    {
      "cell_type": "code",
      "metadata": {
        "id": "xIlYDW5B1s6d",
        "colab": {
          "base_uri": "https://localhost:8080/"
        },
        "outputId": "84110924-ce59-4bec-d36e-3d49f354f820"
      },
      "source": [
        "doctest.testmod()"
      ],
      "execution_count": 44,
      "outputs": [
        {
          "output_type": "execute_result",
          "data": {
            "text/plain": [
              "TestResults(failed=0, attempted=50)"
            ]
          },
          "metadata": {
            "tags": []
          },
          "execution_count": 44
        }
      ]
    },
    {
      "cell_type": "markdown",
      "metadata": {
        "id": "FhQ98gAw1s6g"
      },
      "source": [
        "Define una función con un comportamiento análogo al anterior pero utilizando listas por comprensión."
      ]
    },
    {
      "cell_type": "code",
      "metadata": {
        "id": "TtfS6dV61s6h",
        "colab": {
          "base_uri": "https://localhost:8080/"
        },
        "outputId": "eb21f8ba-c44a-44d6-9776-8c69a7528f12"
      },
      "source": [
        "%%typecheck\n",
        "\n",
        "def cuenta_comprension(adn:str, base:str)->int:\n",
        "    '''\n",
        "    >>> cuenta_comprension('ATGGCATTA', 'A')\n",
        "    3\n",
        "    >>> cuenta_comprension('ATGGCATTA', 'T')\n",
        "    3\n",
        "    >>> cuenta_comprension('ATGGCATTA', 'G')\n",
        "    2\n",
        "    >>> cuenta_comprension('ATGGCATTA', 'C') \n",
        "    1\n",
        "    >>> cuenta_comprension('ATGGCATTA', 'D')\n",
        "    0\n",
        "    >>> cuenta_comprension('', 'C') \n",
        "    0\n",
        "    >>> cuenta_comprension('AAATTTGGGCCCCGTA', 'A')\n",
        "    4\n",
        "    >>> cuenta_comprension('AAATTTGGGCCCCGTA', 'C')\n",
        "    4\n",
        "    >>> cuenta_comprension('AAATTTGGGCCCCGTA', 'G')\n",
        "    4\n",
        "    >>> cuenta_comprension('AAATTTGGGCCCCGTA', 'T')\n",
        "    4\n",
        "    '''\n",
        "    #return sum(list(map(lambda x: True if x == base else False,list(adn))))\n",
        "    return sum([1 for letra in adn if letra == base])"
      ],
      "execution_count": 45,
      "outputs": [
        {
          "output_type": "stream",
          "text": [
            "Success: no issues found in 1 source file\n",
            "\n"
          ],
          "name": "stdout"
        }
      ]
    },
    {
      "cell_type": "markdown",
      "metadata": {
        "id": "KfxVEBTG1s6k"
      },
      "source": [
        "Comprueba los tests."
      ]
    },
    {
      "cell_type": "code",
      "metadata": {
        "id": "O0pODR2p1s6l",
        "colab": {
          "base_uri": "https://localhost:8080/"
        },
        "outputId": "f896ee09-7a54-4f48-b328-10b2546a4a20"
      },
      "source": [
        "doctest.testmod()"
      ],
      "execution_count": 46,
      "outputs": [
        {
          "output_type": "execute_result",
          "data": {
            "text/plain": [
              "TestResults(failed=0, attempted=60)"
            ]
          },
          "metadata": {
            "tags": []
          },
          "execution_count": 46
        }
      ]
    },
    {
      "cell_type": "markdown",
      "metadata": {
        "id": "KlkG1Gjn1s6n"
      },
      "source": [
        "A continuación vamos a comparar la eficiencia de estos dos métodos. Para ello lo primero que debes hacer es recuperar el método que genera secuencias aleatorias de ADN."
      ]
    },
    {
      "cell_type": "code",
      "metadata": {
        "id": "SdDhYx0x1s6o",
        "colab": {
          "base_uri": "https://localhost:8080/"
        },
        "outputId": "d8d0c57e-bc40-4f8b-99c7-ef9cf707c54a"
      },
      "source": [
        "%%typecheck\n",
        "\n",
        "import random\n",
        "\n",
        "def genera_adn(tam:int)->str:\n",
        "    lista = random.choices(['A', 'C', 'G','T'], k=tam)\n",
        "    c = ''\n",
        "    for elem in lista:\n",
        "      c = c + str(elem)\n",
        "    return c"
      ],
      "execution_count": 47,
      "outputs": [
        {
          "output_type": "stream",
          "text": [
            "Success: no issues found in 1 source file\n",
            "\n"
          ],
          "name": "stdout"
        }
      ]
    },
    {
      "cell_type": "markdown",
      "metadata": {
        "id": "Fxc5lmWF1s6s"
      },
      "source": [
        "Para medir el tiempo que le cuesta ejecutarse a un programa puedes utilizar la [celda mágica](https://ipython.readthedocs.io/en/stable/interactive/magics.html) ``timeit`` del siguiente modo. "
      ]
    },
    {
      "cell_type": "code",
      "metadata": {
        "id": "Q_TYVqad1s6s",
        "colab": {
          "base_uri": "https://localhost:8080/"
        },
        "outputId": "6594a1b0-d6f1-4b45-8a48-3d22217d1978"
      },
      "source": [
        "%%timeit\n",
        "3+2"
      ],
      "execution_count": 48,
      "outputs": [
        {
          "output_type": "stream",
          "text": [
            "100000000 loops, best of 5: 9.66 ns per loop\n"
          ],
          "name": "stdout"
        }
      ]
    },
    {
      "cell_type": "markdown",
      "metadata": {
        "id": "Vmlp4vGq1s6v"
      },
      "source": [
        "Genera una secuencia aleatoria de adn de 10000000 de componentes y compara el tiempo de ejecución de los dos métodos cuenta. ¿Cuál es más rápido?"
      ]
    },
    {
      "cell_type": "code",
      "metadata": {
        "id": "KFSVPELRybVM"
      },
      "source": [
        "adn = genera_adn(10000000)"
      ],
      "execution_count": 49,
      "outputs": []
    },
    {
      "cell_type": "code",
      "metadata": {
        "id": "v5NcxAgB1s6w",
        "colab": {
          "base_uri": "https://localhost:8080/"
        },
        "outputId": "1225a81a-7312-40df-8a05-7b18f4b2575b"
      },
      "source": [
        "%%timeit\r\n",
        "cuenta(adn,'A')"
      ],
      "execution_count": 50,
      "outputs": [
        {
          "output_type": "stream",
          "text": [
            "1 loop, best of 5: 456 ms per loop\n"
          ],
          "name": "stdout"
        }
      ]
    },
    {
      "cell_type": "code",
      "metadata": {
        "id": "osSV9DZE1s60",
        "colab": {
          "base_uri": "https://localhost:8080/"
        },
        "outputId": "d8e6fd5f-3317-4b8c-959f-bbb1b7ff6f5a"
      },
      "source": [
        "%%timeit\r\n",
        "cuenta_comprension(adn,'A')"
      ],
      "execution_count": 51,
      "outputs": [
        {
          "output_type": "stream",
          "text": [
            "1 loop, best of 5: 459 ms per loop\n"
          ],
          "name": "stdout"
        }
      ]
    },
    {
      "cell_type": "markdown",
      "metadata": {
        "id": "wWty9qAd1s62"
      },
      "source": [
        "Recuperamos ahora el ejercicio que calcular la frecuencia en la que aparece cada letra en cada posición de una lista de secuencias (todas las secuencias de la lista tienen el mismo número de elementos).\n",
        "\n",
        "El resultado en este caso será un diccionario en lugar de una tupla de listas. Por ejemplo, dada la lista de secuencias ``['ATGACT', 'AACTGT', 'GGCTAT']`` el resultado sería el diccionario: ``{'A' : [2,1,0,1,1,0], 'C':[0,0,2,0,1,0], 'G':[1,1,1,0,1,0], 'T':[0,1,0,1,0,3]}``."
      ]
    },
    {
      "cell_type": "code",
      "metadata": {
        "id": "Lr8Ylf9t1s63",
        "colab": {
          "base_uri": "https://localhost:8080/"
        },
        "outputId": "c1135a6b-679d-4647-ef18-741e05235467"
      },
      "source": [
        "%%typecheck\n",
        "\n",
        "from typing import *\n",
        "\n",
        "# Me hago dos funciones auxiliares\n",
        "def cuenta_por_posicion(item:str, posicion:int, lista:List[str])->int:\n",
        "  numItem = 0\n",
        "  for cadena in lista:\n",
        "    if cadena[posicion] == item:\n",
        "      numItem = numItem + 1\n",
        "  return numItem\n",
        "\n",
        "def crear_lista_item(lista:List[str], item:str)->list:\n",
        "  list = []\n",
        "  for i in range(0, len(lista[0])):\n",
        "    list.append(cuenta_por_posicion(item, i, lista))\n",
        "  return list\n",
        "\n",
        "def frecuencias_dic(lista_adns:List[str])->Dict[str,List[int]]:\n",
        "        return {'A':crear_lista_item(lista_adns,'A'),'C':crear_lista_item(lista_adns,'C'),'G':crear_lista_item(lista_adns,'G'),'T':crear_lista_item(lista_adns,'T')}\n"
      ],
      "execution_count": 52,
      "outputs": [
        {
          "output_type": "stream",
          "text": [
            "Success: no issues found in 1 source file\n",
            "\n"
          ],
          "name": "stdout"
        }
      ]
    },
    {
      "cell_type": "markdown",
      "metadata": {
        "id": "InzwBaUn1s6-"
      },
      "source": [
        "Comprueba los tests."
      ]
    },
    {
      "cell_type": "code",
      "metadata": {
        "id": "1gkzvRQ71s6_"
      },
      "source": [
        "assert(frecuencias_dic(['ATGACT', 'AACTGT', 'GGCTAT'])['A'] == [2, 1, 0, 1, 1, 0])\n",
        "assert(frecuencias_dic(['ATGACT', 'AACTGT', 'GGCTAT'])['C'] == [0, 0, 2, 0, 1, 0])\n",
        "assert(frecuencias_dic(['ATGACT', 'AACTGT', 'GGCTAT'])['G'] == [1, 1, 1, 0, 1, 0])\n",
        "assert(frecuencias_dic(['ATGACT', 'AACTGT', 'GGCTAT'])['T'] == [0, 1, 0, 2, 0, 3])\n",
        "assert(frecuencias_dic(['GGGAGATGAT', 'TTTCCGATTA', 'AAGCACCGTC', 'TGATTAACGA', 'CTGACGGGTG', 'CGTTGGCATA', 'GCCTCTGCGA', 'ATCTACTGCG', 'AGTAACCTCC', 'CGGCTAAGGC'])['A'] ==\n",
        "                [3, 1, 1, 3, 3, 3, 3, 1, 1, 4])\n",
        "assert(frecuencias_dic(\n",
        "                ['GGGAGATGAT', 'TTTCCGATTA', 'AAGCACCGTC', 'TGATTAACGA', 'CTGACGGGTG', 'CGTTGGCATA', 'GCCTCTGCGA',\n",
        "                 'ATCTACTGCG', 'AGTAACCTCC', 'CGGCTAAGGC'])['C']  == [3, 1, 2, 3, 3, 3, 3, 2, 2, 3])\n",
        "assert(frecuencias_dic(\n",
        "                ['GGGAGATGAT', 'TTTCCGATTA', 'AAGCACCGTC', 'TGATTAACGA', 'CTGACGGGTG', 'CGTTGGCATA', 'GCCTCTGCGA',\n",
        "                 'ATCTACTGCG', 'AGTAACCTCC', 'CGGCTAAGGC'])['G']  ==\n",
        "                                      [2, 5, 4, 0, 2, 3, 2, 5, 3, 2])\n",
        "assert(frecuencias_dic(\n",
        "                ['GGGAGATGAT', 'TTTCCGATTA', 'AAGCACCGTC', 'TGATTAACGA', 'CTGACGGGTG', 'CGTTGGCATA', 'GCCTCTGCGA',\n",
        "                 'ATCTACTGCG', 'AGTAACCTCC', 'CGGCTAAGGC'])['T']  == [2, 3, 3, 4, 2, 1, 2, 2, 4, 1])"
      ],
      "execution_count": 53,
      "outputs": []
    },
    {
      "cell_type": "markdown",
      "metadata": {
        "id": "9lBmGs_s1s7C"
      },
      "source": [
        "A continuación vamos a ver cómo descargar un fichero que contiene un mapeo de códigos genéticos a aminoácidos, y procesar dicho fichero.\n",
        "\n",
        "El formato del fichero se parece a lo siguiente:\n",
        "\n",
        "| Código | Aminoácido (1 letra)  | Aminoácido (3 letras)  | Aminoácido (nombre completo) |\n",
        "|-------|-------|-------|-------|\n",
        "| UUU   |  F |      Phe |    Phenylalanine |\n",
        "| UUC   |  F |      Phe |    Phenylalanine |\n",
        "| UUA   |  L |      Leu |    Leucine |\n",
        "| UUG   |  L |      Leu |    Leucine |\n",
        "| CUU   |  L |      Leu |    Leucine |\n",
        "| CUC   |  L |      Leu |    Leucine |\n",
        "| CUA   |  L |      Leu |    Leucine |\n",
        "| CUG   |  L |      Leu |    Leucine |\n",
        "| AUU   |  I |      Ile |    Isoleucine |\n",
        "| AUC   |  I |      Ile |    Isoleucine |\n",
        "| AUA   |  I |      Ile |    Isoleucine |\n",
        "| AUG   |  M |      Met |    Methionine (Start)|\n",
        "\n",
        "Define una función descarga que dada una urlbase y un nombre de fichero descargue el fichero y lo almacene con el mismo nombre. Por ejemplo, si queremos descargar el fichero almacenado en: http://hplgit.github.io/bioinf-py/data/genetic_code.tsv deberíamos invocar a la función: ``descarga('http://hplgit.github.io/bioinf-py/data/','genetic_code.tsv')`` y deberíamos almacenar el fichero con el nombre ``genetic_code.tsv``. Si ya existe un fichero con ese nombre, el método debe lanzar una excepción.\n",
        "\n",
        "Pistas:\n",
        "- Para comprobar si un fichero existe, puedes utilizar alguno de los métodos de [os.path](https://docs.python.org/3/library/os.path.html).\n",
        "- Para descargar un fichero de una url puedes usar la librería [urllib](https://docs.python.org/3/library/urllib.html) y el método ``urlretrieve``."
      ]
    },
    {
      "cell_type": "code",
      "metadata": {
        "id": "xxd6GnTY1s7D",
        "colab": {
          "base_uri": "https://localhost:8080/"
        },
        "outputId": "2e8fc4f9-26e3-4ae3-80a3-30078a47e0fd"
      },
      "source": [
        "%%typecheck\n",
        "\n",
        "import os\n",
        "import urllib.request\n",
        "\n",
        "def descarga(urlbase:str,filename:str)->None:\n",
        "    if os.path.exists(filename):\n",
        "      raise Exception('El fichero ' + str(filename) + ' ya existe.')\n",
        "    else:\n",
        "      urllib.request.urlretrieve(urlbase + filename,filename)"
      ],
      "execution_count": 54,
      "outputs": [
        {
          "output_type": "stream",
          "text": [
            "Success: no issues found in 1 source file\n",
            "\n"
          ],
          "name": "stdout"
        }
      ]
    },
    {
      "cell_type": "markdown",
      "metadata": {
        "id": "Wgfp0k4y1s7F"
      },
      "source": [
        "Por último definimos una función que dado un nombre de fichero que contenta el mapéo de códigos genéticos a aminoácidos, cree un diccionario que para cada código genético almacene su nombre completo."
      ]
    },
    {
      "cell_type": "code",
      "metadata": {
        "id": "AUc10gLU1s7G",
        "colab": {
          "base_uri": "https://localhost:8080/"
        },
        "outputId": "30cbeb36-bc1b-4826-f2e4-10be2519a7df"
      },
      "source": [
        "%%typecheck\n",
        "\n",
        "from typing import *\n",
        "\n",
        "#Funcion auxiliar \n",
        "def escribe_lista(l:List[str])->str:\n",
        "  result = ''\n",
        "  for elem in l:\n",
        "    result = result + elem + ' '\n",
        "  return result[0:-1]\n",
        "\n",
        "def codigos_to_aminoacidos(filename:str)->Dict[str,str]:\n",
        "    with open(filename,'r') as f:\n",
        "      dic = {}\n",
        "      for line in f:\n",
        "        dic[line.split()[0]] = escribe_lista(line.split()[3:])\n",
        "    return dic\n",
        "\n",
        "# No he sabido hacerlo con listas por comprension"
      ],
      "execution_count": 55,
      "outputs": [
        {
          "output_type": "stream",
          "text": [
            "Success: no issues found in 1 source file\n",
            "\n"
          ],
          "name": "stdout"
        }
      ]
    },
    {
      "cell_type": "markdown",
      "metadata": {
        "id": "8gChGoui1s7J"
      },
      "source": [
        "Comprueba los tests."
      ]
    },
    {
      "cell_type": "code",
      "metadata": {
        "id": "YH4UwORG1s7J",
        "colab": {
          "base_uri": "https://localhost:8080/"
        },
        "outputId": "7c53590e-2399-4fba-f55e-1c813ed39a20"
      },
      "source": [
        "!pip install nose\n",
        "import os\n",
        "from nose.tools import assert_raises\n",
        "\n",
        "if os.path.exists('genetic_code.tsv'):\n",
        "    os.remove('genetic_code.tsv')\n",
        "\n",
        "descarga('http://hplgit.github.io/bioinf-py/data/', 'genetic_code.tsv')\n",
        "assert(os.path.exists('genetic_code.tsv'))\n",
        "\n",
        "assert_raises(Exception, descarga, 'http://hplgit.github.io/bioinf-py/data/', 'genetic_code.tsv')\n",
        "            \n",
        "diccionario = codigos_to_aminoacidos('genetic_code.tsv')\n",
        "assert(diccionario['CAA']=='Glutamine')\n",
        "assert(diccionario['GAC']=='Aspartic acid')\n",
        "assert(diccionario['GGC']=='Glycine')\n",
        "assert(diccionario['CGU']=='Arginine')"
      ],
      "execution_count": 56,
      "outputs": [
        {
          "output_type": "stream",
          "text": [
            "Collecting nose\n",
            "\u001b[?25l  Downloading https://files.pythonhosted.org/packages/15/d8/dd071918c040f50fa1cf80da16423af51ff8ce4a0f2399b7bf8de45ac3d9/nose-1.3.7-py3-none-any.whl (154kB)\n",
            "\r\u001b[K     |██▏                             | 10kB 13.2MB/s eta 0:00:01\r\u001b[K     |████▎                           | 20kB 10.1MB/s eta 0:00:01\r\u001b[K     |██████▍                         | 30kB 8.6MB/s eta 0:00:01\r\u001b[K     |████████▌                       | 40kB 7.6MB/s eta 0:00:01\r\u001b[K     |██████████▋                     | 51kB 4.4MB/s eta 0:00:01\r\u001b[K     |████████████▊                   | 61kB 4.8MB/s eta 0:00:01\r\u001b[K     |██████████████▉                 | 71kB 5.0MB/s eta 0:00:01\r\u001b[K     |█████████████████               | 81kB 5.2MB/s eta 0:00:01\r\u001b[K     |███████████████████             | 92kB 5.4MB/s eta 0:00:01\r\u001b[K     |█████████████████████▏          | 102kB 5.8MB/s eta 0:00:01\r\u001b[K     |███████████████████████▎        | 112kB 5.8MB/s eta 0:00:01\r\u001b[K     |█████████████████████████▍      | 122kB 5.8MB/s eta 0:00:01\r\u001b[K     |███████████████████████████▌    | 133kB 5.8MB/s eta 0:00:01\r\u001b[K     |█████████████████████████████▋  | 143kB 5.8MB/s eta 0:00:01\r\u001b[K     |███████████████████████████████▊| 153kB 5.8MB/s eta 0:00:01\r\u001b[K     |████████████████████████████████| 163kB 5.8MB/s \n",
            "\u001b[?25hInstalling collected packages: nose\n",
            "Successfully installed nose-1.3.7\n"
          ],
          "name": "stdout"
        }
      ]
    },
    {
      "cell_type": "markdown",
      "metadata": {
        "id": "Q_EX5Ihm1s7N"
      },
      "source": [
        "## Ejercicio de ampliación III (0.5 puntos)\n",
        "\n",
        "Añade todos los tipos de entrada y salida de las funciones definidas en la práctica. Comprueba utilizando lo explicado en la práctica 1 que los tipos proporcionados son correctos. "
      ]
    },
    {
      "cell_type": "markdown",
      "metadata": {
        "id": "njqjvrWZ1s7N"
      },
      "source": [
        "## Entrega\n",
        "\n",
        "Recuerda guardar este notebook con tus soluciones en tu repositorio."
      ]
    }
  ]
}