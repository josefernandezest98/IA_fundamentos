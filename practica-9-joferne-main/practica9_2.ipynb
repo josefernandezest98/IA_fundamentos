{
  "nbformat": 4,
  "nbformat_minor": 0,
  "metadata": {
    "accelerator": "GPU",
    "colab": {
      "name": "practica9_2.ipynb",
      "provenance": [],
      "collapsed_sections": [],
      "include_colab_link": true
    },
    "kernelspec": {
      "display_name": "Python 3",
      "language": "python",
      "name": "python3"
    },
    "language_info": {
      "codemirror_mode": {
        "name": "ipython",
        "version": 3
      },
      "file_extension": ".py",
      "mimetype": "text/x-python",
      "name": "python",
      "nbconvert_exporter": "python",
      "pygments_lexer": "ipython3",
      "version": "3.6.7"
    }
  },
  "cells": [
    {
      "cell_type": "markdown",
      "metadata": {
        "id": "view-in-github",
        "colab_type": "text"
      },
      "source": [
        "<a href=\"https://colab.research.google.com/github/IA2021UR/practica-9-joferne/blob/main/practica9_2.ipynb\" target=\"_parent\"><img src=\"https://colab.research.google.com/assets/colab-badge.svg\" alt=\"Open In Colab\"/></a>"
      ]
    },
    {
      "cell_type": "markdown",
      "metadata": {
        "id": "6phqqXPIv6hp"
      },
      "source": [
        "# Práctica 9 Parte 2: Análisis de sentimientos\n",
        "\n",
        "El análisis de sentimientos es un problema de procesado de lenguaje natural donde se pretende conocer la intención de un texto. En esta práctica vamos a ver cómo predecir el sentimiento, positivo o negativo, de una valoracion de una película.\n",
        "\n",
        "En esta ocasión vamos a utilizar la librería de deep learning [Keras](https://keras.io/).\n",
        "\n",
        "\n",
        "En esta práctica es importante que actives el uso de GPU. Para ello ve al menú Edit -> Notebook settings y en la opción Hardware accelerator selecciona la opción de GPU.\n"
      ]
    },
    {
      "cell_type": "markdown",
      "metadata": {
        "id": "BuxiF_2TwdXJ"
      },
      "source": [
        "## Dataset\n",
        "\n",
        "El dataset usado en esta sesión es el dataset [IMDB](http://ai.stanford.edu/~amaas/data/sentiment/). Dicho dataset contiene 25000 valoraciones (positivas y negativas) para entrenar, y 25000 valoraciones  para testear. El objetivo es ser capaz de determinar si una valoración de una película es positiva o negativa. \n",
        "\n",
        "Keras proporciona acceso directo al dataset IMDB en un formato listo para ser usado por las redes neuronales, lo que evita tener que descargarlo y procesarlo. La función ``imdb.load_data()`` permite cargar el dataset donde las palabras han sido reemplazadas por enteros que indican la popularidad (número de apariciones)  de una palabra en el dataset. "
      ]
    },
    {
      "cell_type": "code",
      "metadata": {
        "id": "RKUmkF-Kv5nK",
        "colab": {
          "base_uri": "https://localhost:8080/"
        },
        "outputId": "180e89a1-906c-478b-e9a7-e978899e0922"
      },
      "source": [
        "import numpy as np\n",
        "from tensorflow import keras\n",
        "from tensorflow.keras import layers\n",
        "from keras.datasets import imdb\n",
        "from matplotlib import pyplot as plt\n",
        "%matplotlib inline\n",
        "\n",
        "(X_train,y_train), (X_test,y_test) = imdb.load_data()"
      ],
      "execution_count": null,
      "outputs": [
        {
          "output_type": "stream",
          "text": [
            "<string>:6: VisibleDeprecationWarning: Creating an ndarray from ragged nested sequences (which is a list-or-tuple of lists-or-tuples-or ndarrays with different lengths or shapes) is deprecated. If you meant to do this, you must specify 'dtype=object' when creating the ndarray\n",
            "/usr/local/lib/python3.7/dist-packages/tensorflow/python/keras/datasets/imdb.py:159: VisibleDeprecationWarning: Creating an ndarray from ragged nested sequences (which is a list-or-tuple of lists-or-tuples-or ndarrays with different lengths or shapes) is deprecated. If you meant to do this, you must specify 'dtype=object' when creating the ndarray\n",
            "  x_train, y_train = np.array(xs[:idx]), np.array(labels[:idx])\n",
            "/usr/local/lib/python3.7/dist-packages/tensorflow/python/keras/datasets/imdb.py:160: VisibleDeprecationWarning: Creating an ndarray from ragged nested sequences (which is a list-or-tuple of lists-or-tuples-or ndarrays with different lengths or shapes) is deprecated. If you meant to do this, you must specify 'dtype=object' when creating the ndarray\n",
            "  x_test, y_test = np.array(xs[idx:]), np.array(labels[idx:])\n"
          ],
          "name": "stderr"
        }
      ]
    },
    {
      "cell_type": "markdown",
      "metadata": {
        "id": "NUgMh_RNxqxN"
      },
      "source": [
        "A continuación mostramos la forma del dataset"
      ]
    },
    {
      "cell_type": "code",
      "metadata": {
        "id": "a-6xEME5xhSL",
        "colab": {
          "base_uri": "https://localhost:8080/"
        },
        "outputId": "bfc94e9d-f83e-4862-baef-068525a5762a"
      },
      "source": [
        "print(\"Datos entrenamiento: \")\n",
        "print(X_train.shape)\n",
        "print(y_train.shape)\n",
        "\n",
        "print(\"Datos test: \")\n",
        "print(X_test.shape)\n",
        "print(y_test.shape)"
      ],
      "execution_count": null,
      "outputs": [
        {
          "output_type": "stream",
          "text": [
            "Datos entrenamiento: \n",
            "(25000,)\n",
            "(25000,)\n",
            "Datos test: \n",
            "(25000,)\n",
            "(25000,)\n"
          ],
          "name": "stdout"
        }
      ]
    },
    {
      "cell_type": "markdown",
      "metadata": {
        "id": "v3tU1rzR02ml"
      },
      "source": [
        "Podemos también mostrar que aspecto tienen los elementos de nuestro dataset. "
      ]
    },
    {
      "cell_type": "code",
      "metadata": {
        "id": "yp1zZjX30XvF",
        "colab": {
          "base_uri": "https://localhost:8080/"
        },
        "outputId": "3d30ee25-40ab-46b6-cb1a-4f4a1dcf6358"
      },
      "source": [
        "X_train[0]"
      ],
      "execution_count": null,
      "outputs": [
        {
          "output_type": "execute_result",
          "data": {
            "text/plain": [
              "[1,\n",
              " 14,\n",
              " 22,\n",
              " 16,\n",
              " 43,\n",
              " 530,\n",
              " 973,\n",
              " 1622,\n",
              " 1385,\n",
              " 65,\n",
              " 458,\n",
              " 4468,\n",
              " 66,\n",
              " 3941,\n",
              " 4,\n",
              " 173,\n",
              " 36,\n",
              " 256,\n",
              " 5,\n",
              " 25,\n",
              " 100,\n",
              " 43,\n",
              " 838,\n",
              " 112,\n",
              " 50,\n",
              " 670,\n",
              " 22665,\n",
              " 9,\n",
              " 35,\n",
              " 480,\n",
              " 284,\n",
              " 5,\n",
              " 150,\n",
              " 4,\n",
              " 172,\n",
              " 112,\n",
              " 167,\n",
              " 21631,\n",
              " 336,\n",
              " 385,\n",
              " 39,\n",
              " 4,\n",
              " 172,\n",
              " 4536,\n",
              " 1111,\n",
              " 17,\n",
              " 546,\n",
              " 38,\n",
              " 13,\n",
              " 447,\n",
              " 4,\n",
              " 192,\n",
              " 50,\n",
              " 16,\n",
              " 6,\n",
              " 147,\n",
              " 2025,\n",
              " 19,\n",
              " 14,\n",
              " 22,\n",
              " 4,\n",
              " 1920,\n",
              " 4613,\n",
              " 469,\n",
              " 4,\n",
              " 22,\n",
              " 71,\n",
              " 87,\n",
              " 12,\n",
              " 16,\n",
              " 43,\n",
              " 530,\n",
              " 38,\n",
              " 76,\n",
              " 15,\n",
              " 13,\n",
              " 1247,\n",
              " 4,\n",
              " 22,\n",
              " 17,\n",
              " 515,\n",
              " 17,\n",
              " 12,\n",
              " 16,\n",
              " 626,\n",
              " 18,\n",
              " 19193,\n",
              " 5,\n",
              " 62,\n",
              " 386,\n",
              " 12,\n",
              " 8,\n",
              " 316,\n",
              " 8,\n",
              " 106,\n",
              " 5,\n",
              " 4,\n",
              " 2223,\n",
              " 5244,\n",
              " 16,\n",
              " 480,\n",
              " 66,\n",
              " 3785,\n",
              " 33,\n",
              " 4,\n",
              " 130,\n",
              " 12,\n",
              " 16,\n",
              " 38,\n",
              " 619,\n",
              " 5,\n",
              " 25,\n",
              " 124,\n",
              " 51,\n",
              " 36,\n",
              " 135,\n",
              " 48,\n",
              " 25,\n",
              " 1415,\n",
              " 33,\n",
              " 6,\n",
              " 22,\n",
              " 12,\n",
              " 215,\n",
              " 28,\n",
              " 77,\n",
              " 52,\n",
              " 5,\n",
              " 14,\n",
              " 407,\n",
              " 16,\n",
              " 82,\n",
              " 10311,\n",
              " 8,\n",
              " 4,\n",
              " 107,\n",
              " 117,\n",
              " 5952,\n",
              " 15,\n",
              " 256,\n",
              " 4,\n",
              " 31050,\n",
              " 7,\n",
              " 3766,\n",
              " 5,\n",
              " 723,\n",
              " 36,\n",
              " 71,\n",
              " 43,\n",
              " 530,\n",
              " 476,\n",
              " 26,\n",
              " 400,\n",
              " 317,\n",
              " 46,\n",
              " 7,\n",
              " 4,\n",
              " 12118,\n",
              " 1029,\n",
              " 13,\n",
              " 104,\n",
              " 88,\n",
              " 4,\n",
              " 381,\n",
              " 15,\n",
              " 297,\n",
              " 98,\n",
              " 32,\n",
              " 2071,\n",
              " 56,\n",
              " 26,\n",
              " 141,\n",
              " 6,\n",
              " 194,\n",
              " 7486,\n",
              " 18,\n",
              " 4,\n",
              " 226,\n",
              " 22,\n",
              " 21,\n",
              " 134,\n",
              " 476,\n",
              " 26,\n",
              " 480,\n",
              " 5,\n",
              " 144,\n",
              " 30,\n",
              " 5535,\n",
              " 18,\n",
              " 51,\n",
              " 36,\n",
              " 28,\n",
              " 224,\n",
              " 92,\n",
              " 25,\n",
              " 104,\n",
              " 4,\n",
              " 226,\n",
              " 65,\n",
              " 16,\n",
              " 38,\n",
              " 1334,\n",
              " 88,\n",
              " 12,\n",
              " 16,\n",
              " 283,\n",
              " 5,\n",
              " 16,\n",
              " 4472,\n",
              " 113,\n",
              " 103,\n",
              " 32,\n",
              " 15,\n",
              " 16,\n",
              " 5345,\n",
              " 19,\n",
              " 178,\n",
              " 32]"
            ]
          },
          "metadata": {
            "tags": []
          },
          "execution_count": 35
        }
      ]
    },
    {
      "cell_type": "markdown",
      "metadata": {
        "id": "Vny1jGOW07rt"
      },
      "source": [
        "A partir de la instrucción anterior podemos ver que los elementos de nuestro dataset se representan mediante una lista de enteros, donde cada entero está asociado a una palabra. Para restaurar el mensaje original podemos ejecutar el siguiente comando."
      ]
    },
    {
      "cell_type": "code",
      "metadata": {
        "id": "2U-wuB5V1HlN",
        "colab": {
          "base_uri": "https://localhost:8080/",
          "height": 137
        },
        "outputId": "eb9dd1fc-44bd-46f0-b661-52976c5080db"
      },
      "source": [
        "word_index = imdb.get_word_index()\n",
        "reverse_word_index = dict([(value, key) for (key, value) in word_index.items()])\n",
        "' '.join([reverse_word_index.get(i - 3, '?') for i in X_train[0]])"
      ],
      "execution_count": null,
      "outputs": [
        {
          "output_type": "execute_result",
          "data": {
            "application/vnd.google.colaboratory.intrinsic+json": {
              "type": "string"
            },
            "text/plain": [
              "\"? this film was just brilliant casting location scenery story direction everyone's really suited the part they played and you could just imagine being there robert redford's is an amazing actor and now the same being director norman's father came from the same scottish island as myself so i loved the fact there was a real connection with this film the witty remarks throughout the film were great it was just brilliant so much that i bought the film as soon as it was released for retail and would recommend it to everyone to watch and the fly fishing was amazing really cried at the end it was so sad and you know what they say if you cry at a film it must have been good and this definitely was also congratulations to the two little boy's that played the part's of norman and paul they were just brilliant children are often left out of the praising list i think because the stars that play them all grown up are such a big profile for the whole film but these children are amazing and should be praised for what they have done don't you think the whole story was so lovely because it was true and was someone's life after all that was shared with us all\""
            ]
          },
          "metadata": {
            "tags": []
          },
          "execution_count": 36
        }
      ]
    },
    {
      "cell_type": "markdown",
      "metadata": {
        "id": "i2xguDlUx4HE"
      },
      "source": [
        "Podemos también mostrar el número de clases (veremos que nos devuelve dos clases, el 0 representa una valoración negativa y el 1 una valoración positiva)"
      ]
    },
    {
      "cell_type": "code",
      "metadata": {
        "id": "R2Is1hLMx3lH",
        "colab": {
          "base_uri": "https://localhost:8080/"
        },
        "outputId": "a8e638c1-f85a-4de0-be1e-9715e3e68b43"
      },
      "source": [
        "print(\"Clases: \")\n",
        "print(np.unique(y_train))"
      ],
      "execution_count": null,
      "outputs": [
        {
          "output_type": "stream",
          "text": [
            "Clases: \n",
            "[0 1]\n"
          ],
          "name": "stdout"
        }
      ]
    },
    {
      "cell_type": "markdown",
      "metadata": {
        "id": "yXAyv1tRyA0p"
      },
      "source": [
        "También podemos ver el número total de palabras del dataset. "
      ]
    },
    {
      "cell_type": "code",
      "metadata": {
        "id": "V-wdh746x0ys",
        "colab": {
          "base_uri": "https://localhost:8080/"
        },
        "outputId": "10034a6d-9884-4c30-a507-248f64fd8e6a"
      },
      "source": [
        "print(\"Número de palabras: \")\n",
        "print(len(np.unique(np.hstack(X_train))))"
      ],
      "execution_count": null,
      "outputs": [
        {
          "output_type": "stream",
          "text": [
            "Número de palabras: \n",
            "88585\n"
          ],
          "name": "stdout"
        }
      ]
    },
    {
      "cell_type": "markdown",
      "metadata": {
        "id": "oI_wbtThyLeE"
      },
      "source": [
        "Finalmente, podemos ver la longitud media de las valoraciones. "
      ]
    },
    {
      "cell_type": "code",
      "metadata": {
        "id": "LDpgxcCKyHZy",
        "colab": {
          "base_uri": "https://localhost:8080/",
          "height": 299
        },
        "outputId": "b29776ea-cf75-44d9-e144-87072fc88ca2"
      },
      "source": [
        "print(\"Longitud media: \")\n",
        "result = [len(x) for x in X_train]\n",
        "print(\"Media %.2f palabras (%f)\" % (np.mean(result),np.std(result)))\n",
        "plt.subplot(121)\n",
        "plt.boxplot(result)\n",
        "plt.subplot(122)\n",
        "plt.hist(result)\n",
        "plt.show()"
      ],
      "execution_count": null,
      "outputs": [
        {
          "output_type": "stream",
          "text": [
            "Longitud media: \n",
            "Media 238.71 palabras (176.493674)\n"
          ],
          "name": "stdout"
        },
        {
          "output_type": "display_data",
          "data": {
            "image/png": "[encoded data removed]",
            "text/plain": [
              "<Figure size 432x288 with 2 Axes>"
            ]
          },
          "metadata": {
            "tags": [],
            "needs_background": "light"
          }
        }
      ]
    },
    {
      "cell_type": "markdown",
      "metadata": {
        "id": "sporAx6Fy8U2"
      },
      "source": [
        "##### Ejercicio\n",
        "A partir de los diagramas anteriores, ¿qué puedes decir del tamaño de las valoraciones? ¿Cuál sería el tamaño de la valoración más larga (para esta pregunta puedes ejecutar alguna instrucción adicional)?"
      ]
    },
    {
      "cell_type": "code",
      "metadata": {
        "id": "IEOgsZZNS-6Y",
        "colab": {
          "base_uri": "https://localhost:8080/"
        },
        "outputId": "44e45253-ad32-432a-9374-03cf3a447710"
      },
      "source": [
        "np.mean(result)"
      ],
      "execution_count": null,
      "outputs": [
        {
          "output_type": "execute_result",
          "data": {
            "text/plain": [
              "238.71364"
            ]
          },
          "metadata": {
            "tags": []
          },
          "execution_count": 40
        }
      ]
    },
    {
      "cell_type": "code",
      "metadata": {
        "colab": {
          "base_uri": "https://localhost:8080/"
        },
        "id": "44kX4oQSUU5x",
        "outputId": "1340d2d1-5a2a-475b-a4ad-2387119fb614"
      },
      "source": [
        "np.max(result)"
      ],
      "execution_count": null,
      "outputs": [
        {
          "output_type": "execute_result",
          "data": {
            "text/plain": [
              "2494"
            ]
          },
          "metadata": {
            "tags": []
          },
          "execution_count": 41
        }
      ]
    },
    {
      "cell_type": "markdown",
      "metadata": {
        "id": "VSxJ4_boUlUn"
      },
      "source": [
        "La media y mayor parte de las valoraciones se encuentran en torno a 239 palabras. El tamaño de valoración más larga es de 2494 palabras."
      ]
    },
    {
      "cell_type": "markdown",
      "metadata": {
        "id": "IK8fKDD8zU1N"
      },
      "source": [
        "## Word embeddings\n",
        "\n",
        "Como ya hemos visto, uno de los grandes avances más recientes en el área del procesamiento de lenguaje natural son los *word embeddings*. Los *word embeddings* son una técnica donde las palabras se codifican como vectores de reales en un espacio de dimensión alta, donde las similaridad entre palabras se traduce en cercanía de los vectores. Esto s muy útil ya que al trabajar con redes neuronales se requiere una conversión de las palabras a números. \n",
        "\n",
        "Por el momento no vamos a usar ningún word embedding de los vistos con anterioridad, sino que vamos aprenderlos directamente a partir de nuestros datos. Keras proporciona una manera sencilla de convertir representaciones de palabras mediante enteros positios a un word embedding mediante una capa de ``Embedding``. Esta capa toma argumentos que definen la asociación de palabras a vectores. Estos argumentos incluyen el número máximo de palabras esperadas, también conocido como el tamaño del vocabulario. Esta capa también permite especificar la dimensionalidad de la representación.\n",
        "\n",
        "Queremos usar una representación para nuestro dataset. Digamos que estamos interesados en las 5000 palabras más usadas del dataset. Por lo tanto, nuestro vocabulario tendrá 5000 elementos. También podemos elegir usar un vector de dimensión 32 para representar cada una de las palabras. Finalmente, podemos fijar que la longitud máxima de las valoraciones sea de 500 palabras, truncando aquellas que son más largas y añadiendo ceros a las que son más cortas. Vamos a obtener de nuevo nuestro dataset teniendo esto en cuenta. También vamos a definir un conjunto de validación usando el 20% del conjunto de entrenamiento. "
      ]
    },
    {
      "cell_type": "code",
      "metadata": {
        "id": "9_NDC7Nb18NR",
        "colab": {
          "base_uri": "https://localhost:8080/"
        },
        "outputId": "11c11645-47a5-4f86-a60b-45ec83571ca7"
      },
      "source": [
        "from sklearn.model_selection import train_test_split\n",
        "(X_train,y_train), (X_test,y_test) = imdb.load_data(num_words=5000)\n",
        "X_train, X_val, y_train, y_val = train_test_split(X_train, y_train, \n",
        "                                                    test_size=0.2,\n",
        "                                                    random_state=15)"
      ],
      "execution_count": null,
      "outputs": [
        {
          "output_type": "stream",
          "text": [
            "<string>:6: VisibleDeprecationWarning: Creating an ndarray from ragged nested sequences (which is a list-or-tuple of lists-or-tuples-or ndarrays with different lengths or shapes) is deprecated. If you meant to do this, you must specify 'dtype=object' when creating the ndarray\n",
            "/usr/local/lib/python3.7/dist-packages/tensorflow/python/keras/datasets/imdb.py:159: VisibleDeprecationWarning: Creating an ndarray from ragged nested sequences (which is a list-or-tuple of lists-or-tuples-or ndarrays with different lengths or shapes) is deprecated. If you meant to do this, you must specify 'dtype=object' when creating the ndarray\n",
            "  x_train, y_train = np.array(xs[:idx]), np.array(labels[:idx])\n",
            "/usr/local/lib/python3.7/dist-packages/tensorflow/python/keras/datasets/imdb.py:160: VisibleDeprecationWarning: Creating an ndarray from ragged nested sequences (which is a list-or-tuple of lists-or-tuples-or ndarrays with different lengths or shapes) is deprecated. If you meant to do this, you must specify 'dtype=object' when creating the ndarray\n",
            "  x_test, y_test = np.array(xs[idx:]), np.array(labels[idx:])\n"
          ],
          "name": "stderr"
        }
      ]
    },
    {
      "cell_type": "markdown",
      "metadata": {
        "id": "-SK9-Tl_hb_8"
      },
      "source": [
        "Podemos ahora truncar o completar cada una de las valoraciones para que contenga 500 palabras."
      ]
    },
    {
      "cell_type": "code",
      "metadata": {
        "id": "mSzzZrpMhbvc"
      },
      "source": [
        "from keras.preprocessing import sequence\n",
        "max_words = 500\n",
        "X_train = sequence.pad_sequences(X_train, maxlen=max_words)\n",
        "X_val = sequence.pad_sequences(X_val, maxlen=max_words)\n",
        "X_test = sequence.pad_sequences(X_test, maxlen=max_words)"
      ],
      "execution_count": null,
      "outputs": []
    },
    {
      "cell_type": "markdown",
      "metadata": {
        "id": "nnzqo7W1hsjS"
      },
      "source": [
        "## Modelo Red Neuronal Simple\n",
        "\n",
        "Vamos a construir varios modelos para nuestro dataset. Comenzaremos con una red neuronal multicapa con una única capa oculta. La innovación será la capa de word embedding que muestra cómo se pueden conseguir buenos resultados con un modelo tan simple. \n",
        "\n",
        "Comenzamos importando las funciones necesarias e inicializando una semilla para obtener resultados consistentes. "
      ]
    },
    {
      "cell_type": "code",
      "metadata": {
        "id": "JRgSo0KxhVpk"
      },
      "source": [
        "from keras.models import Sequential\n",
        "from keras.layers import Dense\n",
        "from keras.layers import Flatten\n",
        "from keras.layers.embeddings import Embedding\n",
        "\n",
        "seed = 15\n",
        "np.random.seed(seed)"
      ],
      "execution_count": null,
      "outputs": []
    },
    {
      "cell_type": "markdown",
      "metadata": {
        "id": "h4WK-RLKiOc1"
      },
      "source": [
        "A continuación creamos nuestro modelo."
      ]
    },
    {
      "cell_type": "code",
      "metadata": {
        "id": "UWSEjE-FiMIi",
        "colab": {
          "base_uri": "https://localhost:8080/"
        },
        "outputId": "e3e3ea05-be5a-46b7-a2cf-af8774089ae8"
      },
      "source": [
        "top_words = 5000\n",
        "def create_model():\n",
        "  model = Sequential()\n",
        "  model.add(Embedding(top_words,32,input_length=max_words))\n",
        "  model.add(Flatten())\n",
        "  model.add(Dense(250,activation='relu'))\n",
        "  model.add(Dense(1,activation='sigmoid'))\n",
        "  model.compile(loss='binary_crossentropy',optimizer='adam',metrics=['accuracy'])\n",
        "  print(model.summary())\n",
        "  return model\n",
        "\n",
        "model1 = create_model()"
      ],
      "execution_count": null,
      "outputs": [
        {
          "output_type": "stream",
          "text": [
            "Model: \"sequential_5\"\n",
            "_________________________________________________________________\n",
            "Layer (type)                 Output Shape              Param #   \n",
            "=================================================================\n",
            "embedding_5 (Embedding)      (None, 500, 32)           160000    \n",
            "_________________________________________________________________\n",
            "flatten_3 (Flatten)          (None, 16000)             0         \n",
            "_________________________________________________________________\n",
            "dense_8 (Dense)              (None, 250)               4000250   \n",
            "_________________________________________________________________\n",
            "dense_9 (Dense)              (None, 1)                 251       \n",
            "=================================================================\n",
            "Total params: 4,160,501\n",
            "Trainable params: 4,160,501\n",
            "Non-trainable params: 0\n",
            "_________________________________________________________________\n",
            "None\n"
          ],
          "name": "stdout"
        }
      ]
    },
    {
      "cell_type": "markdown",
      "metadata": {
        "id": "r3lFAC4Qim6l"
      },
      "source": [
        "Vamos ahora a entrenar el modelo y a mostrar su curva de entrenamiento y validación. "
      ]
    },
    {
      "cell_type": "code",
      "metadata": {
        "id": "ka-LkfnTikox",
        "colab": {
          "base_uri": "https://localhost:8080/"
        },
        "outputId": "09f6f0e4-6438-45d8-fb11-3c1c2ee7be87"
      },
      "source": [
        "history = model1.fit(X_train,y_train,validation_data=(X_val,y_val),epochs=10,batch_size=128,verbose=1)"
      ],
      "execution_count": null,
      "outputs": [
        {
          "output_type": "stream",
          "text": [
            "Epoch 1/10\n",
            "157/157 [==============================] - 2s 13ms/step - loss: 0.6829 - accuracy: 0.5711 - val_loss: 0.3325 - val_accuracy: 0.8674\n",
            "Epoch 2/10\n",
            "157/157 [==============================] - 2s 12ms/step - loss: 0.2301 - accuracy: 0.9086 - val_loss: 0.2995 - val_accuracy: 0.8744\n",
            "Epoch 3/10\n",
            "157/157 [==============================] - 2s 12ms/step - loss: 0.0922 - accuracy: 0.9731 - val_loss: 0.3601 - val_accuracy: 0.8668\n",
            "Epoch 4/10\n",
            "157/157 [==============================] - 2s 12ms/step - loss: 0.0225 - accuracy: 0.9966 - val_loss: 0.4838 - val_accuracy: 0.8580\n",
            "Epoch 5/10\n",
            "157/157 [==============================] - 2s 12ms/step - loss: 0.0048 - accuracy: 0.9997 - val_loss: 0.5189 - val_accuracy: 0.8672\n",
            "Epoch 6/10\n",
            "157/157 [==============================] - 2s 12ms/step - loss: 0.0011 - accuracy: 1.0000 - val_loss: 0.5570 - val_accuracy: 0.8666\n",
            "Epoch 7/10\n",
            "157/157 [==============================] - 2s 12ms/step - loss: 5.7527e-04 - accuracy: 1.0000 - val_loss: 0.5905 - val_accuracy: 0.8676\n",
            "Epoch 8/10\n",
            "157/157 [==============================] - 2s 12ms/step - loss: 3.5407e-04 - accuracy: 1.0000 - val_loss: 0.6105 - val_accuracy: 0.8692\n",
            "Epoch 9/10\n",
            "157/157 [==============================] - 2s 12ms/step - loss: 2.4121e-04 - accuracy: 1.0000 - val_loss: 0.6275 - val_accuracy: 0.8688\n",
            "Epoch 10/10\n",
            "157/157 [==============================] - 2s 12ms/step - loss: 1.8440e-04 - accuracy: 1.0000 - val_loss: 0.6470 - val_accuracy: 0.8700\n"
          ],
          "name": "stdout"
        }
      ]
    },
    {
      "cell_type": "code",
      "metadata": {
        "id": "Oai2aUhzj1ru",
        "colab": {
          "base_uri": "https://localhost:8080/",
          "height": 281
        },
        "outputId": "8ede1fa4-9a5e-425a-fd1b-88c4e3aeb89c"
      },
      "source": [
        "acc = history.history['accuracy']\n",
        "val_acc = history.history['val_accuracy']\n",
        "\n",
        "epochs = range(len(acc))\n",
        "plt.plot(epochs, acc, 'bo')\n",
        "plt.plot(epochs, val_acc, 'b')\n",
        "plt.title('Training and validation accuracy')\n",
        "\n",
        "plt.show()"
      ],
      "execution_count": null,
      "outputs": [
        {
          "output_type": "display_data",
          "data": {
            "image/png": "[encoded data removed]",
            "text/plain": [
              "<Figure size 432x288 with 1 Axes>"
            ]
          },
          "metadata": {
            "tags": [],
            "needs_background": "light"
          }
        }
      ]
    },
    {
      "cell_type": "markdown",
      "metadata": {
        "id": "ze17EMFCkr8J"
      },
      "source": [
        "##### Ejercicio\n",
        "A partir de las gráficas anteriores ¿qué problema tiene nuestro modelo?"
      ]
    },
    {
      "cell_type": "markdown",
      "metadata": {
        "id": "vWpWs2Nckwzl"
      },
      "source": [
        "Respuesta: tenemos un sobreajuste del modelo."
      ]
    },
    {
      "cell_type": "markdown",
      "metadata": {
        "id": "SIZkZl59k47Z"
      },
      "source": [
        "Para evitar el problema anterior, vamos a entrenar de nuevo nuestra red, pero sólo 2 épocas. "
      ]
    },
    {
      "cell_type": "code",
      "metadata": {
        "id": "x6FNEw_nkwRX",
        "colab": {
          "base_uri": "https://localhost:8080/"
        },
        "outputId": "a831ce50-c654-4887-8ca7-2335300af045"
      },
      "source": [
        "model2 = create_model()\n",
        "model2.fit(X_train,y_train,validation_data=(X_val,y_val),epochs=2,batch_size=128,verbose=1)"
      ],
      "execution_count": null,
      "outputs": [
        {
          "output_type": "stream",
          "text": [
            "Model: \"sequential_6\"\n",
            "_________________________________________________________________\n",
            "Layer (type)                 Output Shape              Param #   \n",
            "=================================================================\n",
            "embedding_6 (Embedding)      (None, 500, 32)           160000    \n",
            "_________________________________________________________________\n",
            "flatten_4 (Flatten)          (None, 16000)             0         \n",
            "_________________________________________________________________\n",
            "dense_10 (Dense)             (None, 250)               4000250   \n",
            "_________________________________________________________________\n",
            "dense_11 (Dense)             (None, 1)                 251       \n",
            "=================================================================\n",
            "Total params: 4,160,501\n",
            "Trainable params: 4,160,501\n",
            "Non-trainable params: 0\n",
            "_________________________________________________________________\n",
            "None\n",
            "Epoch 1/2\n",
            "157/157 [==============================] - 2s 12ms/step - loss: 0.6216 - accuracy: 0.6266 - val_loss: 0.2994 - val_accuracy: 0.8786\n",
            "Epoch 2/2\n",
            "157/157 [==============================] - 2s 12ms/step - loss: 0.1874 - accuracy: 0.9298 - val_loss: 0.3267 - val_accuracy: 0.8684\n"
          ],
          "name": "stdout"
        },
        {
          "output_type": "execute_result",
          "data": {
            "text/plain": [
              "<tensorflow.python.keras.callbacks.History at 0x7fdd8abcf390>"
            ]
          },
          "metadata": {
            "tags": []
          },
          "execution_count": 48
        }
      ]
    },
    {
      "cell_type": "markdown",
      "metadata": {
        "id": "A6GSdAl0lR3d"
      },
      "source": [
        "Por último, evaluamos nuestro modelo en el conjunto de test. "
      ]
    },
    {
      "cell_type": "code",
      "metadata": {
        "id": "mK6mqa7ilC-d",
        "colab": {
          "base_uri": "https://localhost:8080/"
        },
        "outputId": "f890be8b-c706-48d8-df2d-60fa0645c4d6"
      },
      "source": [
        "scores = model2.evaluate(X_test, y_test, verbose=0)\n",
        "print(\"Accuracy: %.2f%%\" % (scores[1]*100))"
      ],
      "execution_count": null,
      "outputs": [
        {
          "output_type": "stream",
          "text": [
            "Accuracy: 86.73%\n"
          ],
          "name": "stdout"
        }
      ]
    },
    {
      "cell_type": "markdown",
      "metadata": {
        "id": "ZC52vpEllnzr"
      },
      "source": [
        "Podemos también evaluar el modelo que tenía el problema y podemos ver que la accuracy es peor que la que hemos obtenido con el otro modelo, a pesar de haberlo entrenado por menos tiempo. "
      ]
    },
    {
      "cell_type": "code",
      "metadata": {
        "id": "bq1mZ62ilcyt",
        "colab": {
          "base_uri": "https://localhost:8080/"
        },
        "outputId": "c9050f52-aff3-451b-ee9e-5497ed55d04c"
      },
      "source": [
        "scores = model1.evaluate(X_test, y_test, verbose=0)\n",
        "print(\"Accuracy: %.2f%%\" % (scores[1]*100))"
      ],
      "execution_count": null,
      "outputs": [
        {
          "output_type": "stream",
          "text": [
            "Accuracy: 86.75%\n"
          ],
          "name": "stdout"
        }
      ]
    },
    {
      "cell_type": "markdown",
      "metadata": {
        "id": "yjnMFte6l3KI"
      },
      "source": [
        "## Red neuronal convolucional de una dimensión\n",
        "\n",
        "Las redes neuronales convolucionales fueron creadas para tener en cuenta la estructura espacial de los datos en imágenes siendo robustas a cambios en la posición y orientación de los objetos. Este mismo principio se puede aplicar a secuencias como son las secuencias 1-dimensionales de palabras de una valoración de película.  Vamos a utilizar dicha propiedad en nuestro problema. \n",
        "\n",
        "Comenzamos cargando las librerías necesarias para trabajar con redes convolucionales 1-dimensionales. "
      ]
    },
    {
      "cell_type": "code",
      "metadata": {
        "id": "1ZOstGNRl0tt"
      },
      "source": [
        "from keras.models import Sequential\n",
        "from keras.layers import Dense\n",
        "from keras.layers import Flatten\n",
        "from keras.layers.convolutional import Convolution1D\n",
        "from keras.layers.convolutional import MaxPooling1D\n",
        "from keras.layers.embeddings import Embedding"
      ],
      "execution_count": null,
      "outputs": []
    },
    {
      "cell_type": "markdown",
      "metadata": {
        "id": "WlWLECjrmu7T"
      },
      "source": [
        "Definimos el modelo."
      ]
    },
    {
      "cell_type": "code",
      "metadata": {
        "id": "TQrHI4dBmswa",
        "colab": {
          "base_uri": "https://localhost:8080/"
        },
        "outputId": "4a05d2e4-187a-4596-ba8d-6a51297f884e"
      },
      "source": [
        "def create_cnn_model():\n",
        "  model = Sequential()\n",
        "  model.add(Embedding(top_words,32,input_length=max_words))\n",
        "  model.add(Convolution1D(filters=32,kernel_size=3,padding='same',activation='relu'))\n",
        "  model.add(MaxPooling1D(pool_size=2))\n",
        "  model.add(Flatten())\n",
        "  model.add(Dense(250,activation='relu'))\n",
        "  model.add(Dense(1,activation='sigmoid'))\n",
        "  model.compile(loss='binary_crossentropy',optimizer='adam',metrics=['accuracy'])\n",
        "  print(model.summary())\n",
        "  return model\n",
        "\n",
        "model3 = create_cnn_model()"
      ],
      "execution_count": null,
      "outputs": [
        {
          "output_type": "stream",
          "text": [
            "Model: \"sequential_7\"\n",
            "_________________________________________________________________\n",
            "Layer (type)                 Output Shape              Param #   \n",
            "=================================================================\n",
            "embedding_7 (Embedding)      (None, 500, 32)           160000    \n",
            "_________________________________________________________________\n",
            "conv1d_1 (Conv1D)            (None, 500, 32)           3104      \n",
            "_________________________________________________________________\n",
            "max_pooling1d_1 (MaxPooling1 (None, 250, 32)           0         \n",
            "_________________________________________________________________\n",
            "flatten_5 (Flatten)          (None, 8000)              0         \n",
            "_________________________________________________________________\n",
            "dense_12 (Dense)             (None, 250)               2000250   \n",
            "_________________________________________________________________\n",
            "dense_13 (Dense)             (None, 1)                 251       \n",
            "=================================================================\n",
            "Total params: 2,163,605\n",
            "Trainable params: 2,163,605\n",
            "Non-trainable params: 0\n",
            "_________________________________________________________________\n",
            "None\n"
          ],
          "name": "stdout"
        }
      ]
    },
    {
      "cell_type": "markdown",
      "metadata": {
        "id": "6afTi6sNnPNy"
      },
      "source": [
        "Entrenamos este nuevo modelo. "
      ]
    },
    {
      "cell_type": "code",
      "metadata": {
        "id": "IRzY8kF4nLym",
        "colab": {
          "base_uri": "https://localhost:8080/"
        },
        "outputId": "f44243b4-7a4f-4e40-8ead-c0eeacf67bfc"
      },
      "source": [
        "model3.fit(X_train,y_train,validation_data=(X_val,y_val),epochs=2,batch_size=128,verbose=1)"
      ],
      "execution_count": null,
      "outputs": [
        {
          "output_type": "stream",
          "text": [
            "Epoch 1/2\n",
            "157/157 [==============================] - 3s 14ms/step - loss: 0.6195 - accuracy: 0.6054 - val_loss: 0.2832 - val_accuracy: 0.8820\n",
            "Epoch 2/2\n",
            "157/157 [==============================] - 2s 13ms/step - loss: 0.2146 - accuracy: 0.9162 - val_loss: 0.2730 - val_accuracy: 0.8888\n"
          ],
          "name": "stdout"
        },
        {
          "output_type": "execute_result",
          "data": {
            "text/plain": [
              "<tensorflow.python.keras.callbacks.History at 0x7fdd7fb4af10>"
            ]
          },
          "metadata": {
            "tags": []
          },
          "execution_count": 53
        }
      ]
    },
    {
      "cell_type": "markdown",
      "metadata": {
        "id": "kHSZVP6_nWYF"
      },
      "source": [
        "Y evaluamos su precisión. "
      ]
    },
    {
      "cell_type": "code",
      "metadata": {
        "id": "GwzB0dVqnUXu",
        "colab": {
          "base_uri": "https://localhost:8080/"
        },
        "outputId": "5961da67-63d1-46f4-9da1-63459167a3cf"
      },
      "source": [
        "scores = model3.evaluate(X_test, y_test, verbose=0)\n",
        "print(\"Accuracy: %.2f%%\" % (scores[1]*100))"
      ],
      "execution_count": null,
      "outputs": [
        {
          "output_type": "stream",
          "text": [
            "Accuracy: 88.47%\n"
          ],
          "name": "stdout"
        }
      ]
    },
    {
      "cell_type": "markdown",
      "metadata": {
        "id": "fsbGqqqyndQ2"
      },
      "source": [
        "Como podemos ver, este modelo mejora los resultados obtenidos con el modelo anterior. "
      ]
    },
    {
      "cell_type": "markdown",
      "metadata": {
        "id": "8mDQSJRQnrQs"
      },
      "source": [
        "## LSTM\n",
        "\n",
        "Vamos a crear ahora una pequeña red LSTM. Como en casos anteriores comenzamos cargando las librerías necesarias. "
      ]
    },
    {
      "cell_type": "code",
      "metadata": {
        "id": "_aWkJRNRnbCu"
      },
      "source": [
        "from keras.layers import LSTM"
      ],
      "execution_count": null,
      "outputs": []
    },
    {
      "cell_type": "markdown",
      "metadata": {
        "id": "jR1BM2Z2n2vx"
      },
      "source": [
        "Definimos el modelo. "
      ]
    },
    {
      "cell_type": "code",
      "metadata": {
        "id": "xrX9oAPKn1XD",
        "colab": {
          "base_uri": "https://localhost:8080/"
        },
        "outputId": "d4c21236-6e38-496d-b890-85f07534e1fc"
      },
      "source": [
        "def create_lstm_model():\n",
        "  model = Sequential()\n",
        "  model.add(Embedding(top_words,32,input_length=max_words))\n",
        "  model.add(LSTM(100))\n",
        "  model.add(Dense(1,activation='sigmoid'))\n",
        "  model.compile(loss='binary_crossentropy',optimizer='adam',metrics=['accuracy'])\n",
        "  print(model.summary())\n",
        "  return model\n",
        "\n",
        "model4 = create_lstm_model()"
      ],
      "execution_count": null,
      "outputs": [
        {
          "output_type": "stream",
          "text": [
            "Model: \"sequential_8\"\n",
            "_________________________________________________________________\n",
            "Layer (type)                 Output Shape              Param #   \n",
            "=================================================================\n",
            "embedding_8 (Embedding)      (None, 500, 32)           160000    \n",
            "_________________________________________________________________\n",
            "lstm_2 (LSTM)                (None, 100)               53200     \n",
            "_________________________________________________________________\n",
            "dense_14 (Dense)             (None, 1)                 101       \n",
            "=================================================================\n",
            "Total params: 213,301\n",
            "Trainable params: 213,301\n",
            "Non-trainable params: 0\n",
            "_________________________________________________________________\n",
            "None\n"
          ],
          "name": "stdout"
        }
      ]
    },
    {
      "cell_type": "markdown",
      "metadata": {
        "id": "3rSULKl_oOQG"
      },
      "source": [
        "Entrenamos el modelo. "
      ]
    },
    {
      "cell_type": "code",
      "metadata": {
        "id": "EfXNhtt7oIAe",
        "colab": {
          "base_uri": "https://localhost:8080/"
        },
        "outputId": "ff5b0d3d-2606-4ea0-ce06-7122134bc7a9"
      },
      "source": [
        "model4.fit(X_train,y_train,validation_data=(X_val,y_val),epochs=2,batch_size=128,verbose=1)"
      ],
      "execution_count": null,
      "outputs": [
        {
          "output_type": "stream",
          "text": [
            "Epoch 1/2\n",
            "157/157 [==============================] - 8s 42ms/step - loss: 0.6544 - accuracy: 0.5877 - val_loss: 0.4109 - val_accuracy: 0.8134\n",
            "Epoch 2/2\n",
            "157/157 [==============================] - 6s 39ms/step - loss: 0.3301 - accuracy: 0.8630 - val_loss: 0.3246 - val_accuracy: 0.8698\n"
          ],
          "name": "stdout"
        },
        {
          "output_type": "execute_result",
          "data": {
            "text/plain": [
              "<tensorflow.python.keras.callbacks.History at 0x7fdd88fba490>"
            ]
          },
          "metadata": {
            "tags": []
          },
          "execution_count": 57
        }
      ]
    },
    {
      "cell_type": "markdown",
      "metadata": {
        "id": "LZ5frttYobKh"
      },
      "source": [
        "Y por último lo evaluamos contra el conjunto de test. "
      ]
    },
    {
      "cell_type": "code",
      "metadata": {
        "id": "wTLDWgMgoac3",
        "colab": {
          "base_uri": "https://localhost:8080/"
        },
        "outputId": "cb80d4df-d9cc-41ef-cf3a-f0722b7cb161"
      },
      "source": [
        "scores = model4.evaluate(X_test, y_test, verbose=0)\n",
        "print(\"Accuracy: %.2f%%\" % (scores[1]*100))"
      ],
      "execution_count": null,
      "outputs": [
        {
          "output_type": "stream",
          "text": [
            "Accuracy: 85.80%\n"
          ],
          "name": "stdout"
        }
      ]
    },
    {
      "cell_type": "markdown",
      "metadata": {
        "id": "T8bqux5Xppmv"
      },
      "source": [
        "## LSTM con Dropout\n",
        "\n",
        "Uno de los problemas que tienen todas las redes que hemos definido hasta ahora es que tienden a sobreajustarse muy rápido. Para evitar dicho problema se puede utilizar la técnica de Dropout. \n",
        "\n",
        "Para ello definimos el siguiente modelo. \n"
      ]
    },
    {
      "cell_type": "code",
      "metadata": {
        "id": "lTen2yrTH2-7"
      },
      "source": [
        "from keras.layers import Dropout"
      ],
      "execution_count": null,
      "outputs": []
    },
    {
      "cell_type": "code",
      "metadata": {
        "id": "wGsBXaOqohAA",
        "colab": {
          "base_uri": "https://localhost:8080/"
        },
        "outputId": "9d806360-0023-436e-8550-881564de42da"
      },
      "source": [
        "def create_lstm_dropout_model():\n",
        "  model = Sequential()\n",
        "  model.add(Embedding(top_words,32,input_length=max_words))\n",
        "  model.add(Dropout(0.2))\n",
        "  model.add(LSTM(100,dropout=0.2,recurrent_dropout=0.2))\n",
        "  model.add(Dense(1,activation='sigmoid'))\n",
        "  model.compile(loss='binary_crossentropy',optimizer='adam',metrics=['accuracy'])\n",
        "  print(model.summary())\n",
        "  return model\n",
        "\n",
        "model5 = create_lstm_dropout_model()"
      ],
      "execution_count": null,
      "outputs": [
        {
          "output_type": "stream",
          "text": [
            "WARNING:tensorflow:Layer lstm_3 will not use cuDNN kernel since it doesn't meet the cuDNN kernel criteria. It will use generic GPU kernel as fallback when running on GPU\n",
            "Model: \"sequential_9\"\n",
            "_________________________________________________________________\n",
            "Layer (type)                 Output Shape              Param #   \n",
            "=================================================================\n",
            "embedding_9 (Embedding)      (None, 500, 32)           160000    \n",
            "_________________________________________________________________\n",
            "dropout_1 (Dropout)          (None, 500, 32)           0         \n",
            "_________________________________________________________________\n",
            "lstm_3 (LSTM)                (None, 100)               53200     \n",
            "_________________________________________________________________\n",
            "dense_15 (Dense)             (None, 1)                 101       \n",
            "=================================================================\n",
            "Total params: 213,301\n",
            "Trainable params: 213,301\n",
            "Non-trainable params: 0\n",
            "_________________________________________________________________\n",
            "None\n"
          ],
          "name": "stdout"
        }
      ]
    },
    {
      "cell_type": "markdown",
      "metadata": {
        "id": "dUkSHypcqWSA"
      },
      "source": [
        "##### Ejercicio\n",
        "\n",
        "¿Por cuántas épocas puedes entrenar el nuevo modelo hasta que aparece el sobreajuste?"
      ]
    },
    {
      "cell_type": "code",
      "metadata": {
        "id": "p5A8Z6yKqNgz",
        "colab": {
          "base_uri": "https://localhost:8080/"
        },
        "outputId": "69b44d9c-2053-48e7-8512-fcc034fa2224"
      },
      "source": [
        "model5.fit(X_train,y_train,validation_data=(X_val,y_val),epochs=5,batch_size=128,verbose=1)"
      ],
      "execution_count": null,
      "outputs": [
        {
          "output_type": "stream",
          "text": [
            "Epoch 1/5\n",
            "157/157 [==============================] - 258s 2s/step - loss: 0.6481 - accuracy: 0.5990 - val_loss: 0.3759 - val_accuracy: 0.8382\n",
            "Epoch 2/5\n",
            "157/157 [==============================] - 254s 2s/step - loss: 0.3484 - accuracy: 0.8561 - val_loss: 0.3540 - val_accuracy: 0.8642\n",
            "Epoch 3/5\n",
            "157/157 [==============================] - 253s 2s/step - loss: 0.2818 - accuracy: 0.8906 - val_loss: 0.2967 - val_accuracy: 0.8850\n",
            "Epoch 4/5\n",
            "157/157 [==============================] - 254s 2s/step - loss: 0.2355 - accuracy: 0.9123 - val_loss: 0.3159 - val_accuracy: 0.8746\n",
            "Epoch 5/5\n",
            "157/157 [==============================] - 251s 2s/step - loss: 0.2139 - accuracy: 0.9190 - val_loss: 0.3128 - val_accuracy: 0.8740\n"
          ],
          "name": "stdout"
        },
        {
          "output_type": "execute_result",
          "data": {
            "text/plain": [
              "<tensorflow.python.keras.callbacks.History at 0x7fdd8b571550>"
            ]
          },
          "metadata": {
            "tags": []
          },
          "execution_count": 61
        }
      ]
    },
    {
      "cell_type": "markdown",
      "metadata": {
        "id": "Jxhl7I5QWwKI"
      },
      "source": [
        "Con 3 épocas hasta que aparece el sobreajuste."
      ]
    },
    {
      "cell_type": "code",
      "metadata": {
        "id": "me8f6oPeq19p",
        "colab": {
          "base_uri": "https://localhost:8080/",
          "height": 281
        },
        "outputId": "9ee5b44e-8efb-46b6-c993-ee27ff88b8a2"
      },
      "source": [
        "acc = history.history['accuracy']\n",
        "val_acc = history.history['val_accuracy']\n",
        "\n",
        "epochs = range(len(acc))\n",
        "plt.plot(epochs, acc, 'bo')\n",
        "plt.plot(epochs, val_acc, 'b')\n",
        "plt.title('Training and validation accuracy')\n",
        "\n",
        "plt.show()"
      ],
      "execution_count": null,
      "outputs": [
        {
          "output_type": "display_data",
          "data": {
            "image/png": "[encoded data removed]",
            "text/plain": [
              "<Figure size 432x288 with 1 Axes>"
            ]
          },
          "metadata": {
            "tags": [],
            "needs_background": "light"
          }
        }
      ]
    },
    {
      "cell_type": "markdown",
      "metadata": {
        "id": "lQIuOOWXqxby"
      },
      "source": [
        "##### Ejercicio\n",
        "¿Qué accuracy consigues obtener con este nuevo modelo?"
      ]
    },
    {
      "cell_type": "code",
      "metadata": {
        "id": "wG5-xqfGqgPE",
        "colab": {
          "base_uri": "https://localhost:8080/"
        },
        "outputId": "73bc3961-9e02-4700-df32-2be49a682c80"
      },
      "source": [
        "scores = model5.evaluate(X_test, y_test, verbose=0)\n",
        "print(\"Accuracy: %.2f%%\" % (scores[1]*100))"
      ],
      "execution_count": null,
      "outputs": [
        {
          "output_type": "stream",
          "text": [
            "Accuracy: 86.76%\n"
          ],
          "name": "stdout"
        }
      ]
    },
    {
      "cell_type": "markdown",
      "metadata": {
        "id": "jvoRO-yFt-aY"
      },
      "source": [
        "Un 86.76% de precisión.\n"
      ]
    },
    {
      "cell_type": "markdown",
      "metadata": {
        "id": "RtNaqjrGq99k"
      },
      "source": [
        "## Predicciones propias\n",
        "\n",
        "Una vez construido nuestro modelo nos interesa probarlo con nuestras propias valoraciones. Para ello debemos convertir la frase a un formato que pueda alimentar a la red como se muestra a continuación. "
      ]
    },
    {
      "cell_type": "code",
      "metadata": {
        "id": "cDDVBruxrNa9"
      },
      "source": [
        "review = \"i generally love this type of movie however this time i found myself wanting to kick the screen since i can't do that i will just complain about it this was absolutely awful\"\n",
        "review = review.split(\" \")\n",
        "review = [word_index[w] for w in review]\n",
        "review = sequence.pad_sequences([review], maxlen=max_words)"
      ],
      "execution_count": null,
      "outputs": []
    },
    {
      "cell_type": "markdown",
      "metadata": {
        "id": "BhooNGoUsHvN"
      },
      "source": [
        "Y hacer la predicción con uno de nuestros modelos. "
      ]
    },
    {
      "cell_type": "code",
      "metadata": {
        "id": "6E2_-XncrVHO",
        "colab": {
          "base_uri": "https://localhost:8080/"
        },
        "outputId": "a5e876b2-5b78-448c-bf2d-845eed89eeb5"
      },
      "source": [
        "model4.predict(review)"
      ],
      "execution_count": null,
      "outputs": [
        {
          "output_type": "execute_result",
          "data": {
            "text/plain": [
              "array([[0.16137785]], dtype=float32)"
            ]
          },
          "metadata": {
            "tags": []
          },
          "execution_count": 65
        }
      ]
    },
    {
      "cell_type": "markdown",
      "metadata": {
        "id": "BzXx3K-_tJcM"
      },
      "source": [
        "## Ejercicio obligatorio\n",
        "\n",
        "El problema que hemos visto es un problema de clasificación binaria, existe otro dataset, [Reuters](https://keras.io/api/datasets/reuters/), para la clasificación multiclase (dicho dataset está disponible en [Keras](https://keras.io/datasets/#reuters-newswire-topics-classification)). El ejercicio consite en entrenar un modelo (utilizando las mismas ideas presentadas en este notebook) para dicho problema. Ten en cuenta que con dicho dataset no podrás utilizar como función de pérdida ``binary_crossentropy`` (preparada para problemas binarios) sino que deberás usar la función de pérdida ``categorical_crossentropy``. Añade a continuación todas las celdas que necesites. "
      ]
    },
    {
      "cell_type": "code",
      "metadata": {
        "id": "C7SJBHgytI0G",
        "colab": {
          "base_uri": "https://localhost:8080/"
        },
        "outputId": "0f0c0b74-53ba-458c-d69d-88041baeac62"
      },
      "source": [
        "%tensorflow_version 1.x\n",
        "import numpy as np\n",
        "from keras.datasets import reuters\n",
        "from matplotlib import pyplot as plt\n",
        "%matplotlib inline\n",
        "\n",
        "(X_train,y_train), (X_test,y_test) = reuters.load_data()"
      ],
      "execution_count": 1,
      "outputs": [
        {
          "output_type": "stream",
          "text": [
            "TensorFlow 1.x selected.\n"
          ],
          "name": "stdout"
        },
        {
          "output_type": "stream",
          "text": [
            "Using TensorFlow backend.\n"
          ],
          "name": "stderr"
        },
        {
          "output_type": "stream",
          "text": [
            "Downloading data from https://s3.amazonaws.com/text-datasets/reuters.npz\n",
            "2113536/2110848 [==============================] - 0s 0us/step\n"
          ],
          "name": "stdout"
        },
        {
          "output_type": "stream",
          "text": [
            "/tensorflow-1.15.2/python3.7/keras/datasets/reuters.py:85: VisibleDeprecationWarning: Creating an ndarray from ragged nested sequences (which is a list-or-tuple of lists-or-tuples-or ndarrays with different lengths or shapes) is deprecated. If you meant to do this, you must specify 'dtype=object' when creating the ndarray\n",
            "  x_train, y_train = np.array(xs[:idx]), np.array(labels[:idx])\n",
            "/tensorflow-1.15.2/python3.7/keras/datasets/reuters.py:86: VisibleDeprecationWarning: Creating an ndarray from ragged nested sequences (which is a list-or-tuple of lists-or-tuples-or ndarrays with different lengths or shapes) is deprecated. If you meant to do this, you must specify 'dtype=object' when creating the ndarray\n",
            "  x_test, y_test = np.array(xs[idx:]), np.array(labels[idx:])\n"
          ],
          "name": "stderr"
        }
      ]
    },
    {
      "cell_type": "markdown",
      "metadata": {
        "id": "NJLHU-bqdMg7"
      },
      "source": [
        "Mostramos la forma del dataset y el aspecto de un elemento."
      ]
    },
    {
      "cell_type": "code",
      "metadata": {
        "id": "OkJ92ioJuY_2",
        "colab": {
          "base_uri": "https://localhost:8080/"
        },
        "outputId": "ec1df51a-6604-40bc-fee9-6abac0db0a09"
      },
      "source": [
        "print(\"Datos entrenamiento: \")\n",
        "print(X_train.shape)\n",
        "print(y_train.shape)\n",
        "\n",
        "print(\"Datos test: \")\n",
        "print(X_test.shape)\n",
        "print(y_test.shape)\n",
        "\n",
        "X_train[0]"
      ],
      "execution_count": 3,
      "outputs": [
        {
          "output_type": "stream",
          "text": [
            "Datos entrenamiento: \n",
            "(8982,)\n",
            "(8982,)\n",
            "Datos test: \n",
            "(2246,)\n",
            "(2246,)\n"
          ],
          "name": "stdout"
        },
        {
          "output_type": "execute_result",
          "data": {
            "text/plain": [
              "[1,\n",
              " 27595,\n",
              " 28842,\n",
              " 8,\n",
              " 43,\n",
              " 10,\n",
              " 447,\n",
              " 5,\n",
              " 25,\n",
              " 207,\n",
              " 270,\n",
              " 5,\n",
              " 3095,\n",
              " 111,\n",
              " 16,\n",
              " 369,\n",
              " 186,\n",
              " 90,\n",
              " 67,\n",
              " 7,\n",
              " 89,\n",
              " 5,\n",
              " 19,\n",
              " 102,\n",
              " 6,\n",
              " 19,\n",
              " 124,\n",
              " 15,\n",
              " 90,\n",
              " 67,\n",
              " 84,\n",
              " 22,\n",
              " 482,\n",
              " 26,\n",
              " 7,\n",
              " 48,\n",
              " 4,\n",
              " 49,\n",
              " 8,\n",
              " 864,\n",
              " 39,\n",
              " 209,\n",
              " 154,\n",
              " 6,\n",
              " 151,\n",
              " 6,\n",
              " 83,\n",
              " 11,\n",
              " 15,\n",
              " 22,\n",
              " 155,\n",
              " 11,\n",
              " 15,\n",
              " 7,\n",
              " 48,\n",
              " 9,\n",
              " 4579,\n",
              " 1005,\n",
              " 504,\n",
              " 6,\n",
              " 258,\n",
              " 6,\n",
              " 272,\n",
              " 11,\n",
              " 15,\n",
              " 22,\n",
              " 134,\n",
              " 44,\n",
              " 11,\n",
              " 15,\n",
              " 16,\n",
              " 8,\n",
              " 197,\n",
              " 1245,\n",
              " 90,\n",
              " 67,\n",
              " 52,\n",
              " 29,\n",
              " 209,\n",
              " 30,\n",
              " 32,\n",
              " 132,\n",
              " 6,\n",
              " 109,\n",
              " 15,\n",
              " 17,\n",
              " 12]"
            ]
          },
          "metadata": {
            "tags": []
          },
          "execution_count": 3
        }
      ]
    },
    {
      "cell_type": "code",
      "metadata": {
        "id": "uW-k9xssuY5L",
        "colab": {
          "base_uri": "https://localhost:8080/",
          "height": 103
        },
        "outputId": "748ae360-feab-477c-e03e-bdc1171f755c"
      },
      "source": [
        "word_index = reuters.get_word_index()\n",
        "reverse_word_index = dict([(value, key) for (key, value) in word_index.items()])\n",
        "' '.join([reverse_word_index.get(i - 3, '?') for i in X_train[0]])"
      ],
      "execution_count": 4,
      "outputs": [
        {
          "output_type": "stream",
          "text": [
            "Downloading data from https://s3.amazonaws.com/text-datasets/reuters_word_index.json\n",
            "557056/550378 [==============================] - 0s 0us/step\n"
          ],
          "name": "stdout"
        },
        {
          "output_type": "execute_result",
          "data": {
            "application/vnd.google.colaboratory.intrinsic+json": {
              "type": "string"
            },
            "text/plain": [
              "'? mcgrath rentcorp said as a result of its december acquisition of space co it expects earnings per share in 1987 of 1 15 to 1 30 dlrs per share up from 70 cts in 1986 the company said pretax net should rise to nine to 10 mln dlrs from six mln dlrs in 1986 and rental operation revenues to 19 to 22 mln dlrs from 12 5 mln dlrs it said cash flow per share this year should be 2 50 to three dlrs reuter 3'"
            ]
          },
          "metadata": {
            "tags": []
          },
          "execution_count": 4
        }
      ]
    },
    {
      "cell_type": "markdown",
      "metadata": {
        "id": "p8yfZVFRdwRz"
      },
      "source": [
        "Mostramos algunos datos."
      ]
    },
    {
      "cell_type": "code",
      "metadata": {
        "id": "Fp8mPYi2uY2S",
        "colab": {
          "base_uri": "https://localhost:8080/",
          "height": 418
        },
        "outputId": "8b53891b-bb8f-42a4-b7ce-8672f8b80b4d"
      },
      "source": [
        "print(\"Clases: \")\n",
        "print(np.unique(y_train))\n",
        "\n",
        "print(\"Número de palabras: \")\n",
        "print(len(np.unique(np.hstack(X_train))))\n",
        "\n",
        "print(\"Longitud media: \")\n",
        "result = [len(x) for x in X_train]\n",
        "print(\"Media %.2f palabras (%f)\" % (np.mean(result),np.std(result)))\n",
        "plt.subplot(121)\n",
        "plt.boxplot(result)\n",
        "plt.subplot(122)\n",
        "plt.hist(result)\n",
        "plt.show()\n",
        "\n",
        "print(np.mean(result))\n",
        "print(np.max(result))"
      ],
      "execution_count": 6,
      "outputs": [
        {
          "output_type": "stream",
          "text": [
            "Clases: \n",
            "[ 0  1  2  3  4  5  6  7  8  9 10 11 12 13 14 15 16 17 18 19 20 21 22 23\n",
            " 24 25 26 27 28 29 30 31 32 33 34 35 36 37 38 39 40 41 42 43 44 45]\n",
            "Número de palabras: \n",
            "28138\n",
            "Longitud media: \n",
            "Media 145.54 palabras (145.814130)\n"
          ],
          "name": "stdout"
        },
        {
          "output_type": "display_data",
          "data": {
            "image/png": "[encoded data removed]",
            "text/plain": [
              "<Figure size 432x288 with 2 Axes>"
            ]
          },
          "metadata": {
            "tags": [],
            "needs_background": "light"
          }
        },
        {
          "output_type": "stream",
          "text": [
            "145.5398574927633\n",
            "2376\n"
          ],
          "name": "stdout"
        }
      ]
    },
    {
      "cell_type": "markdown",
      "metadata": {
        "id": "q5g_5lVJd9JE"
      },
      "source": [
        "Hacemos la división."
      ]
    },
    {
      "cell_type": "code",
      "metadata": {
        "id": "zehXuebYeRjA",
        "outputId": "7d959b01-9e10-481c-b10c-964c827695ab",
        "colab": {
          "base_uri": "https://localhost:8080/"
        }
      },
      "source": [
        "from sklearn.model_selection import train_test_split\n",
        "from keras.preprocessing import sequence\n",
        "from keras.utils import to_categorical\n",
        "\n",
        "\n",
        "(X_train,y_train), (X_test,y_test) = reuters.load_data(num_words=5000)\n",
        "X_train, X_val, y_train, y_val = train_test_split(X_train, y_train, \n",
        "                                                    test_size=0.2,\n",
        "                                                    random_state=15)\n",
        "\n",
        "max_words = 500\n",
        "X_train = sequence.pad_sequences(X_train, maxlen=max_words)\n",
        "X_val = sequence.pad_sequences(X_val, maxlen=max_words)\n",
        "X_test = sequence.pad_sequences(X_test, maxlen=max_words)\n",
        "\n",
        "y_train = to_categorical(y_train)\n",
        "y_val = to_categorical(y_val)\n",
        "y_test = to_categorical(y_test)"
      ],
      "execution_count": 8,
      "outputs": [
        {
          "output_type": "stream",
          "text": [
            "/tensorflow-1.15.2/python3.7/keras/datasets/reuters.py:85: VisibleDeprecationWarning: Creating an ndarray from ragged nested sequences (which is a list-or-tuple of lists-or-tuples-or ndarrays with different lengths or shapes) is deprecated. If you meant to do this, you must specify 'dtype=object' when creating the ndarray\n",
            "  x_train, y_train = np.array(xs[:idx]), np.array(labels[:idx])\n",
            "/tensorflow-1.15.2/python3.7/keras/datasets/reuters.py:86: VisibleDeprecationWarning: Creating an ndarray from ragged nested sequences (which is a list-or-tuple of lists-or-tuples-or ndarrays with different lengths or shapes) is deprecated. If you meant to do this, you must specify 'dtype=object' when creating the ndarray\n",
            "  x_test, y_test = np.array(xs[idx:]), np.array(labels[idx:])\n"
          ],
          "name": "stderr"
        }
      ]
    },
    {
      "cell_type": "markdown",
      "metadata": {
        "id": "-WpkwJOhfHIq"
      },
      "source": [
        "Construimos los modelos."
      ]
    },
    {
      "cell_type": "markdown",
      "metadata": {
        "id": "4lZRTRvdfpRr"
      },
      "source": [
        "1. Red neuronal simple. Cambiamos la última capa de 1 a 46 salidas."
      ]
    },
    {
      "cell_type": "code",
      "metadata": {
        "id": "kDl0EAB7fGpF",
        "outputId": "a83334a1-1f10-4cfc-b2c6-57a17f129e76",
        "colab": {
          "base_uri": "https://localhost:8080/"
        }
      },
      "source": [
        "from keras.models import Sequential\n",
        "from keras.layers import Dense\n",
        "from keras.layers import Flatten\n",
        "from keras.layers.embeddings import Embedding\n",
        "\n",
        "seed = 15\n",
        "np.random.seed(seed)\n",
        "\n",
        "top_words = 5000\n",
        "def create_model():\n",
        "  model = Sequential()\n",
        "  model.add(Embedding(top_words,32,input_length=max_words))\n",
        "  model.add(Flatten())\n",
        "  model.add(Dense(250,activation='relu'))\n",
        "  model.add(Dense(46,activation='sigmoid'))\n",
        "  model.compile(loss='categorical_crossentropy',optimizer='adam',metrics=['accuracy'])\n",
        "  print(model.summary())\n",
        "  return model\n",
        "\n",
        "model1 = create_model()\n",
        "\n",
        "history = model1.fit(X_train,y_train,validation_data=(X_val,y_val),epochs=10,batch_size=128,verbose=1)"
      ],
      "execution_count": 11,
      "outputs": [
        {
          "output_type": "stream",
          "text": [
            "Model: \"sequential_3\"\n",
            "_________________________________________________________________\n",
            "Layer (type)                 Output Shape              Param #   \n",
            "=================================================================\n",
            "embedding_3 (Embedding)      (None, 500, 32)           160000    \n",
            "_________________________________________________________________\n",
            "flatten_3 (Flatten)          (None, 16000)             0         \n",
            "_________________________________________________________________\n",
            "dense_5 (Dense)              (None, 250)               4000250   \n",
            "_________________________________________________________________\n",
            "dense_6 (Dense)              (None, 46)                11546     \n",
            "=================================================================\n",
            "Total params: 4,171,796\n",
            "Trainable params: 4,171,796\n",
            "Non-trainable params: 0\n",
            "_________________________________________________________________\n",
            "None\n",
            "WARNING:tensorflow:From /tensorflow-1.15.2/python3.7/keras/backend/tensorflow_backend.py:422: The name tf.global_variables is deprecated. Please use tf.compat.v1.global_variables instead.\n",
            "\n",
            "Train on 7185 samples, validate on 1797 samples\n",
            "Epoch 1/10\n",
            "7185/7185 [==============================] - 2s 312us/step - loss: 2.5738 - accuracy: 0.3467 - val_loss: 2.2069 - val_accuracy: 0.3417\n",
            "Epoch 2/10\n",
            "7185/7185 [==============================] - 0s 54us/step - loss: 2.0040 - accuracy: 0.3543 - val_loss: 1.8939 - val_accuracy: 0.3422\n",
            "Epoch 3/10\n",
            "7185/7185 [==============================] - 0s 52us/step - loss: 1.4829 - accuracy: 0.3997 - val_loss: 1.4642 - val_accuracy: 0.6372\n",
            "Epoch 4/10\n",
            "7185/7185 [==============================] - 0s 51us/step - loss: 0.7445 - accuracy: 0.8141 - val_loss: 1.2979 - val_accuracy: 0.6889\n",
            "Epoch 5/10\n",
            "7185/7185 [==============================] - 0s 50us/step - loss: 0.3598 - accuracy: 0.9225 - val_loss: 1.3187 - val_accuracy: 0.6995\n",
            "Epoch 6/10\n",
            "7185/7185 [==============================] - 0s 51us/step - loss: 0.2184 - accuracy: 0.9537 - val_loss: 1.4103 - val_accuracy: 0.6822\n",
            "Epoch 7/10\n",
            "7185/7185 [==============================] - 0s 51us/step - loss: 0.1550 - accuracy: 0.9603 - val_loss: 1.4874 - val_accuracy: 0.6828\n",
            "Epoch 8/10\n",
            "7185/7185 [==============================] - 0s 53us/step - loss: 0.1314 - accuracy: 0.9638 - val_loss: 1.5465 - val_accuracy: 0.6822\n",
            "Epoch 9/10\n",
            "7185/7185 [==============================] - 0s 49us/step - loss: 0.1041 - accuracy: 0.9649 - val_loss: 1.5811 - val_accuracy: 0.6767\n",
            "Epoch 10/10\n",
            "7185/7185 [==============================] - 0s 50us/step - loss: 0.0904 - accuracy: 0.9662 - val_loss: 1.6167 - val_accuracy: 0.6772\n"
          ],
          "name": "stdout"
        }
      ]
    },
    {
      "cell_type": "code",
      "metadata": {
        "id": "rIcWCEeCfGl3",
        "outputId": "b1dff3a7-0dd7-480d-e1c7-a49783846e78",
        "colab": {
          "base_uri": "https://localhost:8080/",
          "height": 281
        }
      },
      "source": [
        "acc = history.history['accuracy']\n",
        "val_acc = history.history['val_accuracy']\n",
        "\n",
        "epochs = range(len(acc))\n",
        "plt.plot(epochs, acc, 'bo')\n",
        "plt.plot(epochs, val_acc, 'b')\n",
        "plt.title('Training and validation accuracy')\n",
        "\n",
        "plt.show()"
      ],
      "execution_count": 12,
      "outputs": [
        {
          "output_type": "display_data",
          "data": {
            "image/png": "[encoded data removed]",
            "text/plain": [
              "<Figure size 432x288 with 1 Axes>"
            ]
          },
          "metadata": {
            "tags": [],
            "needs_background": "light"
          }
        }
      ]
    },
    {
      "cell_type": "markdown",
      "metadata": {
        "id": "E97FZCTFf73J"
      },
      "source": [
        "Bajamos el número de épocas a 4."
      ]
    },
    {
      "cell_type": "code",
      "metadata": {
        "id": "t0V4c_KvfGh6",
        "outputId": "a0410ccb-2a20-46c5-b41a-b2213bd48dab",
        "colab": {
          "base_uri": "https://localhost:8080/"
        }
      },
      "source": [
        "model2 = create_model()\n",
        "history = model2.fit(X_train,y_train,validation_data=(X_val,y_val),epochs=4,batch_size=128,verbose=1)"
      ],
      "execution_count": 22,
      "outputs": [
        {
          "output_type": "stream",
          "text": [
            "Model: \"sequential_8\"\n",
            "_________________________________________________________________\n",
            "Layer (type)                 Output Shape              Param #   \n",
            "=================================================================\n",
            "embedding_8 (Embedding)      (None, 500, 32)           160000    \n",
            "_________________________________________________________________\n",
            "flatten_8 (Flatten)          (None, 16000)             0         \n",
            "_________________________________________________________________\n",
            "dense_15 (Dense)             (None, 250)               4000250   \n",
            "_________________________________________________________________\n",
            "dense_16 (Dense)             (None, 46)                11546     \n",
            "=================================================================\n",
            "Total params: 4,171,796\n",
            "Trainable params: 4,171,796\n",
            "Non-trainable params: 0\n",
            "_________________________________________________________________\n",
            "None\n",
            "Train on 7185 samples, validate on 1797 samples\n",
            "Epoch 1/4\n",
            "7185/7185 [==============================] - 1s 85us/step - loss: 2.5950 - accuracy: 0.3485 - val_loss: 2.2257 - val_accuracy: 0.3417\n",
            "Epoch 2/4\n",
            "7185/7185 [==============================] - 0s 50us/step - loss: 2.0080 - accuracy: 0.3543 - val_loss: 1.9018 - val_accuracy: 0.3422\n",
            "Epoch 3/4\n",
            "7185/7185 [==============================] - 0s 51us/step - loss: 1.4766 - accuracy: 0.4109 - val_loss: 1.4965 - val_accuracy: 0.6127\n",
            "Epoch 4/4\n",
            "7185/7185 [==============================] - 0s 50us/step - loss: 0.7597 - accuracy: 0.8067 - val_loss: 1.3326 - val_accuracy: 0.6884\n"
          ],
          "name": "stdout"
        }
      ]
    },
    {
      "cell_type": "markdown",
      "metadata": {
        "id": "LnvCG2CLgoz_"
      },
      "source": [
        "Le ajustamos aproximadamente el número de épocas a 23 para evitar el subajuste."
      ]
    },
    {
      "cell_type": "code",
      "metadata": {
        "id": "Yc_VplyThBUo",
        "outputId": "c34260c4-aa47-4fd0-f1b3-c246d0d6e5d8",
        "colab": {
          "base_uri": "https://localhost:8080/"
        }
      },
      "source": [
        "scores = model2.evaluate(X_test, y_test, verbose=0)\n",
        "print(\"Accuracy: %.2f%%\" % (scores[1]*100))"
      ],
      "execution_count": 23,
      "outputs": [
        {
          "output_type": "stream",
          "text": [
            "Accuracy: 66.21%\n"
          ],
          "name": "stdout"
        }
      ]
    },
    {
      "cell_type": "code",
      "metadata": {
        "id": "m2IDYIwlhBQl",
        "outputId": "cf4ccdc9-428e-4fbe-f917-45b45ef52675",
        "colab": {
          "base_uri": "https://localhost:8080/"
        }
      },
      "source": [
        "scores = model1.evaluate(X_test, y_test, verbose=0)\n",
        "print(\"Accuracy: %.2f%%\" % (scores[1]*100))"
      ],
      "execution_count": 24,
      "outputs": [
        {
          "output_type": "stream",
          "text": [
            "Accuracy: 66.96%\n"
          ],
          "name": "stdout"
        }
      ]
    },
    {
      "cell_type": "markdown",
      "metadata": {
        "id": "-k6OAuPRh0fZ"
      },
      "source": [
        "Hemos logrado subir 0.7 puntos."
      ]
    },
    {
      "cell_type": "markdown",
      "metadata": {
        "id": "92Smj6pziQID"
      },
      "source": [
        "2. Red convolucional. Cambiamos de nuevo la última capa de 1 a 46 salidas."
      ]
    },
    {
      "cell_type": "code",
      "metadata": {
        "id": "nM-5JDSlhBNe",
        "outputId": "7dffba71-4a07-44dc-fb41-d4193df896ae",
        "colab": {
          "base_uri": "https://localhost:8080/"
        }
      },
      "source": [
        "from keras.models import Sequential\n",
        "from keras.layers import Dense\n",
        "from keras.layers import Flatten\n",
        "from keras.layers.convolutional import Convolution1D\n",
        "from keras.layers.convolutional import MaxPooling1D\n",
        "from keras.layers.embeddings import Embedding\n",
        "\n",
        "def create_cnn_model():\n",
        "  model = Sequential()\n",
        "  model.add(Embedding(top_words,32,input_length=max_words))\n",
        "  model.add(Convolution1D(filters=32,kernel_size=3,padding='same',activation='relu'))\n",
        "  model.add(MaxPooling1D(pool_size=2))\n",
        "  model.add(Flatten())\n",
        "  model.add(Dense(250,activation='relu'))\n",
        "  model.add(Dense(46,activation='sigmoid'))\n",
        "  model.compile(loss='categorical_crossentropy',optimizer='adam',metrics=['accuracy'])\n",
        "  print(model.summary())\n",
        "  return model\n",
        "\n",
        "model3 = create_cnn_model()"
      ],
      "execution_count": 27,
      "outputs": [
        {
          "output_type": "stream",
          "text": [
            "Model: \"sequential_10\"\n",
            "_________________________________________________________________\n",
            "Layer (type)                 Output Shape              Param #   \n",
            "=================================================================\n",
            "embedding_10 (Embedding)     (None, 500, 32)           160000    \n",
            "_________________________________________________________________\n",
            "conv1d_2 (Conv1D)            (None, 500, 32)           3104      \n",
            "_________________________________________________________________\n",
            "max_pooling1d_2 (MaxPooling1 (None, 250, 32)           0         \n",
            "_________________________________________________________________\n",
            "flatten_10 (Flatten)         (None, 8000)              0         \n",
            "_________________________________________________________________\n",
            "dense_19 (Dense)             (None, 250)               2000250   \n",
            "_________________________________________________________________\n",
            "dense_20 (Dense)             (None, 46)                11546     \n",
            "=================================================================\n",
            "Total params: 2,174,900\n",
            "Trainable params: 2,174,900\n",
            "Non-trainable params: 0\n",
            "_________________________________________________________________\n",
            "None\n"
          ],
          "name": "stdout"
        }
      ]
    },
    {
      "cell_type": "code",
      "metadata": {
        "id": "Y4DvbytLhBJV",
        "outputId": "e56ae958-310a-496b-d41b-197b42fecbc8",
        "colab": {
          "base_uri": "https://localhost:8080/"
        }
      },
      "source": [
        "history = model3.fit(X_train,y_train,validation_data=(X_val,y_val),epochs=10,batch_size=128,verbose=1)"
      ],
      "execution_count": 31,
      "outputs": [
        {
          "output_type": "stream",
          "text": [
            "Train on 7185 samples, validate on 1797 samples\n",
            "Epoch 1/10\n",
            "7185/7185 [==============================] - 0s 63us/step - loss: 0.4446 - accuracy: 0.8871 - val_loss: 1.5916 - val_accuracy: 0.6678\n",
            "Epoch 2/10\n",
            "7185/7185 [==============================] - 0s 54us/step - loss: 0.3419 - accuracy: 0.9177 - val_loss: 1.6066 - val_accuracy: 0.6923\n",
            "Epoch 3/10\n",
            "7185/7185 [==============================] - 0s 58us/step - loss: 0.2795 - accuracy: 0.9318 - val_loss: 1.7146 - val_accuracy: 0.6817\n",
            "Epoch 4/10\n",
            "7185/7185 [==============================] - 0s 55us/step - loss: 0.2197 - accuracy: 0.9473 - val_loss: 1.7944 - val_accuracy: 0.6834\n",
            "Epoch 5/10\n",
            "7185/7185 [==============================] - 0s 55us/step - loss: 0.1832 - accuracy: 0.9537 - val_loss: 1.9528 - val_accuracy: 0.6706\n",
            "Epoch 6/10\n",
            "7185/7185 [==============================] - 0s 54us/step - loss: 0.1719 - accuracy: 0.9589 - val_loss: 1.9176 - val_accuracy: 0.6850\n",
            "Epoch 7/10\n",
            "7185/7185 [==============================] - 0s 54us/step - loss: 0.1622 - accuracy: 0.9616 - val_loss: 1.9471 - val_accuracy: 0.6817\n",
            "Epoch 8/10\n",
            "7185/7185 [==============================] - 0s 56us/step - loss: 0.1553 - accuracy: 0.9606 - val_loss: 2.0297 - val_accuracy: 0.6756\n",
            "Epoch 9/10\n",
            "7185/7185 [==============================] - 0s 54us/step - loss: 0.1390 - accuracy: 0.9649 - val_loss: 2.0118 - val_accuracy: 0.6750\n",
            "Epoch 10/10\n",
            "7185/7185 [==============================] - 0s 54us/step - loss: 0.1425 - accuracy: 0.9614 - val_loss: 1.9084 - val_accuracy: 0.6934\n"
          ],
          "name": "stdout"
        }
      ]
    },
    {
      "cell_type": "code",
      "metadata": {
        "id": "5aWLDmPsjOFU",
        "outputId": "8c33f4d0-c24d-4fb2-f03e-7c3d12b519f8",
        "colab": {
          "base_uri": "https://localhost:8080/"
        }
      },
      "source": [
        "scores = model3.evaluate(X_test, y_test, verbose=0)\n",
        "print(\"Accuracy: %.2f%%\" % (scores[1]*100))"
      ],
      "execution_count": 33,
      "outputs": [
        {
          "output_type": "stream",
          "text": [
            "Accuracy: 66.96%\n"
          ],
          "name": "stdout"
        }
      ]
    },
    {
      "cell_type": "markdown",
      "metadata": {
        "id": "H0ssoJRrjRQ2"
      },
      "source": [
        "Obtenemos una precisión un poco mejor que antes."
      ]
    },
    {
      "cell_type": "markdown",
      "metadata": {
        "id": "ao-DXj_SjXfb"
      },
      "source": [
        "3. LSTM."
      ]
    },
    {
      "cell_type": "code",
      "metadata": {
        "id": "yUGAWdLXjOAs",
        "outputId": "75172dbd-bc8f-49a8-9109-d68d5a45ce36",
        "colab": {
          "base_uri": "https://localhost:8080/"
        }
      },
      "source": [
        "from keras.layers import LSTM\n",
        "\n",
        "def create_lstm_model():\n",
        "  model = Sequential()\n",
        "  model.add(Embedding(top_words,32,input_length=max_words))\n",
        "  model.add(LSTM(100))\n",
        "  model.add(Dense(46,activation='sigmoid'))\n",
        "  model.compile(loss='categorical_crossentropy',optimizer='adam',metrics=['accuracy'])\n",
        "  print(model.summary())\n",
        "  return model\n",
        "\n",
        "model4 = create_lstm_model()"
      ],
      "execution_count": 34,
      "outputs": [
        {
          "output_type": "stream",
          "text": [
            "Model: \"sequential_11\"\n",
            "_________________________________________________________________\n",
            "Layer (type)                 Output Shape              Param #   \n",
            "=================================================================\n",
            "embedding_11 (Embedding)     (None, 500, 32)           160000    \n",
            "_________________________________________________________________\n",
            "lstm_1 (LSTM)                (None, 100)               53200     \n",
            "_________________________________________________________________\n",
            "dense_21 (Dense)             (None, 46)                4646      \n",
            "=================================================================\n",
            "Total params: 217,846\n",
            "Trainable params: 217,846\n",
            "Non-trainable params: 0\n",
            "_________________________________________________________________\n",
            "None\n"
          ],
          "name": "stdout"
        }
      ]
    },
    {
      "cell_type": "code",
      "metadata": {
        "id": "LwUjtawojN0c",
        "outputId": "10065856-6856-4aed-ed1d-430e6cb11da0",
        "colab": {
          "base_uri": "https://localhost:8080/"
        }
      },
      "source": [
        "model4.fit(X_train,y_train,validation_data=(X_val,y_val),epochs=2,batch_size=128,verbose=1)"
      ],
      "execution_count": 35,
      "outputs": [
        {
          "output_type": "stream",
          "text": [
            "Train on 7185 samples, validate on 1797 samples\n",
            "Epoch 1/2\n",
            "7185/7185 [==============================] - 24s 3ms/step - loss: 3.0800 - accuracy: 0.3467 - val_loss: 2.4793 - val_accuracy: 0.3417\n",
            "Epoch 2/2\n",
            "7185/7185 [==============================] - 23s 3ms/step - loss: 2.4413 - accuracy: 0.3542 - val_loss: 2.4056 - val_accuracy: 0.3417\n"
          ],
          "name": "stdout"
        },
        {
          "output_type": "execute_result",
          "data": {
            "text/plain": [
              "<keras.callbacks.callbacks.History at 0x7ff893537910>"
            ]
          },
          "metadata": {
            "tags": []
          },
          "execution_count": 35
        }
      ]
    },
    {
      "cell_type": "code",
      "metadata": {
        "id": "gos0YSxzjNjz",
        "outputId": "9ffa2bc7-0eca-4a2b-a07e-a0332cacba83",
        "colab": {
          "base_uri": "https://localhost:8080/"
        }
      },
      "source": [
        "scores = model4.evaluate(X_test, y_test, verbose=0)\n",
        "print(\"Accuracy: %.2f%%\" % (scores[1]*100))"
      ],
      "execution_count": 36,
      "outputs": [
        {
          "output_type": "stream",
          "text": [
            "Accuracy: 36.20%\n"
          ],
          "name": "stdout"
        }
      ]
    },
    {
      "cell_type": "markdown",
      "metadata": {
        "id": "2vqLmU5Rj29H"
      },
      "source": [
        "Funciona francamente mal y el tiempo de entrenamiento ha sido superior, aunque no aporto una prueba de ello."
      ]
    },
    {
      "cell_type": "markdown",
      "metadata": {
        "id": "n0Hvson5jvqV"
      },
      "source": [
        "4. LSTM Dropout."
      ]
    },
    {
      "cell_type": "code",
      "metadata": {
        "id": "9JhPajwOjqQn",
        "outputId": "136c4a32-187a-481d-a27e-636b9252a6dc",
        "colab": {
          "base_uri": "https://localhost:8080/"
        }
      },
      "source": [
        "from keras.layers import Dropout\n",
        "\n",
        "def create_lstm_dropout_model():\n",
        "  model = Sequential()\n",
        "  model.add(Embedding(top_words,32,input_length=max_words))\n",
        "  model.add(Dropout(0.2))\n",
        "  model.add(LSTM(100,dropout=0.2,recurrent_dropout=0.2))\n",
        "  model.add(Dense(46,activation='sigmoid'))\n",
        "  model.compile(loss='categorical_crossentropy',optimizer='adam',metrics=['accuracy'])\n",
        "  print(model.summary())\n",
        "  return model\n",
        "\n",
        "model5 = create_lstm_dropout_model()\n",
        "\n",
        "model5.fit(X_train,y_train,validation_data=(X_val,y_val),epochs=5,batch_size=128,verbose=1)\n",
        "\n",
        "scores = model5.evaluate(X_test, y_test, verbose=0)\n",
        "print(\"Accuracy: %.2f%%\" % (scores[1]*100))"
      ],
      "execution_count": 39,
      "outputs": [
        {
          "output_type": "stream",
          "text": [
            "Model: \"sequential_14\"\n",
            "_________________________________________________________________\n",
            "Layer (type)                 Output Shape              Param #   \n",
            "=================================================================\n",
            "embedding_14 (Embedding)     (None, 500, 32)           160000    \n",
            "_________________________________________________________________\n",
            "dropout_3 (Dropout)          (None, 500, 32)           0         \n",
            "_________________________________________________________________\n",
            "lstm_4 (LSTM)                (None, 100)               53200     \n",
            "_________________________________________________________________\n",
            "dense_24 (Dense)             (None, 46)                4646      \n",
            "=================================================================\n",
            "Total params: 217,846\n",
            "Trainable params: 217,846\n",
            "Non-trainable params: 0\n",
            "_________________________________________________________________\n",
            "None\n",
            "Train on 7185 samples, validate on 1797 samples\n",
            "Epoch 1/5\n",
            "7185/7185 [==============================] - 26s 4ms/step - loss: 3.0381 - accuracy: 0.3438 - val_loss: 2.4281 - val_accuracy: 0.3417\n",
            "Epoch 2/5\n",
            "7185/7185 [==============================] - 25s 3ms/step - loss: 2.4380 - accuracy: 0.3542 - val_loss: 2.3983 - val_accuracy: 0.3417\n",
            "Epoch 3/5\n",
            "7185/7185 [==============================] - 25s 3ms/step - loss: 2.4312 - accuracy: 0.3542 - val_loss: 2.3977 - val_accuracy: 0.3417\n",
            "Epoch 4/5\n",
            "7185/7185 [==============================] - 25s 4ms/step - loss: 2.4246 - accuracy: 0.3542 - val_loss: 2.3909 - val_accuracy: 0.3417\n",
            "Epoch 5/5\n",
            "7185/7185 [==============================] - 25s 3ms/step - loss: 2.4149 - accuracy: 0.3542 - val_loss: 2.3892 - val_accuracy: 0.3417\n",
            "Accuracy: 36.20%\n"
          ],
          "name": "stdout"
        }
      ]
    },
    {
      "cell_type": "markdown",
      "metadata": {
        "id": "IbqRWAE7Nlli"
      },
      "source": [
        "## Ejercicio opcional \n",
        "\n",
        "A lo largo de la práctica los embeddings se han aprendido al entrenar la propia red. El ejercicio opcional consiste en utilizar embeddings preentrenados y utilizarlos para construir distintos modelos (ten en cuenta que deberás cambiar la estructura de las redes). Para esto puedes seguir el siguiente [tutorial de Keras](https://keras.io/examples/nlp/pretrained_word_embeddings/)."
      ]
    },
    {
      "cell_type": "code",
      "metadata": {
        "id": "yvrZj009NlH3"
      },
      "source": [
        ""
      ],
      "execution_count": null,
      "outputs": []
    },
    {
      "cell_type": "markdown",
      "metadata": {
        "id": "2hd_0BCHSlSy"
      },
      "source": [
        "Recuerda guardar tus cambios en tu repositorio de GitHub usando la opción \"Save in GitHub\" del menú File."
      ]
    }
  ]
}